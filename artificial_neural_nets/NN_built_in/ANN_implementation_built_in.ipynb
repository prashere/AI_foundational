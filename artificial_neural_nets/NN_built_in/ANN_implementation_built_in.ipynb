{
  "nbformat": 4,
  "nbformat_minor": 0,
  "metadata": {
    "colab": {
      "provenance": [],
      "gpuType": "T4"
    },
    "kernelspec": {
      "name": "python3",
      "display_name": "Python 3"
    },
    "language_info": {
      "name": "python"
    },
    "accelerator": "GPU"
  },
  "cells": [
    {
      "cell_type": "markdown",
      "source": [
        "## Importing the necessary libraries"
      ],
      "metadata": {
        "id": "rM_iglWrwgz2"
      }
    },
    {
      "cell_type": "code",
      "execution_count": null,
      "metadata": {
        "id": "Lwnm3Of1T-Ll"
      },
      "outputs": [],
      "source": [
        "import torch\n",
        "import torch.nn as nn\n",
        "import torch.nn.functional as F\n",
        "from torchvision import datasets,transforms\n",
        "from torch.utils.data import Dataset, DataLoader, random_split"
      ]
    },
    {
      "cell_type": "markdown",
      "source": [
        "## Downloading the dataset"
      ],
      "metadata": {
        "id": "57lTO3hGwlq7"
      }
    },
    {
      "cell_type": "code",
      "source": [
        "transform = transforms.ToTensor()"
      ],
      "metadata": {
        "id": "ewGtKwGp79-_"
      },
      "execution_count": null,
      "outputs": []
    },
    {
      "cell_type": "code",
      "source": [
        "train_dataset = datasets.EMNIST(root='./data', split='letters', train=True, download=True,transform = transform)\n",
        "test_dataset = datasets.EMNIST(root='./data', split='letters', train=False, download=True, transform = transform)"
      ],
      "metadata": {
        "id": "NLbqagJZULqs",
        "colab": {
          "base_uri": "https://localhost:8080/"
        },
        "outputId": "e142862c-45ef-413c-9455-1d596c284d0a"
      },
      "execution_count": null,
      "outputs": [
        {
          "output_type": "stream",
          "name": "stderr",
          "text": [
            "100%|██████████| 562M/562M [00:23<00:00, 24.3MB/s]\n"
          ]
        }
      ]
    },
    {
      "cell_type": "code",
      "source": [
        "train_dataset.data.shape, train_dataset.targets.shape"
      ],
      "metadata": {
        "colab": {
          "base_uri": "https://localhost:8080/"
        },
        "id": "UH4wpJYlXIoV",
        "outputId": "18fba165-7e70-4ab1-d01c-42a3f9ac82f8"
      },
      "execution_count": null,
      "outputs": [
        {
          "output_type": "execute_result",
          "data": {
            "text/plain": [
              "(torch.Size([124800, 28, 28]), torch.Size([124800]))"
            ]
          },
          "metadata": {},
          "execution_count": 4
        }
      ]
    },
    {
      "cell_type": "markdown",
      "source": [
        "## Performing the data split"
      ],
      "metadata": {
        "id": "2LBKN72WwyLj"
      }
    },
    {
      "cell_type": "code",
      "source": [
        "train_dataset.targets -= 1\n",
        "test_dataset.targets -= 1\n",
        "\n",
        "train_size = int(0.8 * len(train_dataset))\n",
        "val_size = len(train_dataset) - train_size\n",
        "\n",
        "train_data, val_data = random_split(train_dataset, [train_size, val_size])\n",
        "\n",
        "X_train = train_data.dataset.data.float() / 255.0\n",
        "y_train = train_data.dataset.targets\n",
        "\n",
        "X_val = val_data.dataset.data.float() / 255.0\n",
        "y_val = val_data.dataset.targets\n",
        "\n",
        "X_test = test_dataset.data.float() / 255.0\n",
        "y_test = test_dataset.targets"
      ],
      "metadata": {
        "id": "VMdU2eArVeio"
      },
      "execution_count": null,
      "outputs": []
    },
    {
      "cell_type": "code",
      "source": [
        "train_dataset_final = torch.utils.data.TensorDataset(X_train, y_train)\n",
        "val_dataset_final = torch.utils.data.TensorDataset(X_val, y_val)\n",
        "test_dataset_final = torch.utils.data.TensorDataset(X_test, y_test)"
      ],
      "metadata": {
        "id": "ZIpTPhrsYg_L"
      },
      "execution_count": null,
      "outputs": []
    },
    {
      "cell_type": "markdown",
      "source": [
        "## Making the train and test loader"
      ],
      "metadata": {
        "id": "vtGejHZtw1Wh"
      }
    },
    {
      "cell_type": "code",
      "source": [
        "batch_size = 32\n",
        "train_loader = DataLoader(train_data, batch_size=batch_size, shuffle=True)\n",
        "val_loader = DataLoader(val_data, batch_size=batch_size)\n",
        "test_loader = DataLoader(test_dataset, batch_size=batch_size)"
      ],
      "metadata": {
        "id": "CZVx-HIcV36P"
      },
      "execution_count": null,
      "outputs": []
    },
    {
      "cell_type": "markdown",
      "source": [
        "## Defining custom Neural Network Class"
      ],
      "metadata": {
        "id": "sczp9TVOw49v"
      }
    },
    {
      "cell_type": "code",
      "source": [
        "class MyNN(nn.Module):\n",
        "  def __init__(self, input_dim,output_dim):\n",
        "    super(MyNN, self).__init__()\n",
        "    self.fc1 = nn.Linear(input_dim, 128)\n",
        "    self.bn1 = nn.BatchNorm1d(128)\n",
        "\n",
        "    self.fc2 = nn.Linear(128, 64)\n",
        "    self.bn2 = nn.BatchNorm1d(64)\n",
        "\n",
        "    self.fc4 = nn.Linear(64, output_dim)\n",
        "\n",
        "    self.relu = nn.ReLU()\n",
        "\n",
        "    self.dropout = nn.Dropout(0.3)\n",
        "\n",
        "\n",
        "  def forward(self, x):\n",
        "    x = x.view(x.size(0), -1)\n",
        "    x = self.bn1(self.fc1(x))\n",
        "    x = self.relu(x)\n",
        "    x = self.dropout(x)\n",
        "    x = self.bn2(self.fc2(x))\n",
        "    x = self.relu(x)\n",
        "    x = self.dropout(x)\n",
        "    x = self.fc4(x)\n",
        "    return x"
      ],
      "metadata": {
        "id": "O-ca8kF6V4ZN"
      },
      "execution_count": null,
      "outputs": []
    },
    {
      "cell_type": "markdown",
      "source": [
        "Creating the model inside `model` variable"
      ],
      "metadata": {
        "id": "OkfXIp1ew-pf"
      }
    },
    {
      "cell_type": "code",
      "source": [
        "device = torch.device(\"cuda\" if torch.cuda.is_available() else \"cpu\")\n",
        "device"
      ],
      "metadata": {
        "colab": {
          "base_uri": "https://localhost:8080/"
        },
        "id": "xLzUAP-w_fGN",
        "outputId": "f8f3a655-2bc4-441e-bc64-846218ea47ad"
      },
      "execution_count": null,
      "outputs": [
        {
          "output_type": "execute_result",
          "data": {
            "text/plain": [
              "device(type='cuda')"
            ]
          },
          "metadata": {},
          "execution_count": 9
        }
      ]
    },
    {
      "cell_type": "code",
      "source": [
        "model = MyNN(input_dim=784,output_dim=26).to(device)"
      ],
      "metadata": {
        "id": "053HUwdWWj1i"
      },
      "execution_count": null,
      "outputs": []
    },
    {
      "cell_type": "markdown",
      "source": [
        "## Defining the criterion and optimizer"
      ],
      "metadata": {
        "id": "jn9KWfY0xBgN"
      }
    },
    {
      "cell_type": "code",
      "source": [
        "criterion = nn.CrossEntropyLoss()\n",
        "optimizer = torch.optim.Adam(model.parameters(), lr=0.01)"
      ],
      "metadata": {
        "id": "-ISSQrTbWdXL"
      },
      "execution_count": null,
      "outputs": []
    },
    {
      "cell_type": "markdown",
      "source": [
        "## Defining the training and evaluation loop"
      ],
      "metadata": {
        "id": "HUN1b12ZxLBT"
      }
    },
    {
      "cell_type": "code",
      "source": [
        "def evaluate(loader):\n",
        "    model.eval()\n",
        "    total, correct = 0, 0\n",
        "    with torch.no_grad():\n",
        "        for images, labels in loader:\n",
        "            images, labels = images.to(device), labels.to(device)\n",
        "            outputs = model(images)\n",
        "            preds = outputs.argmax(dim=1)\n",
        "            correct += (preds == labels).sum().item()\n",
        "            total += labels.size(0)\n",
        "    return correct / total"
      ],
      "metadata": {
        "id": "UJqtJyLr7OzF"
      },
      "execution_count": null,
      "outputs": []
    },
    {
      "cell_type": "code",
      "source": [
        "from tqdm import tqdm"
      ],
      "metadata": {
        "id": "mNwD8-z58_q-"
      },
      "execution_count": null,
      "outputs": []
    },
    {
      "cell_type": "code",
      "source": [
        "def train(epochs, criterion, optimizer):\n",
        "  train_loss = []\n",
        "  train_acc_list =[]\n",
        "  val_acc_list =[]\n",
        "  for epoch in range(epochs):\n",
        "    model.train()\n",
        "\n",
        "    loop = tqdm(train_loader, desc=f\"Epoch [{epoch+1}/{epochs}]\", leave=False)\n",
        "    for batch_idx, (data, target) in enumerate(loop):\n",
        "      data = data.view(data.size(0), -1)\n",
        "      data, target = data.to(device), target.to(device)\n",
        "\n",
        "      optimizer.zero_grad()\n",
        "\n",
        "      output = model(data)\n",
        "      loss = criterion(output, target)\n",
        "      train_loss.append(loss.item())\n",
        "\n",
        "      loss.backward()\n",
        "      optimizer.step()\n",
        "\n",
        "    train_acc = evaluate(train_loader)\n",
        "    val_acc = evaluate(val_loader)\n",
        "    train_acc_list.append(train_acc)\n",
        "    val_acc_list.append(val_acc)\n",
        "\n",
        "    print(f\"Epoch [{epoch+1}/{epochs}] |Train Loss : {loss.item()}| Train Acc: {train_acc:.4f} | Val Acc: {val_acc:.4f}\")\n",
        "  return train_loss, train_acc_list, val_acc_list"
      ],
      "metadata": {
        "id": "SzZd8nPrXrsj"
      },
      "execution_count": null,
      "outputs": []
    },
    {
      "cell_type": "code",
      "source": [
        "train_loss, train_acc, val_acc = train(10, criterion, optimizer)"
      ],
      "metadata": {
        "id": "kkAlLmBPXi72",
        "colab": {
          "base_uri": "https://localhost:8080/"
        },
        "outputId": "5c91a913-c3a6-4f29-8e89-f099d777c982"
      },
      "execution_count": null,
      "outputs": [
        {
          "output_type": "stream",
          "name": "stderr",
          "text": []
        },
        {
          "output_type": "stream",
          "name": "stdout",
          "text": [
            "Epoch [1/10] |Train Loss : 0.6621877551078796| Train Acc: 0.8328 | Val Acc: 0.8255\n"
          ]
        },
        {
          "output_type": "stream",
          "name": "stderr",
          "text": []
        },
        {
          "output_type": "stream",
          "name": "stdout",
          "text": [
            "Epoch [2/10] |Train Loss : 0.809486985206604| Train Acc: 0.8496 | Val Acc: 0.8417\n"
          ]
        },
        {
          "output_type": "stream",
          "name": "stderr",
          "text": []
        },
        {
          "output_type": "stream",
          "name": "stdout",
          "text": [
            "Epoch [3/10] |Train Loss : 0.9426664710044861| Train Acc: 0.8689 | Val Acc: 0.8570\n"
          ]
        },
        {
          "output_type": "stream",
          "name": "stderr",
          "text": []
        },
        {
          "output_type": "stream",
          "name": "stdout",
          "text": [
            "Epoch [4/10] |Train Loss : 0.6454674601554871| Train Acc: 0.8744 | Val Acc: 0.8624\n"
          ]
        },
        {
          "output_type": "stream",
          "name": "stderr",
          "text": []
        },
        {
          "output_type": "stream",
          "name": "stdout",
          "text": [
            "Epoch [5/10] |Train Loss : 0.6018849611282349| Train Acc: 0.8780 | Val Acc: 0.8655\n"
          ]
        },
        {
          "output_type": "stream",
          "name": "stderr",
          "text": []
        },
        {
          "output_type": "stream",
          "name": "stdout",
          "text": [
            "Epoch [6/10] |Train Loss : 0.8132064938545227| Train Acc: 0.8799 | Val Acc: 0.8663\n"
          ]
        },
        {
          "output_type": "stream",
          "name": "stderr",
          "text": []
        },
        {
          "output_type": "stream",
          "name": "stdout",
          "text": [
            "Epoch [7/10] |Train Loss : 0.7188725471496582| Train Acc: 0.8816 | Val Acc: 0.8670\n"
          ]
        },
        {
          "output_type": "stream",
          "name": "stderr",
          "text": []
        },
        {
          "output_type": "stream",
          "name": "stdout",
          "text": [
            "Epoch [8/10] |Train Loss : 0.6278088092803955| Train Acc: 0.8874 | Val Acc: 0.8713\n"
          ]
        },
        {
          "output_type": "stream",
          "name": "stderr",
          "text": []
        },
        {
          "output_type": "stream",
          "name": "stdout",
          "text": [
            "Epoch [9/10] |Train Loss : 0.6917391419410706| Train Acc: 0.8945 | Val Acc: 0.8774\n"
          ]
        },
        {
          "output_type": "stream",
          "name": "stderr",
          "text": []
        },
        {
          "output_type": "stream",
          "name": "stdout",
          "text": [
            "Epoch [10/10] |Train Loss : 0.8421674966812134| Train Acc: 0.8902 | Val Acc: 0.8762\n"
          ]
        }
      ]
    },
    {
      "cell_type": "code",
      "source": [
        "test_acc = evaluate(test_loader)\n",
        "print(f\"Final Test Accuracy: {test_acc:.4f}\")"
      ],
      "metadata": {
        "colab": {
          "base_uri": "https://localhost:8080/"
        },
        "id": "G0Pmvt2tDqEN",
        "outputId": "7beba5f1-22bb-4e60-9f43-6d8b7841b4ef"
      },
      "execution_count": null,
      "outputs": [
        {
          "output_type": "stream",
          "name": "stdout",
          "text": [
            "Final Test Accuracy: 0.8777\n"
          ]
        }
      ]
    },
    {
      "cell_type": "code",
      "source": [
        "import matplotlib.pyplot as plt"
      ],
      "metadata": {
        "id": "y86lI8ML_HwV"
      },
      "execution_count": null,
      "outputs": []
    },
    {
      "cell_type": "code",
      "source": [
        "plt.plot(train_acc, label = \"train accuracy\")\n",
        "plt.plot(val_acc, label = \"validation accuracy\")\n",
        "plt.title(\"Accuracy\")\n",
        "plt.legend()\n",
        "plt.show()"
      ],
      "metadata": {
        "id": "lEOWEdlC_oLb",
        "colab": {
          "base_uri": "https://localhost:8080/",
          "height": 452
        },
        "outputId": "90a4dc9a-b74e-4380-d88a-edf6df97fbc4"
      },
      "execution_count": null,
      "outputs": [
        {
          "output_type": "display_data",
          "data": {
            "text/plain": [
              "<Figure size 640x480 with 1 Axes>"
            ],
            "image/png": "[encoded data removed]"
          },
          "metadata": {}
        }
      ]
    },
    {
      "cell_type": "markdown",
      "source": [
        "![image.png](data:image/png;base64,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)"
      ],
      "metadata": {
        "id": "9LuKLBN07Mg_"
      }
    },
    {
      "cell_type": "code",
      "source": [],
      "metadata": {
        "id": "LdxyiqSzLg8X"
      },
      "execution_count": null,
      "outputs": []
    }
  ]
}