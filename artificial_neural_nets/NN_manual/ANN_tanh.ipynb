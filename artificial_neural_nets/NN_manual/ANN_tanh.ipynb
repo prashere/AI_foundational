{
  "nbformat": 4,
  "nbformat_minor": 0,
  "metadata": {
    "colab": {
      "provenance": []
    },
    "kernelspec": {
      "name": "python3",
      "display_name": "Python 3"
    },
    "language_info": {
      "name": "python"
    }
  },
  "cells": [
    {
      "cell_type": "markdown",
      "source": [
        "# Neural networks Implementation from scratch"
      ],
      "metadata": {
        "id": "aI49g7sFN-RU"
      }
    },
    {
      "cell_type": "markdown",
      "source": [
        "## Importing necessary libraries"
      ],
      "metadata": {
        "id": "bkG4-je3OD1h"
      }
    },
    {
      "cell_type": "code",
      "execution_count": null,
      "metadata": {
        "id": "w2j7XDSwpBio"
      },
      "outputs": [],
      "source": [
        "import torch\n",
        "from torchvision import datasets\n",
        "import matplotlib.pyplot as plt\n",
        "import torch.nn.functional as F"
      ]
    },
    {
      "cell_type": "markdown",
      "source": [
        "## Downloading the dataset"
      ],
      "metadata": {
        "id": "ehiWHvFyOIQm"
      }
    },
    {
      "cell_type": "code",
      "source": [
        "data = datasets.EMNIST(root='data', split='letters', download=True)"
      ],
      "metadata": {
        "colab": {
          "base_uri": "https://localhost:8080/"
        },
        "id": "F_ScG9Z2pHF6",
        "outputId": "5ebe8efc-6aa0-4d85-d3c7-73dd95601129"
      },
      "execution_count": null,
      "outputs": [
        {
          "output_type": "stream",
          "name": "stderr",
          "text": [
            "100%|██████████| 562M/562M [00:09<00:00, 58.5MB/s]\n"
          ]
        }
      ]
    },
    {
      "cell_type": "markdown",
      "source": [
        "## Inspecting the shapes of the dataset"
      ],
      "metadata": {
        "id": "g5huvBv3KiFH"
      }
    },
    {
      "cell_type": "code",
      "source": [
        "X = data.data\n",
        "y = data.targets\n",
        "\n",
        "X.shape,y.shape"
      ],
      "metadata": {
        "colab": {
          "base_uri": "https://localhost:8080/"
        },
        "id": "weapwA84pI8m",
        "outputId": "66fe2562-e19b-4ae3-c584-2b6fdff2b328"
      },
      "execution_count": null,
      "outputs": [
        {
          "output_type": "execute_result",
          "data": {
            "text/plain": [
              "(torch.Size([124800, 28, 28]), torch.Size([124800]))"
            ]
          },
          "metadata": {},
          "execution_count": 3
        }
      ]
    },
    {
      "cell_type": "markdown",
      "source": [
        "## (EDA) Inspecting the images and labels"
      ],
      "metadata": {
        "id": "O_TPKK53OQ06"
      }
    },
    {
      "cell_type": "code",
      "source": [
        "for i, (image, label) in zip(range(1, 11), data):\n",
        "        plt.subplot(2, 5, i)\n",
        "        plt.imshow(X=image)\n",
        "        plt.title(label=label)\n"
      ],
      "metadata": {
        "colab": {
          "base_uri": "https://localhost:8080/",
          "height": 370
        },
        "id": "3ulE2pPVpKhc",
        "outputId": "0484417d-f53a-4a59-9628-8bfe81d76c05"
      },
      "execution_count": null,
      "outputs": [
        {
          "output_type": "display_data",
          "data": {
            "text/plain": [
              "<Figure size 640x480 with 10 Axes>"
            ],
            "image/png": "[encoded data removed]"
          },
          "metadata": {}
        }
      ]
    },
    {
      "cell_type": "markdown",
      "source": [
        "## Selecting the vowel letters only (5 class multi-class classification)"
      ],
      "metadata": {
        "id": "54YNRSujOX9J"
      }
    },
    {
      "cell_type": "code",
      "source": [
        "selected_classes = [1, 5, 9, 15, 21]  # These represent vowels: a, e, i, o, u\n",
        "samples_per_class = 1500\n",
        "\n",
        "selected_indices = []\n",
        "\n",
        "for cls in selected_classes:\n",
        "    class_indices = torch.where(y == cls)[0]\n",
        "\n",
        "    shuffled_indices = torch.randperm(class_indices.shape[0])\n",
        "\n",
        "    chosen_indices = class_indices[shuffled_indices[:samples_per_class]]\n",
        "\n",
        "    selected_indices.append(chosen_indices)\n",
        "\n",
        "final_indices = torch.cat(selected_indices, dim=0)\n",
        "\n",
        "X = X[final_indices]\n",
        "y = y[final_indices]\n",
        "\n",
        "print(\"Selected X shape:\", X.shape)\n",
        "print(\"Selected y shape:\", y.shape)"
      ],
      "metadata": {
        "colab": {
          "base_uri": "https://localhost:8080/"
        },
        "id": "d8otg2AqpMHc",
        "outputId": "f88db969-fd13-4f26-de82-4f14e645d0dd"
      },
      "execution_count": null,
      "outputs": [
        {
          "output_type": "stream",
          "name": "stdout",
          "text": [
            "Selected X shape: torch.Size([7500, 28, 28])\n",
            "Selected y shape: torch.Size([7500])\n"
          ]
        }
      ]
    },
    {
      "cell_type": "markdown",
      "source": [
        "## Reshaping and Pixel Normalization"
      ],
      "metadata": {
        "id": "Z02IeVWqOgPc"
      }
    },
    {
      "cell_type": "code",
      "source": [
        "indices = torch.randperm(X.shape[0])\n",
        "X = X[indices]\n",
        "y = y[indices]\n",
        "\n",
        "total_pixels = X.shape[1] * X.shape[2]\n",
        "\n",
        "X = X.view(-1,total_pixels)\n",
        "X = X / 255.0\n",
        "X.shape"
      ],
      "metadata": {
        "colab": {
          "base_uri": "https://localhost:8080/"
        },
        "id": "khbbvijkpOCo",
        "outputId": "69fc13cb-4730-4af6-c718-2525631ecc87"
      },
      "execution_count": null,
      "outputs": [
        {
          "output_type": "execute_result",
          "data": {
            "text/plain": [
              "torch.Size([7500, 784])"
            ]
          },
          "metadata": {},
          "execution_count": 6
        }
      ]
    },
    {
      "cell_type": "markdown",
      "source": [
        "## Train Test Splitting"
      ],
      "metadata": {
        "id": "k1FMdHvGOmaL"
      }
    },
    {
      "cell_type": "code",
      "source": [
        "train_size = int(0.8 * X.shape[0])\n",
        "test_size = X.shape[0] - train_size\n",
        "\n",
        "X_train = X[:train_size]\n",
        "y_train = y[:train_size]\n",
        "\n",
        "X_test = X[train_size:]\n",
        "y_test = y[train_size:]"
      ],
      "metadata": {
        "id": "xFoZZ33RpTdO"
      },
      "execution_count": null,
      "outputs": []
    },
    {
      "cell_type": "markdown",
      "source": [
        "## Compare gradient function"
      ],
      "metadata": {
        "id": "3vlXmMmOK70E"
      }
    },
    {
      "cell_type": "code",
      "source": [
        "def compare_grad(grad1, grad2):\n",
        "  print(torch.max(torch.abs(grad1 - grad2)))"
      ],
      "metadata": {
        "id": "1zSB0rIQp0Fg"
      },
      "execution_count": null,
      "outputs": []
    },
    {
      "cell_type": "markdown",
      "source": [
        "## Label Mapping for y_train"
      ],
      "metadata": {
        "id": "GM3ve9OmLACz"
      }
    },
    {
      "cell_type": "code",
      "source": [
        "label_mapping = {1: 0, 5: 1, 9: 2, 15: 3, 21: 4}\n",
        "y_train = torch.tensor([label_mapping[label.item()] for label in y_train])\n",
        "y_test = torch.tensor([label_mapping[label.item()] for label in y_test])"
      ],
      "metadata": {
        "id": "2KNZKOslp2gV"
      },
      "execution_count": null,
      "outputs": []
    },
    {
      "cell_type": "markdown",
      "source": [
        "## Definition of Activation Functions"
      ],
      "metadata": {
        "id": "nP0p5_0GOrIN"
      }
    },
    {
      "cell_type": "code",
      "source": [
        "def tanh(val):\n",
        "  return (torch.exp(val) - torch.exp(-val)) / (torch.exp(val) + torch.exp(-val))\n",
        "\n",
        "def relu(val):\n",
        "  return torch.max(val, torch.zeros_like(val))"
      ],
      "metadata": {
        "id": "T-q74VUOq8wX"
      },
      "execution_count": null,
      "outputs": []
    },
    {
      "cell_type": "markdown",
      "source": [
        "## 1 hidden layer NN with tanh activation function"
      ],
      "metadata": {
        "id": "23tZdQ5BOu48"
      }
    },
    {
      "cell_type": "markdown",
      "source": [
        "Implementations\n",
        "- tanh\n",
        "- 1 hidden layer\n",
        "- batch normalization"
      ],
      "metadata": {
        "id": "UvL9UUKodNv8"
      }
    },
    {
      "cell_type": "markdown",
      "source": [
        "## Trial and Test"
      ],
      "metadata": {
        "id": "KVYy1rQGLHaV"
      }
    },
    {
      "cell_type": "code",
      "source": [
        "# temp_tens = torch.tensor([\n",
        "#     [1,2,3],\n",
        "#     [4,5,6],\n",
        "# ], dtype = torch.float32)\n",
        "\n",
        "# print(temp_tens.sum(0))\n",
        "# print(temp_tens.sum(0, keepdim = True))\n",
        "# print()\n",
        "# print(temp_tens.sum(1))\n",
        "# print(temp_tens.sum(1, keepdim = True))\n",
        "# print()\n",
        "# print(temp_tens.mean(0))\n",
        "# print(temp_tens.mean(0, keepdim = True))\n",
        "# print()\n",
        "# print(temp_tens.mean(1))\n",
        "# print(temp_tens.mean(1, keepdim = True))"
      ],
      "metadata": {
        "colab": {
          "base_uri": "https://localhost:8080/"
        },
        "id": "uY1sArDIQJqr",
        "outputId": "5771ae87-6187-4a50-d266-90c965d96b58"
      },
      "execution_count": null,
      "outputs": [
        {
          "output_type": "stream",
          "name": "stdout",
          "text": [
            "torch.Size([2, 3])\n",
            "3\n",
            "2\n",
            "\n",
            "tensor([5., 7., 9.])\n",
            "tensor([[5., 7., 9.]])\n",
            "\n",
            "tensor([ 6., 15.])\n",
            "tensor([[ 6.],\n",
            "        [15.]])\n",
            "\n",
            "tensor([2.5000, 3.5000, 4.5000])\n",
            "tensor([[2.5000, 3.5000, 4.5000]])\n",
            "\n",
            "tensor([2., 5.])\n",
            "tensor([[2.],\n",
            "        [5.]])\n"
          ]
        }
      ]
    },
    {
      "cell_type": "markdown",
      "source": [
        "## Xavier Initialization"
      ],
      "metadata": {
        "id": "AteMHyS5laHO"
      }
    },
    {
      "cell_type": "code",
      "source": [
        "import math"
      ],
      "metadata": {
        "id": "YfTHyexFmoLn"
      },
      "execution_count": null,
      "outputs": []
    },
    {
      "cell_type": "code",
      "source": [
        "def xavier_normal_init(tensor):\n",
        "  mean = 0\n",
        "  dims = tensor.dim()\n",
        "  if dims != 2:\n",
        "    raise ValueError(\"Only 2D tensors are supported\")\n",
        "  n_in = tensor.size(0)\n",
        "  n_out = tensor.size(1)\n",
        "\n",
        "  std_dev = math.sqrt(2.0 / float(n_in + n_out))\n",
        "\n",
        "  with torch.no_grad():\n",
        "    return tensor.normal_(mean, std_dev)"
      ],
      "metadata": {
        "id": "Y0fcl9kgLRED"
      },
      "execution_count": null,
      "outputs": []
    },
    {
      "cell_type": "markdown",
      "source": [
        "## Dropout Implementation"
      ],
      "metadata": {
        "id": "xGFLraspLR6z"
      }
    },
    {
      "cell_type": "markdown",
      "source": [
        "![image.png](data:image/png;base64,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)"
      ],
      "metadata": {
        "id": "hDi9d5SA_Wl2"
      }
    },
    {
      "cell_type": "markdown",
      "source": [
        "## Dropout Test and Trial"
      ],
      "metadata": {
        "id": "XIRLkmvXLUzL"
      }
    },
    {
      "cell_type": "code",
      "source": [
        "temp = torch.tensor([\n",
        "    [1,2,3],\n",
        "    [4,5,6],\n",
        "    [7,8,9]\n",
        "], dtype=torch.float32)\n",
        "p = 0.3\n",
        "\n",
        "prob_tensor = (1 - p) * torch.ones(temp.shape)\n",
        "\n",
        "mask = torch.bernoulli(prob_tensor)\n",
        "\n",
        "scale_factor = mask / (1 - p)\n",
        "\n",
        "final_tensor_after_dropout = temp * scale_factor\n",
        "\n",
        "print(prob_tensor)\n",
        "print(mask)\n",
        "print(scale_factor)\n",
        "print(\"Original Tensor :: \")\n",
        "print(temp)\n",
        "print(\"---------------------------------\")\n",
        "print(\"Tensor after dropout ::\")\n",
        "print(final_tensor_after_dropout)"
      ],
      "metadata": {
        "colab": {
          "base_uri": "https://localhost:8080/"
        },
        "id": "BqQF4K1CBHXm",
        "outputId": "cd17c50f-2e5f-4d41-df04-739e492f6fb9"
      },
      "execution_count": null,
      "outputs": [
        {
          "output_type": "stream",
          "name": "stdout",
          "text": [
            "tensor([[0.7000, 0.7000, 0.7000],\n",
            "        [0.7000, 0.7000, 0.7000],\n",
            "        [0.7000, 0.7000, 0.7000]])\n",
            "tensor([[1., 1., 1.],\n",
            "        [0., 1., 1.],\n",
            "        [1., 0., 1.]])\n",
            "tensor([[1.4286, 1.4286, 1.4286],\n",
            "        [0.0000, 1.4286, 1.4286],\n",
            "        [1.4286, 0.0000, 1.4286]])\n",
            "Original Tensor :: \n",
            "tensor([[1., 2., 3.],\n",
            "        [4., 5., 6.],\n",
            "        [7., 8., 9.]])\n",
            "---------------------------------\n",
            "Tensor after dropout ::\n",
            "tensor([[ 1.4286,  2.8571,  4.2857],\n",
            "        [ 0.0000,  7.1429,  8.5714],\n",
            "        [10.0000,  0.0000, 12.8571]])\n"
          ]
        }
      ]
    },
    {
      "cell_type": "code",
      "source": [
        "def dropout(tensor, p):\n",
        "    prob_tensor = (1 - p) * torch.ones(tensor.shape)\n",
        "\n",
        "    bernoulli_mask = torch.bernoulli(prob_tensor)\n",
        "\n",
        "    scale_factor =  bernoulli_mask / (1 - p)\n",
        "    return tensor * scale_factor"
      ],
      "metadata": {
        "id": "wVWpu4nzLvx3"
      },
      "execution_count": null,
      "outputs": []
    },
    {
      "cell_type": "code",
      "source": [
        "# Defining the learnable parameters\n",
        "w1 = torch.empty(total_pixels, 32, requires_grad=True)\n",
        "b1 = torch.zeros(32, requires_grad=True)\n",
        "w2 = torch.empty(32, 5, requires_grad=True)\n",
        "b2 = torch.zeros(5,requires_grad=True)\n",
        "gamma = torch.ones(32, requires_grad=True)\n",
        "beta = torch.ones(32, requires_grad=True)\n",
        "\n",
        "w1 = xavier_normal_init(w1)\n",
        "w2 = xavier_normal_init(w2)\n",
        "\n",
        "lr = 0.1\n",
        "loss_list = []\n",
        "\n",
        "for i in range(1000):\n",
        "  # Forward Pass\n",
        "  z1 = X_train @ w1 + b1\n",
        "\n",
        "  # Batch Norm\n",
        "  z1mean = 1/X_train.shape[0] * z1.sum(0, keepdim = True)\n",
        "  diff = z1 - z1mean\n",
        "  z1var = 1/X_train.shape[0] * (diff ** 2).sum(0, keepdim = True)\n",
        "  z1var_inv = (z1var + 1e-8) ** (-0.5) # 1e-8 is the noise\n",
        "  z1_new = diff * z1var_inv\n",
        "\n",
        "  # Scale and Shift of the batch norm\n",
        "  z1_shifted = gamma * z1_new + beta\n",
        "\n",
        "  # Hidden layer\n",
        "  h1 = tanh(z1_shifted)\n",
        "\n",
        "  logit = h1 @ w2 + b2\n",
        "  logit_max = logit.max(dim = 1, keepdim = True).values\n",
        "  logit_new = logit - logit_max\n",
        "\n",
        "  # Softmax calculation begin here\n",
        "  logit_exp = logit_new.exp()\n",
        "  logit_exp_sum = logit_exp.sum(dim = 1, keepdim = True)\n",
        "  logit_exp_sum_inv = logit_exp_sum ** (-1)\n",
        "  probs = logit_exp * logit_exp_sum_inv\n",
        "  # Softmax ends here\n",
        "\n",
        "  # Cross entropy calculation begins here\n",
        "  log_probs = torch.log(probs)\n",
        "  L = - log_probs[torch.arange(X_train.shape[0]), y_train].mean()\n",
        "  loss_list.append(L.item())\n",
        "  # Cross entropy ends here\n",
        "\n",
        "  step_variables_list = [\n",
        "      w1,b1,\n",
        "      w2,b2,\n",
        "      logit,\n",
        "      logit_max,\n",
        "      logit_new,\n",
        "      logit_exp,\n",
        "      logit_exp_sum,\n",
        "      logit_exp_sum_inv,\n",
        "      probs,\n",
        "      log_probs,\n",
        "      h1,z1,\n",
        "      z1_shifted,z1mean,diff,z1var,z1var_inv,z1_new,\n",
        "      gamma,beta\n",
        "  ]\n",
        "  # for item in step_variables_list:\n",
        "  #   item.retain_grad()\n",
        "  # L.backward()\n",
        "\n",
        "  # Backpropagation\n",
        "  # Manual backpropagation\n",
        "  dL_dlogprobs = torch.zeros_like(log_probs)\n",
        "  dL_dlogprobs[torch.arange(X_train.shape[0]), y_train] = -1 / X_train.shape[0]\n",
        "\n",
        "  dL_dprobs = (probs)**(-1) * dL_dlogprobs\n",
        "\n",
        "  dL_dlogit_exp_sum_inv = (logit_exp * dL_dprobs).sum(1, keepdim = True)\n",
        "\n",
        "  # 1st half of calculation\n",
        "  dL_dlogit_exp = logit_exp_sum_inv * dL_dprobs\n",
        "\n",
        "  dL_dlogit_exp_sum = -(logit_exp_sum ** (-2)) * dL_dlogit_exp_sum_inv\n",
        "\n",
        "  # 2nd half calculation\n",
        "  dL_dlogit_exp += torch.ones_like(logit_exp) * dL_dlogit_exp_sum\n",
        "\n",
        "  dL_dlogit_new = logit_new.exp() * dL_dlogit_exp\n",
        "\n",
        "  dL_dlogit_max = - dL_dlogit_new.sum(1, keepdim = True)\n",
        "\n",
        "  dL_dlogit = dL_dlogit_new.clone()\n",
        "\n",
        "  # Self-implementation of the one-hot\n",
        "  mask = (logit == logit.max(1, keepdim=True).values)\n",
        "  mask = mask.int()\n",
        "  dL_dlogit += mask * dL_dlogit_max\n",
        "\n",
        "  dL_dw2 = h1.T @ dL_dlogit\n",
        "  dL_db2 = dL_dlogit.sum(0)\n",
        "\n",
        "  dL_dh1 = dL_dlogit @ w2.T\n",
        "  dL_dz1_shifted  = (1 - h1 ** 2) * dL_dh1\n",
        "\n",
        "  dL_dz1_new = gamma * dL_dz1_shifted\n",
        "  dL_dgamma = (z1_new * dL_dz1_shifted).sum(0, keepdim = True)\n",
        "  dL_dbeta = dL_dz1_shifted.sum(0, keepdim = True)\n",
        "  dL_dz1var_inv = (diff * dL_dz1_new).sum(0, keepdim=True)\n",
        "  dL_diff = z1var_inv * dL_dz1_new\n",
        "  dL_dz1var = (-0.5 * (z1var + 1e-5) ** (-1.5)) * dL_dz1var_inv\n",
        "  # temp = (1/X_train.shape[0]) * torch.ones_like(diff) * dL_dz1var\n",
        "  # dL_diff += 2*diff*temp\n",
        "  dL_diff += (2 / X_train.shape[0]) * diff * dL_dz1var\n",
        "  dL_dz1 = dL_diff - dL_diff.mean(dim=0, keepdim=True)\n",
        "  dL_dw1 = X_train.T @ dL_dz1\n",
        "  dL_db1 = dL_dz1.sum(0)\n",
        "\n",
        "  with torch.no_grad():\n",
        "    w1 -= lr * dL_dw1\n",
        "    b1 -= lr * dL_db1\n",
        "    w2 -= lr * dL_dw2\n",
        "    b2 -= lr * dL_db2"
      ],
      "metadata": {
        "id": "azNqyp2uK2g-"
      },
      "execution_count": null,
      "outputs": []
    },
    {
      "cell_type": "markdown",
      "source": [
        "## Checking if the manual and auto grad's gradients match"
      ],
      "metadata": {
        "id": "FUeb_CiSO4q2"
      }
    },
    {
      "cell_type": "code",
      "source": [
        "# print(\"..........................................\")\n",
        "# compare_grad(w1.grad,dL_dw1)\n",
        "# print(torch.allclose(w1.grad,dL_dw1))\n",
        "# print(\"..........................................\")\n",
        "# compare_grad(b1.grad,dL_db1)\n",
        "# print(torch.allclose(b1.grad,dL_db1))\n",
        "# print(\"..........................................\")\n",
        "# compare_grad(w2.grad,dL_dw2)\n",
        "# print(torch.allclose(w2.grad,dL_dw2))\n",
        "# print(\"..........................................\")\n",
        "# compare_grad(b2.grad,dL_db2)\n",
        "# print(torch.allclose(b2.grad,dL_db2))\n",
        "# print(\"..........................................\")\n",
        "# print(torch.allclose(log_probs.grad, dL_dlogprobs))\n",
        "# compare_grad(log_probs.grad, dL_dlogprobs)\n",
        "# print(\"..........................................\")\n",
        "# print(torch.allclose(probs.grad, dL_dprobs))\n",
        "# compare_grad(probs.grad, dL_dprobs)\n",
        "# print(\"..........................................\")\n",
        "# print(torch.allclose(logit_exp_sum_inv.grad, dL_dlogit_exp_sum_inv))\n",
        "# compare_grad(logit_exp_sum_inv.grad, dL_dlogit_exp_sum_inv)\n",
        "# print(\"..........................................\")\n",
        "# print(torch.allclose(logit_exp_sum.grad, dL_dlogit_exp_sum))\n",
        "# compare_grad(logit_exp_sum.grad, dL_dlogit_exp_sum)\n",
        "# print(\"..........................................\")\n",
        "# print(torch.allclose(logit_exp.grad, dL_dlogit_exp))\n",
        "# compare_grad(logit_exp.grad, dL_dlogit_exp)\n",
        "# print(\"..........................................\")\n",
        "# print(torch.allclose(logit_new.grad, dL_dlogit_new))\n",
        "# compare_grad(logit_new.grad, dL_dlogit_new)\n",
        "# print(\"..........................................\")\n",
        "# print(torch.allclose(logit_max.grad, dL_dlogit_max))\n",
        "# compare_grad(logit_max.grad, dL_dlogit_max)\n",
        "# print(\"..........................................\")\n",
        "# print(torch.allclose(logit.grad, dL_dlogit))\n",
        "# compare_grad(logit.grad, dL_dlogit)\n",
        "# print(\"..........................................\")\n",
        "# print(torch.allclose(h1.grad, dL_dh1))\n",
        "# compare_grad(h1.grad, dL_dh1)\n",
        "# print(\"..........................................\")\n",
        "# print(torch.allclose(z1.grad, dL_dz1))\n",
        "# compare_grad(z1.grad, dL_dz1)\n",
        "# print(\"..........................................\")\n",
        "# print(torch.allclose(z1_max.grad, dL_dz1_max))\n",
        "# compare_grad(w1.grad, dL_dw1)\n",
        "# print(\"..........................................\")\n",
        "# print(torch.allclose(z1_new.grad, dL_dz1_new))\n",
        "# compare_grad(z1_new.grad, dL_dz1_new)\n",
        "# print(\"..........................................\")\n",
        "# print(torch.allclose(z1_shifted.grad, dL_dz1_shifted))\n",
        "# compare_grad(z1_shifted.grad, dL_dz1_shifted)\n",
        "# print(\"..........................................\")\n",
        "# print(torch.allclose(z1_new.grad, dL_dz1_new))\n",
        "# compare_grad(z1_new.grad, dL_dz1_new)\n",
        "# print(\"..........................................\")\n",
        "# print(torch.allclose(z1var_inv.grad, dL_dz1var_inv))\n",
        "# compare_grad(z1var_inv.grad, dL_dz1var_inv)\n",
        "# print(\"..........................................\")\n",
        "# print(torch.allclose(gamma.grad, dL_dgamma))\n",
        "# compare_grad(gamma.grad, dL_dgamma)\n",
        "# print(\"..........................................\")\n",
        "# print(torch.allclose(beta.grad, dL_dbeta))\n",
        "# compare_grad(beta.grad, dL_dbeta)\n",
        "# print(\"..........................................\")\n",
        "# print(torch.allclose(diff.grad, dL_diff))\n",
        "# compare_grad(diff.grad, dL_diff) #Diff\n",
        "# print(\"..........................................\")\n",
        "# print(torch.allclose(z1var.grad, dL_dz1var))\n",
        "# compare_grad(z1var.grad, dL_dz1var)\n",
        "# print(\"..........................................\")\n",
        "# print(torch.allclose(z1mean.grad, dL_dz1mean))\n",
        "# compare_grad(z1mean.grad, dL_dz1mean)\n",
        "# print(\"..........................................\")\n",
        "# print(torch.allclose(z1.grad, dL_dz1))\n",
        "# compare_grad(z1.grad, dL_dz1)\n",
        "\n"
      ],
      "metadata": {
        "id": "6prJvMYSNVCE"
      },
      "execution_count": null,
      "outputs": []
    },
    {
      "cell_type": "markdown",
      "source": [
        "## Plotting the loss"
      ],
      "metadata": {
        "id": "G_fiJifRO9w9"
      }
    },
    {
      "cell_type": "code",
      "source": [
        "plt.plot(loss_list)\n",
        "print(loss_list[-1])"
      ],
      "metadata": {
        "colab": {
          "base_uri": "https://localhost:8080/",
          "height": 448
        },
        "id": "JcTEoMVNMXWK",
        "outputId": "e1bdf51a-1e97-4781-bed8-3b22e75160aa"
      },
      "execution_count": null,
      "outputs": [
        {
          "output_type": "stream",
          "name": "stdout",
          "text": [
            "0.06828437000513077\n"
          ]
        },
        {
          "output_type": "display_data",
          "data": {
            "text/plain": [
              "<Figure size 640x480 with 1 Axes>"
            ],
            "image/png": "[encoded data removed]"
          },
          "metadata": {}
        }
      ]
    },
    {
      "cell_type": "markdown",
      "source": [
        "## Inferencing the model"
      ],
      "metadata": {
        "id": "1CqvQ_hBPAxF"
      }
    },
    {
      "cell_type": "code",
      "source": [
        "# Inference\n",
        "y_preds = X_test @ w1 + b1\n",
        "\n",
        "z1mean = 1/X_test.shape[0] * y_preds.sum(0, keepdim = True)\n",
        "diff = y_preds - z1mean\n",
        "z1var = 1/X_test.shape[0] * (diff ** 2).sum(0, keepdim = True)\n",
        "z1var_inv = (z1var + 1e-5) ** (-0.5) # 1e-5 is the noise\n",
        "z1_new = diff * z1var_inv\n",
        "\n",
        "z1_shifted = gamma * z1_new + beta\n",
        "\n",
        "h1 = tanh(z1_shifted)\n",
        "\n",
        "y_preds = h1 @ w2 + b2\n",
        "\n",
        "# Softmax application\n",
        "logit_max = y_preds.max(dim=1, keepdim=True).values\n",
        "logit_new = y_preds - logit_max\n",
        "logit_exp = logit_new.exp()\n",
        "logit_exp_sum = logit_exp.sum(dim=1, keepdim=True)\n",
        "logit_exp_sum_inv = logit_exp_sum ** (-1)\n",
        "probs = logit_exp * logit_exp_sum_inv\n",
        "\n",
        "# Predicted class = argmax of probabilities\n",
        "pred_labels = probs.argmax(dim=1)\n",
        "print(pred_labels[:10])\n",
        "print(y_test[:10])\n",
        "\n",
        "correct_predictions = (y_test == pred_labels).sum()\n",
        "total_samples = y_test.shape[0]\n",
        "accuracy = correct_predictions.item() / total_samples\n",
        "\n",
        "print(\"Correct Predictions:\", correct_predictions.item(),\"out of\", total_samples)\n",
        "print(f\"Accuracy: {accuracy:.4f}\")"
      ],
      "metadata": {
        "colab": {
          "base_uri": "https://localhost:8080/"
        },
        "id": "rKj8LbQuMnCG",
        "outputId": "8e5d2479-ed0f-4abe-ce1e-1b0be3c81c90"
      },
      "execution_count": null,
      "outputs": [
        {
          "output_type": "stream",
          "name": "stdout",
          "text": [
            "tensor([3, 0, 1, 2, 3, 4, 4, 3, 4, 4])\n",
            "tensor([3, 0, 1, 2, 3, 4, 4, 3, 4, 4])\n",
            "Correct Predictions: 1424 out of 1500\n",
            "Accuracy: 0.9493\n"
          ]
        }
      ]
    },
    {
      "cell_type": "markdown",
      "source": [
        "# 3 hidden layer NN for the same classification task"
      ],
      "metadata": {
        "id": "K-MJKO_CPEq5"
      }
    },
    {
      "cell_type": "code",
      "source": [
        "def initialize_w_b(input_dim):\n",
        "  n1 = 8\n",
        "  n2 = 4\n",
        "  n3 = 2\n",
        "  w1 = torch.empty((input_dim, n1), requires_grad=True) * 0.01\n",
        "  b1 = torch.zeros(n1, requires_grad=True)\n",
        "\n",
        "  w2 = torch.empty((n1, n2), requires_grad=True) * 0.01\n",
        "  b2 = torch.zeros(n2, requires_grad=True)\n",
        "\n",
        "  w3 = torch.empty((n2, n3), requires_grad=True) * 0.01\n",
        "  b3 = torch.zeros(n3, requires_grad=True)\n",
        "\n",
        "  w4 = torch.empty((n3, 5), requires_grad=True) * 0.01\n",
        "  b4 = torch.zeros(5, requires_grad=True)\n",
        "\n",
        "  w1 = xavier_normal_init(w1)\n",
        "  w2 = xavier_normal_init(w2)\n",
        "  w3 = xavier_normal_init(w3)\n",
        "  w4 = xavier_normal_init(w4)\n",
        "\n",
        "  return (w1, b1, w2, b2, w3, b3, w4, b4)"
      ],
      "metadata": {
        "id": "e7yZzN22K0Wv"
      },
      "execution_count": null,
      "outputs": []
    },
    {
      "cell_type": "code",
      "source": [
        "w1,b1,w2,b2,w3,b3,w4,b4 = initialize_w_b(total_pixels)\n",
        "lr = 0.05\n",
        "loss_list = []\n",
        "\n",
        "for i in range(1000):\n",
        "  # Forward Pass\n",
        "  z1 = X_train @ w1 + b1\n",
        "  # z1_max = z1.max(dim = 1, keepdim = True).values\n",
        "  # z1 = z1 - z1_max\n",
        "  h1 = tanh(z1)\n",
        "\n",
        "  z2 = h1 @ w2+ b2\n",
        "  h2 = tanh(z2)\n",
        "\n",
        "  z3 = h2 @ w3 + b3\n",
        "  h3 = tanh(z3)\n",
        "\n",
        "  logit = h3 @ w4 + b4\n",
        "  logit_max = logit.max(dim = 1, keepdim = True).values\n",
        "  logit_new = logit - logit_max\n",
        "  # Softmax calculation begin here\n",
        "  logit_exp = logit_new.exp()\n",
        "  logit_exp_sum = logit_exp.sum(dim = 1, keepdim = True)\n",
        "  logit_exp_sum_inv = logit_exp_sum ** (-1)\n",
        "  probs = logit_exp * logit_exp_sum_inv\n",
        "  # Softmax ends here\n",
        "  # Cross entropy calculation begins here\n",
        "  log_probs = torch.log(probs)\n",
        "  L = - log_probs[torch.arange(X_train.shape[0]), y_train].mean()\n",
        "  loss_list.append(L.item())\n",
        "  # Cross entropy ends here\n",
        "\n",
        "  step_variables_list = [\n",
        "      w1,b1,\n",
        "      w2,b2,\n",
        "      w3,b3,\n",
        "      w4,b4,\n",
        "      logit,\n",
        "      logit_max,\n",
        "      logit_new,\n",
        "      logit_exp,\n",
        "      logit_exp_sum,\n",
        "      logit_exp_sum_inv,\n",
        "      probs,\n",
        "      log_probs,\n",
        "      h1,h2,h3,\n",
        "      z1,z2,z3\n",
        "  ]\n",
        "  # for item in step_variables_list:\n",
        "  #   item.retain_grad()\n",
        "  # L.backward()\n",
        "\n",
        "  # Backpropagation\n",
        "  # Manual backpropagation\n",
        "  dL_dlogprobs = torch.zeros_like(log_probs)\n",
        "  dL_dlogprobs[torch.arange(X_train.shape[0]), y_train] = -1 / X_train.shape[0]\n",
        "\n",
        "  dL_dprobs = (probs)**(-1) * dL_dlogprobs\n",
        "\n",
        "  dL_dlogit_exp_sum_inv = (logit_exp * dL_dprobs).sum(1, keepdim = True)\n",
        "\n",
        "  # 1st half of calculation\n",
        "  dL_dlogit_exp = logit_exp_sum_inv * dL_dprobs\n",
        "\n",
        "  dL_dlogit_exp_sum = -(logit_exp_sum ** (-2)) * dL_dlogit_exp_sum_inv\n",
        "\n",
        "  # 2nd half calculation\n",
        "  dL_dlogit_exp += torch.ones_like(logit_exp) * dL_dlogit_exp_sum\n",
        "\n",
        "  dL_dlogit_new = logit_new.exp() * dL_dlogit_exp\n",
        "\n",
        "  dL_dlogit_max = - dL_dlogit_new.sum(1, keepdim = True)\n",
        "\n",
        "  dL_dlogit = dL_dlogit_new.clone()\n",
        "\n",
        "  # Self-implementation of the one-hot\n",
        "  mask = (logit == logit.max(1, keepdim=True).values)\n",
        "  mask = mask.int()\n",
        "  dL_dlogit += mask * dL_dlogit_max\n",
        "\n",
        "  dL_dw4 = h3.T @ dL_dlogit\n",
        "  dL_db4 = dL_dlogit.sum(0)\n",
        "\n",
        "  dL_dh3 = dL_dlogit @ w4.T\n",
        "  dL_dz3 = (1 - h3 ** 2) * dL_dh3\n",
        "  dL_dw3 = h2.T @ dL_dz3\n",
        "  dL_db3 = dL_dz3.sum(0)\n",
        "\n",
        "  dL_dh2 = dL_dz3 @ w3.T\n",
        "  dL_dz2 = (1 - h2 ** 2) * dL_dh2\n",
        "  dL_dw2 = h1.T @ dL_dz2\n",
        "  dL_db2 = dL_dz2.sum(0)\n",
        "\n",
        "  dL_dh1 = dL_dz2 @ w2.T\n",
        "  dL_dz1 = (1 - h1 ** 2) * dL_dh1\n",
        "  dL_dw1 = X_train.T @ dL_dz1\n",
        "  dL_db1 = dL_dz1.sum(0)\n",
        "\n",
        "  with torch.no_grad():\n",
        "    w1 -= lr * dL_dw1\n",
        "    b1 -= lr * dL_db1\n",
        "    w2 -= lr * dL_dw2\n",
        "    b2 -= lr * dL_db2\n",
        "    w3 -= lr * dL_dw3\n",
        "    b3 -= lr * dL_db3\n",
        "    w4 -= lr * dL_dw4\n",
        "    b4 -= lr * dL_db4"
      ],
      "metadata": {
        "id": "VT1J3gT8qC-4"
      },
      "execution_count": null,
      "outputs": []
    },
    {
      "cell_type": "markdown",
      "source": [
        "## Checking if the manual and autograd's gradient align"
      ],
      "metadata": {
        "id": "fzB-ZjI7PVf2"
      }
    },
    {
      "cell_type": "code",
      "source": [
        "# print(torch.allclose(log_probs.grad, dL_dlogprobs))\n",
        "# compare_grad(log_probs.grad, dL_dlogprobs)\n",
        "# print(\"..........................................\")\n",
        "# print(torch.allclose(probs.grad, dL_dprobs))\n",
        "# compare_grad(probs.grad, dL_dprobs)\n",
        "# print(\"..........................................\")\n",
        "# print(torch.allclose(logit_exp_sum_inv.grad, dL_dlogit_exp_sum_inv))\n",
        "# compare_grad(logit_exp_sum_inv.grad, dL_dlogit_exp_sum_inv)\n",
        "# print(\"..........................................\")\n",
        "# print(torch.allclose(logit_exp_sum.grad, dL_dlogit_exp_sum))\n",
        "# compare_grad(logit_exp_sum.grad, dL_dlogit_exp_sum)\n",
        "# print(\"..........................................\")\n",
        "# print(torch.allclose(logit_exp.grad, dL_dlogit_exp))\n",
        "# compare_grad(logit_exp.grad, dL_dlogit_exp)\n",
        "# print(\"..........................................\")\n",
        "# print(torch.allclose(logit_new.grad, dL_dlogit_new))\n",
        "# compare_grad(logit_new.grad, dL_dlogit_new)\n",
        "# print(\"..........................................\")\n",
        "# print(torch.allclose(logit_max.grad, dL_dlogit_max))\n",
        "# compare_grad(logit_max.grad, dL_dlogit_max)\n",
        "# print(\"..........................................\")\n",
        "# print(torch.allclose(logit.grad, dL_dlogit))\n",
        "# compare_grad(logit.grad, dL_dlogit)\n",
        "# print(\"..........................................\")\n",
        "# print(torch.allclose(w4.grad, dL_dw4))\n",
        "# compare_grad(w4.grad, dL_dw4)\n",
        "# print(\"..........................................\")\n",
        "# print(torch.allclose(b4.grad, dL_db4))\n",
        "# compare_grad(b4.grad, dL_db4)\n",
        "# print(\"..........................................\")\n",
        "# print(torch.allclose(h3.grad, dL_dh3))\n",
        "# compare_grad(h3.grad, dL_dh3)\n",
        "# print(\"..........................................\")\n",
        "# print(torch.allclose(z3.grad, dL_dz3))\n",
        "# compare_grad(z3.grad, dL_dz3)\n",
        "# print(\"..........................................\")\n",
        "# print(torch.allclose(w3.grad, dL_dw3))\n",
        "# compare_grad(w3.grad, dL_dw3)\n",
        "# print(\"..........................................\")\n",
        "# print(torch.allclose(b3.grad, dL_db3))\n",
        "# compare_grad(b3.grad, dL_db3)\n",
        "# print(\"..........................................\")\n",
        "# print(torch.allclose(h2.grad, dL_dh2))\n",
        "# compare_grad(h2.grad, dL_dh2)\n",
        "# print(\"..........................................\")\n",
        "# print(torch.allclose(z2.grad, dL_dz2))\n",
        "# compare_grad(z2.grad, dL_dz2)\n",
        "# print(\"..........................................\")\n",
        "# print(torch.allclose(w2.grad, dL_dw2))\n",
        "# compare_grad(w2.grad, dL_dw2)\n",
        "# print(\"..........................................\")\n",
        "# print(torch.allclose(b2.grad, dL_db2))\n",
        "# compare_grad(b2.grad, dL_db2)\n",
        "# print(\"..........................................\")\n",
        "# print(torch.allclose(h1.grad, dL_dh1))\n",
        "# compare_grad(h1.grad, dL_dh1)\n",
        "# print(\"..........................................\")\n",
        "# print(torch.allclose(z1.grad, dL_dz1))\n",
        "# compare_grad(z1.grad, dL_dz1)\n",
        "# print(\"..........................................\")\n",
        "# print(torch.allclose(w1.grad, dL_dw1))\n",
        "# compare_grad(w1.grad, dL_dw1)\n",
        "# print(\"..........................................\")\n",
        "# print(torch.allclose(b1.grad, dL_db1))\n",
        "# compare_grad(b1.grad, dL_db1)\n"
      ],
      "metadata": {
        "id": "lzoDRueZPUZO"
      },
      "execution_count": null,
      "outputs": []
    },
    {
      "cell_type": "code",
      "source": [
        "plt.plot(loss_list)\n",
        "print(loss_list[-1])"
      ],
      "metadata": {
        "colab": {
          "base_uri": "https://localhost:8080/",
          "height": 448
        },
        "id": "bjBXawBtB9tm",
        "outputId": "a567babf-b3e5-445b-af84-148378c1517e"
      },
      "execution_count": null,
      "outputs": [
        {
          "output_type": "stream",
          "name": "stdout",
          "text": [
            "0.42764294147491455\n"
          ]
        },
        {
          "output_type": "display_data",
          "data": {
            "text/plain": [
              "<Figure size 640x480 with 1 Axes>"
            ],
            "image/png": "[encoded data removed]"
          },
          "metadata": {}
        }
      ]
    },
    {
      "cell_type": "markdown",
      "source": [
        "## Inferencing"
      ],
      "metadata": {
        "id": "o5_aaFmMB5Xg"
      }
    },
    {
      "cell_type": "code",
      "source": [
        "# Inference\n",
        "y_preds = X_test @ w1 + b1\n",
        "h1 = tanh(y_preds)\n",
        "\n",
        "y_preds = h1 @ w2 + b2\n",
        "h2 = tanh(y_preds)\n",
        "\n",
        "y_preds = h2 @ w3 + b3\n",
        "h3 = tanh(y_preds)\n",
        "\n",
        "y_preds = h3 @ w4 + b4\n",
        "\n",
        "# Softmax application\n",
        "logit_max = y_preds.max(dim=1, keepdim=True).values\n",
        "logit_new = y_preds - logit_max\n",
        "logit_exp = logit_new.exp()\n",
        "logit_exp_sum = logit_exp.sum(dim=1, keepdim=True)\n",
        "logit_exp_sum_inv = logit_exp_sum ** (-1)\n",
        "probs = logit_exp * logit_exp_sum_inv\n",
        "\n",
        "# Predicted class = argmax of probabilities\n",
        "pred_labels = probs.argmax(dim=1)\n",
        "print(pred_labels[:10])\n",
        "print(y_test[:10])\n",
        "\n",
        "correct_predictions = (y_test == pred_labels).sum()\n",
        "total_samples = y_test.shape[0]\n",
        "accuracy = correct_predictions.item() / total_samples\n",
        "\n",
        "print(\"Correct Predictions:\", correct_predictions.item(),\"out of\", total_samples)\n",
        "print(f\"Accuracy: {accuracy:.4f}\")"
      ],
      "metadata": {
        "colab": {
          "base_uri": "https://localhost:8080/"
        },
        "id": "_2sJfqxy4B_x",
        "outputId": "816be3df-99d6-43eb-a2f8-bffb4c56b2a0"
      },
      "execution_count": null,
      "outputs": [
        {
          "output_type": "stream",
          "name": "stdout",
          "text": [
            "tensor([3, 0, 1, 1, 3, 4, 2, 3, 4, 4])\n",
            "tensor([3, 0, 1, 2, 3, 4, 4, 3, 4, 4])\n",
            "Correct Predictions: 1278 out of 1500\n",
            "Accuracy: 0.8520\n"
          ]
        }
      ]
    },
    {
      "cell_type": "code",
      "source": [],
      "metadata": {
        "id": "bl5_sYptCQC7"
      },
      "execution_count": null,
      "outputs": []
    }
  ]
}