{
  "cells": [
    {
      "cell_type": "code",
      "execution_count": null,
      "metadata": {
        "id": "8IQeKEtwRNR8"
      },
      "outputs": [],
      "source": [
        "import torch\n",
        "from torchvision import datasets\n",
        "import matplotlib.pyplot as plt\n",
        "import torch.nn.functional as F"
      ]
    },
    {
      "cell_type": "code",
      "execution_count": null,
      "metadata": {
        "colab": {
          "base_uri": "https://localhost:8080/"
        },
        "id": "ABFkOF-vRT2v",
        "outputId": "b6af9c32-1200-416f-ed04-143f00ecf130"
      },
      "outputs": [
        {
          "output_type": "stream",
          "name": "stderr",
          "text": [
            "100%|██████████| 562M/562M [00:07<00:00, 72.9MB/s]\n"
          ]
        }
      ],
      "source": [
        "data = datasets.EMNIST(root='data', split='letters', download=True)"
      ]
    },
    {
      "cell_type": "code",
      "execution_count": null,
      "metadata": {
        "colab": {
          "base_uri": "https://localhost:8080/"
        },
        "id": "Hck500LJRVaX",
        "outputId": "1e39edac-13e8-4378-fff7-8c1f75192459"
      },
      "outputs": [
        {
          "output_type": "execute_result",
          "data": {
            "text/plain": [
              "(torch.Size([124800, 28, 28]), torch.Size([124800]))"
            ]
          },
          "metadata": {},
          "execution_count": 3
        }
      ],
      "source": [
        "X = data.data\n",
        "y = data.targets\n",
        "\n",
        "X.shape,y.shape"
      ]
    },
    {
      "cell_type": "code",
      "execution_count": null,
      "metadata": {
        "colab": {
          "base_uri": "https://localhost:8080/"
        },
        "id": "qioqwb1liCJb",
        "outputId": "0ba9c95d-9f53-4450-decf-c881e3c4856b"
      },
      "outputs": [
        {
          "output_type": "stream",
          "name": "stdout",
          "text": [
            "Selected X shape: torch.Size([7500, 28, 28])\n",
            "Selected y shape: torch.Size([7500])\n"
          ]
        }
      ],
      "source": [
        "selected_classes = [1, 5, 9, 15, 21]  # These represent vowels: a, e, i, o, u\n",
        "samples_per_class = 1500\n",
        "\n",
        "selected_indices = []\n",
        "\n",
        "for cls in selected_classes:\n",
        "    class_indices = torch.where(y == cls)[0]\n",
        "\n",
        "    shuffled_indices = torch.randperm(class_indices.shape[0])\n",
        "\n",
        "    chosen_indices = class_indices[shuffled_indices[:samples_per_class]]\n",
        "\n",
        "    selected_indices.append(chosen_indices)\n",
        "\n",
        "final_indices = torch.cat(selected_indices, dim=0)\n",
        "\n",
        "X = X[final_indices]\n",
        "y = y[final_indices]\n",
        "\n",
        "print(\"Selected X shape:\", X.shape)\n",
        "print(\"Selected y shape:\", y.shape)"
      ]
    },
    {
      "cell_type": "code",
      "execution_count": null,
      "metadata": {
        "colab": {
          "base_uri": "https://localhost:8080/"
        },
        "id": "OHkG4onFiESG",
        "outputId": "6684a346-9fd6-489c-a97f-152632de19a2"
      },
      "outputs": [
        {
          "output_type": "execute_result",
          "data": {
            "text/plain": [
              "torch.Size([7500, 784])"
            ]
          },
          "metadata": {},
          "execution_count": 5
        }
      ],
      "source": [
        "indices = torch.randperm(X.shape[0])\n",
        "X = X[indices]\n",
        "y = y[indices]\n",
        "\n",
        "total_pixels = X.shape[1] * X.shape[2]\n",
        "\n",
        "X = X.view(-1,total_pixels)\n",
        "X = X / 255.0\n",
        "X.shape"
      ]
    },
    {
      "cell_type": "code",
      "execution_count": null,
      "metadata": {
        "id": "PQBrMIiviJKb"
      },
      "outputs": [],
      "source": [
        "train_size = int(0.8 * X.shape[0])\n",
        "test_size = X.shape[0] - train_size\n",
        "\n",
        "X_train = X[:train_size]\n",
        "y_train = y[:train_size]\n",
        "\n",
        "X_test = X[train_size:]\n",
        "y_test = y[train_size:]"
      ]
    },
    {
      "cell_type": "code",
      "execution_count": null,
      "metadata": {
        "id": "P80iM5nYiKnK"
      },
      "outputs": [],
      "source": [
        "def compare_grad(grad1, grad2):\n",
        "  print(torch.max(torch.abs(grad1 - grad2)))"
      ]
    },
    {
      "cell_type": "code",
      "execution_count": null,
      "metadata": {
        "id": "x37-xtv_iMO9"
      },
      "outputs": [],
      "source": [
        "label_mapping = {1: 0, 5: 1, 9: 2, 15: 3, 21: 4}\n",
        "y_train = torch.tensor([label_mapping[label.item()] for label in y_train])\n",
        "y_test = torch.tensor([label_mapping[label.item()] for label in y_test])"
      ]
    },
    {
      "cell_type": "code",
      "execution_count": null,
      "metadata": {
        "id": "4GUOzSfWiNhf"
      },
      "outputs": [],
      "source": [
        "def tanh(val):\n",
        "  return (torch.exp(val) - torch.exp(-val)) / (torch.exp(val) + torch.exp(-val))\n",
        "\n",
        "def relu(val):\n",
        "  return torch.max(val, torch.zeros_like(val))"
      ]
    },
    {
      "cell_type": "code",
      "execution_count": null,
      "metadata": {
        "id": "0zXc7ZU7iU7s"
      },
      "outputs": [],
      "source": [
        "import math\n",
        "\n",
        "def xavier_normal_init(tensor):\n",
        "  mean = 0\n",
        "  dims = tensor.dim()\n",
        "  if dims != 2:\n",
        "    raise ValueError(\"Only 2D tensors are supported\")\n",
        "  n_in = tensor.size(0)\n",
        "  n_out = tensor.size(1)\n",
        "\n",
        "  std_dev = math.sqrt(2.0 / float(n_in + n_out))\n",
        "\n",
        "  with torch.no_grad():\n",
        "    return tensor.normal_(mean, std_dev)"
      ]
    },
    {
      "cell_type": "markdown",
      "source": [
        "## NN with ReLU and one hidden layer"
      ],
      "metadata": {
        "id": "2OGGeBFvv1uo"
      }
    },
    {
      "cell_type": "code",
      "execution_count": null,
      "metadata": {
        "id": "UiN-7I2birnl"
      },
      "outputs": [],
      "source": [
        "# Defining the learnable parameters\n",
        "w1 = torch.empty(total_pixels, 32, requires_grad=True)\n",
        "b1 = torch.zeros(32, requires_grad=True)\n",
        "w2 = torch.empty(32, 5, requires_grad=True)\n",
        "b2 = torch.zeros(5,requires_grad=True)\n",
        "gamma = torch.ones(32, requires_grad=True)\n",
        "beta = torch.ones(32, requires_grad=True)\n",
        "\n",
        "w1 = xavier_normal_init(w1)\n",
        "w2 = xavier_normal_init(w2)\n",
        "\n",
        "lr = 0.1\n",
        "loss_list = []\n",
        "\n",
        "for i in range(500):\n",
        "  # Forward Pass\n",
        "  z1 = X_train @ w1 + b1\n",
        "\n",
        "  # Hidden layer\n",
        "  h1 = relu(z1)\n",
        "\n",
        "  logit = h1 @ w2 + b2\n",
        "  logit_max = logit.max(dim = 1, keepdim = True).values\n",
        "  logit_new = logit - logit_max\n",
        "\n",
        "  # Softmax calculation begin here\n",
        "  logit_exp = logit_new.exp()\n",
        "  logit_exp_sum = logit_exp.sum(dim = 1, keepdim = True)\n",
        "  logit_exp_sum_inv = logit_exp_sum ** (-1)\n",
        "  probs = logit_exp * logit_exp_sum_inv\n",
        "  # Softmax ends here\n",
        "\n",
        "  # Cross entropy calculation begins here\n",
        "  log_probs = torch.log(probs)\n",
        "  L = - log_probs[torch.arange(X_train.shape[0]), y_train].mean()\n",
        "  loss_list.append(L.item())\n",
        "  # Cross entropy ends here\n",
        "\n",
        "  step_variables_list = [\n",
        "      w1,b1,\n",
        "      w2,b2,\n",
        "      logit,\n",
        "      logit_max,\n",
        "      logit_new,\n",
        "      logit_exp,\n",
        "      logit_exp_sum,\n",
        "      logit_exp_sum_inv,\n",
        "      probs,\n",
        "      log_probs,\n",
        "      h1,z1,\n",
        "      # z1_shifted,z1mean,diff,z1var,z1var_inv,z1_new,\n",
        "      gamma,beta\n",
        "  ]\n",
        "  # for item in step_variables_list:\n",
        "  #   item.retain_grad()\n",
        "  # L.backward()\n",
        "\n",
        "  # Backpropagation\n",
        "  # Manual backpropagation\n",
        "  dL_dlogprobs = torch.zeros_like(log_probs)\n",
        "  dL_dlogprobs[torch.arange(X_train.shape[0]), y_train] = -1 / X_train.shape[0]\n",
        "\n",
        "  dL_dprobs = (probs)**(-1) * dL_dlogprobs\n",
        "\n",
        "  dL_dlogit_exp_sum_inv = (logit_exp * dL_dprobs).sum(1, keepdim = True)\n",
        "\n",
        "  # 1st half of calculation\n",
        "  dL_dlogit_exp = logit_exp_sum_inv * dL_dprobs\n",
        "\n",
        "  dL_dlogit_exp_sum = -(logit_exp_sum ** (-2)) * dL_dlogit_exp_sum_inv\n",
        "\n",
        "  # 2nd half calculation\n",
        "  dL_dlogit_exp += torch.ones_like(logit_exp) * dL_dlogit_exp_sum\n",
        "\n",
        "  dL_dlogit_new = logit_new.exp() * dL_dlogit_exp\n",
        "\n",
        "  dL_dlogit_max = - dL_dlogit_new.sum(1, keepdim = True)\n",
        "\n",
        "  dL_dlogit = dL_dlogit_new.clone()\n",
        "\n",
        "  # Self-implementation of the one-hot\n",
        "  mask = (logit == logit.max(1, keepdim=True).values)\n",
        "  mask = mask.int()\n",
        "  dL_dlogit += mask * dL_dlogit_max\n",
        "\n",
        "  dL_dw2 = h1.T @ dL_dlogit\n",
        "  dL_db2 = dL_dlogit.sum(0)\n",
        "\n",
        "  dL_dh1 = dL_dlogit @ w2.T\n",
        "  temp = torch.where(z1 > 0, 1, 0)\n",
        "  dL_dz1 = temp * dL_dh1\n",
        "  dL_dw1 = X_train.T @ dL_dz1\n",
        "  dL_db1 = dL_dz1.sum(0)\n",
        "\n",
        "  with torch.no_grad():\n",
        "    w1 -= lr * dL_dw1\n",
        "    b1 -= lr * dL_db1\n",
        "    w2 -= lr * dL_dw2\n",
        "    b2 -= lr * dL_db2"
      ]
    },
    {
      "cell_type": "code",
      "execution_count": null,
      "metadata": {
        "id": "Vq9tpQuVjCE3"
      },
      "outputs": [],
      "source": [
        "\n",
        "# print(\"..........................................\")\n",
        "# compare_grad(w1.grad,dL_dw1)\n",
        "# print(torch.allclose(w1.grad,dL_dw1))\n",
        "# print(\"..........................................\")\n",
        "# compare_grad(b1.grad,dL_db1)\n",
        "# print(torch.allclose(b1.grad,dL_db1))\n",
        "# print(\"..........................................\")\n",
        "# # compare_grad(w2.grad,dL_dw2)\n",
        "# # print(torch.allclose(w2.grad,dL_dw2))\n",
        "# # print(\"..........................................\")\n",
        "# # compare_grad(b2.grad,dL_db2)\n",
        "# # print(torch.allclose(b2.grad,dL_db2))\n",
        "# # print(\"..........................................\")\n",
        "# # print(torch.allclose(log_probs.grad, dL_dlogprobs))\n",
        "# # compare_grad(log_probs.grad, dL_dlogprobs)\n",
        "# # print(\"..........................................\")\n",
        "# # print(torch.allclose(probs.grad, dL_dprobs))\n",
        "# # compare_grad(probs.grad, dL_dprobs)\n",
        "# # print(\"..........................................\")\n",
        "# # print(torch.allclose(logit_exp_sum_inv.grad, dL_dlogit_exp_sum_inv))\n",
        "# # compare_grad(logit_exp_sum_inv.grad, dL_dlogit_exp_sum_inv)\n",
        "# # print(\"..........................................\")\n",
        "# # print(torch.allclose(logit_exp_sum.grad, dL_dlogit_exp_sum))\n",
        "# # compare_grad(logit_exp_sum.grad, dL_dlogit_exp_sum)\n",
        "# # print(\"..........................................\")\n",
        "# # print(torch.allclose(logit_exp.grad, dL_dlogit_exp))\n",
        "# # compare_grad(logit_exp.grad, dL_dlogit_exp)\n",
        "# # print(\"..........................................\")\n",
        "# # print(torch.allclose(logit_new.grad, dL_dlogit_new))\n",
        "# # compare_grad(logit_new.grad, dL_dlogit_new)\n",
        "# # print(\"..........................................\")\n",
        "# # print(torch.allclose(logit_max.grad, dL_dlogit_max))\n",
        "# # compare_grad(logit_max.grad, dL_dlogit_max)\n",
        "# # print(\"..........................................\")\n",
        "# # print(torch.allclose(logit.grad, dL_dlogit))\n",
        "# # compare_grad(logit.grad, dL_dlogit)\n",
        "# # print(\"..........................................\")\n",
        "# # print(torch.allclose(h1.grad, dL_dh1))\n",
        "# # compare_grad(h1.grad, dL_dh1)\n",
        "# # print(\"..........................................\")\n",
        "# # print(torch.allclose(z1.grad, dL_dz1))\n",
        "# # compare_grad(z1.grad, dL_dz1)\n",
        "# # print(\"..........................................\")\n",
        "# # print(torch.allclose(z1_max.grad, dL_dz1_max))\n",
        "# # compare_grad(w1.grad, dL_dw1)\n",
        "# # print(\"..........................................\")\n",
        "# # print(torch.allclose(z1_new.grad, dL_dz1_new))\n",
        "# # compare_grad(z1_new.grad, dL_dz1_new)\n",
        "# # print(\"..........................................\")\n",
        "# print(torch.allclose(z1.grad, dL_dz1))\n",
        "# compare_grad(z1.grad, dL_dz1)\n",
        "# print(\"..........................................\")\n",
        "# # print(torch.allclose(z1_new.grad, dL_dz1_new))\n",
        "# # compare_grad(z1_new.grad, dL_dz1_new)\n",
        "# # print(\"..........................................\")\n",
        "# # print(torch.allclose(z1var_inv.grad, dL_dz1var_inv))\n",
        "# # compare_grad(z1var_inv.grad, dL_dz1var_inv)\n",
        "# # print(\"..........................................\")\n",
        "# # print(torch.allclose(gamma.grad, dL_dgamma))\n",
        "# # compare_grad(gamma.grad, dL_dgamma)\n",
        "# # print(\"..........................................\")\n",
        "# # print(torch.allclose(beta.grad, dL_dbeta))\n",
        "# # compare_grad(beta.grad, dL_dbeta)"
      ]
    },
    {
      "cell_type": "code",
      "execution_count": null,
      "metadata": {
        "id": "oCQvygLHjMDn",
        "colab": {
          "base_uri": "https://localhost:8080/",
          "height": 449
        },
        "outputId": "f50835e5-6b86-4a87-b31b-672232c76708"
      },
      "outputs": [
        {
          "output_type": "stream",
          "name": "stdout",
          "text": [
            "0.1522655338048935\n"
          ]
        },
        {
          "output_type": "display_data",
          "data": {
            "text/plain": [
              "<Figure size 640x480 with 1 Axes>"
            ],
            "image/png": "[encoded data removed]"
          },
          "metadata": {}
        }
      ],
      "source": [
        "plt.plot(loss_list)\n",
        "print(loss_list[-1])"
      ]
    },
    {
      "cell_type": "code",
      "source": [
        "# Inference\n",
        "y_preds = X_test @ w1 + b1\n",
        "\n",
        "h1 = relu(y_preds)\n",
        "\n",
        "y_preds = h1 @ w2 + b2\n",
        "\n",
        "# Softmax application\n",
        "logit_max = y_preds.max(dim=1, keepdim=True).values\n",
        "logit_new = y_preds - logit_max\n",
        "logit_exp = logit_new.exp()\n",
        "logit_exp_sum = logit_exp.sum(dim=1, keepdim=True)\n",
        "logit_exp_sum_inv = logit_exp_sum ** (-1)\n",
        "probs = logit_exp * logit_exp_sum_inv\n",
        "\n",
        "# Predicted class = argmax of probabilities\n",
        "pred_labels = probs.argmax(dim=1)\n",
        "print(pred_labels[:10])\n",
        "print(y_test[:10])\n",
        "\n",
        "correct_predictions = (y_test == pred_labels).sum()\n",
        "total_samples = y_test.shape[0]\n",
        "accuracy = correct_predictions.item() / total_samples\n",
        "\n",
        "print(\"Correct Predictions:\", correct_predictions.item(),\"out of\", total_samples)\n",
        "print(f\"Accuracy: {accuracy:.4f}\")"
      ],
      "metadata": {
        "colab": {
          "base_uri": "https://localhost:8080/"
        },
        "id": "R77FbVrtvGzC",
        "outputId": "ab6b7e7e-3c61-4597-e6e5-b38819007646"
      },
      "execution_count": null,
      "outputs": [
        {
          "output_type": "stream",
          "name": "stdout",
          "text": [
            "tensor([0, 2, 4, 4, 3, 2, 0, 3, 1, 4])\n",
            "tensor([4, 2, 4, 4, 3, 2, 0, 3, 1, 4])\n",
            "Correct Predictions: 1399 out of 1500\n",
            "Accuracy: 0.9327\n"
          ]
        }
      ]
    },
    {
      "cell_type": "code",
      "source": [],
      "metadata": {
        "id": "V06HfsJrvJkh"
      },
      "execution_count": null,
      "outputs": []
    }
  ],
  "metadata": {
    "colab": {
      "provenance": []
    },
    "kernelspec": {
      "display_name": "Python 3",
      "name": "python3"
    },
    "language_info": {
      "name": "python"
    }
  },
  "nbformat": 4,
  "nbformat_minor": 0
}