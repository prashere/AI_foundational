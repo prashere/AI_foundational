{
  "nbformat": 4,
  "nbformat_minor": 0,
  "metadata": {
    "colab": {
      "provenance": []
    },
    "kernelspec": {
      "name": "python3",
      "display_name": "Python 3"
    },
    "language_info": {
      "name": "python"
    }
  },
  "cells": [
    {
      "cell_type": "markdown",
      "source": [
        "## Installation"
      ],
      "metadata": {
        "id": "ZbqR1DXS56H-"
      }
    },
    {
      "cell_type": "code",
      "execution_count": 1,
      "metadata": {
        "colab": {
          "base_uri": "https://localhost:8080/"
        },
        "id": "g1RyzM_hoJP9",
        "outputId": "1c113123-4091-4acd-fab8-41ea0203100b"
      },
      "outputs": [
        {
          "output_type": "stream",
          "name": "stdout",
          "text": [
            "Requirement already satisfied: graphviz in /usr/local/lib/python3.11/dist-packages (0.20.3)\n"
          ]
        }
      ],
      "source": [
        "!pip install graphviz"
      ]
    },
    {
      "cell_type": "markdown",
      "source": [
        "## Graph code"
      ],
      "metadata": {
        "id": "1chSKvCK5_Ah"
      }
    },
    {
      "cell_type": "code",
      "source": [
        "from graphviz import Digraph\n",
        "\n",
        "def trace(root):\n",
        "\n",
        "    nodes, edges = set(), set()\n",
        "    def build(v):\n",
        "        if v not in nodes:\n",
        "            nodes.add(v)\n",
        "            for child in v._prev:\n",
        "                edges.add((child, v))\n",
        "                build(child)\n",
        "    build(root)\n",
        "    return nodes, edges\n",
        "\n",
        "def draw_dot(root):\n",
        "    dot = Digraph(format='svg', graph_attr={'rankdir': 'LR'})\n",
        "\n",
        "    nodes, edges = trace(root)\n",
        "    for n in nodes:\n",
        "        uid = str(id(n))\n",
        "\n",
        "        dot.node(name = uid, label=\"{ %s | data %.4f | grad %.4f}\" % (n.label, n.value, n.grad), shape='record')\n",
        "\n",
        "        if n._op:\n",
        "            dot.node(name = uid + n._op, label=n._op)\n",
        "            dot.edge(uid + n._op, uid)\n",
        "\n",
        "    for n1, n2 in edges:\n",
        "        dot.edge(str(id(n1)), str(id(n2)) + n2._op)\n",
        "\n",
        "    return dot"
      ],
      "metadata": {
        "id": "ptSTfY-U2FEv"
      },
      "execution_count": 2,
      "outputs": []
    },
    {
      "cell_type": "markdown",
      "source": [
        "## Value class definition"
      ],
      "metadata": {
        "id": "p74qoNOJ6A1D"
      }
    },
    {
      "cell_type": "code",
      "source": [
        "class Value:\n",
        "    def __init__(self, value,label=None, prev=(), grad=0.0, op=None):\n",
        "        self.label = label\n",
        "        self._prev = prev\n",
        "        self.grad = grad\n",
        "        self._op = op\n",
        "        self.value = value\n",
        "        self._backward = None\n",
        "\n",
        "    def __repr__(self):\n",
        "        return f\"Value({self.value})\"\n",
        "\n",
        "    def __add__(self, other):\n",
        "        output = Value(self.value + other.value, prev=(self, other), op='+')\n",
        "        def backward():\n",
        "            self.grad += 1.0\n",
        "            other.grad += 1.0\n",
        "        output._backward = backward\n",
        "        return output\n",
        "\n",
        "    def __sub__(self, other):\n",
        "        output =  Value(self.value - other.value, prev = (self,other), op='-')\n",
        "        def backward():\n",
        "            self.grad += 1.0\n",
        "            other.grad += -1.0\n",
        "        output._backward = backward\n",
        "        return output\n",
        "\n",
        "    def __mul__(self, other):\n",
        "        output =  Value(self.value * other.value, prev = (self,other), op='*')\n",
        "        def backward():\n",
        "            self.grad = other.value\n",
        "            other.grad = self.value\n",
        "        output._backward = backward\n",
        "        return output\n",
        "\n",
        "    def __truediv__(self, other):\n",
        "        output =  Value(self.value / other.value, prev = (self,other), op='/')\n",
        "        def backward():\n",
        "            self.grad = 1.0 / other.value\n",
        "            other.grad = -self.value / (other.value ** 2)\n",
        "        output._backward = backward\n",
        "        return output"
      ],
      "metadata": {
        "id": "TF7Rig1e2Hp0"
      },
      "execution_count": 3,
      "outputs": []
    },
    {
      "cell_type": "markdown",
      "source": [
        "## Addition trial"
      ],
      "metadata": {
        "id": "5ycsGIVD6EKf"
      }
    },
    {
      "cell_type": "code",
      "source": [
        "a = Value(2.0, label='a')\n",
        "b = Value(3.0, label='b')\n",
        "\n",
        "c = a + b\n",
        "\n",
        "c._backward()\n",
        "\n",
        "print(a.grad)\n",
        "print(b.grad)"
      ],
      "metadata": {
        "colab": {
          "base_uri": "https://localhost:8080/"
        },
        "id": "szrW6Dof2KQr",
        "outputId": "f09f7aec-5c8c-40d7-c7ec-0cf1d8fa04ce"
      },
      "execution_count": 4,
      "outputs": [
        {
          "output_type": "stream",
          "name": "stdout",
          "text": [
            "1.0\n",
            "1.0\n"
          ]
        }
      ]
    },
    {
      "cell_type": "code",
      "source": [
        "dot = draw_dot(c)\n",
        "dot.render('graph.gv', view=True)"
      ],
      "metadata": {
        "colab": {
          "base_uri": "https://localhost:8080/",
          "height": 36
        },
        "id": "thFeH-XI2MrQ",
        "outputId": "b8c3b09d-166c-4ab1-f4f2-415d8382e085"
      },
      "execution_count": 6,
      "outputs": [
        {
          "output_type": "execute_result",
          "data": {
            "text/plain": [
              "'graph.gv.svg'"
            ],
            "application/vnd.google.colaboratory.intrinsic+json": {
              "type": "string"
            }
          },
          "metadata": {},
          "execution_count": 6
        }
      ]
    },
    {
      "cell_type": "markdown",
      "source": [
        "![image.png](data:image/png;base64,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)"
      ],
      "metadata": {
        "id": "x9U-SaIB7ljv"
      }
    },
    {
      "cell_type": "markdown",
      "source": [
        "## Subtraction Trial"
      ],
      "metadata": {
        "id": "RwXEpjyU6GUN"
      }
    },
    {
      "cell_type": "code",
      "source": [
        "a = Value(2.0, label='a')\n",
        "b = Value(3.0, label='b')\n",
        "\n",
        "c = b - a\n",
        "\n",
        "c._backward()\n",
        "\n",
        "print(a.grad)\n",
        "print(b.grad)"
      ],
      "metadata": {
        "colab": {
          "base_uri": "https://localhost:8080/"
        },
        "id": "LOuUF7eH2Pm7",
        "outputId": "81d4740c-1cd0-4bfe-de96-d46d455cba48"
      },
      "execution_count": 7,
      "outputs": [
        {
          "output_type": "stream",
          "name": "stdout",
          "text": [
            "-1.0\n",
            "1.0\n"
          ]
        }
      ]
    },
    {
      "cell_type": "markdown",
      "source": [
        "## Multiplication Trial"
      ],
      "metadata": {
        "id": "0wBdBgP16LV1"
      }
    },
    {
      "cell_type": "code",
      "source": [
        "a = Value(2.0, label='a')\n",
        "b = Value(3.0, label='b')\n",
        "\n",
        "c = a * b\n",
        "\n",
        "c._backward()\n",
        "\n",
        "print(a.grad)\n",
        "print(b.grad)"
      ],
      "metadata": {
        "colab": {
          "base_uri": "https://localhost:8080/"
        },
        "id": "aQGQbcXJ4ElN",
        "outputId": "ec7cf690-c671-4b63-ce7e-089ce93949de"
      },
      "execution_count": 8,
      "outputs": [
        {
          "output_type": "stream",
          "name": "stdout",
          "text": [
            "3.0\n",
            "2.0\n"
          ]
        }
      ]
    },
    {
      "cell_type": "markdown",
      "source": [
        "## Division Trial"
      ],
      "metadata": {
        "id": "jEfbmbfm6OoJ"
      }
    },
    {
      "cell_type": "code",
      "source": [
        "a = Value(2.0, label='a')\n",
        "b = Value(3.0, label='b')\n",
        "\n",
        "c = a / b\n",
        "\n",
        "c._backward()\n",
        "\n",
        "print(a.grad)\n",
        "print(b.grad)"
      ],
      "metadata": {
        "colab": {
          "base_uri": "https://localhost:8080/"
        },
        "id": "2Viwyho24Gmi",
        "outputId": "1710fdd7-d177-41e1-ff5f-ab11ed8836b1"
      },
      "execution_count": 9,
      "outputs": [
        {
          "output_type": "stream",
          "name": "stdout",
          "text": [
            "0.3333333333333333\n",
            "-0.2222222222222222\n"
          ]
        }
      ]
    },
    {
      "cell_type": "code",
      "source": [
        "a = Value(2.0, label='a')\n",
        "b = Value(3.0, label='b')\n",
        "\n",
        "c = Value(4.0, label='c')\n",
        "\n",
        "e = a + b\n",
        "e.label ='e'\n",
        "\n",
        "f = e * c\n",
        "f.label = 'f'\n",
        "\n",
        "g = f / a\n",
        "g.label = 'g'\n",
        "\n",
        "e._backward()\n",
        "f._backward()\n",
        "\n",
        "print(a.grad)\n",
        "print(b.grad)\n",
        "print(c.grad)\n",
        "print(e.grad)"
      ],
      "metadata": {
        "colab": {
          "base_uri": "https://localhost:8080/"
        },
        "id": "mYKYRtX74JwC",
        "outputId": "be51b259-de0a-41ac-f9cd-eb17f641dbf4"
      },
      "execution_count": 13,
      "outputs": [
        {
          "output_type": "stream",
          "name": "stdout",
          "text": [
            "1.0\n",
            "1.0\n",
            "5.0\n",
            "4.0\n"
          ]
        }
      ]
    },
    {
      "cell_type": "code",
      "source": [
        "dot = draw_dot(f)\n",
        "dot.render('graph.gv', view=True)"
      ],
      "metadata": {
        "colab": {
          "base_uri": "https://localhost:8080/",
          "height": 36
        },
        "id": "QJWFWzcM6dwu",
        "outputId": "ed9aabc6-d089-4426-860d-e3f4c1d0f818"
      },
      "execution_count": 14,
      "outputs": [
        {
          "output_type": "execute_result",
          "data": {
            "text/plain": [
              "'graph.gv.svg'"
            ],
            "application/vnd.google.colaboratory.intrinsic+json": {
              "type": "string"
            }
          },
          "metadata": {},
          "execution_count": 14
        }
      ]
    },
    {
      "cell_type": "markdown",
      "source": [
        "![image.png](data:image/png;base64,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)"
      ],
      "metadata": {
        "id": "pOaNK5qz7XgW"
      }
    },
    {
      "cell_type": "code",
      "source": [],
      "metadata": {
        "id": "SKq2AHHI67yQ"
      },
      "execution_count": null,
      "outputs": []
    }
  ]
}