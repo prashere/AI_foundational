{
  "nbformat": 4,
  "nbformat_minor": 0,
  "metadata": {
    "colab": {
      "provenance": []
    },
    "kernelspec": {
      "name": "python3",
      "display_name": "Python 3"
    },
    "language_info": {
      "name": "python"
    }
  },
  "cells": [
    {
      "cell_type": "code",
      "source": [
        "import torch"
      ],
      "metadata": {
        "id": "b6qROnWGQqhn"
      },
      "execution_count": 1,
      "outputs": []
    },
    {
      "cell_type": "code",
      "execution_count": 2,
      "metadata": {
        "colab": {
          "base_uri": "https://localhost:8080/"
        },
        "id": "Orcvp0PD_kzP",
        "outputId": "767f82e1-9e67-4fab-9bb6-79314e659b17"
      },
      "outputs": [
        {
          "output_type": "stream",
          "name": "stdout",
          "text": [
            "Requirement already satisfied: graphviz in /usr/local/lib/python3.11/dist-packages (0.20.3)\n"
          ]
        }
      ],
      "source": [
        "!pip install graphviz"
      ]
    },
    {
      "cell_type": "markdown",
      "source": [
        "## Graph Plotting function"
      ],
      "metadata": {
        "id": "JU-Cspa9R1ag"
      }
    },
    {
      "cell_type": "code",
      "source": [
        "from graphviz import Digraph\n",
        "\n",
        "def trace(root):\n",
        "\n",
        "    nodes, edges = set(), set()\n",
        "    def build(v):\n",
        "        if v not in nodes:\n",
        "            nodes.add(v)\n",
        "            for child in v._prev:\n",
        "                edges.add((child, v))\n",
        "                build(child)\n",
        "    build(root)\n",
        "    return nodes, edges\n",
        "\n",
        "def draw_dot(root):\n",
        "    dot = Digraph(format='svg', graph_attr={'rankdir': 'LR'})\n",
        "\n",
        "    nodes, edges = trace(root)\n",
        "    for n in nodes:\n",
        "        uid = str(id(n))\n",
        "\n",
        "        dot.node(name = uid, label=\"{ %s | shape %s | grad %s}\" % (n.label, str(n.tensor.shape), str(n.grad.shape)), shape='record')\n",
        "\n",
        "        if n._op:\n",
        "            dot.node(name = uid + n._op, label=n._op)\n",
        "            dot.edge(uid + n._op, uid)\n",
        "\n",
        "    for n1, n2 in edges:\n",
        "        dot.edge(str(id(n1)), str(id(n2)) + n2._op)\n",
        "\n",
        "    return dot"
      ],
      "metadata": {
        "id": "YGw7ce7lR4AF"
      },
      "execution_count": 3,
      "outputs": []
    },
    {
      "cell_type": "markdown",
      "source": [
        "## Defining a Tensor Value class for auto differentiation"
      ],
      "metadata": {
        "id": "eK_WyqAJPdLw"
      }
    },
    {
      "cell_type": "markdown",
      "source": [
        "### Broadcasting logic trial implementation, already integrated into the TensorValue class below"
      ],
      "metadata": {
        "id": "_qKqF9yD2gea"
      }
    },
    {
      "cell_type": "markdown",
      "source": [
        "# The TensorValue Class"
      ],
      "metadata": {
        "id": "wDdmVmxS3uaP"
      }
    },
    {
      "cell_type": "code",
      "source": [
        "def broadcast_shape(shape1, shape2):\n",
        "  # Padding the shorter shape with 1s on the left\n",
        "  if len(shape1) < len(shape2):\n",
        "      shape1 = (1,) * (len(shape2) - len(shape1)) + shape1\n",
        "  elif len(shape2) < len(shape1):\n",
        "      shape2 = (1,) * (len(shape1) - len(shape2)) + shape2\n",
        "\n",
        "  result = []\n",
        "\n",
        "  for s1, s2 in zip(shape1, shape2):\n",
        "    if s1 == 1:\n",
        "        result.append(s2)\n",
        "    elif s2 == 1:\n",
        "        result.append(s1)\n",
        "    elif s1 == s2:\n",
        "        result.append(s1)\n",
        "    else:\n",
        "        raise ValueError(\"Shapes are not broadcastable\")\n",
        "\n",
        "  return tuple(result)"
      ],
      "metadata": {
        "id": "7vaMqrDguUgv"
      },
      "execution_count": 12,
      "outputs": []
    },
    {
      "cell_type": "code",
      "source": [
        "class TensorValue:\n",
        "    \"\"\"\n",
        "            label\n",
        "            tensor\n",
        "            grad\n",
        "            _prev\n",
        "            _op\n",
        "            _backward\n",
        "            shape\n",
        "            ndim\n",
        "    \"\"\"\n",
        "    def __init__(self, tensor, label=None, grad=None, _prev=(), _op=None):\n",
        "        self.label = label\n",
        "        self.tensor = tensor if isinstance(tensor, torch.Tensor) else torch.tensor(tensor, dtype=torch.float32)\n",
        "        self.grad = torch.zeros_like(self.tensor) if grad is None else grad\n",
        "        self._prev = set(_prev)\n",
        "        self._op = _op\n",
        "        self._backward = lambda: None\n",
        "        self.shape = self.tensor.shape\n",
        "        self.ndim = self.tensor.ndim\n",
        "\n",
        "    def __repr__(self):\n",
        "        return f\"TensorValue(tensor={self.tensor}, grad={self.grad})\"\n",
        "\n",
        "    def _broadcast_tensors(self, other):\n",
        "        # Above function call\n",
        "        out_shape = broadcast_shape(self.shape, other.shape)\n",
        "\n",
        "        a_tensor = self.tensor.expand(out_shape)\n",
        "        b_tensor = other.tensor.expand(out_shape)\n",
        "\n",
        "        # Marking broadcasting operation as a node in computational graph\n",
        "        a = TensorValue(a_tensor, _prev=(self,), _op='broadcast')\n",
        "        a.label = self.label\n",
        "        b = TensorValue(b_tensor, _prev=(other,), _op='broadcast')\n",
        "        b.label = other.label\n",
        "\n",
        "        def _backward_a():\n",
        "            grad = a.grad\n",
        "            while grad.ndim > len(self.shape):\n",
        "                grad = grad.sum(dim=0)\n",
        "            # Grad (1,2,3) and Tensor (1,1,4)\n",
        "              # 1st iter => 1=1\n",
        "              # 2nd iter => 2 != 1 => .sum happens at dim = 1 and so on.....\n",
        "            for i, (g_dim, t_dim) in enumerate(zip(grad.shape, self.shape)):\n",
        "                if t_dim == 1 and g_dim != 1:\n",
        "                    grad = grad.sum(dim=i, keepdim=True)\n",
        "            self.grad += grad\n",
        "\n",
        "        def _backward_b():\n",
        "            grad = b.grad\n",
        "            while grad.ndim > len(other.shape):\n",
        "                grad = grad.sum(dim=0)\n",
        "            for i, (g_dim, t_dim) in enumerate(zip(grad.shape, other.shape)):\n",
        "                if t_dim == 1 and g_dim != 1:\n",
        "                    grad = grad.sum(dim=i, keepdim=True)\n",
        "            other.grad += grad\n",
        "\n",
        "        a._backward = _backward_a\n",
        "        b._backward = _backward_b\n",
        "\n",
        "        return a, b\n",
        "\n",
        "\n",
        "    #----------------------------------------------------\n",
        "    # Add\n",
        "    #----------------------------------------------------\n",
        "    def __add__(self, other):\n",
        "        a, b = self._broadcast_tensors(other)\n",
        "        output = TensorValue(a.tensor + b.tensor, _prev=(a, b), _op='+')\n",
        "\n",
        "        def backward():\n",
        "            a.grad += output.grad\n",
        "            b.grad += output.grad\n",
        "\n",
        "        output._backward = backward\n",
        "        return output\n",
        "\n",
        "    #----------------------------------------------------\n",
        "    # Subtract\n",
        "    #----------------------------------------------------\n",
        "    def __sub__(self, other):\n",
        "        a, b = self._broadcast_tensors(other)\n",
        "        output = TensorValue(a.tensor - b.tensor, _prev=(a, b), _op='-')\n",
        "\n",
        "        def backward():\n",
        "            a.grad += output.grad\n",
        "            b.grad += -output.grad\n",
        "\n",
        "        output._backward = backward\n",
        "        return output\n",
        "\n",
        "    #----------------------------------------------------\n",
        "    # Multiply\n",
        "    #----------------------------------------------------\n",
        "    def __mul__(self, other):\n",
        "        a, b = self._broadcast_tensors(other)\n",
        "        output = TensorValue(a.tensor * b.tensor, _prev=(a, b), _op='*')\n",
        "\n",
        "        def backward():\n",
        "            a.grad += b.tensor * output.grad\n",
        "            b.grad += a.tensor * output.grad\n",
        "\n",
        "        output._backward = backward\n",
        "        return output\n",
        "\n",
        "    #----------------------------------------------------\n",
        "    # Right multiplication\n",
        "    #----------------------------------------------------\n",
        "    def __rmul__(self, other):\n",
        "        if isinstance(other, (int, float)):\n",
        "            output = TensorValue(self.tensor * other, _prev=(self,), _op='*')\n",
        "            def backward():\n",
        "                self.grad += other * output.grad\n",
        "            output._backward = backward\n",
        "            return output\n",
        "        return self * other\n",
        "\n",
        "    #----------------------------------------------------\n",
        "    # Matrix Multiplication\n",
        "    #----------------------------------------------------\n",
        "    def __matmul__(self, other):\n",
        "        other = other if isinstance(other, TensorValue) else TensorValue(other)\n",
        "        output = TensorValue(self.tensor @ other.tensor, _prev=(self, other), _op='@')\n",
        "\n",
        "        def backward():\n",
        "            self.grad += output.grad @ other.tensor.T\n",
        "            other.grad += self.tensor.T @ output.grad\n",
        "\n",
        "        output._backward = backward\n",
        "        return output\n",
        "\n",
        "    #----------------------------------------------------\n",
        "    # Power\n",
        "    #----------------------------------------------------\n",
        "    def __pow__(self, other):\n",
        "        assert isinstance(other, (int, float)), \"Only supports int/float powers\"\n",
        "        output = TensorValue(self.tensor ** other, _prev=(self,), _op='**')\n",
        "\n",
        "        def backward():\n",
        "            self.grad += (other * self.tensor ** (other - 1)) * output.grad\n",
        "\n",
        "        output._backward = backward\n",
        "        return output\n",
        "\n",
        "    #----------------------------------------------------\n",
        "    # Mean\n",
        "    #----------------------------------------------------\n",
        "    def mean(self):\n",
        "        output = TensorValue(self.tensor.mean(), _prev=(self,), _op='mean')\n",
        "\n",
        "        def backward():\n",
        "            self.grad += (torch.ones_like(self.tensor) / self.tensor.numel()) * output.grad\n",
        "\n",
        "        output._backward = backward\n",
        "        return output\n",
        "\n",
        "    #----------------------------------------------------\n",
        "    # Topological Sort\n",
        "    #----------------------------------------------------\n",
        "    def backward(self):\n",
        "        topo = []\n",
        "        visited = set()\n",
        "\n",
        "        def build_topo(v):\n",
        "            if v not in visited:\n",
        "                visited.add(v)\n",
        "                for child in v._prev:\n",
        "                    build_topo(child)\n",
        "                topo.append(v)\n",
        "\n",
        "        build_topo(self)\n",
        "\n",
        "        self.grad = torch.ones_like(self.tensor)\n",
        "        for node in reversed(topo):\n",
        "            node._backward()\n"
      ],
      "metadata": {
        "id": "3NvCbDGwO--p"
      },
      "execution_count": 13,
      "outputs": []
    },
    {
      "cell_type": "markdown",
      "source": [
        "### For testing purposes"
      ],
      "metadata": {
        "id": "DHslME7YAbMB"
      }
    },
    {
      "cell_type": "code",
      "source": [
        "a = torch.tensor([[2,1,0],\n",
        "                  [3,2,1],\n",
        "                  [1,1,0]], dtype = torch.float32, requires_grad=True)\n",
        "b = torch.tensor([[1,1,1]], dtype = torch.float32, requires_grad=True)\n",
        "c = torch.tensor([[1,1,1]], dtype = torch.float32, requires_grad=True)\n",
        "\n",
        "print(a.shape)\n",
        "print(b.shape)\n",
        "print(c.shape)\n",
        "\n",
        "a_custom = TensorValue(a, label = 'a')\n",
        "b_custom = TensorValue(b, label = 'b')\n",
        "c_custom = TensorValue(c, label = 'c')\n",
        "\n",
        "d = a - b\n",
        "e = d + c\n",
        "\n",
        "d_custom = a_custom - b_custom\n",
        "e_custom = d_custom + c_custom\n",
        "d_custom.label = 'd'\n",
        "e_custom.label = 'e'\n",
        "\n",
        "e_sum = e.sum()\n",
        "e_sum.backward()\n",
        "e_custom.backward()\n",
        "\n",
        "print(\"Original Gradients\")\n",
        "print(a.grad)\n",
        "print(b.grad)\n",
        "print(c.grad)\n",
        "print()\n",
        "print(\"Calculated gradients\")\n",
        "print(a_custom.grad)\n",
        "print(b_custom.grad)\n",
        "print(c_custom.grad)"
      ],
      "metadata": {
        "colab": {
          "base_uri": "https://localhost:8080/"
        },
        "id": "xeDnenBj4k58",
        "outputId": "ccfc2b1f-5ab7-47fd-e902-c31113e6a704"
      },
      "execution_count": 14,
      "outputs": [
        {
          "output_type": "stream",
          "name": "stdout",
          "text": [
            "torch.Size([3, 3])\n",
            "torch.Size([1, 3])\n",
            "torch.Size([1, 3])\n",
            "Original Gradients\n",
            "tensor([[1., 1., 1.],\n",
            "        [1., 1., 1.],\n",
            "        [1., 1., 1.]])\n",
            "tensor([[-3., -3., -3.]])\n",
            "tensor([[3., 3., 3.]])\n",
            "\n",
            "Calculated gradients\n",
            "tensor([[1., 1., 1.],\n",
            "        [1., 1., 1.],\n",
            "        [1., 1., 1.]])\n",
            "tensor([[-3., -3., -3.]])\n",
            "tensor([[3., 3., 3.]])\n"
          ]
        }
      ]
    },
    {
      "cell_type": "code",
      "source": [
        "draw_dot(e_custom)"
      ],
      "metadata": {
        "colab": {
          "base_uri": "https://localhost:8080/",
          "height": 212
        },
        "id": "h3mJ6zeUuuNo",
        "outputId": "db6151ff-aee7-47ae-c40c-7c717f502310"
      },
      "execution_count": 18,
      "outputs": [
        {
          "output_type": "execute_result",
          "data": {
            "image/svg+xml": "<?xml version=\"1.0\" encoding=\"UTF-8\" standalone=\"no\"?>\n<!DOCTYPE svg PUBLIC \"-//W3C//DTD SVG 1.1//EN\"\n \"http://www.w3.org/Graphics/SVG/1.1/DTD/svg11.dtd\">\n<!-- Generated by graphviz version 2.43.0 (0)\n -->\n<!-- Title: %3 Pages: 1 -->\n<svg width=\"2134pt\" height=\"128pt\"\n viewBox=\"0.00 0.00 2133.78 128.00\" xmlns=\"http://www.w3.org/2000/svg\" xmlns:xlink=\"http://www.w3.org/1999/xlink\">\n<g id=\"graph0\" class=\"graph\" transform=\"scale(1 1) rotate(0) translate(4 124)\">\n<title>%3</title>\n<polygon fill=\"white\" stroke=\"transparent\" points=\"-4,4 -4,-124 2129.78,-124 2129.78,4 -4,4\"/>\n<!-- 135524126973968 -->\n<g id=\"node1\" class=\"node\">\n<title>135524126973968</title>\n<polygon fill=\"none\" stroke=\"black\" points=\"1376.28,-0.5 1376.28,-36.5 1682.28,-36.5 1682.28,-0.5 1376.28,-0.5\"/>\n<text text-anchor=\"middle\" x=\"1387.78\" y=\"-14.8\" font-family=\"Times,serif\" font-size=\"14.00\">c</text>\n<polyline fill=\"none\" stroke=\"black\" points=\"1399.28,-0.5 1399.28,-36.5 \"/>\n<text text-anchor=\"middle\" x=\"1471.78\" y=\"-14.8\" font-family=\"Times,serif\" font-size=\"14.00\">shape torch.Size([3, 3])</text>\n<polyline fill=\"none\" stroke=\"black\" points=\"1544.28,-0.5 1544.28,-36.5 \"/>\n<text text-anchor=\"middle\" x=\"1613.28\" y=\"-14.8\" font-family=\"Times,serif\" font-size=\"14.00\">grad torch.Size([3, 3])</text>\n</g>\n<!-- 135520374506960+ -->\n<g id=\"node15\" class=\"node\">\n<title>135520374506960+</title>\n<ellipse fill=\"none\" stroke=\"black\" cx=\"1756.78\" cy=\"-45.5\" rx=\"27\" ry=\"18\"/>\n<text text-anchor=\"middle\" x=\"1756.78\" y=\"-41.8\" font-family=\"Times,serif\" font-size=\"14.00\">+</text>\n</g>\n<!-- 135524126973968&#45;&gt;135520374506960+ -->\n<g id=\"edge11\" class=\"edge\">\n<title>135524126973968&#45;&gt;135520374506960+</title>\n<path fill=\"none\" stroke=\"black\" d=\"M1680.7,-36.51C1695.17,-38.24 1708.71,-39.86 1720.19,-41.24\"/>\n<polygon fill=\"black\" stroke=\"black\" points=\"1719.79,-44.71 1730.13,-42.43 1720.62,-37.76 1719.79,-44.71\"/>\n</g>\n<!-- 135524126973968broadcast -->\n<g id=\"node2\" class=\"node\">\n<title>135524126973968broadcast</title>\n<ellipse fill=\"none\" stroke=\"black\" cx=\"1284.59\" cy=\"-18.5\" rx=\"44.39\" ry=\"18\"/>\n<text text-anchor=\"middle\" x=\"1284.59\" y=\"-14.8\" font-family=\"Times,serif\" font-size=\"14.00\">broadcast</text>\n</g>\n<!-- 135524126973968broadcast&#45;&gt;135524126973968 -->\n<g id=\"edge1\" class=\"edge\">\n<title>135524126973968broadcast&#45;&gt;135524126973968</title>\n<path fill=\"none\" stroke=\"black\" d=\"M1328.98,-18.5C1340.01,-18.5 1352.52,-18.5 1365.78,-18.5\"/>\n<polygon fill=\"black\" stroke=\"black\" points=\"1366.06,-22 1376.06,-18.5 1366.06,-15 1366.06,-22\"/>\n</g>\n<!-- 135520375004176 -->\n<g id=\"node3\" class=\"node\">\n<title>135520375004176</title>\n<polygon fill=\"none\" stroke=\"black\" points=\"0,-83.5 0,-119.5 306,-119.5 306,-83.5 0,-83.5\"/>\n<text text-anchor=\"middle\" x=\"11.5\" y=\"-97.8\" font-family=\"Times,serif\" font-size=\"14.00\">b</text>\n<polyline fill=\"none\" stroke=\"black\" points=\"23,-83.5 23,-119.5 \"/>\n<text text-anchor=\"middle\" x=\"95.5\" y=\"-97.8\" font-family=\"Times,serif\" font-size=\"14.00\">shape torch.Size([1, 3])</text>\n<polyline fill=\"none\" stroke=\"black\" points=\"168,-83.5 168,-119.5 \"/>\n<text text-anchor=\"middle\" x=\"237\" y=\"-97.8\" font-family=\"Times,serif\" font-size=\"14.00\">grad torch.Size([1, 3])</text>\n</g>\n<!-- 135520717539152broadcast -->\n<g id=\"node9\" class=\"node\">\n<title>135520717539152broadcast</title>\n<ellipse fill=\"none\" stroke=\"black\" cx=\"386.2\" cy=\"-101.5\" rx=\"44.39\" ry=\"18\"/>\n<text text-anchor=\"middle\" x=\"386.2\" y=\"-97.8\" font-family=\"Times,serif\" font-size=\"14.00\">broadcast</text>\n</g>\n<!-- 135520375004176&#45;&gt;135520717539152broadcast -->\n<g id=\"edge14\" class=\"edge\">\n<title>135520375004176&#45;&gt;135520717539152broadcast</title>\n<path fill=\"none\" stroke=\"black\" d=\"M306.28,-101.5C315.1,-101.5 323.6,-101.5 331.54,-101.5\"/>\n<polygon fill=\"black\" stroke=\"black\" points=\"331.65,-105 341.65,-101.5 331.65,-98 331.65,-105\"/>\n</g>\n<!-- 135520375012304 -->\n<g id=\"node4\" class=\"node\">\n<title>135520375012304</title>\n<polygon fill=\"none\" stroke=\"black\" points=\"1364.78,-55.5 1364.78,-91.5 1693.78,-91.5 1693.78,-55.5 1364.78,-55.5\"/>\n<text text-anchor=\"middle\" x=\"1387.78\" y=\"-69.8\" font-family=\"Times,serif\" font-size=\"14.00\">None</text>\n<polyline fill=\"none\" stroke=\"black\" points=\"1410.78,-55.5 1410.78,-91.5 \"/>\n<text text-anchor=\"middle\" x=\"1483.28\" y=\"-69.8\" font-family=\"Times,serif\" font-size=\"14.00\">shape torch.Size([3, 3])</text>\n<polyline fill=\"none\" stroke=\"black\" points=\"1555.78,-55.5 1555.78,-91.5 \"/>\n<text text-anchor=\"middle\" x=\"1624.78\" y=\"-69.8\" font-family=\"Times,serif\" font-size=\"14.00\">grad torch.Size([3, 3])</text>\n</g>\n<!-- 135520375012304&#45;&gt;135520374506960+ -->\n<g id=\"edge8\" class=\"edge\">\n<title>135520375012304&#45;&gt;135520374506960+</title>\n<path fill=\"none\" stroke=\"black\" d=\"M1675.33,-55.49C1691.63,-53.47 1706.94,-51.56 1719.75,-49.97\"/>\n<polygon fill=\"black\" stroke=\"black\" points=\"1720.38,-53.42 1729.88,-48.72 1719.52,-46.48 1720.38,-53.42\"/>\n</g>\n<!-- 135520375012304broadcast -->\n<g id=\"node5\" class=\"node\">\n<title>135520375012304broadcast</title>\n<ellipse fill=\"none\" stroke=\"black\" cx=\"1284.59\" cy=\"-73.5\" rx=\"44.39\" ry=\"18\"/>\n<text text-anchor=\"middle\" x=\"1284.59\" y=\"-69.8\" font-family=\"Times,serif\" font-size=\"14.00\">broadcast</text>\n</g>\n<!-- 135520375012304broadcast&#45;&gt;135520375012304 -->\n<g id=\"edge2\" class=\"edge\">\n<title>135520375012304broadcast&#45;&gt;135520375012304</title>\n<path fill=\"none\" stroke=\"black\" d=\"M1328.98,-73.5C1336.7,-73.5 1345.16,-73.5 1354.1,-73.5\"/>\n<polygon fill=\"black\" stroke=\"black\" points=\"1354.37,-77 1364.37,-73.5 1354.37,-70 1354.37,-77\"/>\n</g>\n<!-- 135520375004432 -->\n<g id=\"node6\" class=\"node\">\n<title>135520375004432</title>\n<polygon fill=\"none\" stroke=\"black\" points=\"898.39,-0.5 898.39,-36.5 1204.39,-36.5 1204.39,-0.5 898.39,-0.5\"/>\n<text text-anchor=\"middle\" x=\"909.89\" y=\"-14.8\" font-family=\"Times,serif\" font-size=\"14.00\">c</text>\n<polyline fill=\"none\" stroke=\"black\" points=\"921.39,-0.5 921.39,-36.5 \"/>\n<text text-anchor=\"middle\" x=\"993.89\" y=\"-14.8\" font-family=\"Times,serif\" font-size=\"14.00\">shape torch.Size([1, 3])</text>\n<polyline fill=\"none\" stroke=\"black\" points=\"1066.39,-0.5 1066.39,-36.5 \"/>\n<text text-anchor=\"middle\" x=\"1135.39\" y=\"-14.8\" font-family=\"Times,serif\" font-size=\"14.00\">grad torch.Size([1, 3])</text>\n</g>\n<!-- 135520375004432&#45;&gt;135524126973968broadcast -->\n<g id=\"edge9\" class=\"edge\">\n<title>135520375004432&#45;&gt;135524126973968broadcast</title>\n<path fill=\"none\" stroke=\"black\" d=\"M1204.67,-18.5C1213.49,-18.5 1221.99,-18.5 1229.93,-18.5\"/>\n<polygon fill=\"black\" stroke=\"black\" points=\"1230.04,-22 1240.04,-18.5 1230.04,-15 1230.04,-22\"/>\n</g>\n<!-- 135520375003920 -->\n<g id=\"node7\" class=\"node\">\n<title>135520375003920</title>\n<polygon fill=\"none\" stroke=\"black\" points=\"0,-28.5 0,-64.5 306,-64.5 306,-28.5 0,-28.5\"/>\n<text text-anchor=\"middle\" x=\"11.5\" y=\"-42.8\" font-family=\"Times,serif\" font-size=\"14.00\">a</text>\n<polyline fill=\"none\" stroke=\"black\" points=\"23,-28.5 23,-64.5 \"/>\n<text text-anchor=\"middle\" x=\"95.5\" y=\"-42.8\" font-family=\"Times,serif\" font-size=\"14.00\">shape torch.Size([3, 3])</text>\n<polyline fill=\"none\" stroke=\"black\" points=\"168,-28.5 168,-64.5 \"/>\n<text text-anchor=\"middle\" x=\"237\" y=\"-42.8\" font-family=\"Times,serif\" font-size=\"14.00\">grad torch.Size([3, 3])</text>\n</g>\n<!-- 135520718484368broadcast -->\n<g id=\"node11\" class=\"node\">\n<title>135520718484368broadcast</title>\n<ellipse fill=\"none\" stroke=\"black\" cx=\"386.2\" cy=\"-46.5\" rx=\"44.39\" ry=\"18\"/>\n<text text-anchor=\"middle\" x=\"386.2\" y=\"-42.8\" font-family=\"Times,serif\" font-size=\"14.00\">broadcast</text>\n</g>\n<!-- 135520375003920&#45;&gt;135520718484368broadcast -->\n<g id=\"edge12\" class=\"edge\">\n<title>135520375003920&#45;&gt;135520718484368broadcast</title>\n<path fill=\"none\" stroke=\"black\" d=\"M306.28,-46.5C315.1,-46.5 323.6,-46.5 331.54,-46.5\"/>\n<polygon fill=\"black\" stroke=\"black\" points=\"331.65,-50 341.65,-46.5 331.65,-43 331.65,-50\"/>\n</g>\n<!-- 135520717539152 -->\n<g id=\"node8\" class=\"node\">\n<title>135520717539152</title>\n<polygon fill=\"none\" stroke=\"black\" points=\"466.39,-83.5 466.39,-119.5 772.39,-119.5 772.39,-83.5 466.39,-83.5\"/>\n<text text-anchor=\"middle\" x=\"477.89\" y=\"-97.8\" font-family=\"Times,serif\" font-size=\"14.00\">b</text>\n<polyline fill=\"none\" stroke=\"black\" points=\"489.39,-83.5 489.39,-119.5 \"/>\n<text text-anchor=\"middle\" x=\"561.89\" y=\"-97.8\" font-family=\"Times,serif\" font-size=\"14.00\">shape torch.Size([3, 3])</text>\n<polyline fill=\"none\" stroke=\"black\" points=\"634.39,-83.5 634.39,-119.5 \"/>\n<text text-anchor=\"middle\" x=\"703.39\" y=\"-97.8\" font-family=\"Times,serif\" font-size=\"14.00\">grad torch.Size([3, 3])</text>\n</g>\n<!-- 135520716422032&#45; -->\n<g id=\"node13\" class=\"node\">\n<title>135520716422032&#45;</title>\n<ellipse fill=\"none\" stroke=\"black\" cx=\"835.39\" cy=\"-73.5\" rx=\"27\" ry=\"18\"/>\n<text text-anchor=\"middle\" x=\"835.39\" y=\"-69.8\" font-family=\"Times,serif\" font-size=\"14.00\">&#45;</text>\n</g>\n<!-- 135520717539152&#45;&gt;135520716422032&#45; -->\n<g id=\"edge13\" class=\"edge\">\n<title>135520717539152&#45;&gt;135520716422032&#45;</title>\n<path fill=\"none\" stroke=\"black\" d=\"M758.04,-83.49C772.82,-81.56 786.76,-79.73 798.57,-78.19\"/>\n<polygon fill=\"black\" stroke=\"black\" points=\"799.33,-81.62 808.79,-76.85 798.42,-74.68 799.33,-81.62\"/>\n</g>\n<!-- 135520717539152broadcast&#45;&gt;135520717539152 -->\n<g id=\"edge3\" class=\"edge\">\n<title>135520717539152broadcast&#45;&gt;135520717539152</title>\n<path fill=\"none\" stroke=\"black\" d=\"M430.41,-101.5C438.28,-101.5 446.9,-101.5 455.98,-101.5\"/>\n<polygon fill=\"black\" stroke=\"black\" points=\"456.01,-105 466.01,-101.5 456.01,-98 456.01,-105\"/>\n</g>\n<!-- 135520718484368 -->\n<g id=\"node10\" class=\"node\">\n<title>135520718484368</title>\n<polygon fill=\"none\" stroke=\"black\" points=\"466.39,-28.5 466.39,-64.5 772.39,-64.5 772.39,-28.5 466.39,-28.5\"/>\n<text text-anchor=\"middle\" x=\"477.89\" y=\"-42.8\" font-family=\"Times,serif\" font-size=\"14.00\">a</text>\n<polyline fill=\"none\" stroke=\"black\" points=\"489.39,-28.5 489.39,-64.5 \"/>\n<text text-anchor=\"middle\" x=\"561.89\" y=\"-42.8\" font-family=\"Times,serif\" font-size=\"14.00\">shape torch.Size([3, 3])</text>\n<polyline fill=\"none\" stroke=\"black\" points=\"634.39,-28.5 634.39,-64.5 \"/>\n<text text-anchor=\"middle\" x=\"703.39\" y=\"-42.8\" font-family=\"Times,serif\" font-size=\"14.00\">grad torch.Size([3, 3])</text>\n</g>\n<!-- 135520718484368&#45;&gt;135520716422032&#45; -->\n<g id=\"edge7\" class=\"edge\">\n<title>135520718484368&#45;&gt;135520716422032&#45;</title>\n<path fill=\"none\" stroke=\"black\" d=\"M763.13,-64.51C775.99,-66.13 788.08,-67.66 798.51,-68.97\"/>\n<polygon fill=\"black\" stroke=\"black\" points=\"798.39,-72.49 808.75,-70.26 799.26,-65.54 798.39,-72.49\"/>\n</g>\n<!-- 135520718484368broadcast&#45;&gt;135520718484368 -->\n<g id=\"edge4\" class=\"edge\">\n<title>135520718484368broadcast&#45;&gt;135520718484368</title>\n<path fill=\"none\" stroke=\"black\" d=\"M430.41,-46.5C438.28,-46.5 446.9,-46.5 455.98,-46.5\"/>\n<polygon fill=\"black\" stroke=\"black\" points=\"456.01,-50 466.01,-46.5 456.01,-43 456.01,-50\"/>\n</g>\n<!-- 135520716422032 -->\n<g id=\"node12\" class=\"node\">\n<title>135520716422032</title>\n<polygon fill=\"none\" stroke=\"black\" points=\"898.39,-55.5 898.39,-91.5 1204.39,-91.5 1204.39,-55.5 898.39,-55.5\"/>\n<text text-anchor=\"middle\" x=\"909.89\" y=\"-69.8\" font-family=\"Times,serif\" font-size=\"14.00\">d</text>\n<polyline fill=\"none\" stroke=\"black\" points=\"921.39,-55.5 921.39,-91.5 \"/>\n<text text-anchor=\"middle\" x=\"993.89\" y=\"-69.8\" font-family=\"Times,serif\" font-size=\"14.00\">shape torch.Size([3, 3])</text>\n<polyline fill=\"none\" stroke=\"black\" points=\"1066.39,-55.5 1066.39,-91.5 \"/>\n<text text-anchor=\"middle\" x=\"1135.39\" y=\"-69.8\" font-family=\"Times,serif\" font-size=\"14.00\">grad torch.Size([3, 3])</text>\n</g>\n<!-- 135520716422032&#45;&gt;135520375012304broadcast -->\n<g id=\"edge10\" class=\"edge\">\n<title>135520716422032&#45;&gt;135520375012304broadcast</title>\n<path fill=\"none\" stroke=\"black\" d=\"M1204.67,-73.5C1213.49,-73.5 1221.99,-73.5 1229.93,-73.5\"/>\n<polygon fill=\"black\" stroke=\"black\" points=\"1230.04,-77 1240.04,-73.5 1230.04,-70 1230.04,-77\"/>\n</g>\n<!-- 135520716422032&#45;&#45;&gt;135520716422032 -->\n<g id=\"edge5\" class=\"edge\">\n<title>135520716422032&#45;&#45;&gt;135520716422032</title>\n<path fill=\"none\" stroke=\"black\" d=\"M862.63,-73.5C870.01,-73.5 878.6,-73.5 887.98,-73.5\"/>\n<polygon fill=\"black\" stroke=\"black\" points=\"888.02,-77 898.02,-73.5 888.02,-70 888.02,-77\"/>\n</g>\n<!-- 135520374506960 -->\n<g id=\"node14\" class=\"node\">\n<title>135520374506960</title>\n<polygon fill=\"none\" stroke=\"black\" points=\"1819.78,-27.5 1819.78,-63.5 2125.78,-63.5 2125.78,-27.5 1819.78,-27.5\"/>\n<text text-anchor=\"middle\" x=\"1831.28\" y=\"-41.8\" font-family=\"Times,serif\" font-size=\"14.00\">e</text>\n<polyline fill=\"none\" stroke=\"black\" points=\"1842.78,-27.5 1842.78,-63.5 \"/>\n<text text-anchor=\"middle\" x=\"1915.28\" y=\"-41.8\" font-family=\"Times,serif\" font-size=\"14.00\">shape torch.Size([3, 3])</text>\n<polyline fill=\"none\" stroke=\"black\" points=\"1987.78,-27.5 1987.78,-63.5 \"/>\n<text text-anchor=\"middle\" x=\"2056.78\" y=\"-41.8\" font-family=\"Times,serif\" font-size=\"14.00\">grad torch.Size([3, 3])</text>\n</g>\n<!-- 135520374506960+&#45;&gt;135520374506960 -->\n<g id=\"edge6\" class=\"edge\">\n<title>135520374506960+&#45;&gt;135520374506960</title>\n<path fill=\"none\" stroke=\"black\" d=\"M1784.02,-45.5C1791.4,-45.5 1799.99,-45.5 1809.37,-45.5\"/>\n<polygon fill=\"black\" stroke=\"black\" points=\"1809.41,-49 1819.41,-45.5 1809.41,-42 1809.41,-49\"/>\n</g>\n</g>\n</svg>\n",
            "text/plain": [
              "<graphviz.graphs.Digraph at 0x7b414bc41010>"
            ]
          },
          "metadata": {},
          "execution_count": 18
        }
      ]
    },
    {
      "cell_type": "code",
      "source": [
        "a = torch.tensor([[2,1,0],\n",
        "                  [3,2,1],\n",
        "                  [1,1,0]], dtype = torch.float32, requires_grad=True)\n",
        "b = torch.tensor([[1,1,1],\n",
        "                  [1,1,1],\n",
        "                  [1,1,1]], dtype = torch.float32, requires_grad=True)\n",
        "c = torch.randn((1,3), dtype = torch.float32, requires_grad=True)\n",
        "\n",
        "\n",
        "a_custom = TensorValue(a, label = 'a')\n",
        "b_custom = TensorValue(b, label = 'b')\n",
        "c_custom = TensorValue(c, label = 'c')\n",
        "\n",
        "d = c @ a\n",
        "\n",
        "d_custom = c_custom @ a_custom\n",
        "d_custom.label = 'd'\n",
        "\n",
        "d_sum = d.sum()\n",
        "d_sum.backward()\n",
        "d_custom.backward()\n",
        "\n",
        "print(a.grad)\n",
        "print(b.grad)\n",
        "print(c.grad)\n",
        "print(\"Customs\")\n",
        "print(a_custom.grad)\n",
        "print(c_custom.grad)"
      ],
      "metadata": {
        "colab": {
          "base_uri": "https://localhost:8080/"
        },
        "id": "d4_lYkauSfsi",
        "outputId": "7da3955f-a8b4-4c56-af09-3a21f00b50dc"
      },
      "execution_count": 17,
      "outputs": [
        {
          "output_type": "stream",
          "name": "stdout",
          "text": [
            "tensor([[ 1.0953,  1.0953,  1.0953],\n",
            "        [-0.5881, -0.5881, -0.5881],\n",
            "        [ 0.7633,  0.7633,  0.7633]])\n",
            "None\n",
            "tensor([[3., 6., 2.]])\n",
            "Customs\n",
            "tensor([[ 1.0953,  1.0953,  1.0953],\n",
            "        [-0.5881, -0.5881, -0.5881],\n",
            "        [ 0.7633,  0.7633,  0.7633]], grad_fn=<AddBackward0>)\n",
            "tensor([[3., 6., 2.]], grad_fn=<AddBackward0>)\n"
          ]
        }
      ]
    },
    {
      "cell_type": "code",
      "source": [
        "draw_dot(d_custom)"
      ],
      "metadata": {
        "id": "BLcbQGUSN0AM",
        "colab": {
          "base_uri": "https://localhost:8080/",
          "height": 154
        },
        "outputId": "f81ca7aa-b079-4343-fb41-e183999bdcaf"
      },
      "execution_count": 19,
      "outputs": [
        {
          "output_type": "execute_result",
          "data": {
            "image/svg+xml": "<?xml version=\"1.0\" encoding=\"UTF-8\" standalone=\"no\"?>\n<!DOCTYPE svg PUBLIC \"-//W3C//DTD SVG 1.1//EN\"\n \"http://www.w3.org/Graphics/SVG/1.1/DTD/svg11.dtd\">\n<!-- Generated by graphviz version 2.43.0 (0)\n -->\n<!-- Title: %3 Pages: 1 -->\n<svg width=\"746pt\" height=\"100pt\"\n viewBox=\"0.00 0.00 746.00 100.00\" xmlns=\"http://www.w3.org/2000/svg\" xmlns:xlink=\"http://www.w3.org/1999/xlink\">\n<g id=\"graph0\" class=\"graph\" transform=\"scale(1 1) rotate(0) translate(4 96)\">\n<title>%3</title>\n<polygon fill=\"white\" stroke=\"transparent\" points=\"-4,4 -4,-96 742,-96 742,4 -4,4\"/>\n<!-- 135523941445840 -->\n<g id=\"node1\" class=\"node\">\n<title>135523941445840</title>\n<polygon fill=\"none\" stroke=\"black\" points=\"0,-55.5 0,-91.5 306,-91.5 306,-55.5 0,-55.5\"/>\n<text text-anchor=\"middle\" x=\"11.5\" y=\"-69.8\" font-family=\"Times,serif\" font-size=\"14.00\">a</text>\n<polyline fill=\"none\" stroke=\"black\" points=\"23,-55.5 23,-91.5 \"/>\n<text text-anchor=\"middle\" x=\"95.5\" y=\"-69.8\" font-family=\"Times,serif\" font-size=\"14.00\">shape torch.Size([3, 3])</text>\n<polyline fill=\"none\" stroke=\"black\" points=\"168,-55.5 168,-91.5 \"/>\n<text text-anchor=\"middle\" x=\"237\" y=\"-69.8\" font-family=\"Times,serif\" font-size=\"14.00\">grad torch.Size([3, 3])</text>\n</g>\n<!-- 135520374242512@ -->\n<g id=\"node4\" class=\"node\">\n<title>135520374242512@</title>\n<ellipse fill=\"none\" stroke=\"black\" cx=\"369\" cy=\"-45.5\" rx=\"27\" ry=\"18\"/>\n<text text-anchor=\"middle\" x=\"369\" y=\"-41.8\" font-family=\"Times,serif\" font-size=\"14.00\">@</text>\n</g>\n<!-- 135523941445840&#45;&gt;135520374242512@ -->\n<g id=\"edge3\" class=\"edge\">\n<title>135523941445840&#45;&gt;135520374242512@</title>\n<path fill=\"none\" stroke=\"black\" d=\"M291.65,-55.49C306.43,-53.56 320.36,-51.73 332.18,-50.19\"/>\n<polygon fill=\"black\" stroke=\"black\" points=\"332.93,-53.62 342.4,-48.85 332.03,-46.68 332.93,-53.62\"/>\n</g>\n<!-- 135520718160976 -->\n<g id=\"node2\" class=\"node\">\n<title>135520718160976</title>\n<polygon fill=\"none\" stroke=\"black\" points=\"0,-0.5 0,-36.5 306,-36.5 306,-0.5 0,-0.5\"/>\n<text text-anchor=\"middle\" x=\"11.5\" y=\"-14.8\" font-family=\"Times,serif\" font-size=\"14.00\">c</text>\n<polyline fill=\"none\" stroke=\"black\" points=\"23,-0.5 23,-36.5 \"/>\n<text text-anchor=\"middle\" x=\"95.5\" y=\"-14.8\" font-family=\"Times,serif\" font-size=\"14.00\">shape torch.Size([1, 3])</text>\n<polyline fill=\"none\" stroke=\"black\" points=\"168,-0.5 168,-36.5 \"/>\n<text text-anchor=\"middle\" x=\"237\" y=\"-14.8\" font-family=\"Times,serif\" font-size=\"14.00\">grad torch.Size([1, 3])</text>\n</g>\n<!-- 135520718160976&#45;&gt;135520374242512@ -->\n<g id=\"edge2\" class=\"edge\">\n<title>135520718160976&#45;&gt;135520374242512@</title>\n<path fill=\"none\" stroke=\"black\" d=\"M296.74,-36.51C309.6,-38.13 321.68,-39.66 332.12,-40.97\"/>\n<polygon fill=\"black\" stroke=\"black\" points=\"332,-44.49 342.36,-42.26 332.87,-37.54 332,-44.49\"/>\n</g>\n<!-- 135520374242512 -->\n<g id=\"node3\" class=\"node\">\n<title>135520374242512</title>\n<polygon fill=\"none\" stroke=\"black\" points=\"432,-27.5 432,-63.5 738,-63.5 738,-27.5 432,-27.5\"/>\n<text text-anchor=\"middle\" x=\"443.5\" y=\"-41.8\" font-family=\"Times,serif\" font-size=\"14.00\">d</text>\n<polyline fill=\"none\" stroke=\"black\" points=\"455,-27.5 455,-63.5 \"/>\n<text text-anchor=\"middle\" x=\"527.5\" y=\"-41.8\" font-family=\"Times,serif\" font-size=\"14.00\">shape torch.Size([1, 3])</text>\n<polyline fill=\"none\" stroke=\"black\" points=\"600,-27.5 600,-63.5 \"/>\n<text text-anchor=\"middle\" x=\"669\" y=\"-41.8\" font-family=\"Times,serif\" font-size=\"14.00\">grad torch.Size([1, 3])</text>\n</g>\n<!-- 135520374242512@&#45;&gt;135520374242512 -->\n<g id=\"edge1\" class=\"edge\">\n<title>135520374242512@&#45;&gt;135520374242512</title>\n<path fill=\"none\" stroke=\"black\" d=\"M396.24,-45.5C403.61,-45.5 412.21,-45.5 421.59,-45.5\"/>\n<polygon fill=\"black\" stroke=\"black\" points=\"421.63,-49 431.63,-45.5 421.63,-42 421.63,-49\"/>\n</g>\n</g>\n</svg>\n",
            "text/plain": [
              "<graphviz.graphs.Digraph at 0x7b414bc72b50>"
            ]
          },
          "metadata": {},
          "execution_count": 19
        }
      ]
    },
    {
      "cell_type": "code",
      "source": [],
      "metadata": {
        "id": "2jT77yE6uynR"
      },
      "execution_count": null,
      "outputs": []
    }
  ]
}