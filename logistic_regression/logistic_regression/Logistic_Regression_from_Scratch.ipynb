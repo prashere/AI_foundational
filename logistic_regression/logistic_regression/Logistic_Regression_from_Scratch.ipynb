{
  "nbformat": 4,
  "nbformat_minor": 0,
  "metadata": {
    "colab": {
      "provenance": []
    },
    "kernelspec": {
      "name": "python3",
      "display_name": "Python 3"
    },
    "language_info": {
      "name": "python"
    }
  },
  "cells": [
    {
      "cell_type": "code",
      "source": [
        "!pip install torchvision"
      ],
      "metadata": {
        "colab": {
          "base_uri": "https://localhost:8080/"
        },
        "id": "2cNRR-iuXCW6",
        "outputId": "9ee2b5ae-fca3-4554-ee4c-739af5a273fd"
      },
      "execution_count": null,
      "outputs": [
        {
          "output_type": "stream",
          "name": "stdout",
          "text": [
            "Requirement already satisfied: torchvision in /usr/local/lib/python3.11/dist-packages (0.21.0+cu124)\n",
            "Requirement already satisfied: numpy in /usr/local/lib/python3.11/dist-packages (from torchvision) (2.0.2)\n",
            "Requirement already satisfied: torch==2.6.0 in /usr/local/lib/python3.11/dist-packages (from torchvision) (2.6.0+cu124)\n",
            "Requirement already satisfied: pillow!=8.3.*,>=5.3.0 in /usr/local/lib/python3.11/dist-packages (from torchvision) (11.1.0)\n",
            "Requirement already satisfied: filelock in /usr/local/lib/python3.11/dist-packages (from torch==2.6.0->torchvision) (3.18.0)\n",
            "Requirement already satisfied: typing-extensions>=4.10.0 in /usr/local/lib/python3.11/dist-packages (from torch==2.6.0->torchvision) (4.13.1)\n",
            "Requirement already satisfied: networkx in /usr/local/lib/python3.11/dist-packages (from torch==2.6.0->torchvision) (3.4.2)\n",
            "Requirement already satisfied: jinja2 in /usr/local/lib/python3.11/dist-packages (from torch==2.6.0->torchvision) (3.1.6)\n",
            "Requirement already satisfied: fsspec in /usr/local/lib/python3.11/dist-packages (from torch==2.6.0->torchvision) (2025.3.2)\n",
            "Requirement already satisfied: nvidia-cuda-nvrtc-cu12==12.4.127 in /usr/local/lib/python3.11/dist-packages (from torch==2.6.0->torchvision) (12.4.127)\n",
            "Requirement already satisfied: nvidia-cuda-runtime-cu12==12.4.127 in /usr/local/lib/python3.11/dist-packages (from torch==2.6.0->torchvision) (12.4.127)\n",
            "Requirement already satisfied: nvidia-cuda-cupti-cu12==12.4.127 in /usr/local/lib/python3.11/dist-packages (from torch==2.6.0->torchvision) (12.4.127)\n",
            "Requirement already satisfied: nvidia-cudnn-cu12==9.1.0.70 in /usr/local/lib/python3.11/dist-packages (from torch==2.6.0->torchvision) (9.1.0.70)\n",
            "Requirement already satisfied: nvidia-cublas-cu12==12.4.5.8 in /usr/local/lib/python3.11/dist-packages (from torch==2.6.0->torchvision) (12.4.5.8)\n",
            "Requirement already satisfied: nvidia-cufft-cu12==11.2.1.3 in /usr/local/lib/python3.11/dist-packages (from torch==2.6.0->torchvision) (11.2.1.3)\n",
            "Requirement already satisfied: nvidia-curand-cu12==10.3.5.147 in /usr/local/lib/python3.11/dist-packages (from torch==2.6.0->torchvision) (10.3.5.147)\n",
            "Requirement already satisfied: nvidia-cusolver-cu12==11.6.1.9 in /usr/local/lib/python3.11/dist-packages (from torch==2.6.0->torchvision) (11.6.1.9)\n",
            "Requirement already satisfied: nvidia-cusparse-cu12==12.3.1.170 in /usr/local/lib/python3.11/dist-packages (from torch==2.6.0->torchvision) (12.3.1.170)\n",
            "Requirement already satisfied: nvidia-cusparselt-cu12==0.6.2 in /usr/local/lib/python3.11/dist-packages (from torch==2.6.0->torchvision) (0.6.2)\n",
            "Requirement already satisfied: nvidia-nccl-cu12==2.21.5 in /usr/local/lib/python3.11/dist-packages (from torch==2.6.0->torchvision) (2.21.5)\n",
            "Requirement already satisfied: nvidia-nvtx-cu12==12.4.127 in /usr/local/lib/python3.11/dist-packages (from torch==2.6.0->torchvision) (12.4.127)\n",
            "Requirement already satisfied: nvidia-nvjitlink-cu12==12.4.127 in /usr/local/lib/python3.11/dist-packages (from torch==2.6.0->torchvision) (12.4.127)\n",
            "Requirement already satisfied: triton==3.2.0 in /usr/local/lib/python3.11/dist-packages (from torch==2.6.0->torchvision) (3.2.0)\n",
            "Requirement already satisfied: sympy==1.13.1 in /usr/local/lib/python3.11/dist-packages (from torch==2.6.0->torchvision) (1.13.1)\n",
            "Requirement already satisfied: mpmath<1.4,>=1.1.0 in /usr/local/lib/python3.11/dist-packages (from sympy==1.13.1->torch==2.6.0->torchvision) (1.3.0)\n",
            "Requirement already satisfied: MarkupSafe>=2.0 in /usr/local/lib/python3.11/dist-packages (from jinja2->torch==2.6.0->torchvision) (3.0.2)\n"
          ]
        }
      ]
    },
    {
      "cell_type": "markdown",
      "source": [
        "### Dataset documentation link::\n",
        "https://pytorch.org/vision/stable/generated/torchvision.datasets.MNIST.html"
      ],
      "metadata": {
        "id": "z4dq3x_ZXO_u"
      }
    },
    {
      "cell_type": "code",
      "execution_count": null,
      "metadata": {
        "id": "YAbcrrHQWiXa"
      },
      "outputs": [],
      "source": [
        "import torch\n",
        "from torchvision import datasets\n",
        "import matplotlib.pyplot as plt"
      ]
    },
    {
      "cell_type": "code",
      "source": [
        "import seaborn as sns"
      ],
      "metadata": {
        "id": "RLNj_haUpKT-"
      },
      "execution_count": null,
      "outputs": []
    },
    {
      "cell_type": "code",
      "source": [
        "data = datasets.MNIST(root='data', download=True)"
      ],
      "metadata": {
        "id": "9t84o8i9WpRA",
        "colab": {
          "base_uri": "https://localhost:8080/"
        },
        "outputId": "806990b1-666a-42af-a6d7-ba80f5abec57"
      },
      "execution_count": null,
      "outputs": [
        {
          "output_type": "stream",
          "name": "stderr",
          "text": [
            "100%|██████████| 9.91M/9.91M [00:00<00:00, 17.9MB/s]\n",
            "100%|██████████| 28.9k/28.9k [00:00<00:00, 482kB/s]\n",
            "100%|██████████| 1.65M/1.65M [00:00<00:00, 4.46MB/s]\n",
            "100%|██████████| 4.54k/4.54k [00:00<00:00, 5.19MB/s]\n"
          ]
        }
      ]
    },
    {
      "cell_type": "code",
      "source": [
        "X = data.data\n",
        "y = data.targets\n",
        "\n",
        "print(X.shape)\n",
        "print(y.shape)"
      ],
      "metadata": {
        "colab": {
          "base_uri": "https://localhost:8080/"
        },
        "id": "BIBTeNa3YDQL",
        "outputId": "acb02be4-46ff-4d06-d694-76505c9e002c"
      },
      "execution_count": null,
      "outputs": [
        {
          "output_type": "stream",
          "name": "stdout",
          "text": [
            "torch.Size([60000, 28, 28])\n",
            "torch.Size([60000])\n"
          ]
        }
      ]
    },
    {
      "cell_type": "markdown",
      "source": [
        "In X [no of samples, height, width]"
      ],
      "metadata": {
        "id": "l4HvP-seYqNe"
      }
    },
    {
      "cell_type": "code",
      "source": [
        "X_indices = (y == 6) | (y == 9)\n",
        "\n",
        "X = X[X_indices]\n",
        "y = y[X_indices]\n",
        "\n",
        "y = torch.where(y == 9, 1, 0)"
      ],
      "metadata": {
        "id": "zvgLG3qgfIj3"
      },
      "execution_count": null,
      "outputs": []
    },
    {
      "cell_type": "code",
      "source": [
        "print(X.shape)\n",
        "print(y.shape)"
      ],
      "metadata": {
        "colab": {
          "base_uri": "https://localhost:8080/"
        },
        "id": "vksQ9i2Vfv3b",
        "outputId": "8bcb90cd-b957-4282-812a-0d9b96a2bdff"
      },
      "execution_count": null,
      "outputs": [
        {
          "output_type": "stream",
          "name": "stdout",
          "text": [
            "torch.Size([11867, 28, 28])\n",
            "torch.Size([11867])\n"
          ]
        }
      ]
    },
    {
      "cell_type": "code",
      "source": [
        "torch.manual_seed(42)"
      ],
      "metadata": {
        "colab": {
          "base_uri": "https://localhost:8080/"
        },
        "id": "XirFwQzj7AdS",
        "outputId": "2af460e8-24a9-4abf-8c7a-702df37925bd"
      },
      "execution_count": null,
      "outputs": [
        {
          "output_type": "execute_result",
          "data": {
            "text/plain": [
              "<torch._C.Generator at 0x7a55a2ef5b30>"
            ]
          },
          "metadata": {},
          "execution_count": 7
        }
      ]
    },
    {
      "cell_type": "code",
      "source": [
        "image_width = X.shape[2]\n",
        "image_height = X.shape[1]\n",
        "\n",
        "total_pixels = image_width * image_height\n",
        "print(total_pixels)"
      ],
      "metadata": {
        "colab": {
          "base_uri": "https://localhost:8080/"
        },
        "id": "QIzjjF9BYLTO",
        "outputId": "a5271dd6-b4a8-4c87-976e-80b28fdb4c76"
      },
      "execution_count": null,
      "outputs": [
        {
          "output_type": "stream",
          "name": "stdout",
          "text": [
            "784\n"
          ]
        }
      ]
    },
    {
      "cell_type": "code",
      "source": [
        "from typing import ChainMap\n",
        "fig, axes = plt.subplots(1, 2, figsize=(10, 5)) # 1 row and 2 columns\n",
        "\n",
        "axes[0].imshow(X[0])\n",
        "axes[1].imshow(X[0], cmap = 'gray')\n",
        "\n",
        "print(y[0])"
      ],
      "metadata": {
        "colab": {
          "base_uri": "https://localhost:8080/",
          "height": 430
        },
        "id": "xmP19iEbZJCn",
        "outputId": "ea28865c-5309-48fb-fa19-706dbf7c48c0"
      },
      "execution_count": null,
      "outputs": [
        {
          "output_type": "stream",
          "name": "stdout",
          "text": [
            "tensor(1)\n"
          ]
        },
        {
          "output_type": "display_data",
          "data": {
            "text/plain": [
              "<Figure size 1000x500 with 2 Axes>"
            ],
            "image/png": "[encoded data removed]"
          },
          "metadata": {}
        }
      ]
    },
    {
      "cell_type": "code",
      "source": [
        "print(X[0])"
      ],
      "metadata": {
        "colab": {
          "base_uri": "https://localhost:8080/"
        },
        "id": "yDDWdaKKZaHm",
        "outputId": "37618239-0dc3-4f90-e9bc-727b78c35a76"
      },
      "execution_count": null,
      "outputs": [
        {
          "output_type": "stream",
          "name": "stdout",
          "text": [
            "tensor([[  0,   0,   0,   0,   0,   0,   0,   0,   0,   0,   0,   0,   0,   0,\n",
            "           0,   0,   0,   0,   0,   0,   0,   0,   0,   0,   0,   0,   0,   0],\n",
            "        [  0,   0,   0,   0,   0,   0,   0,   0,   0,   0,   0,   0,   0,   0,\n",
            "           0,   0,   0,   0,   0,   0,   0,   0,   0,   0,   0,   0,   0,   0],\n",
            "        [  0,   0,   0,   0,   0,   0,   0,   0,   0,   0,   0,   0,   0,   0,\n",
            "           0,   0,   0,   0,   0,   0,   0,   0,   0,   0,   0,   0,   0,   0],\n",
            "        [  0,   0,   0,   0,   0,   0,   0,   0,   0,   0,   0,   0,   0,   0,\n",
            "           0,   0,   0,   0,   0,   0,   0,   0,   0,   0,   0,   0,   0,   0],\n",
            "        [  0,   0,   0,   0,   0,   0,   0,   0,   0,   0,   0,   0,   0,   0,\n",
            "           0,   0,   0,   0,   0,   0,   0,   0,   0,   0,   0,   0,   0,   0],\n",
            "        [  0,   0,   0,   0,   0,   0,   0,   0,   0,   0,   0,   0,   0,   0,\n",
            "           0,   0,   0,   0,   0,   0,   0,   0,   0,   0,   0,   0,   0,   0],\n",
            "        [  0,   0,   0,   0,   0,   0,   0,   0,   0,   0,   0,   0,   0,   0,\n",
            "           0,   0,   0,   0,   0,   0,   0,   0,   0,   0,   0,   0,   0,   0],\n",
            "        [  0,   0,   0,   0,   0,   0,   0,   0,   0,   0,   0,   0,  55, 148,\n",
            "         210, 253, 253, 113,  87, 148,  55,   0,   0,   0,   0,   0,   0,   0],\n",
            "        [  0,   0,   0,   0,   0,   0,   0,   0,   0,   0,   0,  87, 232, 252,\n",
            "         253, 189, 210, 252, 252, 253, 168,   0,   0,   0,   0,   0,   0,   0],\n",
            "        [  0,   0,   0,   0,   0,   0,   0,   0,   0,   4,  57, 242, 252, 190,\n",
            "          65,   5,  12, 182, 252, 253, 116,   0,   0,   0,   0,   0,   0,   0],\n",
            "        [  0,   0,   0,   0,   0,   0,   0,   0,   0,  96, 252, 252, 183,  14,\n",
            "           0,   0,  92, 252, 252, 225,  21,   0,   0,   0,   0,   0,   0,   0],\n",
            "        [  0,   0,   0,   0,   0,   0,   0,   0, 132, 253, 252, 146,  14,   0,\n",
            "           0,   0, 215, 252, 252,  79,   0,   0,   0,   0,   0,   0,   0,   0],\n",
            "        [  0,   0,   0,   0,   0,   0,   0, 126, 253, 247, 176,   9,   0,   0,\n",
            "           8,  78, 245, 253, 129,   0,   0,   0,   0,   0,   0,   0,   0,   0],\n",
            "        [  0,   0,   0,   0,   0,   0,  16, 232, 252, 176,   0,   0,   0,  36,\n",
            "         201, 252, 252, 169,  11,   0,   0,   0,   0,   0,   0,   0,   0,   0],\n",
            "        [  0,   0,   0,   0,   0,   0,  22, 252, 252,  30,  22, 119, 197, 241,\n",
            "         253, 252, 251,  77,   0,   0,   0,   0,   0,   0,   0,   0,   0,   0],\n",
            "        [  0,   0,   0,   0,   0,   0,  16, 231, 252, 253, 252, 252, 252, 226,\n",
            "         227, 252, 231,   0,   0,   0,   0,   0,   0,   0,   0,   0,   0,   0],\n",
            "        [  0,   0,   0,   0,   0,   0,   0,  55, 235, 253, 217, 138,  42,  24,\n",
            "         192, 252, 143,   0,   0,   0,   0,   0,   0,   0,   0,   0,   0,   0],\n",
            "        [  0,   0,   0,   0,   0,   0,   0,   0,   0,   0,   0,   0,   0,  62,\n",
            "         255, 253, 109,   0,   0,   0,   0,   0,   0,   0,   0,   0,   0,   0],\n",
            "        [  0,   0,   0,   0,   0,   0,   0,   0,   0,   0,   0,   0,   0,  71,\n",
            "         253, 252,  21,   0,   0,   0,   0,   0,   0,   0,   0,   0,   0,   0],\n",
            "        [  0,   0,   0,   0,   0,   0,   0,   0,   0,   0,   0,   0,   0,   0,\n",
            "         253, 252,  21,   0,   0,   0,   0,   0,   0,   0,   0,   0,   0,   0],\n",
            "        [  0,   0,   0,   0,   0,   0,   0,   0,   0,   0,   0,   0,   0,  71,\n",
            "         253, 252,  21,   0,   0,   0,   0,   0,   0,   0,   0,   0,   0,   0],\n",
            "        [  0,   0,   0,   0,   0,   0,   0,   0,   0,   0,   0,   0,   0, 106,\n",
            "         253, 252,  21,   0,   0,   0,   0,   0,   0,   0,   0,   0,   0,   0],\n",
            "        [  0,   0,   0,   0,   0,   0,   0,   0,   0,   0,   0,   0,   0,  45,\n",
            "         255, 253,  21,   0,   0,   0,   0,   0,   0,   0,   0,   0,   0,   0],\n",
            "        [  0,   0,   0,   0,   0,   0,   0,   0,   0,   0,   0,   0,   0,   0,\n",
            "         218, 252,  56,   0,   0,   0,   0,   0,   0,   0,   0,   0,   0,   0],\n",
            "        [  0,   0,   0,   0,   0,   0,   0,   0,   0,   0,   0,   0,   0,   0,\n",
            "          96, 252, 189,  42,   0,   0,   0,   0,   0,   0,   0,   0,   0,   0],\n",
            "        [  0,   0,   0,   0,   0,   0,   0,   0,   0,   0,   0,   0,   0,   0,\n",
            "          14, 184, 252, 170,  11,   0,   0,   0,   0,   0,   0,   0,   0,   0],\n",
            "        [  0,   0,   0,   0,   0,   0,   0,   0,   0,   0,   0,   0,   0,   0,\n",
            "           0,  14, 147, 252,  42,   0,   0,   0,   0,   0,   0,   0,   0,   0],\n",
            "        [  0,   0,   0,   0,   0,   0,   0,   0,   0,   0,   0,   0,   0,   0,\n",
            "           0,   0,   0,   0,   0,   0,   0,   0,   0,   0,   0,   0,   0,   0]],\n",
            "       dtype=torch.uint8)\n"
          ]
        }
      ]
    },
    {
      "cell_type": "code",
      "source": [
        "indices = torch.randperm(X.shape[0])\n",
        "\n",
        "X = X[indices]\n",
        "y = y[indices]"
      ],
      "metadata": {
        "id": "e6JjO_rb8RA7"
      },
      "execution_count": null,
      "outputs": []
    },
    {
      "cell_type": "code",
      "source": [
        "X = X.float() / 255.0\n",
        "size = int (0.8 * X.shape[0])\n",
        "\n",
        "X_train = X[:size]\n",
        "y_train = y[:size]\n",
        "\n",
        "X_test = X[size:]\n",
        "y_test = y[size:]\n",
        "\n",
        "print(X_train.shape, y_train.shape)\n",
        "print(X_test.shape, y_test.shape)"
      ],
      "metadata": {
        "colab": {
          "base_uri": "https://localhost:8080/"
        },
        "id": "WUcLXbwmarUK",
        "outputId": "6de99234-5cbe-48cb-a572-6a4e50354682"
      },
      "execution_count": null,
      "outputs": [
        {
          "output_type": "stream",
          "name": "stdout",
          "text": [
            "torch.Size([9493, 28, 28]) torch.Size([9493])\n",
            "torch.Size([2374, 28, 28]) torch.Size([2374])\n"
          ]
        }
      ]
    },
    {
      "cell_type": "code",
      "source": [
        "def initialize_w_b(input_dim):\n",
        "  w = torch.randn((input_dim, 1), requires_grad=True) * 0.01\n",
        "  b = torch.randn(1, requires_grad=True)\n",
        "\n",
        "  return w, b"
      ],
      "metadata": {
        "id": "DzzRcPyoaznv"
      },
      "execution_count": null,
      "outputs": []
    },
    {
      "cell_type": "code",
      "source": [
        "def compare_grad(grad1, grad2):\n",
        "  print(torch.max(torch.abs(grad1 - grad2)))"
      ],
      "metadata": {
        "id": "vlsvCvTqgW03"
      },
      "execution_count": null,
      "outputs": []
    },
    {
      "cell_type": "markdown",
      "source": [
        "Need to do this broadcasting otherwise the gradient's shape won't match"
      ],
      "metadata": {
        "id": "RTGQtaVIl6th"
      }
    },
    {
      "cell_type": "code",
      "source": [
        "y_train.unsqueeze_(1)"
      ],
      "metadata": {
        "colab": {
          "base_uri": "https://localhost:8080/"
        },
        "id": "0IxzIR2pj3eB",
        "outputId": "009e270d-11af-437d-cde1-7ca224a24037"
      },
      "execution_count": null,
      "outputs": [
        {
          "output_type": "execute_result",
          "data": {
            "text/plain": [
              "tensor([[1],\n",
              "        [1],\n",
              "        [0],\n",
              "        ...,\n",
              "        [1],\n",
              "        [0],\n",
              "        [1]])"
            ]
          },
          "metadata": {},
          "execution_count": 15
        }
      ]
    },
    {
      "cell_type": "code",
      "source": [
        "W,b = initialize_w_b(total_pixels)\n",
        "\n",
        "X_train = X_train.view(-1, total_pixels)\n",
        "X_test = X_test.view(-1, total_pixels)\n",
        "\n",
        "lr = 0.05\n",
        "\n",
        "loss_list = []\n",
        "\n",
        "# print(X_train.shape, W.shape)\n",
        "for i in range (50):\n",
        "  Z = X_train @ W + b\n",
        "  A = (1 + torch.exp(-Z))** (-1) # sigmoid\n",
        "  L = -(y_train * torch.log(A) + (1 - y_train) * torch.log(1 - A)).mean() # binary_cross_entropy\n",
        "  loss_list.append(L.item())\n",
        "  # L.retain_grad()\n",
        "  # A.retain_grad()\n",
        "  # Z.retain_grad()\n",
        "  # W.retain_grad()\n",
        "  # b.retain_grad()\n",
        "\n",
        "  # L.backward()\n",
        "  # order matters\n",
        "\n",
        "  dL_dA = (((1 - y_train)/ (1 - A)) - (y_train / A)) / X_train.shape[0]\n",
        "  # dL_dZ = (1 + torch.exp(-Z))**(-2) * torch.exp(-Z) * dL_dA\n",
        "  dL_dZ = A * (1 - A) * dL_dA\n",
        "  dL_dW = X_train.T @ dL_dZ\n",
        "  dL_db = dL_dZ.sum(dim = 0)\n",
        "\n",
        "  # Updating the gradients\n",
        "  with torch.no_grad():\n",
        "    W -= lr * dL_dW\n",
        "    b -= lr * dL_db"
      ],
      "metadata": {
        "id": "stJZrnY9bBGr"
      },
      "execution_count": null,
      "outputs": []
    },
    {
      "cell_type": "code",
      "source": [
        "print(loss_list)"
      ],
      "metadata": {
        "colab": {
          "base_uri": "https://localhost:8080/"
        },
        "id": "oqR01IcJ8ljI",
        "outputId": "35d93e35-fdfe-4664-9e1a-a06a2bc3e63e"
      },
      "execution_count": null,
      "outputs": [
        {
          "output_type": "stream",
          "name": "stdout",
          "text": [
            "[0.8103744387626648, 0.6815586686134338, 0.60612553358078, 0.5511248111724854, 0.5061046481132507, 0.4678100049495697, 0.4347689151763916, 0.40602508187294006, 0.38085058331489563, 0.35866421461105347, 0.3389952480792999, 0.3214598298072815, 0.30574366450309753, 0.2915879189968109, 0.2787783145904541, 0.26713645458221436, 0.2565128803253174, 0.24678198993206024, 0.2378372848033905, 0.229588121175766, 0.22195705771446228, 0.21487745642662048, 0.20829178392887115, 0.2021501213312149, 0.1964089274406433, 0.19103018939495087, 0.1859804093837738, 0.1812301129102707, 0.1767532229423523, 0.17252656817436218, 0.16852951049804688, 0.16474361717700958, 0.16115237772464752, 0.15774096548557281, 0.1544959545135498, 0.15140531957149506, 0.1484580636024475, 0.14564429223537445, 0.1429549902677536, 0.14038187265396118, 0.13791747391223907, 0.13555486500263214, 0.13328775763511658, 0.13111034035682678, 0.12901729345321655, 0.12700365483760834, 0.1250649243593216, 0.12319689989089966, 0.12139566242694855, 0.11965762078762054]\n"
          ]
        }
      ]
    },
    {
      "cell_type": "code",
      "source": [
        "plt.plot(loss_list)"
      ],
      "metadata": {
        "colab": {
          "base_uri": "https://localhost:8080/",
          "height": 448
        },
        "id": "NW3AeGDk2VIY",
        "outputId": "df86278d-14ab-4d03-cbfb-c590e3adcb76"
      },
      "execution_count": null,
      "outputs": [
        {
          "output_type": "execute_result",
          "data": {
            "text/plain": [
              "[<matplotlib.lines.Line2D at 0x7a54a1d00c90>]"
            ]
          },
          "metadata": {},
          "execution_count": 22
        },
        {
          "output_type": "display_data",
          "data": {
            "text/plain": [
              "<Figure size 640x480 with 1 Axes>"
            ],
            "image/png": "[encoded data removed]"
          },
          "metadata": {}
        }
      ]
    },
    {
      "cell_type": "code",
      "source": [
        "print(dL_dA.shape)"
      ],
      "metadata": {
        "colab": {
          "base_uri": "https://localhost:8080/"
        },
        "id": "x5XyMEA-xxS_",
        "outputId": "0ade6839-f8b2-4fdf-edd8-2b8361ba602d"
      },
      "execution_count": null,
      "outputs": [
        {
          "output_type": "stream",
          "name": "stdout",
          "text": [
            "torch.Size([9493, 1])\n"
          ]
        }
      ]
    },
    {
      "cell_type": "code",
      "source": [
        "# print(dL_dZ.shape)\n",
        "# print(Z.grad.shape)"
      ],
      "metadata": {
        "id": "zfCjGH1uhUgG"
      },
      "execution_count": null,
      "outputs": []
    },
    {
      "cell_type": "code",
      "source": [
        "compare_grad(A.grad, dL_dA)\n",
        "compare_grad(Z.grad, dL_dZ)\n",
        "compare_grad(W.grad, dL_dW)\n",
        "compare_grad(b.grad, dL_db)"
      ],
      "metadata": {
        "id": "Bnv8S1k7b9_q",
        "colab": {
          "base_uri": "https://localhost:8080/"
        },
        "outputId": "9134003b-2d23-4b5d-8aa8-778a8ef61799"
      },
      "execution_count": null,
      "outputs": [
        {
          "output_type": "stream",
          "name": "stdout",
          "text": [
            "tensor(1.4552e-11, grad_fn=<MaxBackward1>)\n",
            "tensor(1.8190e-11, grad_fn=<MaxBackward1>)\n",
            "tensor(2.2352e-08, grad_fn=<MaxBackward1>)\n",
            "tensor(3.7253e-09, grad_fn=<MaxBackward1>)\n"
          ]
        }
      ]
    },
    {
      "cell_type": "code",
      "source": [
        "torch.allclose(A.grad, dL_dA)\n",
        "torch.allclose(Z.grad, dL_dZ)\n",
        "torch.allclose(W.grad, dL_dW)\n",
        "torch.allclose(b.grad, dL_db)"
      ],
      "metadata": {
        "id": "18KCcpdWcdLX",
        "colab": {
          "base_uri": "https://localhost:8080/"
        },
        "outputId": "b71df47e-be56-4fd2-d509-2da311de373b"
      },
      "execution_count": null,
      "outputs": [
        {
          "output_type": "execute_result",
          "data": {
            "text/plain": [
              "True"
            ]
          },
          "metadata": {},
          "execution_count": 19
        }
      ]
    },
    {
      "cell_type": "markdown",
      "source": [
        "Inference"
      ],
      "metadata": {
        "id": "Sj8BJnESqv8B"
      }
    },
    {
      "cell_type": "code",
      "source": [
        "print(X_test.shape)\n",
        "print(W.shape)"
      ],
      "metadata": {
        "colab": {
          "base_uri": "https://localhost:8080/"
        },
        "id": "EK1WhBAYq41G",
        "outputId": "3f2f2485-f76d-410e-ed6c-f0e61da78480"
      },
      "execution_count": null,
      "outputs": [
        {
          "output_type": "stream",
          "name": "stdout",
          "text": [
            "torch.Size([2374, 784])\n",
            "torch.Size([784, 1])\n"
          ]
        }
      ]
    },
    {
      "cell_type": "code",
      "source": [
        "W,b"
      ],
      "metadata": {
        "colab": {
          "base_uri": "https://localhost:8080/"
        },
        "collapsed": true,
        "id": "Nqk-QvgYqnxv",
        "outputId": "b87fbf39-5cf4-4334-900c-0ee91bea4dc6"
      },
      "execution_count": null,
      "outputs": [
        {
          "output_type": "execute_result",
          "data": {
            "text/plain": [
              "(tensor([[-6.1529e-03],\n",
              "         [-1.1700e-02],\n",
              "         [ 6.1658e-03],\n",
              "         [-8.4962e-03],\n",
              "         [ 1.2598e-02],\n",
              "         [-1.7344e-02],\n",
              "         [ 7.3556e-05],\n",
              "         [ 2.1890e-02],\n",
              "         [ 2.2328e-02],\n",
              "         [ 1.1522e-03],\n",
              "         [ 1.3865e-02],\n",
              "         [-8.8046e-03],\n",
              "         [ 6.5872e-04],\n",
              "         [-2.0878e-02],\n",
              "         [ 8.2699e-03],\n",
              "         [-8.6339e-03],\n",
              "         [-2.7590e-02],\n",
              "         [-9.7523e-03],\n",
              "         [-1.3694e-03],\n",
              "         [ 7.5070e-03],\n",
              "         [ 2.0640e-03],\n",
              "         [-1.2229e-02],\n",
              "         [ 4.0769e-03],\n",
              "         [-7.4568e-03],\n",
              "         [ 1.0521e-02],\n",
              "         [-1.5621e-02],\n",
              "         [-2.0922e-03],\n",
              "         [-1.4206e-02],\n",
              "         [-4.7286e-03],\n",
              "         [ 1.3713e-03],\n",
              "         [ 5.2000e-03],\n",
              "         [-1.6814e-02],\n",
              "         [ 1.1052e-03],\n",
              "         [ 9.6875e-03],\n",
              "         [-1.2389e-02],\n",
              "         [ 1.6133e-02],\n",
              "         [-1.4641e-02],\n",
              "         [ 8.7463e-03],\n",
              "         [ 5.3538e-03],\n",
              "         [ 1.3179e-02],\n",
              "         [-1.0506e-02],\n",
              "         [ 2.6833e-03],\n",
              "         [-2.8409e-04],\n",
              "         [ 1.6441e-02],\n",
              "         [ 1.3389e-02],\n",
              "         [ 3.2968e-03],\n",
              "         [ 2.8858e-03],\n",
              "         [ 1.9646e-02],\n",
              "         [-1.0382e-02],\n",
              "         [-8.1762e-03],\n",
              "         [ 2.9480e-03],\n",
              "         [ 3.6960e-03],\n",
              "         [-1.1420e-02],\n",
              "         [-1.4189e-02],\n",
              "         [ 8.0953e-03],\n",
              "         [-2.8231e-03],\n",
              "         [ 1.8032e-03],\n",
              "         [-1.2788e-02],\n",
              "         [ 1.0798e-03],\n",
              "         [ 7.7839e-03],\n",
              "         [-7.3276e-03],\n",
              "         [-1.3753e-04],\n",
              "         [-8.8222e-03],\n",
              "         [-5.5348e-03],\n",
              "         [-1.1544e-02],\n",
              "         [-6.6484e-03],\n",
              "         [-1.6754e-02],\n",
              "         [-2.0632e-02],\n",
              "         [-2.4802e-02],\n",
              "         [-1.9794e-02],\n",
              "         [-1.2103e-02],\n",
              "         [-2.2900e-02],\n",
              "         [-1.2650e-02],\n",
              "         [-2.0333e-02],\n",
              "         [-2.5946e-02],\n",
              "         [-2.0558e-02],\n",
              "         [-5.0222e-03],\n",
              "         [-1.5357e-02],\n",
              "         [ 7.9735e-03],\n",
              "         [-5.9699e-03],\n",
              "         [-1.0433e-02],\n",
              "         [-1.9453e-02],\n",
              "         [-1.5475e-03],\n",
              "         [ 1.9802e-02],\n",
              "         [-1.4230e-02],\n",
              "         [ 1.8276e-02],\n",
              "         [ 9.2315e-03],\n",
              "         [-3.0333e-03],\n",
              "         [ 9.8165e-03],\n",
              "         [-1.9862e-03],\n",
              "         [-2.6082e-03],\n",
              "         [-3.4439e-04],\n",
              "         [ 4.1323e-03],\n",
              "         [-7.3799e-03],\n",
              "         [-2.8538e-03],\n",
              "         [-1.7439e-02],\n",
              "         [-4.0941e-02],\n",
              "         [-5.7044e-02],\n",
              "         [-4.1594e-02],\n",
              "         [-6.8721e-02],\n",
              "         [-7.2417e-02],\n",
              "         [-7.1983e-02],\n",
              "         [-6.9889e-02],\n",
              "         [-7.0937e-02],\n",
              "         [-3.1149e-02],\n",
              "         [-1.8650e-02],\n",
              "         [ 5.9322e-03],\n",
              "         [-1.1159e-02],\n",
              "         [-9.9998e-03],\n",
              "         [-1.3456e-02],\n",
              "         [ 1.4878e-03],\n",
              "         [ 1.2091e-02],\n",
              "         [-1.2072e-03],\n",
              "         [-1.0588e-02],\n",
              "         [-1.0075e-02],\n",
              "         [ 1.6254e-03],\n",
              "         [ 3.4562e-03],\n",
              "         [ 3.4343e-03],\n",
              "         [ 4.5698e-03],\n",
              "         [ 1.0939e-02],\n",
              "         [-2.2675e-02],\n",
              "         [-1.2664e-02],\n",
              "         [-2.4521e-02],\n",
              "         [-3.7494e-02],\n",
              "         [-3.1299e-02],\n",
              "         [-5.7494e-02],\n",
              "         [-9.0216e-02],\n",
              "         [-8.8917e-02],\n",
              "         [-7.7034e-02],\n",
              "         [-7.3979e-02],\n",
              "         [-7.4519e-02],\n",
              "         [-6.9357e-02],\n",
              "         [-2.4933e-02],\n",
              "         [-3.1539e-02],\n",
              "         [-8.4002e-03],\n",
              "         [-1.2865e-02],\n",
              "         [ 1.3355e-02],\n",
              "         [ 1.3933e-02],\n",
              "         [ 6.3015e-03],\n",
              "         [-4.1756e-03],\n",
              "         [-1.9513e-03],\n",
              "         [-8.7061e-03],\n",
              "         [ 2.4748e-02],\n",
              "         [ 2.8236e-03],\n",
              "         [ 3.5960e-03],\n",
              "         [ 1.2698e-02],\n",
              "         [-3.1168e-03],\n",
              "         [-1.1993e-02],\n",
              "         [-2.1931e-02],\n",
              "         [-2.6924e-02],\n",
              "         [-3.9054e-02],\n",
              "         [-3.7108e-02],\n",
              "         [-6.1992e-02],\n",
              "         [-6.5352e-02],\n",
              "         [-9.4185e-02],\n",
              "         [-8.8078e-02],\n",
              "         [-7.2091e-02],\n",
              "         [-5.6465e-02],\n",
              "         [-6.2335e-02],\n",
              "         [-3.1709e-02],\n",
              "         [-1.1445e-02],\n",
              "         [-2.3159e-02],\n",
              "         [-1.2502e-03],\n",
              "         [-7.6868e-03],\n",
              "         [ 1.5329e-02],\n",
              "         [-2.6432e-03],\n",
              "         [ 2.1948e-02],\n",
              "         [ 9.1656e-03],\n",
              "         [ 7.4317e-04],\n",
              "         [ 1.7669e-02],\n",
              "         [-9.5363e-03],\n",
              "         [-4.7506e-03],\n",
              "         [-1.2162e-02],\n",
              "         [-1.9462e-02],\n",
              "         [-2.5187e-03],\n",
              "         [-6.6806e-03],\n",
              "         [-1.2488e-02],\n",
              "         [-1.7848e-02],\n",
              "         [-1.4796e-02],\n",
              "         [-3.4249e-02],\n",
              "         [-1.3304e-02],\n",
              "         [ 2.5242e-03],\n",
              "         [-7.9709e-03],\n",
              "         [ 2.0682e-02],\n",
              "         [ 2.7191e-02],\n",
              "         [ 2.7739e-02],\n",
              "         [ 1.9150e-02],\n",
              "         [ 9.7416e-03],\n",
              "         [ 6.9241e-03],\n",
              "         [ 1.1526e-02],\n",
              "         [ 4.6768e-03],\n",
              "         [ 5.4638e-03],\n",
              "         [ 8.3897e-03],\n",
              "         [-1.6411e-03],\n",
              "         [-8.1238e-03],\n",
              "         [ 1.0417e-02],\n",
              "         [-2.9275e-03],\n",
              "         [ 4.9208e-03],\n",
              "         [-8.3542e-03],\n",
              "         [-6.4129e-03],\n",
              "         [-1.9396e-02],\n",
              "         [-1.7615e-02],\n",
              "         [-1.1135e-02],\n",
              "         [ 2.0164e-02],\n",
              "         [ 1.0609e-05],\n",
              "         [-4.4279e-03],\n",
              "         [-1.7307e-02],\n",
              "         [ 2.4577e-02],\n",
              "         [ 1.9756e-02],\n",
              "         [ 6.3152e-02],\n",
              "         [ 6.2440e-02],\n",
              "         [ 8.0384e-02],\n",
              "         [ 1.1649e-01],\n",
              "         [ 1.3285e-01],\n",
              "         [ 8.4346e-02],\n",
              "         [ 7.2601e-02],\n",
              "         [ 3.3537e-02],\n",
              "         [ 1.8662e-02],\n",
              "         [ 8.8216e-03],\n",
              "         [-1.6840e-03],\n",
              "         [ 1.7224e-02],\n",
              "         [-9.1791e-03],\n",
              "         [ 2.4056e-02],\n",
              "         [ 2.2312e-03],\n",
              "         [-4.3481e-03],\n",
              "         [-1.0266e-02],\n",
              "         [-4.0588e-03],\n",
              "         [-1.7839e-02],\n",
              "         [-1.7343e-03],\n",
              "         [ 3.7253e-03],\n",
              "         [ 1.0052e-02],\n",
              "         [-6.8038e-04],\n",
              "         [ 3.6315e-03],\n",
              "         [ 2.3173e-02],\n",
              "         [ 3.8702e-02],\n",
              "         [ 4.5450e-02],\n",
              "         [ 7.1195e-02],\n",
              "         [ 5.5416e-02],\n",
              "         [ 7.5722e-02],\n",
              "         [ 8.7357e-02],\n",
              "         [ 8.9907e-02],\n",
              "         [ 1.1700e-01],\n",
              "         [ 1.1272e-01],\n",
              "         [ 9.5300e-02],\n",
              "         [ 5.9291e-02],\n",
              "         [ 3.3830e-02],\n",
              "         [ 5.1995e-03],\n",
              "         [-3.8228e-03],\n",
              "         [-2.3020e-03],\n",
              "         [-1.2372e-02],\n",
              "         [-5.4603e-03],\n",
              "         [ 3.1384e-02],\n",
              "         [-9.7024e-04],\n",
              "         [-5.9288e-03],\n",
              "         [ 1.7212e-02],\n",
              "         [-2.0611e-05],\n",
              "         [ 6.4996e-04],\n",
              "         [ 4.1784e-03],\n",
              "         [-1.4586e-02],\n",
              "         [ 3.1004e-02],\n",
              "         [ 1.2923e-02],\n",
              "         [ 3.7054e-02],\n",
              "         [ 5.3057e-02],\n",
              "         [ 3.8401e-02],\n",
              "         [ 3.8729e-02],\n",
              "         [ 1.9955e-03],\n",
              "         [ 5.9728e-03],\n",
              "         [ 5.2278e-02],\n",
              "         [ 7.6930e-02],\n",
              "         [ 8.3660e-02],\n",
              "         [ 1.1013e-01],\n",
              "         [ 8.8897e-02],\n",
              "         [ 6.0263e-02],\n",
              "         [ 5.6758e-03],\n",
              "         [ 9.3599e-03],\n",
              "         [ 7.1262e-03],\n",
              "         [ 4.9111e-03],\n",
              "         [-7.9063e-03],\n",
              "         [-1.1503e-03],\n",
              "         [-1.2300e-02],\n",
              "         [-2.3064e-03],\n",
              "         [-3.1485e-03],\n",
              "         [-1.1804e-03],\n",
              "         [-4.3573e-03],\n",
              "         [ 2.6347e-03],\n",
              "         [ 6.2002e-03],\n",
              "         [ 8.6702e-03],\n",
              "         [ 1.8669e-02],\n",
              "         [ 4.6027e-02],\n",
              "         [ 5.8502e-02],\n",
              "         [ 4.2853e-02],\n",
              "         [ 2.8510e-02],\n",
              "         [-1.7255e-02],\n",
              "         [-3.9581e-02],\n",
              "         [-2.8780e-02],\n",
              "         [ 1.4106e-02],\n",
              "         [ 7.0162e-02],\n",
              "         [ 1.0362e-01],\n",
              "         [ 9.8574e-02],\n",
              "         [ 1.1386e-01],\n",
              "         [ 5.4257e-02],\n",
              "         [ 3.1358e-02],\n",
              "         [ 1.5132e-02],\n",
              "         [ 2.7270e-03],\n",
              "         [-6.7874e-03],\n",
              "         [ 5.5392e-03],\n",
              "         [ 1.8711e-04],\n",
              "         [-1.8844e-04],\n",
              "         [-1.1744e-02],\n",
              "         [ 9.5291e-04],\n",
              "         [-2.7565e-03],\n",
              "         [ 3.1492e-02],\n",
              "         [ 8.1927e-03],\n",
              "         [-4.3780e-04],\n",
              "         [ 3.2795e-02],\n",
              "         [ 4.1368e-02],\n",
              "         [ 3.9076e-02],\n",
              "         [ 6.4584e-02],\n",
              "         [ 1.2998e-02],\n",
              "         [-1.9858e-02],\n",
              "         [-6.3663e-02],\n",
              "         [-9.4963e-02],\n",
              "         [-2.2600e-02],\n",
              "         [ 3.6273e-02],\n",
              "         [ 7.3347e-02],\n",
              "         [ 1.0041e-01],\n",
              "         [ 9.4914e-02],\n",
              "         [ 7.4946e-02],\n",
              "         [ 4.0865e-02],\n",
              "         [ 7.4736e-03],\n",
              "         [-1.8842e-02],\n",
              "         [-1.6118e-02],\n",
              "         [-2.4389e-02],\n",
              "         [-1.2051e-03],\n",
              "         [ 9.8128e-03],\n",
              "         [ 8.7288e-03],\n",
              "         [-3.5861e-04],\n",
              "         [ 1.5422e-02],\n",
              "         [ 3.4919e-03],\n",
              "         [ 1.1176e-02],\n",
              "         [ 2.9116e-02],\n",
              "         [ 1.1966e-02],\n",
              "         [ 3.0475e-02],\n",
              "         [ 3.2900e-02],\n",
              "         [ 4.7699e-02],\n",
              "         [ 2.8606e-02],\n",
              "         [ 1.1436e-02],\n",
              "         [-5.7471e-02],\n",
              "         [-7.4045e-02],\n",
              "         [-4.5480e-02],\n",
              "         [ 5.0546e-03],\n",
              "         [ 1.4563e-02],\n",
              "         [ 4.1357e-02],\n",
              "         [ 7.1371e-02],\n",
              "         [ 9.9155e-02],\n",
              "         [ 4.0988e-02],\n",
              "         [ 3.8307e-03],\n",
              "         [-2.5683e-02],\n",
              "         [-2.6376e-02],\n",
              "         [-2.2582e-03],\n",
              "         [-6.9552e-03],\n",
              "         [-5.0372e-03],\n",
              "         [ 9.3403e-03],\n",
              "         [ 3.8370e-03],\n",
              "         [-8.1172e-03],\n",
              "         [ 7.0919e-03],\n",
              "         [-8.5224e-03],\n",
              "         [ 1.4953e-02],\n",
              "         [ 1.4164e-02],\n",
              "         [ 2.3480e-02],\n",
              "         [ 4.4858e-02],\n",
              "         [ 4.3559e-02],\n",
              "         [ 4.1671e-02],\n",
              "         [ 1.7441e-02],\n",
              "         [-2.9898e-02],\n",
              "         [-7.1828e-02],\n",
              "         [-3.7063e-02],\n",
              "         [ 6.0868e-03],\n",
              "         [ 1.0733e-02],\n",
              "         [ 3.2022e-02],\n",
              "         [ 4.4021e-02],\n",
              "         [ 6.8243e-02],\n",
              "         [ 4.9679e-02],\n",
              "         [ 1.0547e-03],\n",
              "         [-2.3558e-02],\n",
              "         [-4.3315e-02],\n",
              "         [-3.6139e-02],\n",
              "         [-3.1113e-02],\n",
              "         [-2.7474e-02],\n",
              "         [-7.2079e-03],\n",
              "         [ 9.0838e-03],\n",
              "         [ 1.1192e-02],\n",
              "         [-7.0815e-03],\n",
              "         [-8.9194e-03],\n",
              "         [ 1.1604e-02],\n",
              "         [ 6.6994e-03],\n",
              "         [-3.9418e-03],\n",
              "         [ 2.4361e-02],\n",
              "         [ 3.3240e-02],\n",
              "         [ 1.9292e-02],\n",
              "         [ 3.9226e-02],\n",
              "         [-2.3058e-03],\n",
              "         [-1.9943e-02],\n",
              "         [-4.8215e-02],\n",
              "         [-2.1444e-03],\n",
              "         [ 6.9285e-03],\n",
              "         [ 8.6991e-03],\n",
              "         [ 1.3796e-02],\n",
              "         [ 2.9507e-02],\n",
              "         [ 4.7132e-02],\n",
              "         [ 3.5142e-02],\n",
              "         [-2.2357e-02],\n",
              "         [-5.0638e-02],\n",
              "         [-5.4788e-02],\n",
              "         [-4.4563e-02],\n",
              "         [-3.3180e-02],\n",
              "         [-3.1726e-03],\n",
              "         [-7.9844e-03],\n",
              "         [ 1.0695e-02],\n",
              "         [ 1.2150e-02],\n",
              "         [ 8.3157e-04],\n",
              "         [-3.2366e-03],\n",
              "         [ 1.1462e-02],\n",
              "         [-7.9912e-03],\n",
              "         [ 9.6313e-03],\n",
              "         [ 1.3674e-02],\n",
              "         [ 2.3131e-02],\n",
              "         [ 1.1733e-02],\n",
              "         [-6.6635e-03],\n",
              "         [-1.1978e-02],\n",
              "         [-2.5535e-02],\n",
              "         [-1.6794e-04],\n",
              "         [ 1.8599e-02],\n",
              "         [-4.6832e-04],\n",
              "         [ 8.1436e-03],\n",
              "         [ 2.3056e-02],\n",
              "         [ 5.2995e-02],\n",
              "         [ 6.8786e-02],\n",
              "         [ 4.7317e-03],\n",
              "         [-3.7318e-02],\n",
              "         [-6.9296e-02],\n",
              "         [-5.9590e-02],\n",
              "         [-5.4815e-02],\n",
              "         [-2.9130e-02],\n",
              "         [-8.4234e-03],\n",
              "         [-8.3083e-03],\n",
              "         [ 1.9729e-02],\n",
              "         [-8.5472e-03],\n",
              "         [ 4.9577e-03],\n",
              "         [ 1.9180e-02],\n",
              "         [-1.4089e-03],\n",
              "         [ 7.2504e-03],\n",
              "         [ 2.7730e-03],\n",
              "         [-4.4553e-03],\n",
              "         [ 4.2005e-03],\n",
              "         [-9.0524e-03],\n",
              "         [-2.4764e-02],\n",
              "         [-4.0833e-02],\n",
              "         [-6.7711e-02],\n",
              "         [-3.5932e-02],\n",
              "         [-5.2197e-03],\n",
              "         [-1.3643e-02],\n",
              "         [ 6.2658e-03],\n",
              "         [ 2.9387e-02],\n",
              "         [ 7.1373e-02],\n",
              "         [ 5.1426e-02],\n",
              "         [-1.6649e-02],\n",
              "         [-6.4801e-02],\n",
              "         [-8.1273e-02],\n",
              "         [-7.6416e-02],\n",
              "         [-4.2507e-02],\n",
              "         [-3.7162e-02],\n",
              "         [-1.0421e-02],\n",
              "         [-2.6457e-03],\n",
              "         [-1.2811e-03],\n",
              "         [-1.0237e-02],\n",
              "         [ 1.2542e-02],\n",
              "         [-1.6514e-04],\n",
              "         [-2.4558e-03],\n",
              "         [-2.9614e-03],\n",
              "         [ 8.5239e-04],\n",
              "         [-1.1889e-02],\n",
              "         [-1.2408e-02],\n",
              "         [-1.6559e-02],\n",
              "         [-7.3320e-02],\n",
              "         [-7.3547e-02],\n",
              "         [-7.7303e-02],\n",
              "         [-5.4065e-02],\n",
              "         [-5.6193e-02],\n",
              "         [-1.9692e-02],\n",
              "         [-3.7740e-03],\n",
              "         [ 4.0406e-02],\n",
              "         [ 5.0922e-02],\n",
              "         [ 3.2865e-02],\n",
              "         [-4.8902e-02],\n",
              "         [-8.5982e-02],\n",
              "         [-1.0430e-01],\n",
              "         [-5.1428e-02],\n",
              "         [-4.5654e-02],\n",
              "         [-2.1444e-02],\n",
              "         [-1.8580e-03],\n",
              "         [ 1.3329e-02],\n",
              "         [-2.6432e-03],\n",
              "         [-1.4970e-04],\n",
              "         [ 1.0604e-03],\n",
              "         [ 1.9564e-03],\n",
              "         [-1.7336e-02],\n",
              "         [ 6.0624e-03],\n",
              "         [ 5.0875e-03],\n",
              "         [-3.0808e-03],\n",
              "         [-2.7107e-02],\n",
              "         [-5.3712e-02],\n",
              "         [-6.4566e-02],\n",
              "         [-1.2467e-01],\n",
              "         [-1.2543e-01],\n",
              "         [-1.4290e-01],\n",
              "         [-8.2435e-02],\n",
              "         [-4.0898e-02],\n",
              "         [-1.2477e-02],\n",
              "         [ 1.1423e-02],\n",
              "         [ 1.0159e-02],\n",
              "         [-3.8958e-02],\n",
              "         [-6.7345e-02],\n",
              "         [-8.8703e-02],\n",
              "         [-8.3945e-02],\n",
              "         [-3.4827e-02],\n",
              "         [-2.3190e-02],\n",
              "         [-3.8644e-02],\n",
              "         [ 7.6692e-03],\n",
              "         [ 1.6501e-02],\n",
              "         [-1.3051e-02],\n",
              "         [-1.0934e-02],\n",
              "         [-1.2610e-02],\n",
              "         [ 4.1377e-04],\n",
              "         [ 1.7124e-03],\n",
              "         [-7.8616e-03],\n",
              "         [ 3.4763e-03],\n",
              "         [-2.2317e-02],\n",
              "         [-1.4034e-02],\n",
              "         [-3.8015e-02],\n",
              "         [-6.7425e-02],\n",
              "         [-1.0496e-01],\n",
              "         [-1.5143e-01],\n",
              "         [-1.5428e-01],\n",
              "         [-1.1823e-01],\n",
              "         [-9.1574e-02],\n",
              "         [-4.0966e-02],\n",
              "         [-5.5690e-02],\n",
              "         [-6.2348e-02],\n",
              "         [-8.0391e-02],\n",
              "         [-9.9487e-02],\n",
              "         [-8.6520e-02],\n",
              "         [-4.5025e-02],\n",
              "         [-3.7031e-02],\n",
              "         [-1.3899e-02],\n",
              "         [-8.7775e-03],\n",
              "         [-5.4704e-03],\n",
              "         [ 1.6914e-02],\n",
              "         [-2.2307e-02],\n",
              "         [ 2.2060e-02],\n",
              "         [ 9.0787e-03],\n",
              "         [ 5.7086e-03],\n",
              "         [-1.7062e-02],\n",
              "         [ 1.6694e-02],\n",
              "         [ 7.1387e-04],\n",
              "         [ 5.1253e-03],\n",
              "         [-1.3401e-02],\n",
              "         [-2.7982e-02],\n",
              "         [-6.5603e-02],\n",
              "         [-1.0213e-01],\n",
              "         [-1.4321e-01],\n",
              "         [-1.6463e-01],\n",
              "         [-1.5848e-01],\n",
              "         [-1.2694e-01],\n",
              "         [-8.7192e-02],\n",
              "         [-8.7940e-02],\n",
              "         [-8.0747e-02],\n",
              "         [-7.0038e-02],\n",
              "         [-4.1344e-02],\n",
              "         [-3.9163e-02],\n",
              "         [-4.0397e-02],\n",
              "         [-8.8640e-03],\n",
              "         [-2.1908e-03],\n",
              "         [ 2.1103e-03],\n",
              "         [-2.5173e-03],\n",
              "         [ 2.7670e-03],\n",
              "         [ 7.0459e-03],\n",
              "         [-6.4576e-03],\n",
              "         [ 1.2213e-02],\n",
              "         [ 6.7057e-04],\n",
              "         [-3.3572e-03],\n",
              "         [-3.2878e-03],\n",
              "         [-1.0099e-02],\n",
              "         [ 7.2205e-04],\n",
              "         [ 2.7373e-03],\n",
              "         [-4.2325e-03],\n",
              "         [-1.8180e-02],\n",
              "         [-4.5618e-02],\n",
              "         [-5.6688e-02],\n",
              "         [-9.9745e-02],\n",
              "         [-1.1939e-01],\n",
              "         [-7.3417e-02],\n",
              "         [-8.0219e-02],\n",
              "         [-7.1028e-02],\n",
              "         [-5.1067e-02],\n",
              "         [-2.4164e-02],\n",
              "         [-1.5806e-02],\n",
              "         [-5.9779e-03],\n",
              "         [ 7.0918e-04],\n",
              "         [-5.7921e-03],\n",
              "         [-4.5090e-03],\n",
              "         [ 7.2216e-04],\n",
              "         [-1.6945e-02],\n",
              "         [ 9.8764e-03],\n",
              "         [ 1.6015e-03],\n",
              "         [-1.1431e-03],\n",
              "         [ 1.3013e-02],\n",
              "         [-5.5281e-03],\n",
              "         [ 2.0848e-02],\n",
              "         [-1.6885e-03],\n",
              "         [-8.3128e-03],\n",
              "         [ 5.5569e-03],\n",
              "         [-9.6977e-03],\n",
              "         [ 7.4972e-03],\n",
              "         [ 1.0381e-02],\n",
              "         [-5.9988e-03],\n",
              "         [-1.3982e-04],\n",
              "         [ 2.6097e-03],\n",
              "         [ 4.7118e-04],\n",
              "         [-6.7235e-03],\n",
              "         [ 5.5348e-03],\n",
              "         [ 2.5717e-02],\n",
              "         [ 3.0170e-02],\n",
              "         [ 3.1950e-02],\n",
              "         [ 1.7109e-02],\n",
              "         [ 2.5717e-02],\n",
              "         [ 1.4844e-02],\n",
              "         [ 7.5322e-03],\n",
              "         [ 1.0180e-02],\n",
              "         [-3.4752e-03],\n",
              "         [ 9.4112e-03],\n",
              "         [-5.4677e-03],\n",
              "         [ 9.6827e-03],\n",
              "         [-7.8479e-03],\n",
              "         [ 9.3015e-03],\n",
              "         [ 1.2265e-02],\n",
              "         [ 7.6277e-03],\n",
              "         [ 1.8667e-02],\n",
              "         [-1.1081e-02],\n",
              "         [ 1.3172e-02],\n",
              "         [ 8.9658e-03],\n",
              "         [-1.8303e-03],\n",
              "         [ 2.8246e-02],\n",
              "         [ 2.4064e-02],\n",
              "         [ 2.7557e-02],\n",
              "         [ 6.5787e-02],\n",
              "         [ 7.0653e-02],\n",
              "         [ 7.1411e-02],\n",
              "         [ 6.6016e-02],\n",
              "         [ 7.5696e-02],\n",
              "         [ 6.9292e-02],\n",
              "         [ 5.2619e-02],\n",
              "         [ 3.0804e-02],\n",
              "         [ 3.0723e-02],\n",
              "         [ 5.1327e-02],\n",
              "         [ 1.1391e-02],\n",
              "         [ 1.0061e-02],\n",
              "         [ 1.0208e-02],\n",
              "         [-4.6373e-03],\n",
              "         [ 7.9705e-03],\n",
              "         [-7.7747e-03],\n",
              "         [ 6.1274e-03],\n",
              "         [-5.8288e-03],\n",
              "         [ 1.6071e-02],\n",
              "         [-1.0020e-03],\n",
              "         [ 7.6626e-03],\n",
              "         [ 1.2352e-02],\n",
              "         [-2.3464e-03],\n",
              "         [-1.2949e-02],\n",
              "         [ 1.3794e-02],\n",
              "         [ 9.2571e-03],\n",
              "         [ 1.6946e-02],\n",
              "         [ 5.7583e-02],\n",
              "         [ 7.1462e-02],\n",
              "         [ 7.3395e-02],\n",
              "         [ 6.8834e-02],\n",
              "         [ 6.7965e-02],\n",
              "         [ 7.7724e-02],\n",
              "         [ 6.2903e-02],\n",
              "         [ 4.9359e-02],\n",
              "         [ 6.2666e-02],\n",
              "         [ 4.1919e-02],\n",
              "         [ 1.1185e-02],\n",
              "         [ 7.6340e-03],\n",
              "         [ 1.6149e-02],\n",
              "         [ 5.4695e-03],\n",
              "         [ 2.6081e-03],\n",
              "         [ 8.9904e-03],\n",
              "         [ 1.9433e-02],\n",
              "         [-1.0002e-03],\n",
              "         [-1.9845e-02],\n",
              "         [ 1.2200e-02],\n",
              "         [ 1.0515e-02],\n",
              "         [-1.7366e-02],\n",
              "         [ 1.8062e-03],\n",
              "         [-5.6329e-03],\n",
              "         [-1.5590e-03],\n",
              "         [ 2.0813e-03],\n",
              "         [ 9.7407e-03],\n",
              "         [ 2.6745e-02],\n",
              "         [ 2.6970e-02],\n",
              "         [ 4.4142e-02],\n",
              "         [ 3.2155e-02],\n",
              "         [ 4.4169e-02],\n",
              "         [ 4.1026e-02],\n",
              "         [ 3.3519e-02],\n",
              "         [ 2.4596e-02],\n",
              "         [ 3.2459e-02],\n",
              "         [ 2.1293e-02],\n",
              "         [ 3.6309e-03],\n",
              "         [ 5.9248e-03],\n",
              "         [ 7.6166e-03],\n",
              "         [-3.8914e-03],\n",
              "         [ 1.0366e-02],\n",
              "         [-4.5609e-05],\n",
              "         [-6.7281e-03],\n",
              "         [-1.3010e-02],\n",
              "         [ 3.0281e-03],\n",
              "         [ 1.7881e-02],\n",
              "         [-4.8769e-03],\n",
              "         [ 6.0244e-04],\n",
              "         [ 1.4707e-02],\n",
              "         [-1.3258e-02],\n",
              "         [-9.5480e-04],\n",
              "         [ 7.2326e-03],\n",
              "         [ 2.0867e-03],\n",
              "         [-4.6189e-03],\n",
              "         [ 1.8367e-02],\n",
              "         [ 5.2520e-03],\n",
              "         [-2.2590e-03],\n",
              "         [ 1.7808e-02],\n",
              "         [ 2.9120e-02],\n",
              "         [-7.7937e-04],\n",
              "         [ 2.3166e-02],\n",
              "         [ 1.3249e-02],\n",
              "         [ 9.3018e-03],\n",
              "         [ 1.4787e-02],\n",
              "         [ 9.4826e-03],\n",
              "         [ 5.6858e-03],\n",
              "         [-1.0925e-02],\n",
              "         [-1.5623e-02],\n",
              "         [-1.2132e-02],\n",
              "         [ 3.2534e-03],\n",
              "         [ 7.4442e-03],\n",
              "         [ 1.3206e-02],\n",
              "         [-9.4331e-03],\n",
              "         [ 6.5645e-03],\n",
              "         [ 4.0825e-03],\n",
              "         [ 2.4629e-03],\n",
              "         [ 7.1776e-03],\n",
              "         [-4.8393e-04],\n",
              "         [ 5.7988e-04],\n",
              "         [ 3.9258e-03],\n",
              "         [-6.7510e-03],\n",
              "         [-1.8894e-03],\n",
              "         [-1.9558e-02],\n",
              "         [ 1.5533e-02],\n",
              "         [-8.7261e-03],\n",
              "         [-1.5243e-02],\n",
              "         [ 6.8514e-03],\n",
              "         [-3.9823e-03],\n",
              "         [-8.3394e-03],\n",
              "         [ 1.1965e-02],\n",
              "         [ 6.5145e-03],\n",
              "         [ 4.7199e-03],\n",
              "         [ 7.3091e-04],\n",
              "         [ 7.0300e-03],\n",
              "         [ 1.0384e-02],\n",
              "         [-1.7825e-02],\n",
              "         [-1.0480e-02],\n",
              "         [ 9.2468e-04],\n",
              "         [ 6.9954e-03],\n",
              "         [-5.7087e-03],\n",
              "         [ 6.3744e-03]], grad_fn=<MulBackward0>),\n",
              " tensor([0.4954], requires_grad=True))"
            ]
          },
          "metadata": {},
          "execution_count": 59
        }
      ]
    },
    {
      "cell_type": "code",
      "source": [
        "y_predictions = X_test @ W + b\n",
        "sig_Y_predictions = ((1 + torch.exp(-y_predictions))** (-1)).squeeze()\n",
        "\n",
        "threshold = 0.5\n",
        "\n",
        "final_preds = torch.where(sig_Y_predictions > threshold, 1, 0)\n",
        "\n",
        "# print(final_preds)\n",
        "# print(y_test)\n",
        "\n",
        "true_positive = torch.sum((final_preds == 1) & (y_test == 1))\n",
        "true_negative = torch.sum((final_preds == 0) & (y_test == 0))\n",
        "false_positive = torch.sum((final_preds == 1) & (y_test == 0))\n",
        "false_negative = torch.sum((final_preds == 0) & (y_test == 1))\n",
        "\n",
        "accuracy = (true_positive + true_negative) / (true_positive + true_negative + false_positive + false_negative)\n",
        "precision = true_positive / (true_positive + false_positive)\n",
        "recall = true_positive / (true_positive + false_negative)\n",
        "f1_score = 2 * (precision * recall) / (precision + recall)\n",
        "\n",
        "print(\"Accuracy :: \",accuracy)\n",
        "print(\"Precision :: \",precision)\n",
        "print(\"Recall :: \",recall)\n",
        "print(\"F1 score :: \",f1_score)\n",
        "\n",
        "\n",
        "from sklearn.metrics import confusion_matrix\n",
        "print(confusion_matrix(y_test, final_preds))"
      ],
      "metadata": {
        "colab": {
          "base_uri": "https://localhost:8080/"
        },
        "id": "HNy79JXUn2V-",
        "outputId": "f341eb85-f15b-4e35-8d41-9f8733ab18d4"
      },
      "execution_count": null,
      "outputs": [
        {
          "output_type": "stream",
          "name": "stdout",
          "text": [
            "Accuracy ::  tensor(0.9937)\n",
            "Precision ::  tensor(0.9991)\n",
            "Recall ::  tensor(0.9881)\n",
            "F1 score ::  tensor(0.9936)\n",
            "[[1195    1]\n",
            " [  14 1164]]\n"
          ]
        }
      ]
    },
    {
      "cell_type": "code",
      "source": [
        "y_test[:30],final_preds[:30]"
      ],
      "metadata": {
        "colab": {
          "base_uri": "https://localhost:8080/"
        },
        "id": "5trA9ZZn4chQ",
        "outputId": "9da5c3f3-8d83-42d8-dd90-72afa5052b92"
      },
      "execution_count": null,
      "outputs": [
        {
          "output_type": "execute_result",
          "data": {
            "text/plain": [
              "(tensor([1, 1, 0, 1, 0, 1, 1, 0, 0, 0, 0, 0, 1, 0, 1, 0, 1, 1, 0, 1, 0, 0, 1, 0,\n",
              "         1, 0, 1, 1, 0, 0]),\n",
              " tensor([1, 1, 0, 1, 0, 1, 1, 0, 0, 0, 0, 0, 1, 0, 1, 0, 1, 1, 0, 1, 0, 0, 1, 0,\n",
              "         1, 0, 1, 1, 0, 0]))"
            ]
          },
          "metadata": {},
          "execution_count": 24
        }
      ]
    },
    {
      "cell_type": "code",
      "source": [],
      "metadata": {
        "id": "JScVtvBPqI7q"
      },
      "execution_count": null,
      "outputs": []
    }
  ]
}