{
  "nbformat": 4,
  "nbformat_minor": 0,
  "metadata": {
    "colab": {
      "provenance": []
    },
    "kernelspec": {
      "name": "python3",
      "display_name": "Python 3"
    },
    "language_info": {
      "name": "python"
    }
  },
  "cells": [
    {
      "cell_type": "code",
      "execution_count": 1,
      "metadata": {
        "id": "GUeyuUWOQXvy"
      },
      "outputs": [],
      "source": [
        "import torch\n",
        "from torchvision import datasets\n",
        "import matplotlib.pyplot as plt\n",
        "import torch.nn.functional as F"
      ]
    },
    {
      "cell_type": "code",
      "source": [
        "data = datasets.EMNIST(root='data', split='letters', download=True)"
      ],
      "metadata": {
        "id": "OxFRoQX1Qyrx",
        "colab": {
          "base_uri": "https://localhost:8080/"
        },
        "outputId": "21d299ce-8ca8-4642-ff5a-b7f2df3d22fc"
      },
      "execution_count": 3,
      "outputs": [
        {
          "output_type": "stream",
          "name": "stderr",
          "text": [
            "100%|██████████| 562M/562M [00:39<00:00, 14.4MB/s]\n"
          ]
        }
      ]
    },
    {
      "cell_type": "code",
      "source": [
        "X = data.data\n",
        "y = data.targets\n",
        "\n",
        "X.shape,y.shape"
      ],
      "metadata": {
        "colab": {
          "base_uri": "https://localhost:8080/"
        },
        "id": "BWkV5V6PRxg9",
        "outputId": "04d72cdf-2de6-44d5-f3b9-a4ed0497b0a8"
      },
      "execution_count": 47,
      "outputs": [
        {
          "output_type": "execute_result",
          "data": {
            "text/plain": [
              "(torch.Size([124800, 28, 28]), torch.Size([124800]))"
            ]
          },
          "metadata": {},
          "execution_count": 47
        }
      ]
    },
    {
      "cell_type": "code",
      "source": [
        "for i, (image, label) in zip(range(1, 11), data):\n",
        "        plt.subplot(2, 5, i)\n",
        "        plt.imshow(X=image)\n",
        "        plt.title(label=label)\n"
      ],
      "metadata": {
        "colab": {
          "base_uri": "https://localhost:8080/",
          "height": 370
        },
        "id": "Hu8rNFlgUPkJ",
        "outputId": "5101e07a-a0f4-4823-8344-5d857af92b8a"
      },
      "execution_count": 48,
      "outputs": [
        {
          "output_type": "display_data",
          "data": {
            "text/plain": [
              "<Figure size 640x480 with 10 Axes>"
            ],
            "image/png": "[encoded data removed]"
          },
          "metadata": {}
        }
      ]
    },
    {
      "cell_type": "markdown",
      "source": [
        "### Only considering the 5 vowel letters for multi-class classification"
      ],
      "metadata": {
        "id": "LoFS9YgQxQeJ"
      }
    },
    {
      "cell_type": "markdown",
      "source": [
        "Just so that the session doesn't crash taking only 1500 samples from each class since there are about 28000 total which is a little more"
      ],
      "metadata": {
        "id": "LpEpNtoByNvc"
      }
    },
    {
      "cell_type": "code",
      "source": [
        "check = torch.where(y == 1)\n",
        "check"
      ],
      "metadata": {
        "colab": {
          "base_uri": "https://localhost:8080/"
        },
        "id": "4sKpmjStSJwr",
        "outputId": "90129d9b-477c-419b-93b0-ba4e22db11b3"
      },
      "execution_count": 49,
      "outputs": [
        {
          "output_type": "execute_result",
          "data": {
            "text/plain": [
              "(tensor([    29,     32,     35,  ..., 124776, 124781, 124784]),)"
            ]
          },
          "metadata": {},
          "execution_count": 49
        }
      ]
    },
    {
      "cell_type": "code",
      "source": [
        "selected_classes = [1, 5, 9, 15, 21]  # These represent vowels: a, e, i, o, u\n",
        "samples_per_class = 1500\n",
        "\n",
        "selected_indices = []\n",
        "\n",
        "for cls in selected_classes:\n",
        "    class_indices = torch.where(y == cls)[0]\n",
        "\n",
        "    shuffled_indices = torch.randperm(class_indices.shape[0])\n",
        "\n",
        "    chosen_indices = class_indices[shuffled_indices[:samples_per_class]]\n",
        "\n",
        "    selected_indices.append(chosen_indices)\n",
        "\n",
        "final_indices = torch.cat(selected_indices, dim=0)\n",
        "\n",
        "X = X[final_indices]\n",
        "y = y[final_indices]\n",
        "\n",
        "print(\"Selected X shape:\", X.shape)\n",
        "print(\"Selected y shape:\", y.shape)"
      ],
      "metadata": {
        "colab": {
          "base_uri": "https://localhost:8080/"
        },
        "id": "7fWcz0ktdBqq",
        "outputId": "d1557d8e-c267-480e-812c-87d56e621379"
      },
      "execution_count": 50,
      "outputs": [
        {
          "output_type": "stream",
          "name": "stdout",
          "text": [
            "Selected X shape: torch.Size([7500, 28, 28])\n",
            "Selected y shape: torch.Size([7500])\n"
          ]
        }
      ]
    },
    {
      "cell_type": "code",
      "source": [
        "indices = torch.randperm(X.shape[0])\n",
        "X = X[indices]\n",
        "y = y[indices]\n",
        "\n",
        "total_pixels = X.shape[1] * X.shape[2]\n",
        "\n",
        "X = X.view(-1,total_pixels)\n",
        "X = X / 255.0\n",
        "X.shape"
      ],
      "metadata": {
        "colab": {
          "base_uri": "https://localhost:8080/"
        },
        "id": "YUfxvphFLO_m",
        "outputId": "eef05244-96aa-4d30-b36b-13b009574788"
      },
      "execution_count": 51,
      "outputs": [
        {
          "output_type": "execute_result",
          "data": {
            "text/plain": [
              "torch.Size([7500, 784])"
            ]
          },
          "metadata": {},
          "execution_count": 51
        }
      ]
    },
    {
      "cell_type": "code",
      "source": [
        "train_size = int(0.8 * X.shape[0])\n",
        "test_size = X.shape[0] - train_size\n",
        "\n",
        "X_train = X[:train_size]\n",
        "y_train = y[:train_size]\n",
        "\n",
        "X_test = X[train_size:]\n",
        "y_test = y[train_size:]"
      ],
      "metadata": {
        "id": "LcgI4o5jMPgd"
      },
      "execution_count": 52,
      "outputs": []
    },
    {
      "cell_type": "code",
      "source": [
        "def initialize_w_b(input_dim):\n",
        "  w = torch.randn((input_dim, 5), requires_grad=True) * 0.01\n",
        "  b = torch.ones(5, requires_grad=True)\n",
        "\n",
        "  return w, b"
      ],
      "metadata": {
        "id": "0Sd3zQl8NWWT"
      },
      "execution_count": 53,
      "outputs": []
    },
    {
      "cell_type": "code",
      "source": [
        "def compare_grad(grad1, grad2):\n",
        "  print(torch.max(torch.abs(grad1 - grad2)))"
      ],
      "metadata": {
        "id": "OOQ_UTQvNgnU"
      },
      "execution_count": 54,
      "outputs": []
    },
    {
      "cell_type": "code",
      "source": [
        "label_mapping = {1: 0, 5: 1, 9: 2, 15: 3, 21: 4}\n",
        "y_train = torch.tensor([label_mapping[label.item()] for label in y_train])\n",
        "y_test = torch.tensor([label_mapping[label.item()] for label in y_test])"
      ],
      "metadata": {
        "id": "OvdXCYkQ7iXl"
      },
      "execution_count": 55,
      "outputs": []
    },
    {
      "cell_type": "code",
      "source": [
        "s = torch.tensor(\n",
        "    [[1,2,3],[4,5,6],[7,8,9]]\n",
        ")\n",
        "print(s)\n",
        "max = s.sum(dim=1, keepdim=True)\n",
        "print(max)"
      ],
      "metadata": {
        "colab": {
          "base_uri": "https://localhost:8080/"
        },
        "id": "JLKZKuxWUaAr",
        "outputId": "b6652c59-878c-485a-fc22-745514c4f757"
      },
      "execution_count": 56,
      "outputs": [
        {
          "output_type": "stream",
          "name": "stdout",
          "text": [
            "tensor([[1, 2, 3],\n",
            "        [4, 5, 6],\n",
            "        [7, 8, 9]])\n",
            "tensor([[ 6],\n",
            "        [15],\n",
            "        [24]])\n"
          ]
        }
      ]
    },
    {
      "cell_type": "code",
      "source": [
        "print(logit.shape)\n",
        "print(logit_max.shape)\n",
        "print(logit_exp_sum_inv.shape)\n",
        "print(probs.shape)\n",
        "print(L)\n",
        "print(dL_dlogprobs.shape)"
      ],
      "metadata": {
        "colab": {
          "base_uri": "https://localhost:8080/"
        },
        "id": "SaigF_KKU9p5",
        "outputId": "48d187c0-8fcc-4167-8840-46fbea9995a8"
      },
      "execution_count": 57,
      "outputs": [
        {
          "output_type": "stream",
          "name": "stdout",
          "text": [
            "torch.Size([6000, 5])\n",
            "torch.Size([6000, 1])\n",
            "torch.Size([6000, 1])\n",
            "torch.Size([6000, 5])\n",
            "tensor(1.5833, grad_fn=<NegBackward0>)\n",
            "torch.Size([6000, 5])\n"
          ]
        }
      ]
    },
    {
      "cell_type": "code",
      "source": [
        "import torch.nn.functional as F"
      ],
      "metadata": {
        "id": "qMtzGawfuDvy"
      },
      "execution_count": 58,
      "outputs": []
    },
    {
      "cell_type": "code",
      "source": [
        "W,b = initialize_w_b(total_pixels)\n",
        "lr = 0.001\n",
        "loss_list = []\n",
        "\n",
        "for i in range(1000):\n",
        "  # forward pass\n",
        "  logit = X_train @ W + b\n",
        "  logit_max = logit.max(dim = 1, keepdim = True).values\n",
        "  logit_new = logit - logit_max\n",
        "  # Softmax calculation begin here\n",
        "  logit_exp = logit_new.exp()\n",
        "  logit_exp_sum = logit_exp.sum(dim = 1, keepdim = True)\n",
        "  logit_exp_sum_inv = logit_exp_sum ** (-1)\n",
        "  probs = logit_exp * logit_exp_sum_inv\n",
        "  # Softmax ends here\n",
        "  # Cross entropy calculation begins here\n",
        "  log_probs = torch.log(probs)\n",
        "  L = - log_probs[torch.arange(X_train.shape[0]), y_train].mean()\n",
        "\n",
        "  loss_list.append(L.item())\n",
        "\n",
        "  step_variables_list = [\n",
        "      W,\n",
        "      b,\n",
        "      logit,\n",
        "      logit_max,\n",
        "      logit_new,\n",
        "      logit_exp,\n",
        "      logit_exp_sum,\n",
        "      logit_exp_sum_inv,\n",
        "      probs,\n",
        "      log_probs\n",
        "  ]\n",
        "  # for item in step_variables_list:\n",
        "  #   item.retain_grad()\n",
        "  # L.backward()\n",
        "\n",
        "  # Manual backpropagation\n",
        "  dL_dlogprobs = torch.zeros_like(log_probs)\n",
        "  dL_dlogprobs[torch.arange(X_train.shape[0]), y_train] = -1 / X_train.shape[0]\n",
        "\n",
        "  dL_dprobs = (probs)**(-1) * dL_dlogprobs\n",
        "\n",
        "  dL_dlogit_exp_sum_inv = (logit_exp * dL_dprobs).sum(1, keepdim = True)\n",
        "\n",
        "  # 1st half of calculation\n",
        "  dL_dlogit_exp = logit_exp_sum_inv * dL_dprobs\n",
        "\n",
        "  dL_dlogit_exp_sum = -(logit_exp_sum ** (-2)) * dL_dlogit_exp_sum_inv\n",
        "\n",
        "  # 2nd half calculation\n",
        "  dL_dlogit_exp += torch.ones_like(logit_exp) * dL_dlogit_exp_sum\n",
        "\n",
        "  dL_dlogit_new = logit_new.exp() * dL_dlogit_exp\n",
        "\n",
        "  dL_dlogit_max = - dL_dlogit_new.sum(1, keepdim = True)\n",
        "\n",
        "  dL_dlogit = dL_dlogit_new.clone()\n",
        "\n",
        "  # This was done at first but gave correct answer although not the correct way of implementation\n",
        "  # dL_dlogit += torch.ones_like(logit) * dL_dlogit_max\n",
        "\n",
        "  # This is using the pre-defined one-hot encoding\n",
        "  # dL_dlogit += F.one_hot(logit.max(1).indices, 5) * dL_dlogit_max\n",
        "\n",
        "  # Self-implementation of the one-hot\n",
        "  mask = (logit == logit.max(1, keepdim=True).values)\n",
        "  mask = mask.int()\n",
        "  dL_dlogit += mask * dL_dlogit_max\n",
        "\n",
        "  dL_dW = X_train.T @ dL_dlogit\n",
        "  dL_db = dL_dlogit.sum(0)\n",
        "\n",
        "  # Making updates\n",
        "  with torch.no_grad():\n",
        "    W -= lr * dL_dW\n",
        "    b -= lr * dL_db"
      ],
      "metadata": {
        "id": "18eJsf9MqAk5"
      },
      "execution_count": 70,
      "outputs": []
    },
    {
      "cell_type": "code",
      "source": [
        "# print(torch.allclose(log_probs.grad, dL_dlogprobs))\n",
        "# compare_grad(log_probs.grad, dL_dlogprobs)\n",
        "# print(\"..........................................\")\n",
        "# print(torch.allclose(probs.grad, dL_dprobs))\n",
        "# compare_grad(probs.grad, dL_dprobs)\n",
        "# print(\"..........................................\")\n",
        "# print(torch.allclose(logit_exp_sum_inv.grad, dL_dlogit_exp_sum_inv))\n",
        "# compare_grad(logit_exp_sum_inv.grad, dL_dlogit_exp_sum_inv)\n",
        "# print(\"..........................................\")\n",
        "# print(torch.allclose(logit_exp_sum.grad, dL_dlogit_exp_sum))\n",
        "# compare_grad(logit_exp_sum.grad, dL_dlogit_exp_sum)\n",
        "# print(\"..........................................\")\n",
        "# print(torch.allclose(logit_exp.grad, dL_dlogit_exp))\n",
        "# compare_grad(logit_exp.grad, dL_dlogit_exp)\n",
        "# print(\"..........................................\")\n",
        "# print(torch.allclose(logit_new.grad, dL_dlogit_new))\n",
        "# compare_grad(logit_new.grad, dL_dlogit_new)\n",
        "# print(\"..........................................\")\n",
        "# print(torch.allclose(logit_max.grad, dL_dlogit_max))\n",
        "# compare_grad(logit_max.grad, dL_dlogit_max)\n",
        "# print(\"..........................................\")\n",
        "# print(torch.allclose(logit.grad, dL_dlogit))\n",
        "# compare_grad(logit.grad, dL_dlogit)\n",
        "# print(\"..........................................\")\n",
        "# print(torch.allclose(W.grad, dL_dW))\n",
        "# compare_grad(W.grad, dL_dW)\n",
        "# print(\"..........................................\")\n",
        "# print(torch.allclose(b.grad, dL_db))\n",
        "# compare_grad(b.grad, dL_db)"
      ],
      "metadata": {
        "id": "HbGE7I7TeCMr"
      },
      "execution_count": 71,
      "outputs": []
    },
    {
      "cell_type": "code",
      "source": [
        "print(loss_list)"
      ],
      "metadata": {
        "colab": {
          "base_uri": "https://localhost:8080/"
        },
        "id": "q_vJ4M4Us7ah",
        "outputId": "5bab7936-0b86-4965-83da-a32f22009e9a"
      },
      "execution_count": 72,
      "outputs": [
        {
          "output_type": "stream",
          "name": "stdout",
          "text": [
            "[1.6066882610321045, 1.6041553020477295, 1.6016396284103394, 1.5991407632827759, 1.5966588258743286, 1.5941932201385498, 1.5917437076568604, 1.5893096923828125, 1.5868914127349854, 1.5844879150390625, 1.5820993185043335, 1.5797252655029297, 1.5773652791976929, 1.575019359588623, 1.572687029838562, 1.5703681707382202, 1.5680625438690186, 1.565769910812378, 1.563489556312561, 1.561221957206726, 1.5589667558670044, 1.5567233562469482, 1.5544918775558472, 1.5522719621658325, 1.5500633716583252, 1.547865867614746, 1.5456796884536743, 1.5435041189193726, 1.5413391590118408, 1.5391846895217896, 1.5370407104492188, 1.5349063873291016, 1.5327821969985962, 1.530668020248413, 1.5285630226135254, 1.5264678001403809, 1.5243818759918213, 1.5223050117492676, 1.5202370882034302, 1.5181783437728882, 1.5161283016204834, 1.5140869617462158, 1.5120537281036377, 1.5100290775299072, 1.5080128908157349, 1.5060045719146729, 1.5040045976638794, 1.5020122528076172, 1.5000276565551758, 1.4980509281158447, 1.4960817098617554, 1.4941200017929077, 1.4921655654907227, 1.4902186393737793, 1.4882786273956299, 1.486345887184143, 1.4844200611114502, 1.4825012683868408, 1.4805893898010254, 1.4786840677261353, 1.4767855405807495, 1.474893569946289, 1.4730079174041748, 1.471129059791565, 1.4692564010620117, 1.4673899412155151, 1.4655299186706543, 1.4636757373809814, 1.4618279933929443, 1.4599859714508057, 1.458150029182434, 1.4563201665878296, 1.4544957876205444, 1.4526772499084473, 1.450864553451538, 1.4490575790405273, 1.4472559690475464, 1.4454599618911743, 1.4436695575714111, 1.4418846368789673, 1.4401049613952637, 1.438330888748169, 1.4365617036819458, 1.4347978830337524, 1.4330394268035889, 1.4312859773635864, 1.4295376539230347, 1.4277942180633545, 1.4260560274124146, 1.4243229627609253, 1.4225945472717285, 1.4208709001541138, 1.4191524982452393, 1.4174386262893677, 1.4157296419143677, 1.4140254259109497, 1.4123258590698242, 1.4106310606002808, 1.4089409112930298, 1.4072551727294922, 1.4055742025375366, 1.403897762298584, 1.4022256135940552, 1.4005581140518188, 1.398895025253296, 1.3972363471984863, 1.3955820798873901, 1.3939321041107178, 1.3922866582870483, 1.3906453847885132, 1.3890082836151123, 1.3873755931854248, 1.3857471942901611, 1.3841227293014526, 1.382502555847168, 1.3808865547180176, 1.3792747259140015, 1.3776668310165405, 1.3760631084442139, 1.3744635581970215, 1.3728678226470947, 1.3712762594223022, 1.369688630104065, 1.368105173110962, 1.366525411605835, 1.3649495840072632, 1.3633778095245361, 1.3618097305297852, 1.3602458238601685, 1.3586853742599487, 1.3571289777755737, 1.355576515197754, 1.3540276288986206, 1.352482557296753, 1.3509413003921509, 1.3494038581848145, 1.3478699922561646, 1.3463398218154907, 1.3448134660720825, 1.3432908058166504, 1.3417718410491943, 1.3402563333511353, 1.3387445211410522, 1.3372364044189453, 1.335731863975525, 1.334230899810791, 1.3327332735061646, 1.3312395811080933, 1.3297492265701294, 1.3282623291015625, 1.3267791271209717, 1.3252995014190674, 1.323823094367981, 1.3223501443862915, 1.320880651473999, 1.3194149732589722, 1.3179525136947632, 1.3164933919906616, 1.315037727355957, 1.3135854005813599, 1.3121365308761597, 1.3106911182403564, 1.309248924255371, 1.3078101873397827, 1.3063747882843018, 1.3049426078796387, 1.303513765335083, 1.3020882606506348, 1.300666093826294, 1.299247145652771, 1.2978315353393555, 1.2964190244674683, 1.2950098514556885, 1.2936040163040161, 1.292201280593872, 1.2908018827438354, 1.2894057035446167, 1.2880126237869263, 1.2866227626800537, 1.2852360010147095, 1.2838525772094727, 1.2824721336364746, 1.2810949087142944, 1.2797207832336426, 1.2783498764038086, 1.276982069015503, 1.275617241859436, 1.274255633354187, 1.2728971242904663, 1.271541714668274, 1.2701892852783203, 1.268839955329895, 1.2674938440322876, 1.2661505937576294, 1.2648104429244995, 1.2634732723236084, 1.2621392011642456, 1.2608081102371216, 1.2594799995422363, 1.2581549882888794, 1.2568328380584717, 1.2555137872695923, 1.254197597503662, 1.2528842687606812, 1.251574158668518, 1.2502667903900146, 1.24896240234375, 1.2476609945297241, 1.2463624477386475, 1.2450670003890991, 1.2437742948532104, 1.2424845695495605, 1.2411975860595703, 1.2399135828018188, 1.2386324405670166, 1.2373541593551636, 1.2360787391662598, 1.2348061800003052, 1.2335364818572998, 1.2322696447372437, 1.2310055494308472, 1.2297444343566895, 1.2284859418869019, 1.2272303104400635, 1.2259775400161743, 1.2247275114059448, 1.2234803438186646, 1.2222357988357544, 1.2209941148757935, 1.2197552919387817, 1.2185190916061401, 1.2172857522964478, 1.2160550355911255, 1.2148269414901733, 1.2136019468307495, 1.2123793363571167, 1.211159586906433, 1.2099425792694092, 1.2087281942367554, 1.2075165510177612, 1.2063075304031372, 1.2051011323928833, 1.2038975954055786, 1.2026965618133545, 1.2014981508255005, 1.2003026008605957, 1.1991095542907715, 1.1979191303253174, 1.1967313289642334, 1.195546269416809, 1.1943637132644653, 1.1931838989257812, 1.1920067071914673, 1.1908318996429443, 1.189659833908081, 1.1884902715682983, 1.1873233318328857, 1.1861588954925537, 1.1849972009658813, 1.183837890625, 1.1826812028884888, 1.1815271377563477, 1.1803754568099976, 1.1792263984680176, 1.1780797243118286, 1.1769359111785889, 1.175794243812561, 1.1746553182601929, 1.1735186576843262, 1.1723846197128296, 1.1712532043457031, 1.1701241731643677, 1.1689975261688232, 1.1678733825683594, 1.166751742362976, 1.1656326055526733, 1.1645158529281616, 1.163401484489441, 1.1622898578643799, 1.1611803770065308, 1.1600732803344727, 1.1589688062667847, 1.1578665971755981, 1.1567668914794922, 1.1556693315505981, 1.1545745134353638, 1.1534819602966309, 1.152391791343689, 1.151304006576538, 1.1502184867858887, 1.1491354703903198, 1.1480547189712524, 1.146976351737976, 1.1459003686904907, 1.1448266506195068, 1.143755316734314, 1.1426862478256226, 1.1416196823120117, 1.1405551433563232, 1.1394931077957153, 1.1384334564208984, 1.137375831604004, 1.1363208293914795, 1.1352678537368774, 1.1342172622680664, 1.1331689357757568, 1.1321228742599487, 1.131079077720642, 1.130037546157837, 1.1289983987808228, 1.127961277961731, 1.1269265413284302, 1.1258940696716309, 1.1248637437820435, 1.123835563659668, 1.1228097677230835, 1.1217859983444214, 1.1207646131515503, 1.1197453737258911, 1.1187283992767334, 1.1177133321762085, 1.1167007684707642, 1.1156904697418213, 1.1146819591522217, 1.113675832748413, 1.1126717329025269, 1.1116700172424316, 1.1106702089309692, 1.1096729040145874, 1.1086772680282593, 1.1076841354370117, 1.1066930294036865, 1.1057039499282837, 1.1047170162200928, 1.1037323474884033, 1.1027494668960571, 1.1017690896987915, 1.1007906198501587, 1.0998141765594482, 1.0988398790359497, 1.097867727279663, 1.0968976020812988, 1.095929503440857, 1.0949634313583374, 1.0939996242523193, 1.0930376052856445, 1.0920778512954712, 1.0911200046539307, 1.0901641845703125, 1.0892103910446167, 1.0882587432861328, 1.0873091220855713, 1.0863615274429321, 1.0854157209396362, 1.0844722986221313, 1.0835305452346802, 1.082590937614441, 1.0816532373428345, 1.0807175636291504, 1.0797837972640991, 1.0788521766662598, 1.0779223442077637, 1.0769946575164795, 1.0760688781738281, 1.07514488697052, 1.0742229223251343, 1.0733031034469604, 1.0723849534988403, 1.0714689493179321, 1.0705547332763672, 1.0696426630020142, 1.0687322616577148, 1.0678237676620483, 1.0669174194335938, 1.0660127401351929, 1.0651100873947144, 1.0642093420028687, 1.0633103847503662, 1.062413215637207, 1.0615181922912598, 1.0606249570846558, 1.059733510017395, 1.058843970298767, 1.057956337928772, 1.0570704936981201, 1.056186556816101, 1.0553044080734253, 1.0544242858886719, 1.0535457134246826, 1.0526691675186157, 1.051794409751892, 1.0509214401245117, 1.0500502586364746, 1.0491809844970703, 1.0483133792877197, 1.047447681427002, 1.046583652496338, 1.0457216501235962, 1.0448611974716187, 1.0440027713775635, 1.043146014213562, 1.0422909259796143, 1.0414377450942993, 1.040586233139038, 1.0397366285324097, 1.0388888120651245, 1.038042426109314, 1.0371980667114258, 1.0363552570343018, 1.0355143547058105, 1.034675121307373, 1.0338376760482788, 1.0330018997192383, 1.0321677923202515, 1.0313353538513184, 1.030504822731018, 1.029675841331482, 1.028848648071289, 1.0280232429504395, 1.0271992683410645, 1.0263770818710327, 1.0255566835403442, 1.02473783493042, 1.0239207744598389, 1.023105263710022, 1.0222915410995483, 1.0214793682098389, 1.0206689834594727, 1.0198601484298706, 1.0190531015396118, 1.0182476043701172, 1.0174436569213867, 1.0166414976119995, 1.015840768814087, 1.0150419473648071, 1.014244556427002, 1.0134488344192505, 1.0126546621322632, 1.0118621587753296, 1.0110713243484497, 1.010282039642334, 1.0094943046569824, 1.008708119392395, 1.0079237222671509, 1.0071407556533813, 1.006359338760376, 1.0055797100067139, 1.0048013925552368, 1.004024863243103, 1.0032498836517334, 1.0024762153625488, 1.0017043352127075, 1.0009338855743408, 1.0001651048660278, 0.9993978142738342, 0.9986318945884705, 0.99786776304245, 0.9971050024032593, 0.9963439106941223, 0.9955843091011047, 0.9948261976242065, 0.994069516658783, 0.9933143854141235, 0.9925609827041626, 0.9918087720870972, 0.9910581707954407, 0.9903091788291931, 0.9895614981651306, 0.9888153672218323, 0.9880707263946533, 0.9873276352882385, 0.9865859150886536, 0.9858458638191223, 0.9851070046424866, 0.9843698143959045, 0.9836339354515076, 0.9828996658325195, 0.9821666479110718, 0.9814352989196777, 0.9807053804397583, 0.9799767136573792, 0.9792496562004089, 0.9785240888595581, 0.9777997136116028, 0.9770768880844116, 0.9763554930686951, 0.9756354689598083, 0.9749169945716858, 0.9741999506950378, 0.9734841585159302, 0.9727697968482971, 0.972057044506073, 0.9713451862335205, 0.970635175704956, 0.9699264168739319, 0.9692191481590271, 0.9685131311416626, 0.9678084254264832, 0.9671053290367126, 0.9664034843444824, 0.9657029509544373, 0.9650039076805115, 0.9643060564994812, 0.9636096954345703, 0.9629146456718445, 0.9622209668159485, 0.9615286588668823, 0.9608375430107117, 0.96014803647995, 0.9594594836235046, 0.958772599697113, 0.9580869674682617, 0.9574025869369507, 0.9567195773124695, 0.9560378193855286, 0.9553574919700623, 0.9546783566474915, 0.95400071144104, 0.9533243179321289, 0.9526492357254028, 0.9519752860069275, 0.9513028264045715, 0.950631320476532, 0.9499616026878357, 0.9492928981781006, 0.948625385761261, 0.947959303855896, 0.9472944140434265, 0.9466308355331421, 0.9459685683250427, 0.9453076124191284, 0.9446477890014648, 0.9439892768859863, 0.9433320164680481, 0.9426760077476501, 0.9420212507247925, 0.9413677453994751, 0.940715491771698, 0.9400644302368164, 0.9394146203994751, 0.9387661218643188, 0.9381188154220581, 0.9374726414680481, 0.9368278980255127, 0.9361841678619385, 0.9355417490005493, 0.9349005818367004, 0.9342606067657471, 0.9336217641830444, 0.9329841136932373, 0.93234783411026, 0.9317125082015991, 0.9310784339904785, 0.9304457902908325, 0.9298141002655029, 0.9291837811470032, 0.9285544157028198, 0.9279264211654663, 0.9272995591163635, 0.9266738295555115, 0.9260492920875549, 0.9254259467124939, 0.9248037338256836, 0.9241825938224792, 0.9235628247261047, 0.9229440093040466, 0.9223264455795288, 0.9217101335525513, 0.9210948348045349, 0.9204807281494141, 0.9198675751686096, 0.9192558526992798, 0.9186452031135559, 0.918035626411438, 0.9174270629882812, 0.9168198108673096, 0.9162136316299438, 0.9156085848808289, 0.9150046110153198, 0.9144017696380615, 0.9137999415397644, 0.9131993651390076, 0.9125999212265015, 0.9120014905929565, 0.9114043116569519, 0.9108079671859741, 0.9102129936218262, 0.9096189737319946, 0.9090259671211243, 0.908434271812439, 0.9078433513641357, 0.9072537422180176, 0.9066652059555054, 0.9060776233673096, 0.9054912328720093, 0.9049059152603149, 0.9043216109275818, 0.9037383794784546, 0.9031561613082886, 0.9025751948356628, 0.9019951224327087, 0.9014161229133606, 0.9008381962776184, 0.9002612233161926, 0.8996854424476624, 0.8991106748580933, 0.8985369205474854, 0.8979642987251282, 0.8973925709724426, 0.896821916103363, 0.8962522745132446, 0.895683765411377, 0.8951162695884705, 0.8945496678352356, 0.8939841985702515, 0.8934196829795837, 0.8928561806678772, 0.8922938108444214, 0.8917322754859924, 0.8911718726158142, 0.8906125426292419, 0.8900541067123413, 0.8894966840744019, 0.8889403343200684, 0.8883848190307617, 0.887830376625061, 0.8872769474983215, 0.8867244720458984, 0.8861730098724365, 0.8856225609779358, 0.8850730657577515, 0.8845245838165283, 0.8839769959449768, 0.8834304213523865, 0.8828848600387573, 0.8823401927947998, 0.8817965388298035, 0.8812538385391235, 0.88071209192276, 0.8801712989807129, 0.879631519317627, 0.8790926933288574, 0.8785547614097595, 0.8780177235603333, 0.8774817585945129, 0.8769466876983643, 0.876412570476532, 0.8758794069290161, 0.8753471970558167, 0.874815821647644, 0.8742855787277222, 0.8737560510635376, 0.8732275366783142, 0.8726999759674072, 0.8721733689308167, 0.8716475963592529, 0.8711227178573608, 0.8705987930297852, 0.8700758218765259, 0.8695536851882935, 0.869032621383667, 0.8685123920440674, 0.8679929971694946, 0.8674746155738831, 0.8669571280479431, 0.8664404153823853, 0.8659247159957886, 0.8654097318649292, 0.8648959994316101, 0.864382803440094, 0.8638707399368286, 0.8633593916893005, 0.8628489375114441, 0.8623394966125488, 0.8618308901786804, 0.8613230586051941, 0.860816240310669, 0.8603101968765259, 0.8598051071166992, 0.8593007922172546, 0.8587973713874817, 0.8582949042320251, 0.8577932715415955, 0.8572924733161926, 0.8567925095558167, 0.8562934398651123, 0.8557952642440796, 0.8552977442741394, 0.8548012971878052, 0.8543055057525635, 0.853810727596283, 0.8533167243003845, 0.8528235554695129, 0.852331280708313, 0.8518397808074951, 0.8513491749763489, 0.8508592844009399, 0.850370466709137, 0.8498823046684265, 0.8493950366973877, 0.8489084243774414, 0.8484227657318115, 0.847938060760498, 0.8474540114402771, 0.8469708561897278, 0.8464885354042053, 0.8460069298744202, 0.8455260992050171, 0.8450462222099304, 0.844567060470581, 0.8440887331962585, 0.8436112403869629, 0.8431345224380493, 0.8426586389541626, 0.8421835899353027, 0.8417092561721802, 0.8412356972694397, 0.8407630324363708, 0.8402910232543945, 0.8398198485374451, 0.8393495082855225, 0.8388798832893372, 0.8384112119674683, 0.8379431366920471, 0.8374760150909424, 0.8370095491409302, 0.8365439176559448, 0.836078941822052, 0.8356147408485413, 0.8351515531539917, 0.8346889615058899, 0.8342271447181702, 0.8337660431861877, 0.8333056569099426, 0.8328462839126587, 0.8323874473571777, 0.8319295048713684, 0.8314722776412964, 0.8310157656669617, 0.8305599689483643, 0.8301050066947937, 0.82965087890625, 0.8291972875595093, 0.8287445306777954, 0.8282925486564636, 0.8278414011001587, 0.8273907899856567, 0.8269410729408264, 0.8264920115470886, 0.8260437250137329, 0.8255960941314697, 0.8251492381095886, 0.8247032165527344, 0.8242577910423279, 0.8238131403923035, 0.8233693242073059, 0.8229260444641113, 0.822483479976654, 0.8220418095588684, 0.8216006755828857, 0.8211604952812195, 0.8207208514213562, 0.8202819228172302, 0.8198437690734863, 0.819406270980835, 0.8189695477485657, 0.8185334205627441, 0.8180981278419495, 0.8176634311676025, 0.8172295093536377, 0.8167963027954102, 0.8163636326789856, 0.8159317970275879, 0.8155007362365723, 0.8150703310966492, 0.814640462398529, 0.814211368560791, 0.8137830495834351, 0.8133553266525269, 0.8129281997680664, 0.8125019669532776, 0.8120763301849365, 0.8116512894630432, 0.811227023601532, 0.8108034729957581, 0.8103805184364319, 0.8099583387374878, 0.8095366954803467, 0.8091158270835876, 0.8086955547332764, 0.8082759380340576, 0.807857096195221, 0.8074389100074768, 0.8070213198661804, 0.8066043257713318, 0.8061880469322205, 0.8057724833488464, 0.8053573966026306, 0.8049432635307312, 0.80452960729599, 0.8041167259216309, 0.8037044405937195, 0.8032927513122559, 0.8028817772865295, 0.8024712800979614, 0.8020616173744202, 0.8016524910926819, 0.8012440800666809, 0.8008363246917725, 0.8004290461540222, 0.8000226020812988, 0.7996166944503784, 0.7992114424705505, 0.79880690574646, 0.7984028458595276, 0.7979995012283325, 0.7975967526435852, 0.7971946597099304, 0.7967932820320129, 0.7963924407958984, 0.7959921956062317, 0.7955926060676575, 0.7951936721801758, 0.7947953939437866, 0.7943976521492004, 0.794000506401062, 0.7936040163040161, 0.7932081818580627, 0.7928128838539124, 0.7924182415008545, 0.7920241951942444, 0.7916308045387268, 0.7912379503250122, 0.7908456325531006, 0.7904540300369263, 0.7900630831718445, 0.7896726727485657, 0.7892829775810242, 0.7888936400413513, 0.7885050177574158, 0.7881170511245728, 0.7877296805381775, 0.7873428463935852, 0.7869565486907959, 0.7865710258483887, 0.7861859798431396, 0.7858015298843384, 0.7854175567626953, 0.7850343585014343, 0.7846516370773315, 0.7842695116996765, 0.7838879227638245, 0.7835071086883545, 0.783126711845398, 0.7827469110488892, 0.7823676466941833, 0.7819890975952148, 0.7816110253334045, 0.7812334895133972, 0.7808566093444824, 0.780480146408081, 0.780104398727417, 0.7797293066978455, 0.7793546319007874, 0.778980553150177, 0.7786070704460144, 0.7782341241836548, 0.7778617143630981, 0.7774900197982788, 0.7771186232566833, 0.7767479419708252, 0.7763777375221252, 0.7760082483291626, 0.7756391763687134, 0.7752706408500671, 0.7749027609825134, 0.7745352983474731, 0.7741685509681702, 0.7738022208213806, 0.7734365463256836, 0.7730713486671448, 0.7727066874504089, 0.7723426222801208, 0.7719790935516357, 0.7716160416603088, 0.7712535858154297, 0.7708916068077087, 0.7705302834510803, 0.7701694369316101, 0.7698090672492981, 0.7694492936134338, 0.7690901160240173, 0.7687313556671143, 0.7683731317520142, 0.768015444278717, 0.7676583528518677, 0.7673017382621765, 0.7669456601142883, 0.7665901780128479, 0.7662351131439209, 0.7658805251121521, 0.7655265927314758, 0.7651731967926025, 0.7648202180862427, 0.7644677758216858, 0.7641158699989319, 0.763764500617981, 0.7634135484695435, 0.7630633115768433, 0.7627134323120117, 0.7623641490936279, 0.7620152831077576, 0.761667013168335, 0.7613191604614258, 0.7609718441963196, 0.7606251835823059, 0.7602788209915161, 0.7599329352378845, 0.7595877051353455, 0.7592430114746094, 0.7588987350463867, 0.7585549354553223, 0.7582116723060608, 0.7578688859939575, 0.7575266361236572, 0.7571848034858704, 0.7568435668945312, 0.7565027475357056, 0.7561624646186829, 0.7558225989341736, 0.7554833292961121, 0.755144476890564, 0.7548061609268188, 0.7544683218002319, 0.7541309595108032, 0.7537940144538879, 0.7534576654434204, 0.7531217336654663, 0.7527862787246704, 0.7524513602256775, 0.752116858959198, 0.7517828941345215, 0.7514494061470032, 0.7511162757873535, 0.7507838010787964, 0.7504516839981079, 0.7501201033592224, 0.7497888803482056, 0.7494582533836365, 0.7491281032562256, 0.7487983107566833, 0.7484691739082336, 0.7481403946876526, 0.747812032699585, 0.7474841475486755, 0.7471567392349243, 0.7468298077583313, 0.7465034127235413, 0.7461774349212646, 0.7458518743515015, 0.7455267906188965, 0.7452021241188049, 0.7448779940605164, 0.7445542812347412, 0.7442310452461243, 0.7439082264900208, 0.7435859441757202, 0.7432640790939331, 0.7429426312446594, 0.742621660232544, 0.7423011064529419, 0.741981029510498, 0.7416614294052124, 0.7413421869277954, 0.7410235404968262, 0.7407052516937256, 0.7403873801231384, 0.7400699853897095, 0.7397530674934387, 0.7394366264343262, 0.7391204237937927, 0.7388048768043518, 0.7384896874427795, 0.7381749749183655, 0.7378606796264648, 0.7375467419624329, 0.7372333407402039, 0.7369203567504883, 0.7366077303886414, 0.7362956404685974, 0.7359839677810669, 0.7356727123260498, 0.7353618144989014, 0.7350514531135559, 0.7347414493560791, 0.734431803226471, 0.7341228127479553, 0.7338141202926636, 0.7335058450698853, 0.7331979274749756]\n"
          ]
        }
      ]
    },
    {
      "cell_type": "code",
      "source": [
        "plt.plot(loss_list)"
      ],
      "metadata": {
        "colab": {
          "base_uri": "https://localhost:8080/",
          "height": 448
        },
        "id": "_2huQf2-sz4u",
        "outputId": "1abdfbf8-8015-4ec6-8a15-03b1d57d16e6"
      },
      "execution_count": 73,
      "outputs": [
        {
          "output_type": "execute_result",
          "data": {
            "text/plain": [
              "[<matplotlib.lines.Line2D at 0x7bb13821b750>]"
            ]
          },
          "metadata": {},
          "execution_count": 73
        },
        {
          "output_type": "display_data",
          "data": {
            "text/plain": [
              "<Figure size 640x480 with 1 Axes>"
            ],
            "image/png": "[encoded data removed]"
          },
          "metadata": {}
        }
      ]
    },
    {
      "cell_type": "code",
      "source": [
        "# Inference\n",
        "y_preds = X_test @ W + b\n",
        "\n",
        "# Softmax application\n",
        "logit_max = y_preds.max(dim=1, keepdim=True).values\n",
        "logit_new = y_preds - logit_max\n",
        "logit_exp = logit_new.exp()\n",
        "logit_exp_sum = logit_exp.sum(dim=1, keepdim=True)\n",
        "logit_exp_sum_inv = logit_exp_sum ** (-1)\n",
        "probs = logit_exp * logit_exp_sum_inv\n",
        "\n",
        "# Predicted class = argmax of probabilities\n",
        "pred_labels = probs.argmax(dim=1)\n",
        "print(pred_labels[:10])\n",
        "print(y_test[:10])\n",
        "\n",
        "correct_predictions = (y_test == pred_labels).sum()\n",
        "total_samples = y_test.shape[0]\n",
        "accuracy = correct_predictions.item() / total_samples\n",
        "\n",
        "print(\"Correct Predictions:\", correct_predictions.item(),\"out of\", total_samples)\n",
        "print(f\"Accuracy: {accuracy:.4f}\")"
      ],
      "metadata": {
        "id": "UmwQUp-DenPo",
        "colab": {
          "base_uri": "https://localhost:8080/"
        },
        "outputId": "ce902dbc-adc0-47bd-da91-616cf7748025"
      },
      "execution_count": 74,
      "outputs": [
        {
          "output_type": "stream",
          "name": "stdout",
          "text": [
            "tensor([1, 0, 1, 4, 0, 2, 4, 1, 4, 0])\n",
            "tensor([1, 0, 1, 4, 2, 2, 4, 1, 4, 0])\n",
            "Correct Predictions: 1272 out of 1500\n",
            "Accuracy: 0.8480\n"
          ]
        }
      ]
    },
    {
      "cell_type": "code",
      "source": [
        "!pip install torchmetrics"
      ],
      "metadata": {
        "colab": {
          "base_uri": "https://localhost:8080/"
        },
        "id": "vOz8IdySyrGU",
        "outputId": "aeb57aa2-63f3-42c1-cf31-e0c92e7a4f5d"
      },
      "execution_count": 75,
      "outputs": [
        {
          "output_type": "stream",
          "name": "stdout",
          "text": [
            "Collecting torchmetrics\n",
            "  Downloading torchmetrics-1.7.1-py3-none-any.whl.metadata (21 kB)\n",
            "Requirement already satisfied: numpy>1.20.0 in /usr/local/lib/python3.11/dist-packages (from torchmetrics) (2.0.2)\n",
            "Requirement already satisfied: packaging>17.1 in /usr/local/lib/python3.11/dist-packages (from torchmetrics) (24.2)\n",
            "Requirement already satisfied: torch>=2.0.0 in /usr/local/lib/python3.11/dist-packages (from torchmetrics) (2.6.0+cu124)\n",
            "Collecting lightning-utilities>=0.8.0 (from torchmetrics)\n",
            "  Downloading lightning_utilities-0.14.3-py3-none-any.whl.metadata (5.6 kB)\n",
            "Requirement already satisfied: setuptools in /usr/local/lib/python3.11/dist-packages (from lightning-utilities>=0.8.0->torchmetrics) (75.2.0)\n",
            "Requirement already satisfied: typing_extensions in /usr/local/lib/python3.11/dist-packages (from lightning-utilities>=0.8.0->torchmetrics) (4.13.1)\n",
            "Requirement already satisfied: filelock in /usr/local/lib/python3.11/dist-packages (from torch>=2.0.0->torchmetrics) (3.18.0)\n",
            "Requirement already satisfied: networkx in /usr/local/lib/python3.11/dist-packages (from torch>=2.0.0->torchmetrics) (3.4.2)\n",
            "Requirement already satisfied: jinja2 in /usr/local/lib/python3.11/dist-packages (from torch>=2.0.0->torchmetrics) (3.1.6)\n",
            "Requirement already satisfied: fsspec in /usr/local/lib/python3.11/dist-packages (from torch>=2.0.0->torchmetrics) (2025.3.2)\n",
            "Collecting nvidia-cuda-nvrtc-cu12==12.4.127 (from torch>=2.0.0->torchmetrics)\n",
            "  Downloading nvidia_cuda_nvrtc_cu12-12.4.127-py3-none-manylinux2014_x86_64.whl.metadata (1.5 kB)\n",
            "Collecting nvidia-cuda-runtime-cu12==12.4.127 (from torch>=2.0.0->torchmetrics)\n",
            "  Downloading nvidia_cuda_runtime_cu12-12.4.127-py3-none-manylinux2014_x86_64.whl.metadata (1.5 kB)\n",
            "Collecting nvidia-cuda-cupti-cu12==12.4.127 (from torch>=2.0.0->torchmetrics)\n",
            "  Downloading nvidia_cuda_cupti_cu12-12.4.127-py3-none-manylinux2014_x86_64.whl.metadata (1.6 kB)\n",
            "Collecting nvidia-cudnn-cu12==9.1.0.70 (from torch>=2.0.0->torchmetrics)\n",
            "  Downloading nvidia_cudnn_cu12-9.1.0.70-py3-none-manylinux2014_x86_64.whl.metadata (1.6 kB)\n",
            "Collecting nvidia-cublas-cu12==12.4.5.8 (from torch>=2.0.0->torchmetrics)\n",
            "  Downloading nvidia_cublas_cu12-12.4.5.8-py3-none-manylinux2014_x86_64.whl.metadata (1.5 kB)\n",
            "Collecting nvidia-cufft-cu12==11.2.1.3 (from torch>=2.0.0->torchmetrics)\n",
            "  Downloading nvidia_cufft_cu12-11.2.1.3-py3-none-manylinux2014_x86_64.whl.metadata (1.5 kB)\n",
            "Collecting nvidia-curand-cu12==10.3.5.147 (from torch>=2.0.0->torchmetrics)\n",
            "  Downloading nvidia_curand_cu12-10.3.5.147-py3-none-manylinux2014_x86_64.whl.metadata (1.5 kB)\n",
            "Collecting nvidia-cusolver-cu12==11.6.1.9 (from torch>=2.0.0->torchmetrics)\n",
            "  Downloading nvidia_cusolver_cu12-11.6.1.9-py3-none-manylinux2014_x86_64.whl.metadata (1.6 kB)\n",
            "Collecting nvidia-cusparse-cu12==12.3.1.170 (from torch>=2.0.0->torchmetrics)\n",
            "  Downloading nvidia_cusparse_cu12-12.3.1.170-py3-none-manylinux2014_x86_64.whl.metadata (1.6 kB)\n",
            "Requirement already satisfied: nvidia-cusparselt-cu12==0.6.2 in /usr/local/lib/python3.11/dist-packages (from torch>=2.0.0->torchmetrics) (0.6.2)\n",
            "Requirement already satisfied: nvidia-nccl-cu12==2.21.5 in /usr/local/lib/python3.11/dist-packages (from torch>=2.0.0->torchmetrics) (2.21.5)\n",
            "Requirement already satisfied: nvidia-nvtx-cu12==12.4.127 in /usr/local/lib/python3.11/dist-packages (from torch>=2.0.0->torchmetrics) (12.4.127)\n",
            "Collecting nvidia-nvjitlink-cu12==12.4.127 (from torch>=2.0.0->torchmetrics)\n",
            "  Downloading nvidia_nvjitlink_cu12-12.4.127-py3-none-manylinux2014_x86_64.whl.metadata (1.5 kB)\n",
            "Requirement already satisfied: triton==3.2.0 in /usr/local/lib/python3.11/dist-packages (from torch>=2.0.0->torchmetrics) (3.2.0)\n",
            "Requirement already satisfied: sympy==1.13.1 in /usr/local/lib/python3.11/dist-packages (from torch>=2.0.0->torchmetrics) (1.13.1)\n",
            "Requirement already satisfied: mpmath<1.4,>=1.1.0 in /usr/local/lib/python3.11/dist-packages (from sympy==1.13.1->torch>=2.0.0->torchmetrics) (1.3.0)\n",
            "Requirement already satisfied: MarkupSafe>=2.0 in /usr/local/lib/python3.11/dist-packages (from jinja2->torch>=2.0.0->torchmetrics) (3.0.2)\n",
            "Downloading torchmetrics-1.7.1-py3-none-any.whl (961 kB)\n",
            "\u001b[2K   \u001b[90m━━━━━━━━━━━━━━━━━━━━━━━━━━━━━━━━━━━━━━━━\u001b[0m \u001b[32m961.5/961.5 kB\u001b[0m \u001b[31m14.9 MB/s\u001b[0m eta \u001b[36m0:00:00\u001b[0m\n",
            "\u001b[?25hDownloading lightning_utilities-0.14.3-py3-none-any.whl (28 kB)\n",
            "Downloading nvidia_cublas_cu12-12.4.5.8-py3-none-manylinux2014_x86_64.whl (363.4 MB)\n",
            "\u001b[2K   \u001b[90m━━━━━━━━━━━━━━━━━━━━━━━━━━━━━━━━━━━━━━━━\u001b[0m \u001b[32m363.4/363.4 MB\u001b[0m \u001b[31m1.3 MB/s\u001b[0m eta \u001b[36m0:00:00\u001b[0m\n",
            "\u001b[?25hDownloading nvidia_cuda_cupti_cu12-12.4.127-py3-none-manylinux2014_x86_64.whl (13.8 MB)\n",
            "\u001b[2K   \u001b[90m━━━━━━━━━━━━━━━━━━━━━━━━━━━━━━━━━━━━━━━━\u001b[0m \u001b[32m13.8/13.8 MB\u001b[0m \u001b[31m22.7 MB/s\u001b[0m eta \u001b[36m0:00:00\u001b[0m\n",
            "\u001b[?25hDownloading nvidia_cuda_nvrtc_cu12-12.4.127-py3-none-manylinux2014_x86_64.whl (24.6 MB)\n",
            "\u001b[2K   \u001b[90m━━━━━━━━━━━━━━━━━━━━━━━━━━━━━━━━━━━━━━━━\u001b[0m \u001b[32m24.6/24.6 MB\u001b[0m \u001b[31m13.7 MB/s\u001b[0m eta \u001b[36m0:00:00\u001b[0m\n",
            "\u001b[?25hDownloading nvidia_cuda_runtime_cu12-12.4.127-py3-none-manylinux2014_x86_64.whl (883 kB)\n",
            "\u001b[2K   \u001b[90m━━━━━━━━━━━━━━━━━━━━━━━━━━━━━━━━━━━━━━━━\u001b[0m \u001b[32m883.7/883.7 kB\u001b[0m \u001b[31m35.3 MB/s\u001b[0m eta \u001b[36m0:00:00\u001b[0m\n",
            "\u001b[?25hDownloading nvidia_cudnn_cu12-9.1.0.70-py3-none-manylinux2014_x86_64.whl (664.8 MB)\n",
            "\u001b[2K   \u001b[90m━━━━━━━━━━━━━━━━━━━━━━━━━━━━━━━━━━━━━━━\u001b[0m \u001b[32m664.8/664.8 MB\u001b[0m \u001b[31m885.5 kB/s\u001b[0m eta \u001b[36m0:00:00\u001b[0m\n",
            "\u001b[?25hDownloading nvidia_cufft_cu12-11.2.1.3-py3-none-manylinux2014_x86_64.whl (211.5 MB)\n",
            "\u001b[2K   \u001b[90m━━━━━━━━━━━━━━━━━━━━━━━━━━━━━━━━━━━━━━━━\u001b[0m \u001b[32m211.5/211.5 MB\u001b[0m \u001b[31m6.6 MB/s\u001b[0m eta \u001b[36m0:00:00\u001b[0m\n",
            "\u001b[?25hDownloading nvidia_curand_cu12-10.3.5.147-py3-none-manylinux2014_x86_64.whl (56.3 MB)\n",
            "\u001b[2K   \u001b[90m━━━━━━━━━━━━━━━━━━━━━━━━━━━━━━━━━━━━━━━━\u001b[0m \u001b[32m56.3/56.3 MB\u001b[0m \u001b[31m13.1 MB/s\u001b[0m eta \u001b[36m0:00:00\u001b[0m\n",
            "\u001b[?25hDownloading nvidia_cusolver_cu12-11.6.1.9-py3-none-manylinux2014_x86_64.whl (127.9 MB)\n",
            "\u001b[2K   \u001b[90m━━━━━━━━━━━━━━━━━━━━━━━━━━━━━━━━━━━━━━━━\u001b[0m \u001b[32m127.9/127.9 MB\u001b[0m \u001b[31m8.2 MB/s\u001b[0m eta \u001b[36m0:00:00\u001b[0m\n",
            "\u001b[?25hDownloading nvidia_cusparse_cu12-12.3.1.170-py3-none-manylinux2014_x86_64.whl (207.5 MB)\n",
            "\u001b[2K   \u001b[90m━━━━━━━━━━━━━━━━━━━━━━━━━━━━━━━━━━━━━━━━\u001b[0m \u001b[32m207.5/207.5 MB\u001b[0m \u001b[31m5.5 MB/s\u001b[0m eta \u001b[36m0:00:00\u001b[0m\n",
            "\u001b[?25hDownloading nvidia_nvjitlink_cu12-12.4.127-py3-none-manylinux2014_x86_64.whl (21.1 MB)\n",
            "\u001b[2K   \u001b[90m━━━━━━━━━━━━━━━━━━━━━━━━━━━━━━━━━━━━━━━━\u001b[0m \u001b[32m21.1/21.1 MB\u001b[0m \u001b[31m76.8 MB/s\u001b[0m eta \u001b[36m0:00:00\u001b[0m\n",
            "\u001b[?25hInstalling collected packages: nvidia-nvjitlink-cu12, nvidia-curand-cu12, nvidia-cufft-cu12, nvidia-cuda-runtime-cu12, nvidia-cuda-nvrtc-cu12, nvidia-cuda-cupti-cu12, nvidia-cublas-cu12, lightning-utilities, nvidia-cusparse-cu12, nvidia-cudnn-cu12, nvidia-cusolver-cu12, torchmetrics\n",
            "  Attempting uninstall: nvidia-nvjitlink-cu12\n",
            "    Found existing installation: nvidia-nvjitlink-cu12 12.5.82\n",
            "    Uninstalling nvidia-nvjitlink-cu12-12.5.82:\n",
            "      Successfully uninstalled nvidia-nvjitlink-cu12-12.5.82\n",
            "  Attempting uninstall: nvidia-curand-cu12\n",
            "    Found existing installation: nvidia-curand-cu12 10.3.6.82\n",
            "    Uninstalling nvidia-curand-cu12-10.3.6.82:\n",
            "      Successfully uninstalled nvidia-curand-cu12-10.3.6.82\n",
            "  Attempting uninstall: nvidia-cufft-cu12\n",
            "    Found existing installation: nvidia-cufft-cu12 11.2.3.61\n",
            "    Uninstalling nvidia-cufft-cu12-11.2.3.61:\n",
            "      Successfully uninstalled nvidia-cufft-cu12-11.2.3.61\n",
            "  Attempting uninstall: nvidia-cuda-runtime-cu12\n",
            "    Found existing installation: nvidia-cuda-runtime-cu12 12.5.82\n",
            "    Uninstalling nvidia-cuda-runtime-cu12-12.5.82:\n",
            "      Successfully uninstalled nvidia-cuda-runtime-cu12-12.5.82\n",
            "  Attempting uninstall: nvidia-cuda-nvrtc-cu12\n",
            "    Found existing installation: nvidia-cuda-nvrtc-cu12 12.5.82\n",
            "    Uninstalling nvidia-cuda-nvrtc-cu12-12.5.82:\n",
            "      Successfully uninstalled nvidia-cuda-nvrtc-cu12-12.5.82\n",
            "  Attempting uninstall: nvidia-cuda-cupti-cu12\n",
            "    Found existing installation: nvidia-cuda-cupti-cu12 12.5.82\n",
            "    Uninstalling nvidia-cuda-cupti-cu12-12.5.82:\n",
            "      Successfully uninstalled nvidia-cuda-cupti-cu12-12.5.82\n",
            "  Attempting uninstall: nvidia-cublas-cu12\n",
            "    Found existing installation: nvidia-cublas-cu12 12.5.3.2\n",
            "    Uninstalling nvidia-cublas-cu12-12.5.3.2:\n",
            "      Successfully uninstalled nvidia-cublas-cu12-12.5.3.2\n",
            "  Attempting uninstall: nvidia-cusparse-cu12\n",
            "    Found existing installation: nvidia-cusparse-cu12 12.5.1.3\n",
            "    Uninstalling nvidia-cusparse-cu12-12.5.1.3:\n",
            "      Successfully uninstalled nvidia-cusparse-cu12-12.5.1.3\n",
            "  Attempting uninstall: nvidia-cudnn-cu12\n",
            "    Found existing installation: nvidia-cudnn-cu12 9.3.0.75\n",
            "    Uninstalling nvidia-cudnn-cu12-9.3.0.75:\n",
            "      Successfully uninstalled nvidia-cudnn-cu12-9.3.0.75\n",
            "  Attempting uninstall: nvidia-cusolver-cu12\n",
            "    Found existing installation: nvidia-cusolver-cu12 11.6.3.83\n",
            "    Uninstalling nvidia-cusolver-cu12-11.6.3.83:\n",
            "      Successfully uninstalled nvidia-cusolver-cu12-11.6.3.83\n",
            "Successfully installed lightning-utilities-0.14.3 nvidia-cublas-cu12-12.4.5.8 nvidia-cuda-cupti-cu12-12.4.127 nvidia-cuda-nvrtc-cu12-12.4.127 nvidia-cuda-runtime-cu12-12.4.127 nvidia-cudnn-cu12-9.1.0.70 nvidia-cufft-cu12-11.2.1.3 nvidia-curand-cu12-10.3.5.147 nvidia-cusolver-cu12-11.6.1.9 nvidia-cusparse-cu12-12.3.1.170 nvidia-nvjitlink-cu12-12.4.127 torchmetrics-1.7.1\n"
          ]
        }
      ]
    },
    {
      "cell_type": "code",
      "source": [
        "from torchmetrics import ConfusionMatrix, Precision, Recall, F1Score"
      ],
      "metadata": {
        "id": "2E8c1Bzjt9Xx"
      },
      "execution_count": 76,
      "outputs": []
    },
    {
      "cell_type": "code",
      "source": [
        "precision = Precision(task=\"multiclass\", num_classes=5)\n",
        "recall = Recall(task=\"multiclass\", num_classes=5)\n",
        "f1 = F1Score(task=\"multiclass\", num_classes=5)\n",
        "confmat = ConfusionMatrix(task=\"multiclass\", num_classes=5)\n",
        "\n",
        "print(\"Precision :: \",precision(pred_labels, y_test))\n",
        "print(\"Recall :: \",recall(pred_labels, y_test))\n",
        "print(\"f1 score :: \",f1(pred_labels, y_test))\n",
        "print(confmat(pred_labels, y_test))"
      ],
      "metadata": {
        "colab": {
          "base_uri": "https://localhost:8080/"
        },
        "id": "7apTFT6uysX3",
        "outputId": "fab98723-a87f-4b98-ef71-28d9cdc14802"
      },
      "execution_count": 77,
      "outputs": [
        {
          "output_type": "stream",
          "name": "stdout",
          "text": [
            "Precision ::  tensor(0.8480)\n",
            "Recall ::  tensor(0.8480)\n",
            "f1 score ::  tensor(0.8480)\n",
            "tensor([[222,  23,   9,  28,  15],\n",
            "        [ 11, 269,   3,   8,   3],\n",
            "        [  5,   9, 270,   1,   2],\n",
            "        [ 17,   9,   5, 272,   8],\n",
            "        [ 37,   4,   4,  27, 239]])\n"
          ]
        }
      ]
    }
  ]
}