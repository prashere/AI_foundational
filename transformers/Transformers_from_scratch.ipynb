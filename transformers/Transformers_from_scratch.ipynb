{
  "cells": [
    {
      "cell_type": "markdown",
      "metadata": {
        "id": "VglQ1EH3OZsi"
      },
      "source": [
        "## Library Imports"
      ]
    },
    {
      "cell_type": "code",
      "execution_count": null,
      "metadata": {
        "id": "fym-H7F2DeNr"
      },
      "outputs": [],
      "source": [
        "import math\n",
        "\n",
        "import torch\n",
        "import torch.nn as nn\n",
        "import torch.nn.functional as F\n",
        "import torch.optim as optim\n",
        "\n",
        "from collections import Counter\n",
        "from torch.utils.data import TensorDataset, DataLoader\n",
        "\n",
        "import matplotlib.pyplot as plt\n",
        "from torch.utils.tensorboard import SummaryWriter"
      ]
    },
    {
      "cell_type": "markdown",
      "metadata": {
        "id": "8qBGe_naKhDV"
      },
      "source": [
        "## Multi Attention Head"
      ]
    },
    {
      "cell_type": "code",
      "execution_count": null,
      "metadata": {
        "id": "5ibnmgzRJPoj"
      },
      "outputs": [],
      "source": [
        "class MultiHead(nn.Module):\n",
        "  def __init__(self, input_dim, num_heads, mask_flag=False):\n",
        "    super(MultiHead, self).__init__()\n",
        "    self.input_dim = input_dim\n",
        "    self.num_heads = num_heads\n",
        "    self.head_dim = input_dim // num_heads\n",
        "    self.mask_flag = mask_flag\n",
        "\n",
        "    self.q_linear = nn.Linear(input_dim, input_dim)\n",
        "    self.k_linear = nn.Linear(input_dim, input_dim)\n",
        "    self.v_linear = nn.Linear(input_dim, input_dim)\n",
        "    self.out_linear = nn.Linear(input_dim, input_dim)\n",
        "\n",
        "  def forward(self, query, key=None, value=None):\n",
        "    # [B, seq_len, input_dim]\n",
        "    if key is None:\n",
        "      key = query\n",
        "    if value is None:\n",
        "      value = query\n",
        "\n",
        "    B, seq_q, _ = query.shape\n",
        "    seq_k = key.shape[1]\n",
        "\n",
        "    def reshape(x):  # [B, seq_len, input_dim] to [B, num_heads, seq_len, head_dim]\n",
        "      return x.view(B, -1, self.num_heads, self.head_dim).transpose(1, 2)\n",
        "\n",
        "    q = reshape(self.q_linear(query))\n",
        "    k = reshape(self.k_linear(key))\n",
        "    v = reshape(self.v_linear(value))\n",
        "\n",
        "    # scaling\n",
        "    scores = (q @ k.transpose(-2, -1)) / (self.head_dim ** 0.5) # [B, num_heads, seq_q, seq_k]\n",
        "\n",
        "    if self.mask_flag:\n",
        "      mask = torch.tril(torch.ones(seq_q, seq_k, device=query.device))\n",
        "      scores = scores.masked_fill(mask == 0, float('-inf'))\n",
        "\n",
        "    attn_weights = F.softmax(scores, dim=-1)\n",
        "    attn_output = attn_weights @ v  # [B, num_heads, seq_q, head_dim]\n",
        "    attn_output = attn_output.transpose(1, 2).contiguous().view(B, seq_q, self.input_dim)\n",
        "\n",
        "    return self.out_linear(attn_output)"
      ]
    },
    {
      "cell_type": "markdown",
      "metadata": {
        "id": "X4HDjDSmX91U"
      },
      "source": [
        "## Feedforward Network"
      ]
    },
    {
      "cell_type": "code",
      "execution_count": null,
      "metadata": {
        "id": "rt6BlHVcNwl6"
      },
      "outputs": [],
      "source": [
        "class FeedForward(nn.Module):\n",
        "  def __init__(self, input_dim, hidden_dim):\n",
        "    super(FeedForward, self).__init__()\n",
        "    self.fc1 = nn.Linear(input_dim , hidden_dim)\n",
        "    self.fc2 = nn.Linear(hidden_dim, input_dim)\n",
        "\n",
        "    self.relu = nn.ReLU()\n",
        "\n",
        "  def forward(self,x):\n",
        "    output = self.fc2(self.relu(self.fc1(x)))\n",
        "    return output"
      ]
    },
    {
      "cell_type": "code",
      "execution_count": null,
      "metadata": {
        "id": "yitBVkESXbc5"
      },
      "outputs": [],
      "source": [
        "# class PositionalEncoding(nn.Module):\n",
        "#   def __init__(self):\n",
        "#     super(PositionalEncoding, self).__init__()\n"
      ]
    },
    {
      "cell_type": "markdown",
      "metadata": {
        "id": "kh8yInKpYAUw"
      },
      "source": [
        "## Positional Encoding"
      ]
    },
    {
      "cell_type": "code",
      "execution_count": null,
      "metadata": {
        "id": "WFVyOVDpX8Db"
      },
      "outputs": [],
      "source": [
        "class PositionalEncoding(nn.Module):\n",
        "    def __init__(self, input_dim, max_seq_length):\n",
        "        super(PositionalEncoding, self).__init__()\n",
        "\n",
        "        pe = torch.zeros(max_seq_length, input_dim)\n",
        "        position = torch.arange(0, max_seq_length, dtype=torch.float).unsqueeze(1)\n",
        "        div_term = torch.exp(torch.arange(0, input_dim, 2).float() * -(math.log(10000.0) / input_dim))\n",
        "\n",
        "        pe[:, 0::2] = torch.sin(position * div_term)\n",
        "        pe[:, 1::2] = torch.cos(position * div_term)\n",
        "\n",
        "        self.register_buffer('pe', pe.unsqueeze(0))\n",
        "\n",
        "    def forward(self, x):\n",
        "        return x + self.pe[:, :x.size(1)]"
      ]
    },
    {
      "cell_type": "markdown",
      "metadata": {
        "id": "G4mGBoKoYEsI"
      },
      "source": [
        "# Encoder"
      ]
    },
    {
      "cell_type": "markdown",
      "metadata": {
        "id": "qhsiI5h8YY9s"
      },
      "source": [
        "![image.png](data:image/png;base64,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)"
      ]
    },
    {
      "cell_type": "code",
      "execution_count": null,
      "metadata": {
        "id": "fcl21ZXtX8kU"
      },
      "outputs": [],
      "source": [
        "class EncoderBlock(nn.Module):\n",
        "  def __init__(self, input_dim, num_heads, hidden_size, dropout):\n",
        "    super(EncoderBlock,self).__init__()\n",
        "\n",
        "    self.multi_head = MultiHead(input_dim, num_heads)\n",
        "    self.feedforward = FeedForward(input_dim, hidden_size)\n",
        "\n",
        "    self.norm1 = nn.LayerNorm(input_dim)\n",
        "    self.norm2 = nn.LayerNorm(input_dim)\n",
        "\n",
        "    self.dropout = nn.Dropout(dropout)\n",
        "\n",
        "  def forward(self,x):\n",
        "    x = self.norm1(x + self.dropout(self.multi_head(x)))\n",
        "    x = self.norm2(x + self.dropout(self.feedforward(x)))\n",
        "    return x"
      ]
    },
    {
      "cell_type": "markdown",
      "metadata": {
        "id": "qtwTgFgKaZ5w"
      },
      "source": [
        "# Decoder\n"
      ]
    },
    {
      "cell_type": "markdown",
      "metadata": {
        "id": "0IG-8Q30abUZ"
      },
      "source": [
        "![image.png](data:image/png;base64,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)"
      ]
    },
    {
      "cell_type": "code",
      "execution_count": null,
      "metadata": {
        "id": "oD2cLC2oZf-M"
      },
      "outputs": [],
      "source": [
        "class DecoderBlock(nn.Module):\n",
        "  def __init__(self, input_dim, num_heads, hidden_size, dropout, mask_flag=True):\n",
        "    super(DecoderBlock, self).__init__()\n",
        "    self.self_attention = MultiHead(input_dim, num_heads, mask_flag)\n",
        "    self.norm1 = nn.LayerNorm(input_dim)\n",
        "\n",
        "    self.cross_attention = MultiHead(input_dim, num_heads)\n",
        "    self.norm2 = nn.LayerNorm(input_dim)\n",
        "\n",
        "    self.feedforward = FeedForward(input_dim, hidden_size)\n",
        "    self.norm3 = nn.LayerNorm(input_dim)\n",
        "\n",
        "    self.dropout = nn.Dropout(dropout)\n",
        "\n",
        "  def forward(self, x, encoder_out):\n",
        "    x = self.norm1(x + self.dropout(self.self_attention(x)))\n",
        "    x = self.norm2(x + self.dropout(self.cross_attention(x, encoder_out, encoder_out)))  # Q=x, K=V=encoder_out\n",
        "    x = self.norm3(x + self.dropout(self.feedforward(x)))\n",
        "    return x"
      ]
    },
    {
      "cell_type": "markdown",
      "metadata": {
        "id": "wM-wIrPSyMTk"
      },
      "source": [
        "# Transformer"
      ]
    },
    {
      "cell_type": "markdown",
      "metadata": {
        "id": "T8uKdA8AyPFC"
      },
      "source": [
        "![image.png](data:image/png;base64,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)"
      ]
    },
    {
      "cell_type": "code",
      "execution_count": null,
      "metadata": {
        "id": "-ZP9KQzTfk4W"
      },
      "outputs": [],
      "source": [
        "class Transformer(nn.Module):\n",
        "  def __init__(self,\n",
        "               source_vocab_len,\n",
        "               target_vocab_len,\n",
        "               max_seq_len,\n",
        "               emb_dim,\n",
        "               num_heads,\n",
        "               num_blocks,\n",
        "               hidden_size,\n",
        "               dropout):\n",
        "    super(Transformer,self).__init__()\n",
        "    self.encoder_emb = nn.Embedding(source_vocab_len, emb_dim)\n",
        "    self.decoder_emb = nn.Embedding(target_vocab_len, emb_dim)\n",
        "\n",
        "    self.pos_encoding = PositionalEncoding(emb_dim, max_seq_len)\n",
        "\n",
        "    self.encoder_blocks = nn.ModuleList([EncoderBlock(emb_dim, num_heads,hidden_size,dropout) for _ in range(num_blocks)])\n",
        "    self.decoder_blocks = nn.ModuleList([DecoderBlock(emb_dim, num_heads,hidden_size,dropout,mask_flag = True) for _ in range(num_blocks)])\n",
        "\n",
        "    self.fc = nn.Linear(emb_dim, target_vocab_len)\n",
        "    self.dropout = nn.Dropout(dropout)\n",
        "\n",
        "  def forward(self, src, tgt):\n",
        "    src_embedded = self.dropout(self.pos_encoding(self.encoder_emb(src)))\n",
        "    tgt_embedded = self.dropout(self.pos_encoding(self.decoder_emb(tgt)))\n",
        "\n",
        "    encoder_out = src_embedded\n",
        "    for encoder_block in self.encoder_blocks:\n",
        "        encoder_out = encoder_block(encoder_out)\n",
        "\n",
        "    decoder_out = tgt_embedded\n",
        "    for decoder_block in self.decoder_blocks:\n",
        "        decoder_out = decoder_block(decoder_out, encoder_out)\n",
        "\n",
        "    output = self.fc(decoder_out)\n",
        "    return output\n"
      ]
    },
    {
      "cell_type": "markdown",
      "metadata": {
        "id": "bmWG-C0r5NWi"
      },
      "source": [
        "# Decoder only english text generator"
      ]
    },
    {
      "cell_type": "markdown",
      "metadata": {
        "id": "TWbRb8rwPQRq"
      },
      "source": [
        "### Model Definition"
      ]
    },
    {
      "cell_type": "code",
      "execution_count": null,
      "metadata": {
        "id": "W1rH3sbRBZT3"
      },
      "outputs": [],
      "source": [
        "# Decoder based text generation model\n",
        "class DecoderTextGenerator(nn.Module):\n",
        "  def __init__(self, emb_dim, vocab_size, num_heads,hidden_size, dropout):\n",
        "    super(DecoderTextGenerator, self).__init__()\n",
        "\n",
        "    self.embedding = nn.Embedding(vocab_size, emb_dim)\n",
        "    self.decoder_block = DecoderBlock(emb_dim, num_heads,hidden_size, dropout)\n",
        "    self.fc = nn.Linear(emb_dim, vocab_size)\n",
        "\n",
        "  def forward(self, x): # [B, s]\n",
        "    x = self.embedding(x) # [B, s, emb]\n",
        "    x = self.decoder_block(x) # [B, s, emb]\n",
        "    x = self.fc(x) # [B, s, vocab_size]\n",
        "    return x"
      ]
    },
    {
      "cell_type": "markdown",
      "metadata": {
        "id": "lIo45dY65Uui"
      },
      "source": [
        "## BPE"
      ]
    },
    {
      "cell_type": "code",
      "execution_count": null,
      "metadata": {
        "id": "nzawc0xlcnVa"
      },
      "outputs": [],
      "source": [
        "class BPETokenizer:\n",
        "    def __init__(self):\n",
        "        self.vocab = {0: '<pad>', 1: '<sos>', 2: '<eos>'}\n",
        "        self.inverse_vocab = {'<pad>': 0, '<sos>': 1, '<eos>': 2}\n",
        "        self.merges = {}\n",
        "\n",
        "    def train(self, text, vocab_size):\n",
        "        unique_chars = sorted(set(text))\n",
        "        vocab_len = len(self.vocab)\n",
        "\n",
        "        for i, c in enumerate(unique_chars):\n",
        "            token_id = vocab_len + i\n",
        "            self.vocab[token_id] = c\n",
        "            self.inverse_vocab[c] = token_id\n",
        "\n",
        "        sequence = [self.inverse_vocab[c] for c in text] # tokens\n",
        "\n",
        "        while len(self.vocab) < vocab_size:\n",
        "            pair_counts = Counter(zip(sequence, sequence[1:]))\n",
        "            if not pair_counts:\n",
        "                break\n",
        "\n",
        "            best_pair = max(pair_counts.items(), key=lambda x: x[1])[0]\n",
        "            new_token_id = max(self.vocab) + 1\n",
        "\n",
        "            merged_str = self.vocab[best_pair[0]] + self.vocab[best_pair[1]]\n",
        "\n",
        "            self.vocab[new_token_id] = merged_str\n",
        "            self.merges[best_pair] = new_token_id\n",
        "\n",
        "            i = 0\n",
        "            new_seq = []\n",
        "            while i < len(sequence):\n",
        "                if i < len(sequence) - 1 and (sequence[i], sequence[i + 1]) == best_pair:\n",
        "                    new_seq.append(new_token_id)\n",
        "                    i += 2\n",
        "                else:\n",
        "                    new_seq.append(sequence[i])\n",
        "                    i += 1\n",
        "            sequence = new_seq\n",
        "\n",
        "    def encode(self, text, add_special_tokens=True):\n",
        "        tokens = [self.inverse_vocab.get(c, self.inverse_vocab['<pad>']) for c in text]\n",
        "        # merge_pairs = list(self.merges.items())\n",
        "        while True:\n",
        "            i = 0\n",
        "            new_tokens = []\n",
        "            merged = False\n",
        "            while i < len(tokens):\n",
        "                if i < len(tokens) - 1 and (tokens[i], tokens[i + 1]) in self.merges:\n",
        "                    new_tokens.append(self.merges[(tokens[i], tokens[i + 1])])\n",
        "                    i += 2\n",
        "                    merged = True\n",
        "                else:\n",
        "                    new_tokens.append(tokens[i])\n",
        "                    i += 1\n",
        "            tokens = new_tokens\n",
        "            if not merged:\n",
        "                break\n",
        "\n",
        "        if add_special_tokens:\n",
        "            tokens = [self.inverse_vocab['<sos>']] + tokens + [self.inverse_vocab['<eos>']]\n",
        "        return tokens\n",
        "\n",
        "    def decode(self, tokens):\n",
        "        filtered = [t for t in tokens if t not in {self.inverse_vocab['<sos>'], self.inverse_vocab['<eos>'], self.inverse_vocab['<pad>']}]\n",
        "        return ''.join(self.vocab.get(t, '') for t in filtered)"
      ]
    },
    {
      "cell_type": "code",
      "execution_count": null,
      "metadata": {
        "colab": {
          "base_uri": "https://localhost:8080/"
        },
        "id": "YS7JgikiS7Sx",
        "outputId": "8568514f-e1b6-4cb6-f159-6df291179c71"
      },
      "outputs": [
        {
          "name": "stdout",
          "output_type": "stream",
          "text": [
            "Encodings ::\n",
            "[1, 19, 11, 3, 4, 3, 9, 8, 5, 7, 3, 15, 2]\n",
            "--------------------------------------------------------\n",
            "Decodings ::\n",
            "today is a nice day\n",
            "--------------------------------------------------------\n",
            "Tokenizer's Vocab\n",
            "{0: '<pad>', 1: '<sos>', 2: '<eos>', 3: ' ', 4: 'a', 5: 'c', 6: 'd', 7: 'e', 8: 'i', 9: 'n', 10: 'o', 11: 's', 12: 't', 13: 'y', 14: 'da', 15: 'day', 16: 'to', 17: 'today', 18: 'today ', 19: 'today i'}\n",
            "--------------------------------------------------------\n",
            "Tokenizer's inverse Vocab\n",
            "{'<pad>': 0, '<sos>': 1, '<eos>': 2, ' ': 3, 'a': 4, 'c': 5, 'd': 6, 'e': 7, 'i': 8, 'n': 9, 'o': 10, 's': 11, 't': 12, 'y': 13}\n",
            "--------------------------------------------------------\n",
            "Merges :: \n",
            "{(6, 4): 14, (14, 13): 15, (12, 10): 16, (16, 15): 17, (17, 3): 18, (18, 8): 19}\n",
            "--------------------------------------------------------\n"
          ]
        }
      ],
      "source": [
        "text = \"today is a nice day\"\n",
        "\n",
        "tokenizer = BPETokenizer()\n",
        "\n",
        "tokenizer.train(text, vocab_size = 20)\n",
        "\n",
        "encodings = tokenizer.encode(text)\n",
        "print(\"Encodings ::\")\n",
        "print(encodings)\n",
        "print('--------------------------------------------------------')\n",
        "print(\"Decodings ::\")\n",
        "print(tokenizer.decode(encodings))\n",
        "print('--------------------------------------------------------')\n",
        "\n",
        "print(\"Tokenizer's Vocab\")\n",
        "print(tokenizer.vocab)\n",
        "print('--------------------------------------------------------')\n",
        "\n",
        "print(\"Tokenizer's inverse Vocab\")\n",
        "print(tokenizer.inverse_vocab)\n",
        "print('--------------------------------------------------------')\n",
        "\n",
        "print(\"Merges :: \")\n",
        "print(tokenizer.merges)\n",
        "print('--------------------------------------------------------')"
      ]
    },
    {
      "cell_type": "markdown",
      "metadata": {
        "id": "k1_roxFe5W3k"
      },
      "source": [
        "## Data preparation"
      ]
    },
    {
      "cell_type": "code",
      "execution_count": null,
      "metadata": {
        "id": "AwWzhd5I5V3G"
      },
      "outputs": [],
      "source": [
        "with open('raw_text.txt', 'r', encoding = 'utf-8') as file:\n",
        "    raw_text = file.read()"
      ]
    },
    {
      "cell_type": "code",
      "execution_count": null,
      "metadata": {
        "colab": {
          "base_uri": "https://localhost:8080/"
        },
        "id": "1Cqr9G3eNTSn",
        "outputId": "14c3b5aa-ae5c-4d01-e96e-b10801f40761"
      },
      "outputs": [
        {
          "name": "stdout",
          "output_type": "stream",
          "text": [
            "cats have captivated humans for centuries with their unique personalities, agility, and mysterious aura. whether as beloved pets or independent wanderers, cats have played a significant role in cultures across the world. their distinctive traits, history with humans, and intriguing behaviors make them one of the most fascinating animals on the planet.\n",
            "the history of cats dates back thousands of years. domesticated cats (felis catus) are believed to have originated from wild feline ancestors in the middle east. ancient egyptians were among the first to embrace cats, depicting them in art and worshipping them as sacred beings. these revered creatures were thought to bring good fortune and protect food supplies by controlling rodent populations. over time, cats spread across different regions, traveling with merchants and explorers, eventually becoming household pets.\n",
            "despite their domestication, cats have retained many of their natural instincts, making them unique among pets. unlike dogs, which rely heavily on human companionship, cats are largely independent. they can hunt, explore, and fend for themselves if necessary, though they appreciate affection and care from humans.\n",
            "unique characteristics and behavior\n",
            "cats possess a wide range of fascinating traits that set them apart. their agility and flexibility enable them to jump great heights and fit into tight spaces. this is largely due to their strong muscles and highly flexible spine. they also have remarkable reflexes, allowing them to land on their feet in most falls—a phenomenon known as the \"cat righting reflex.\"\n",
            "one of their most recognizable behaviors is purring. while cats purr when they are content, research suggests they also do so to self-soothe and even heal injuries. some cats knead their paws on soft surfaces, which is a leftover instinct from kittenhood when they stimulated their mother's milk flow. additionally, their whiskers serve an important function, helping them navigate surroundings and detect changes in air currents.\n",
            "cats are known for their grooming habits. they spend hours licking their fur to keep clean, regulate body temperature, and remove scents that may attract predators. their tongues are covered in tiny, hook-like structures that help them clean efficiently while also allowing them to strip meat from bones.\n",
            "\n",
            "despite their independent nature, cats form strong emotional bonds with humans. while they may not be as outwardly affectionate as dogs, they demonstrate their love in subtle ways—slow blinking, rubbing against their owners, and bringing small \"gifts,\" such as toys or even prey. cats have also been proven to reduce stress and anxiety, providing comfort through their presence and purring.\n",
            "as pets, cats are relatively low-maintenance compared to other animals. they require food, shelter, and affection, but they can entertain themselves and keep themselves clean. their playful nature ensures an entertaining and rewarding companionship.\n",
            "cats are truly extraordinary animals, combining independence, intelligence, and affection in a way that few other creatures do. their rich history, fascinating behaviors, and profound connection with humans make them not only beloved pets but also symbols of mystery and resilience. whether admired for their grace, cherished for their companionship, or respected for their hunting prowess, cats remain an essential part of human life.\n",
            "cats possess a wide range of fascinating traits that set them apart. their agility and flexibility enable them to jump great heights and fit into tight spaces. this is largely due to their strong muscles and highly flexible spine. they also have remarkable reflexes, allowing them to land on their feet in most falls—a phenomenon known as the \"cat righting reflex.\"\n",
            "one of their most recognizable behaviors is purring. while cats purr when they are content, research suggests they also do so to self-soothe and even heal injuries. some cats knead their paws on soft surfaces, which is a leftover instinct from kittenhood when they stimulated their mother's milk flow. additionally, their whiskers serve an important function, helping them navigate surroundings and detect changes in air currents.\n",
            "cats are known for their grooming habits. they spend hours licking their fur to keep clean, regulate body temperature, and remove scents that may attract predators. their tongues are covered in tiny, hook-like structures that help them clean efficiently while also allowing them to strip meat from bones.\n",
            "despite their independent nature, cats form strong emotional bonds with humans. while they may not be as outwardly affectionate as dogs, they demonstrate their love in subtle ways—slow blinking, rubbing against their owners, and bringing small \"gifts,\" such as toys or even prey. cats have also been proven to reduce stress and anxiety, providing comfort through their presence and purring.\n",
            "as pets, cats are relatively low-maintenance compared to other animals. they require food, shelter, and affection, but they can entertain themselves and keep themselves clean. their playful nature ensures an entertaining and rewarding companionship.\n",
            "cats are truly extraordinary animals, combining independence, intelligence, and affection in a way that few other creatures do. their rich history, fascinating behaviors, and profound connection with humans make them not only beloved pets but also symbols of mystery and resilience. whether admired for their grace, cherished for their companionship, or respected for their hunting prowess, cats remain an essential part of human life.\n",
            "cats are far more than just household pets; they are creatures of mystery, elegance, and intelligence. their relationship with humans has evolved over thousands of years, yet they maintain an independent spirit that makes them distinct from other domesticated animals. cats are known for their unique behaviors, incredible adaptability, and the special bond they share with humans. whether roaming the wild or curled up on a cozy windowsill, cats display remarkable characteristics that make them one of the most beloved animals worldwide.\n",
            "cats have evolved to be highly efficient hunters, possessing keen eyesight, acute hearing, and extraordinary agility. their eyes are adapted for low-light vision, allowing them to hunt effectively at dusk or dawn. in fact, their ability to see in dim light is superior to that of humans, thanks to a reflective layer behind their retinas called the tapetum lucidum. this structure helps them maximize available light, giving them a distinctive glow in the dark.\n",
            "another remarkable feature of cats is their whiskers, also known as vibrissae. these specialized hairs serve as sensory tools that detect subtle air currents, helping cats assess their surroundings. whiskers are highly sensitive and assist in judging distances, particularly in narrow spaces. cats also rely on their tails for balance, allowing them to perform impressive acrobatics, whether scaling heights or making precision landings.\n",
            "cats communicate in various ways, using vocalizations, body language, and facial expressions to express their feelings and intentions. meowing is an interesting form of communication—while wild cats rarely use this sound, domesticated cats have developed meows specifically to interact with humans. each cat’s meow can vary in pitch, tone, and frequency, depending on what they want to convey.\n",
            "besides meowing, cats use purring as a sign of relaxation, contentment, or self-soothing. scientists believe that purring can also promote healing and reduce stress in both cats and humans. this rhythmic sound, often accompanied by slow blinking, is a strong indication of trust and affection. additionally, cats may exhibit other behaviors such as chirping, trilling, and growling, each indicating different emotions and responses.\n",
            "cats also communicate through body language. their ear positioning, tail movements, and posture indicate moods ranging from curiosity to aggression. a cat with an arched back and puffed-up fur is signaling fear or defensiveness, while a cat with a gently swaying tail often expresses contentment or anticipation.\n",
            "throughout history, cats have symbolized various beliefs and traditions. in ancient egypt, cats were revered as sacred beings and closely linked to the goddess bastet, who represented fertility and protection. killing a cat was considered a grave offense, and they were often mummified alongside their owners.\n",
            "in japanese folklore, the \"maneki-neko\" or \"beckoning cat\" is believed to bring good luck and prosperity. the raised paw is said to attract fortune, making it a popular symbol in homes and businesses. meanwhile, in medieval europe, cats were sometimes feared and linked to superstition, particularly black cats, which were mistakenly associated with witchcraft.\n",
            "today, cats are cherished as affectionate companions in homes worldwide. their independence, cleanliness, and low-maintenance needs make them ideal pets for many people. they provide emotional comfort, reduce anxiety, and even enhance well-being through their presence.\n",
            "with the rise of social media, cats have become internet sensations, with numerous viral videos showcasing their antics, expressions, and amusing behaviors. famous cats have gained global attention, reinforcing their status as beloved creatures.\n",
            "\n"
          ]
        }
      ],
      "source": [
        "raw_text = raw_text.lower()\n",
        "print(raw_text)"
      ]
    },
    {
      "cell_type": "markdown",
      "metadata": {
        "id": "GCPAzEEPPyWK"
      },
      "source": [
        "### Tokenizer test"
      ]
    },
    {
      "cell_type": "code",
      "execution_count": null,
      "metadata": {
        "id": "0wZsVcP95oyF"
      },
      "outputs": [],
      "source": [
        "encoded = tokenizer.encode(raw_text)"
      ]
    },
    {
      "cell_type": "markdown",
      "metadata": {
        "id": "qQLRA6qXP1qR"
      },
      "source": [
        "### Data Splitting"
      ]
    },
    {
      "cell_type": "code",
      "execution_count": null,
      "metadata": {
        "id": "V2uiU9mt5vDh"
      },
      "outputs": [],
      "source": [
        "seq_len = 10\n",
        "\n",
        "X = []\n",
        "y = []\n",
        "\n",
        "for i in range(len(encoded) - seq_len):\n",
        "    X.append(encoded[i:i+seq_len])\n",
        "    y.append(encoded[i+1:i+seq_len+1])"
      ]
    },
    {
      "cell_type": "code",
      "execution_count": null,
      "metadata": {
        "id": "5rBx87VY6OBU"
      },
      "outputs": [],
      "source": [
        "X = torch.tensor(X, dtype=torch.long)\n",
        "y = torch.tensor(y, dtype=torch.long)"
      ]
    },
    {
      "cell_type": "code",
      "execution_count": null,
      "metadata": {
        "colab": {
          "base_uri": "https://localhost:8080/"
        },
        "id": "SwdqbVaA7BSj",
        "outputId": "8187c3bb-4646-4a29-a2e8-d4909bd40a41"
      },
      "outputs": [
        {
          "data": {
            "text/plain": [
              "(torch.Size([4040, 10]), torch.Size([4040, 10]))"
            ]
          },
          "execution_count": 67,
          "metadata": {},
          "output_type": "execute_result"
        }
      ],
      "source": [
        "X.shape, y.shape"
      ]
    },
    {
      "cell_type": "markdown",
      "metadata": {
        "id": "5U3P_rmAP4te"
      },
      "source": [
        "### Dataset and DataLoaders"
      ]
    },
    {
      "cell_type": "code",
      "execution_count": null,
      "metadata": {
        "id": "GAtXw_nGA2sL"
      },
      "outputs": [],
      "source": [
        "dataset = TensorDataset(X,y)\n",
        "dataloader = DataLoader(dataset, batch_size=32, shuffle=True)"
      ]
    },
    {
      "cell_type": "code",
      "execution_count": null,
      "metadata": {
        "id": "oI95499hJLTM"
      },
      "outputs": [],
      "source": [
        "VOCAB_SIZE = 800"
      ]
    },
    {
      "cell_type": "markdown",
      "metadata": {
        "id": "XH6blkGFP8PW"
      },
      "source": [
        "### Model, Criterion, Optimizer"
      ]
    },
    {
      "cell_type": "code",
      "execution_count": null,
      "metadata": {
        "id": "8cUWd1DTAYxK"
      },
      "outputs": [],
      "source": [
        "model = DecoderTextGenerator(emb_dim=512, vocab_size=VOCAB_SIZE, num_heads=8 , hidden_size=2048, dropout=0.2)\n",
        "\n",
        "loss_fn = nn.CrossEntropyLoss()\n",
        "optimizer = optim.Adam(model.parameters(), lr = 0.0001)"
      ]
    },
    {
      "cell_type": "markdown",
      "metadata": {
        "id": "gp98NxndP-_p"
      },
      "source": [
        "### Training Loop"
      ]
    },
    {
      "cell_type": "code",
      "execution_count": null,
      "metadata": {
        "colab": {
          "base_uri": "https://localhost:8080/"
        },
        "id": "BM_dyEMbAoha",
        "outputId": "32049ddf-eed7-4876-bfc2-0146dfe10534"
      },
      "outputs": [
        {
          "name": "stdout",
          "output_type": "stream",
          "text": [
            "Epoch 1/20, Loss: 3.4828\n",
            "Epoch 2/20, Loss: 1.9045\n",
            "Epoch 3/20, Loss: 1.9601\n",
            "Epoch 4/20, Loss: 1.0863\n",
            "Epoch 5/20, Loss: 0.8541\n",
            "Epoch 6/20, Loss: 0.6356\n",
            "Epoch 7/20, Loss: 0.4932\n",
            "Epoch 8/20, Loss: 0.3653\n",
            "Epoch 9/20, Loss: 0.3246\n",
            "Epoch 10/20, Loss: 0.1610\n",
            "Epoch 11/20, Loss: 0.1641\n",
            "Epoch 12/20, Loss: 0.1695\n",
            "Epoch 13/20, Loss: 0.1769\n",
            "Epoch 14/20, Loss: 0.2052\n",
            "Epoch 15/20, Loss: 0.1584\n",
            "Epoch 16/20, Loss: 0.0973\n",
            "Epoch 17/20, Loss: 0.0571\n",
            "Epoch 18/20, Loss: 0.0894\n",
            "Epoch 19/20, Loss: 0.1859\n",
            "Epoch 20/20, Loss: 0.0682\n"
          ]
        }
      ],
      "source": [
        "# Training Loop\n",
        "num_epochs = 20\n",
        "vocab_size = VOCAB_SIZE\n",
        "loss_list = []\n",
        "\n",
        "for epoch in range(num_epochs):\n",
        "  for batch_idx, (data, target) in enumerate(dataloader):\n",
        "\n",
        "    optimizer.zero_grad()\n",
        "\n",
        "    output = model(data)\n",
        "\n",
        "    # [B, seq_len, vocab_size]\n",
        "    # [B, seq_len]\n",
        "    loss = loss_fn(output.view(-1,vocab_size), target.view(-1))\n",
        "    loss_list.append(loss.item())\n",
        "\n",
        "    loss.backward()\n",
        "    optimizer.step()\n",
        "\n",
        "  print(f'Epoch {epoch+1}/{num_epochs}, Loss: {loss.item():.4f}')"
      ]
    },
    {
      "cell_type": "markdown",
      "metadata": {
        "id": "zvf2Oi7QPhta"
      },
      "source": [
        "Why this fluctuation in losses at certain points ????????????????????????"
      ]
    },
    {
      "cell_type": "markdown",
      "metadata": {
        "id": "UMOG_b2zPg8Y"
      },
      "source": [
        "### Training Plot"
      ]
    },
    {
      "cell_type": "code",
      "execution_count": null,
      "metadata": {
        "colab": {
          "base_uri": "https://localhost:8080/",
          "height": 469
        },
        "id": "n_8PZAirl_p3",
        "outputId": "2cbdf6c3-42b6-47a1-f5cc-cbf1e903926a"
      },
      "outputs": [
        {
          "data": {
            "text/plain": [
              "Text(0.5, 1.0, 'Training Loss')"
            ]
          },
          "execution_count": 72,
          "metadata": {},
          "output_type": "execute_result"
        },
        {
          "data": {
            "image/png": "[encoded data removed]",
            "text/plain": [
              "<Figure size 640x480 with 1 Axes>"
            ]
          },
          "metadata": {},
          "output_type": "display_data"
        }
      ],
      "source": [
        "plt.plot(loss_list)\n",
        "plt.title(\"Training Loss\")"
      ]
    },
    {
      "cell_type": "markdown",
      "metadata": {
        "id": "0NTGliWRPltg"
      },
      "source": [
        "### Next token prediction model inferencing"
      ]
    },
    {
      "cell_type": "code",
      "execution_count": null,
      "metadata": {
        "colab": {
          "base_uri": "https://localhost:8080/"
        },
        "id": "ZieT4koSd6QU",
        "outputId": "93562e20-7c7b-49ff-c3c0-ce7972e93fa6"
      },
      "outputs": [
        {
          "name": "stdout",
          "output_type": "stream",
          "text": [
            "Input ids ::  [1, 13, 371, 43, 186, 55, 666, 69, 35, 13, 48, 35, 71, 323, 4, 303, 35, 26, 229]\n",
            "Input tensor ::  tensor([[  1,  13, 371,  43, 186,  55, 666,  69,  35,  13,  48,  35,  71, 323,\n",
            "           4, 303,  35,  26, 229]])\n"
          ]
        }
      ],
      "source": [
        "max_len = 20\n",
        "\n",
        "prompt = \"a ginger cat was walking down the \"\n",
        "\n",
        "input_ids = tokenizer.encode(prompt, add_special_tokens=True)[:-1]\n",
        "print(\"Input ids :: \",input_ids)\n",
        "input_tensor = torch.tensor([input_ids], dtype=torch.long)\n",
        "print(\"Input tensor :: \",input_tensor)\n",
        "\n",
        "for _ in range(max_len):\n",
        "    with torch.no_grad():\n",
        "        output = model(input_tensor)\n",
        "\n",
        "    # [B, seq_len, vocab_size]\n",
        "    next_token_logits = output[0, -1, :]\n",
        "    next_token_id = torch.multinomial(F.softmax(next_token_logits, dim=-1), num_samples=1).item()\n",
        "\n",
        "    next_token_id = min(next_token_id, vocab_size - 1)\n",
        "\n",
        "    if next_token_id == tokenizer.inverse_vocab['<eos>']:\n",
        "        break\n",
        "\n",
        "    next_token = torch.tensor([[next_token_id]], dtype=torch.long)\n",
        "    input_tensor = torch.cat([input_tensor, next_token], dim=1)"
      ]
    },
    {
      "cell_type": "code",
      "execution_count": null,
      "metadata": {
        "colab": {
          "base_uri": "https://localhost:8080/",
          "height": 124
        },
        "id": "9c2RRPNqbIvu",
        "outputId": "5b9b4197-af79-4e73-f4fa-c67160e32c9e"
      },
      "outputs": [
        {
          "name": "stdout",
          "output_type": "stream",
          "text": [
            "[1, 13, 371, 43, 186, 55, 666, 69, 35, 13, 48, 35, 71, 323, 4, 303, 35, 26, 229, 35, 95, 230, 4, 95, 230, 4, 785, 35, 95, 230, 38, 347, 50, 35, 202, 64, 48, 209, 134]\n"
          ]
        },
        {
          "data": {
            "application/vnd.google.colaboratory.intrinsic+json": {
              "type": "string"
            },
            "text/plain": [
              "'a ginger cat was walking down the wentpur entpur cats possess a wide range of fascinating traits that set them apart. their agility and flexibility enable them to jump great heights and fit into tight spaces. this is largely due to their strong muscles and highly flexible spine. they also have remarkable reflexes, allowing them to land on their feet in most falls—a phenomenon known as the \"cat righting reflex.\"\\none of their most recognizable wentpurzone ofonws are  and s dingay'"
            ]
          },
          "execution_count": 78,
          "metadata": {},
          "output_type": "execute_result"
        }
      ],
      "source": [
        "output_tokens = input_tensor[0].tolist()\n",
        "print(output_tokens)\n",
        "tokenizer.decode(output_tokens)"
      ]
    },
    {
      "cell_type": "markdown",
      "metadata": {
        "id": "TnBOMYKbPo81"
      },
      "source": [
        "# English to Nepali Translation using Transformers"
      ]
    },
    {
      "cell_type": "markdown",
      "metadata": {
        "id": "Ptpg4VdiPqqJ"
      },
      "source": [
        "### BPE Tokenizer"
      ]
    },
    {
      "cell_type": "code",
      "execution_count": null,
      "metadata": {
        "id": "j2UjoK2teICz"
      },
      "outputs": [],
      "source": [
        "class BPETokenizer:\n",
        "    def __init__(self):\n",
        "        self.vocab = {0: '<pad>', 1: '<sos>', 2: '<eos>'}\n",
        "        self.inverse_vocab = {'<pad>': 0, '<sos>': 1, '<eos>': 2}\n",
        "        self.merges = {}\n",
        "\n",
        "    def train(self, text, vocab_size):\n",
        "        unique_chars = sorted(set(text))\n",
        "        vocab_len = len(self.vocab)\n",
        "\n",
        "        for i, c in enumerate(unique_chars):\n",
        "            token_id = vocab_len + i\n",
        "            self.vocab[token_id] = c\n",
        "            self.inverse_vocab[c] = token_id\n",
        "\n",
        "        sequence = [self.inverse_vocab[c] for c in text] # tokens\n",
        "\n",
        "        while len(self.vocab) < vocab_size:\n",
        "            pair_counts = Counter(zip(sequence, sequence[1:]))\n",
        "            if not pair_counts:\n",
        "                break\n",
        "\n",
        "            best_pair = max(pair_counts.items(), key=lambda x: x[1])[0]\n",
        "            new_token_id = max(self.vocab) + 1\n",
        "\n",
        "            merged_str = self.vocab[best_pair[0]] + self.vocab[best_pair[1]]\n",
        "\n",
        "            self.vocab[new_token_id] = merged_str\n",
        "            self.merges[best_pair] = new_token_id\n",
        "\n",
        "            i = 0\n",
        "            new_seq = []\n",
        "            while i < len(sequence):\n",
        "                if i < len(sequence) - 1 and (sequence[i], sequence[i + 1]) == best_pair:\n",
        "                    new_seq.append(new_token_id)\n",
        "                    i += 2\n",
        "                else:\n",
        "                    new_seq.append(sequence[i])\n",
        "                    i += 1\n",
        "            sequence = new_seq\n",
        "\n",
        "    def encode(self, text, add_special_tokens=True):\n",
        "        tokens = [self.inverse_vocab.get(c, self.inverse_vocab['<pad>']) for c in text]\n",
        "        # merge_pairs = list(self.merges.items())\n",
        "        while True:\n",
        "            i = 0\n",
        "            new_tokens = []\n",
        "            merged = False\n",
        "            while i < len(tokens):\n",
        "                if i < len(tokens) - 1 and (tokens[i], tokens[i + 1]) in self.merges:\n",
        "                    new_tokens.append(self.merges[(tokens[i], tokens[i + 1])])\n",
        "                    i += 2\n",
        "                    merged = True\n",
        "                else:\n",
        "                    new_tokens.append(tokens[i])\n",
        "                    i += 1\n",
        "            tokens = new_tokens\n",
        "            if not merged:\n",
        "                break\n",
        "\n",
        "        if add_special_tokens:\n",
        "            tokens = [self.inverse_vocab['<sos>']] + tokens + [self.inverse_vocab['<eos>']]\n",
        "        return tokens\n",
        "\n",
        "    def decode(self, tokens):\n",
        "        filtered = [t for t in tokens if t not in {self.inverse_vocab['<sos>'], self.inverse_vocab['<eos>'], self.inverse_vocab['<pad>']}]\n",
        "        return ''.join(self.vocab.get(t, '') for t in filtered)"
      ]
    },
    {
      "cell_type": "code",
      "execution_count": null,
      "metadata": {
        "colab": {
          "base_uri": "https://localhost:8080/"
        },
        "id": "wq0RrK7ARWor",
        "outputId": "c0334cd9-697a-48a6-e39a-3c0034579f60"
      },
      "outputs": [
        {
          "name": "stdout",
          "output_type": "stream",
          "text": [
            "[1, 102, 42, 3, 41, 10, 25, 48, 62, 36, 56, 7, 60, 8, 23, 39, 18, 33, 49, 7, 6, 15, 64, 31, 14, 64, 23, 30, 39, 65, 22, 38, 9, 36, 3, 55, 43, 63, 61, 15, 3, 63, 31, 19, 42, 17, 18, 65, 16, 35, 26, 37, 3, 8, 45, 18, 32, 20, 12, 32, 2]\n",
            "घर जग्गा कारोबारमा आत्मविश्वास गुमेको वर्ष बैंकिङ प्रणाली सेयर बजार र घरजग्गाले गएको वर्ष कम्तीमा एउटा साझा समस्या भोगे विश्वासको संकट  साधारणतया ठूलै क्षतिपछि\n",
            "{0: '<pad>', 1: '<sos>', 2: '<eos>', 3: ' ', 4: 'ं', 5: 'आ', 6: 'उ', 7: 'ए', 8: 'क', 9: 'ग', 10: 'घ', 11: 'ङ', 12: 'छ', 13: 'ज', 14: 'झ', 15: 'ट', 16: 'ठ', 17: 'ण', 18: 'त', 19: 'ध', 20: 'प', 21: 'ब', 22: 'भ', 23: 'म', 24: 'य', 25: 'र', 26: 'ल', 27: 'व', 28: 'श', 29: 'ष', 30: 'स', 31: 'ा', 32: 'ि', 33: 'ी', 34: 'ु', 35: 'ू', 36: 'े', 37: 'ै', 38: 'ो', 39: '्', 40: 'ा ', 41: 'र ', 42: 'ार', 43: 'को', 44: 'को ', 45: '्ष', 46: 'जग', 47: 'जग्', 48: 'जग्ग', 49: 'मा ', 50: 'वि', 51: 'विश', 52: 'विश्', 53: 'विश्व', 54: 'विश्वा', 55: 'विश्वास', 56: ' ग', 57: 'को व', 58: 'को वर', 59: 'को वर्ष', 60: 'को वर्ष ', 61: 'ंक', 62: 'ाल', 63: ' स', 64: 'ा स', 65: 'या ', 66: 'घर ', 67: 'घर जग्ग', 68: 'घर जग्गा ', 69: 'घर जग्गा क', 70: 'घर जग्गा कार', 71: 'घर जग्गा कारो', 72: 'घर जग्गा कारोब', 73: 'घर जग्गा कारोबार', 74: 'घर जग्गा कारोबारमा ', 75: 'घर जग्गा कारोबारमा आ', 76: 'घर जग्गा कारोबारमा आत', 77: 'घर जग्गा कारोबारमा आत्', 78: 'घर जग्गा कारोबारमा आत्म', 79: 'घर जग्गा कारोबारमा आत्मविश्वास', 80: 'घर जग्गा कारोबारमा आत्मविश्वास ग', 81: 'घर जग्गा कारोबारमा आत्मविश्वास गु', 82: 'घर जग्गा कारोबारमा आत्मविश्वास गुम', 83: 'घर जग्गा कारोबारमा आत्मविश्वास गुमे', 84: 'घर जग्गा कारोबारमा आत्मविश्वास गुमेको वर्ष ', 85: 'घर जग्गा कारोबारमा आत्मविश्वास गुमेको वर्ष ब', 86: 'घर जग्गा कारोबारमा आत्मविश्वास गुमेको वर्ष बै', 87: 'घर जग्गा कारोबारमा आत्मविश्वास गुमेको वर्ष बैंक', 88: 'घर जग्गा कारोबारमा आत्मविश्वास गुमेको वर्ष बैंकि', 89: 'घर जग्गा कारोबारमा आत्मविश्वास गुमेको वर्ष बैंकिङ', 90: 'घर जग्गा कारोबारमा आत्मविश्वास गुमेको वर्ष बैंकिङ ', 91: 'घर जग्गा कारोबारमा आत्मविश्वास गुमेको वर्ष बैंकिङ प', 92: 'घर जग्गा कारोबारमा आत्मविश्वास गुमेको वर्ष बैंकिङ प्', 93: 'घर जग्गा कारोबारमा आत्मविश्वास गुमेको वर्ष बैंकिङ प्र', 94: 'घर जग्गा कारोबारमा आत्मविश्वास गुमेको वर्ष बैंकिङ प्रण', 95: 'घर जग्गा कारोबारमा आत्मविश्वास गुमेको वर्ष बैंकिङ प्रणाल', 96: 'घर जग्गा कारोबारमा आत्मविश्वास गुमेको वर्ष बैंकिङ प्रणाली', 97: 'घर जग्गा कारोबारमा आत्मविश्वास गुमेको वर्ष बैंकिङ प्रणाली स', 98: 'घर जग्गा कारोबारमा आत्मविश्वास गुमेको वर्ष बैंकिङ प्रणाली से', 99: 'घर जग्गा कारोबारमा आत्मविश्वास गुमेको वर्ष बैंकिङ प्रणाली सेय', 100: 'घर जग्गा कारोबारमा आत्मविश्वास गुमेको वर्ष बैंकिङ प्रणाली सेयर ', 101: 'घर जग्गा कारोबारमा आत्मविश्वास गुमेको वर्ष बैंकिङ प्रणाली सेयर ब', 102: 'घर जग्गा कारोबारमा आत्मविश्वास गुमेको वर्ष बैंकिङ प्रणाली सेयर बज', 103: 'घर जग्गा कारोबारमा आत्मविश्वास गुमेको वर्ष बैंकिङ प्रणाली सेयर बजा', 104: 'घर जग्गा कारोबारमा आत्मविश्वास गुमेको वर्ष बैंकिङ प्रणाली सेयर बजार ', 105: 'घर जग्गा कारोबारमा आत्मविश्वास गुमेको वर्ष बैंकिङ प्रणाली सेयर बजार र ', 106: 'घर जग्गा कारोबारमा आत्मविश्वास गुमेको वर्ष बैंकिङ प्रणाली सेयर बजार र घ', 107: 'घर जग्गा कारोबारमा आत्मविश्वास गुमेको वर्ष बैंकिङ प्रणाली सेयर बजार र घर', 108: 'घर जग्गा कारोबारमा आत्मविश्वास गुमेको वर्ष बैंकिङ प्रणाली सेयर बजार र घरजग्ग', 109: 'घर जग्गा कारोबारमा आत्मविश्वास गुमेको वर्ष बैंकिङ प्रणाली सेयर बजार र घरजग्गाल', 110: 'घर जग्गा कारोबारमा आत्मविश्वास गुमेको वर्ष बैंकिङ प्रणाली सेयर बजार र घरजग्गाले', 111: 'घर जग्गा कारोबारमा आत्मविश्वास गुमेको वर्ष बैंकिङ प्रणाली सेयर बजार र घरजग्गाले ग', 112: 'घर जग्गा कारोबारमा आत्मविश्वास गुमेको वर्ष बैंकिङ प्रणाली सेयर बजार र घरजग्गाले गए', 113: 'घर जग्गा कारोबारमा आत्मविश्वास गुमेको वर्ष बैंकिङ प्रणाली सेयर बजार र घरजग्गाले गएको वर्ष ', 114: 'घर जग्गा कारोबारमा आत्मविश्वास गुमेको वर्ष बैंकिङ प्रणाली सेयर बजार र घरजग्गाले गएको वर्ष क', 115: 'घर जग्गा कारोबारमा आत्मविश्वास गुमेको वर्ष बैंकिङ प्रणाली सेयर बजार र घरजग्गाले गएको वर्ष कम', 116: 'घर जग्गा कारोबारमा आत्मविश्वास गुमेको वर्ष बैंकिङ प्रणाली सेयर बजार र घरजग्गाले गएको वर्ष कम्', 117: 'घर जग्गा कारोबारमा आत्मविश्वास गुमेको वर्ष बैंकिङ प्रणाली सेयर बजार र घरजग्गाले गएको वर्ष कम्त', 118: 'घर जग्गा कारोबारमा आत्मविश्वास गुमेको वर्ष बैंकिङ प्रणाली सेयर बजार र घरजग्गाले गएको वर्ष कम्ती', 119: 'घर जग्गा कारोबारमा आत्मविश्वास गुमेको वर्ष बैंकिङ प्रणाली सेयर बजार र घरजग्गाले गएको वर्ष कम्तीमा ', 120: 'घर जग्गा कारोबारमा आत्मविश्वास गुमेको वर्ष बैंकिङ प्रणाली सेयर बजार र घरजग्गाले गएको वर्ष कम्तीमा ए', 121: 'घर जग्गा कारोबारमा आत्मविश्वास गुमेको वर्ष बैंकिङ प्रणाली सेयर बजार र घरजग्गाले गएको वर्ष कम्तीमा एउ', 122: 'घर जग्गा कारोबारमा आत्मविश्वास गुमेको वर्ष बैंकिङ प्रणाली सेयर बजार र घरजग्गाले गएको वर्ष कम्तीमा एउट', 123: 'घर जग्गा कारोबारमा आत्मविश्वास गुमेको वर्ष बैंकिङ प्रणाली सेयर बजार र घरजग्गाले गएको वर्ष कम्तीमा एउटा स', 124: 'घर जग्गा कारोबारमा आत्मविश्वास गुमेको वर्ष बैंकिङ प्रणाली सेयर बजार र घरजग्गाले गएको वर्ष कम्तीमा एउटा सा', 125: 'घर जग्गा कारोबारमा आत्मविश्वास गुमेको वर्ष बैंकिङ प्रणाली सेयर बजार र घरजग्गाले गएको वर्ष कम्तीमा एउटा साझ', 126: 'घर जग्गा कारोबारमा आत्मविश्वास गुमेको वर्ष बैंकिङ प्रणाली सेयर बजार र घरजग्गाले गएको वर्ष कम्तीमा एउटा साझा स', 127: 'घर जग्गा कारोबारमा आत्मविश्वास गुमेको वर्ष बैंकिङ प्रणाली सेयर बजार र घरजग्गाले गएको वर्ष कम्तीमा एउटा साझा सम', 128: 'घर जग्गा कारोबारमा आत्मविश्वास गुमेको वर्ष बैंकिङ प्रणाली सेयर बजार र घरजग्गाले गएको वर्ष कम्तीमा एउटा साझा समस', 129: 'घर जग्गा कारोबारमा आत्मविश्वास गुमेको वर्ष बैंकिङ प्रणाली सेयर बजार र घरजग्गाले गएको वर्ष कम्तीमा एउटा साझा समस्', 130: 'घर जग्गा कारोबारमा आत्मविश्वास गुमेको वर्ष बैंकिङ प्रणाली सेयर बजार र घरजग्गाले गएको वर्ष कम्तीमा एउटा साझा समस्या ', 131: 'घर जग्गा कारोबारमा आत्मविश्वास गुमेको वर्ष बैंकिङ प्रणाली सेयर बजार र घरजग्गाले गएको वर्ष कम्तीमा एउटा साझा समस्या भ', 132: 'घर जग्गा कारोबारमा आत्मविश्वास गुमेको वर्ष बैंकिङ प्रणाली सेयर बजार र घरजग्गाले गएको वर्ष कम्तीमा एउटा साझा समस्या भो', 133: 'घर जग्गा कारोबारमा आत्मविश्वास गुमेको वर्ष बैंकिङ प्रणाली सेयर बजार र घरजग्गाले गएको वर्ष कम्तीमा एउटा साझा समस्या भोग', 134: 'घर जग्गा कारोबारमा आत्मविश्वास गुमेको वर्ष बैंकिङ प्रणाली सेयर बजार र घरजग्गाले गएको वर्ष कम्तीमा एउटा साझा समस्या भोगे', 135: 'घर जग्गा कारोबारमा आत्मविश्वास गुमेको वर्ष बैंकिङ प्रणाली सेयर बजार र घरजग्गाले गएको वर्ष कम्तीमा एउटा साझा समस्या भोगे ', 136: 'घर जग्गा कारोबारमा आत्मविश्वास गुमेको वर्ष बैंकिङ प्रणाली सेयर बजार र घरजग्गाले गएको वर्ष कम्तीमा एउटा साझा समस्या भोगे विश्वास', 137: 'घर जग्गा कारोबारमा आत्मविश्वास गुमेको वर्ष बैंकिङ प्रणाली सेयर बजार र घरजग्गाले गएको वर्ष कम्तीमा एउटा साझा समस्या भोगे विश्वासको ', 138: 'घर जग्गा कारोबारमा आत्मविश्वास गुमेको वर्ष बैंकिङ प्रणाली सेयर बजार र घरजग्गाले गएको वर्ष कम्तीमा एउटा साझा समस्या भोगे विश्वासको स', 139: 'घर जग्गा कारोबारमा आत्मविश्वास गुमेको वर्ष बैंकिङ प्रणाली सेयर बजार र घरजग्गाले गएको वर्ष कम्तीमा एउटा साझा समस्या भोगे विश्वासको संक', 140: 'घर जग्गा कारोबारमा आत्मविश्वास गुमेको वर्ष बैंकिङ प्रणाली सेयर बजार र घरजग्गाले गएको वर्ष कम्तीमा एउटा साझा समस्या भोगे विश्वासको संकट', 141: 'घर जग्गा कारोबारमा आत्मविश्वास गुमेको वर्ष बैंकिङ प्रणाली सेयर बजार र घरजग्गाले गएको वर्ष कम्तीमा एउटा साझा समस्या भोगे विश्वासको संकट ', 142: 'घर जग्गा कारोबारमा आत्मविश्वास गुमेको वर्ष बैंकिङ प्रणाली सेयर बजार र घरजग्गाले गएको वर्ष कम्तीमा एउटा साझा समस्या भोगे विश्वासको संकट  स', 143: 'घर जग्गा कारोबारमा आत्मविश्वास गुमेको वर्ष बैंकिङ प्रणाली सेयर बजार र घरजग्गाले गएको वर्ष कम्तीमा एउटा साझा समस्या भोगे विश्वासको संकट  सा', 144: 'घर जग्गा कारोबारमा आत्मविश्वास गुमेको वर्ष बैंकिङ प्रणाली सेयर बजार र घरजग्गाले गएको वर्ष कम्तीमा एउटा साझा समस्या भोगे विश्वासको संकट  साध', 145: 'घर जग्गा कारोबारमा आत्मविश्वास गुमेको वर्ष बैंकिङ प्रणाली सेयर बजार र घरजग्गाले गएको वर्ष कम्तीमा एउटा साझा समस्या भोगे विश्वासको संकट  साधार', 146: 'घर जग्गा कारोबारमा आत्मविश्वास गुमेको वर्ष बैंकिङ प्रणाली सेयर बजार र घरजग्गाले गएको वर्ष कम्तीमा एउटा साझा समस्या भोगे विश्वासको संकट  साधारण', 147: 'घर जग्गा कारोबारमा आत्मविश्वास गुमेको वर्ष बैंकिङ प्रणाली सेयर बजार र घरजग्गाले गएको वर्ष कम्तीमा एउटा साझा समस्या भोगे विश्वासको संकट  साधारणत', 148: 'घर जग्गा कारोबारमा आत्मविश्वास गुमेको वर्ष बैंकिङ प्रणाली सेयर बजार र घरजग्गाले गएको वर्ष कम्तीमा एउटा साझा समस्या भोगे विश्वासको संकट  साधारणतया ', 149: 'घर जग्गा कारोबारमा आत्मविश्वास गुमेको वर्ष बैंकिङ प्रणाली सेयर बजार र घरजग्गाले गएको वर्ष कम्तीमा एउटा साझा समस्या भोगे विश्वासको संकट  साधारणतया ठ', 150: 'घर जग्गा कारोबारमा आत्मविश्वास गुमेको वर्ष बैंकिङ प्रणाली सेयर बजार र घरजग्गाले गएको वर्ष कम्तीमा एउटा साझा समस्या भोगे विश्वासको संकट  साधारणतया ठू', 151: 'घर जग्गा कारोबारमा आत्मविश्वास गुमेको वर्ष बैंकिङ प्रणाली सेयर बजार र घरजग्गाले गएको वर्ष कम्तीमा एउटा साझा समस्या भोगे विश्वासको संकट  साधारणतया ठूल', 152: 'घर जग्गा कारोबारमा आत्मविश्वास गुमेको वर्ष बैंकिङ प्रणाली सेयर बजार र घरजग्गाले गएको वर्ष कम्तीमा एउटा साझा समस्या भोगे विश्वासको संकट  साधारणतया ठूलै', 153: 'घर जग्गा कारोबारमा आत्मविश्वास गुमेको वर्ष बैंकिङ प्रणाली सेयर बजार र घरजग्गाले गएको वर्ष कम्तीमा एउटा साझा समस्या भोगे विश्वासको संकट  साधारणतया ठूलै ', 154: 'घर जग्गा कारोबारमा आत्मविश्वास गुमेको वर्ष बैंकिङ प्रणाली सेयर बजार र घरजग्गाले गएको वर्ष कम्तीमा एउटा साझा समस्या भोगे विश्वासको संकट  साधारणतया ठूलै क', 155: 'घर जग्गा कारोबारमा आत्मविश्वास गुमेको वर्ष बैंकिङ प्रणाली सेयर बजार र घरजग्गाले गएको वर्ष कम्तीमा एउटा साझा समस्या भोगे विश्वासको संकट  साधारणतया ठूलै क्ष', 156: 'घर जग्गा कारोबारमा आत्मविश्वास गुमेको वर्ष बैंकिङ प्रणाली सेयर बजार र घरजग्गाले गएको वर्ष कम्तीमा एउटा साझा समस्या भोगे विश्वासको संकट  साधारणतया ठूलै क्षत', 157: 'घर जग्गा कारोबारमा आत्मविश्वास गुमेको वर्ष बैंकिङ प्रणाली सेयर बजार र घरजग्गाले गएको वर्ष कम्तीमा एउटा साझा समस्या भोगे विश्वासको संकट  साधारणतया ठूलै क्षति', 158: 'घर जग्गा कारोबारमा आत्मविश्वास गुमेको वर्ष बैंकिङ प्रणाली सेयर बजार र घरजग्गाले गएको वर्ष कम्तीमा एउटा साझा समस्या भोगे विश्वासको संकट  साधारणतया ठूलै क्षतिप', 159: 'घर जग्गा कारोबारमा आत्मविश्वास गुमेको वर्ष बैंकिङ प्रणाली सेयर बजार र घरजग्गाले गएको वर्ष कम्तीमा एउटा साझा समस्या भोगे विश्वासको संकट  साधारणतया ठूलै क्षतिपछ', 160: 'घर जग्गा कारोबारमा आत्मविश्वास गुमेको वर्ष बैंकिङ प्रणाली सेयर बजार र घरजग्गाले गएको वर्ष कम्तीमा एउटा साझा समस्या भोगे विश्वासको संकट  साधारणतया ठूलै क्षतिपछि'}\n"
          ]
        }
      ],
      "source": [
        "nep = BPETokenizer()\n",
        "\n",
        "nep_text = 'घर जग्गा कारोबारमा आत्मविश्वास गुमेको वर्ष बैंकिङ प्रणाली सेयर बजार र घरजग्गाले गएको वर्ष कम्तीमा एउटा साझा समस्या भोगे विश्वासको संकट  साधारणतया ठूलै क्षतिपछि'\n",
        "\n",
        "nep.train(nep_text, vocab_size = 200)\n",
        "\n",
        "encodings = nep.encode(nep_text)\n",
        "print(encodings)\n",
        "print(nep.decode(encodings))\n",
        "\n",
        "print(nep.vocab)"
      ]
    },
    {
      "cell_type": "markdown",
      "metadata": {
        "id": "ccUroQ1tPtjI"
      },
      "source": [
        "### Necessary Imports"
      ]
    },
    {
      "cell_type": "code",
      "execution_count": null,
      "metadata": {
        "id": "2Jd7yldOjAhL"
      },
      "outputs": [],
      "source": [
        "import re\n",
        "import unicodedata\n",
        "import pandas as pd\n",
        "import pickle\n",
        "\n",
        "from sklearn.model_selection import train_test_split\n",
        "from torch.utils.data import Dataset, DataLoader"
      ]
    },
    {
      "cell_type": "markdown",
      "metadata": {
        "id": "zq6hGA4vPx-g"
      },
      "source": [
        "### Data preparation"
      ]
    },
    {
      "cell_type": "code",
      "execution_count": null,
      "metadata": {
        "id": "yHTaH4e4RxN6"
      },
      "outputs": [],
      "source": [
        "df = pd.read_csv('data.csv')"
      ]
    },
    {
      "cell_type": "code",
      "execution_count": null,
      "metadata": {
        "colab": {
          "base_uri": "https://localhost:8080/",
          "height": 292
        },
        "id": "naZlLJ4_jBws",
        "outputId": "1dcf5ebd-5d47-441a-e6d2-0e9a8bc3e300"
      },
      "outputs": [
        {
          "data": {
            "application/vnd.google.colaboratory.intrinsic+json": {
              "summary": "{\n  \"name\": \"df\",\n  \"rows\": 10000,\n  \"fields\": [\n    {\n      \"column\": \"text\",\n      \"properties\": {\n        \"dtype\": \"string\",\n        \"num_unique_values\": 9991,\n        \"samples\": [\n          \"<s>[INST] Please translate \\\"But after that our fathers had provoked the God of heaven to wrath, he gave them into the hand of Nebuchadnezzar king of Babylon, the Chaldean, who destroyed this house, and carried the people away into Babylon.\\\" into Nepali [/INST] Sure! here is the translated text into Nepali: \\u0915\\u093f\\u0928\\u092d\\u0928\\u0947 \\u0939\\u093e\\u092e\\u094d\\u0930\\u093e \\u092a\\u0942\\u0930\\u094d\\u0916\\u093e\\u0939\\u0930\\u0942\\u0932\\u0947 \\u0938\\u094d\\u0935\\u0930\\u094d\\u0917\\u0915\\u093e \\u092a\\u0930\\u092e\\u0947\\u0936\\u094d\\u0935\\u0930\\u0932\\u093e\\u0908 \\u0915\\u094d\\u0930\\u094b\\u0927\\u093f\\u0924 \\u0924\\u0941\\u0932\\u094d\\u092f\\u093e\\u090f\\u0915\\u093e \\u0939\\u0941\\u0928\\u093e\\u0932\\u0947 \\u0909\\u0939\\u093e\\u0901\\u0932\\u0947 \\u0924\\u093f\\u0928\\u0940\\u0939\\u0930\\u0942\\u0932\\u093e\\u0908 \\u092c\\u093e\\u092c\\u0947\\u0932\\u0915\\u093e \\u0930\\u093e\\u091c\\u093e \\u0928\\u092c\\u0942\\u0915\\u0926\\u0928\\u0947\\u0938\\u0930, \\u091a\\u0932\\u0926\\u093f\\u092f\\u0928\\u0915\\u094b \\u0939\\u093e\\u0924\\u092e\\u093e \\u0938\\u0941\\u092e\\u094d\\u092a\\u093f\\u0928\\u0941 \\u092d\\u092f\\u094b, \\u0905\\u0928\\u093f \\u0924\\u093f\\u0928\\u0932\\u0947 \\u092f\\u094b \\u092e\\u0928\\u094d\\u0926\\u093f\\u0930\\u0932\\u093e\\u0908 \\u0924\\u094b\\u0921\\u093f \\u0926\\u093f\\u090f \\u0930 \\u092c\\u093e\\u092c\\u0947\\u0932\\u092e\\u093e \\u0915\\u0948\\u0926\\u0940 \\u092c\\u0928\\u093e\\u090f \\u0924\\u0940 \\u092e\\u093e\\u0928\\u093f\\u0938\\u0939\\u0930\\u0942\\u0932\\u093e\\u0908 \\u0932\\u0917\\u0947\\u0964 </s>\",\n          \"<s>[INST] Please translate \\\"For he has looked down from the height of his sanctuary. From heaven, Yahweh saw the earth;\\\" into Nepali [/INST] Sure! here is the translated text into Nepali: \\u092a\\u0930\\u092e\\u092a\\u094d\\u0930\\u092d\\u0941\\u0932\\u0947 \\u0906\\u092b\\u094d\\u0928\\u093e \\u092a\\u0935\\u093f\\u0924\\u094d\\u0930 \\u0938\\u094d\\u0925\\u093e\\u0928\\u092c\\u093e\\u091f \\u0924\\u0932\\u0924\\u093f\\u0930 \\u0939\\u0947\\u0930\\u094d\\u0928\\u0941\\u0939\\u0941\\u0928\\u0947\\u091b\\u0964 \\u092a\\u0930\\u092e\\u092a\\u094d\\u0930\\u092d\\u0941\\u0932\\u0947 \\u0938\\u094d\\u0935\\u0930\\u094d\\u0917\\u092c\\u093e\\u091f \\u0924\\u0932 \\u092a\\u0943\\u0925\\u094d\\u0935\\u0940\\u092e\\u093e \\u0939\\u0947\\u0930\\u094d\\u0928\\u0941\\u0939\\u0941\\u0928\\u0947\\u091b\\u0964 </s>\",\n          \"<s>[INST] Please translate \\\"Say to Amasa, 'Aren't you my bone and my flesh? God do so to me, and more also, if you aren't captain of the army before me continually in the room of Joab.'\\\"\\\" into Nepali [/INST] Sure! here is the translated text into Nepali: \\u0905\\u0928\\u093f \\u0906\\u092e\\u093e\\u0938\\u093e\\u0932\\u093e\\u0908 \\u092d\\u0928, \\u2018\\u0924\\u093f\\u092e\\u0940 \\u092e\\u0947\\u0930\\u094b \\u0915\\u0941\\u0932 \\u0938\\u092e\\u0942\\u0939\\u0915\\u093e \\u0939\\u094c\\u0964 \\u092f\\u0926\\u093f \\u092e\\u0948\\u0932\\u0947 \\u0924\\u093f\\u092e\\u0940\\u0932\\u093e\\u0908 \\u092f\\u094b\\u0906\\u092c\\u0915\\u094b \\u0938\\u094d\\u0925\\u093e\\u0928\\u092e\\u093e \\u0938\\u0947\\u0928\\u093e\\u0915\\u094b \\u0915\\u092a\\u094d\\u0924\\u093e\\u0928 \\u092c\\u0928\\u093e\\u0907\\u0928 \\u092d\\u0928\\u0947 \\u092a\\u0930\\u092e\\u0947\\u0936\\u094d\\u0935\\u0930\\u0932\\u0947 \\u092e\\u0932\\u093e\\u0908 \\u0926\\u0923\\u094d\\u0921 \\u0926\\u093f\\u0909\\u0928\\u094d\\u0964\\u201d\\u2018 </s>\"\n        ],\n        \"semantic_type\": \"\",\n        \"description\": \"\"\n      }\n    },\n    {\n      \"column\": \"en\",\n      \"properties\": {\n        \"dtype\": \"string\",\n        \"num_unique_values\": 9900,\n        \"samples\": [\n          \"There was a strife between the herdsmen of Abram's livestock and the herdsmen of Lot's livestock: and the Canaanite and the Perizzite lived in the land at that time.\",\n          \"If one attacks him with the sword, it can't prevail; nor the spear, the dart, nor the pointed shaft.\",\n          \"For the arrows of the Almighty are within me. My spirit drinks up their poison. The terrors of God set themselves in array against me.\"\n        ],\n        \"semantic_type\": \"\",\n        \"description\": \"\"\n      }\n    },\n    {\n      \"column\": \"np\",\n      \"properties\": {\n        \"dtype\": \"string\",\n        \"num_unique_values\": 9990,\n        \"samples\": [\n          \"\\u0915\\u093f\\u0928\\u092d\\u0928\\u0947 \\u0939\\u093e\\u092e\\u094d\\u0930\\u093e \\u092a\\u0942\\u0930\\u094d\\u0916\\u093e\\u0939\\u0930\\u0942\\u0932\\u0947 \\u0938\\u094d\\u0935\\u0930\\u094d\\u0917\\u0915\\u093e \\u092a\\u0930\\u092e\\u0947\\u0936\\u094d\\u0935\\u0930\\u0932\\u093e\\u0908 \\u0915\\u094d\\u0930\\u094b\\u0927\\u093f\\u0924 \\u0924\\u0941\\u0932\\u094d\\u092f\\u093e\\u090f\\u0915\\u093e \\u0939\\u0941\\u0928\\u093e\\u0932\\u0947 \\u0909\\u0939\\u093e\\u0901\\u0932\\u0947 \\u0924\\u093f\\u0928\\u0940\\u0939\\u0930\\u0942\\u0932\\u093e\\u0908 \\u092c\\u093e\\u092c\\u0947\\u0932\\u0915\\u093e \\u0930\\u093e\\u091c\\u093e \\u0928\\u092c\\u0942\\u0915\\u0926\\u0928\\u0947\\u0938\\u0930, \\u091a\\u0932\\u0926\\u093f\\u092f\\u0928\\u0915\\u094b \\u0939\\u093e\\u0924\\u092e\\u093e \\u0938\\u0941\\u092e\\u094d\\u092a\\u093f\\u0928\\u0941 \\u092d\\u092f\\u094b, \\u0905\\u0928\\u093f \\u0924\\u093f\\u0928\\u0932\\u0947 \\u092f\\u094b \\u092e\\u0928\\u094d\\u0926\\u093f\\u0930\\u0932\\u093e\\u0908 \\u0924\\u094b\\u0921\\u093f \\u0926\\u093f\\u090f \\u0930 \\u092c\\u093e\\u092c\\u0947\\u0932\\u092e\\u093e \\u0915\\u0948\\u0926\\u0940 \\u092c\\u0928\\u093e\\u090f \\u0924\\u0940 \\u092e\\u093e\\u0928\\u093f\\u0938\\u0939\\u0930\\u0942\\u0932\\u093e\\u0908 \\u0932\\u0917\\u0947\\u0964\",\n          \"\\u092e \\u0921\\u0930\\u0932\\u0947 \\u0915\\u093e\\u092e\\u093f\\u0930\\u0939\\u0947\\u091b\\u0941 \\u0939\\u093e\\u0935\\u093e\\u0932\\u0947 \\u0915\\u0947\\u0939\\u0940 \\u091a\\u0940\\u091c \\u0909\\u0921\\u093e\\u0908 \\u0932\\u0917\\u0947 \\u091c\\u0938\\u094d\\u0924\\u094b \\u0917\\u0930\\u0940 \\u0924\\u0940 \\u092f\\u0941\\u0935\\u0915\\u0939\\u0930\\u0942 \\u092e\\u0947\\u0930\\u094b \\u0916\\u0947\\u0926\\u094b \\u0932\\u093e\\u0909\\u0901\\u091b\\u0928\\u094d\\u0964 \\u092e\\u0947\\u0930\\u094b \\u0938\\u0941\\u0930\\u0915\\u094d\\u0937\\u093e \\u092c\\u093e\\u0926\\u0932 \\u091c\\u0938\\u094d\\u0924\\u094b \\u0935\\u093f\\u0932\\u093f\\u0928 \\u0939\\u0941\\u0901\\u0926\\u091b\\u0964\",\n          \"\\u0905\\u0928\\u093f \\u0906\\u092e\\u093e\\u0938\\u093e\\u0932\\u093e\\u0908 \\u092d\\u0928, \\u2018\\u0924\\u093f\\u092e\\u0940 \\u092e\\u0947\\u0930\\u094b \\u0915\\u0941\\u0932 \\u0938\\u092e\\u0942\\u0939\\u0915\\u093e \\u0939\\u094c\\u0964 \\u092f\\u0926\\u093f \\u092e\\u0948\\u0932\\u0947 \\u0924\\u093f\\u092e\\u0940\\u0932\\u093e\\u0908 \\u092f\\u094b\\u0906\\u092c\\u0915\\u094b \\u0938\\u094d\\u0925\\u093e\\u0928\\u092e\\u093e \\u0938\\u0947\\u0928\\u093e\\u0915\\u094b \\u0915\\u092a\\u094d\\u0924\\u093e\\u0928 \\u092c\\u0928\\u093e\\u0907\\u0928 \\u092d\\u0928\\u0947 \\u092a\\u0930\\u092e\\u0947\\u0936\\u094d\\u0935\\u0930\\u0932\\u0947 \\u092e\\u0932\\u093e\\u0908 \\u0926\\u0923\\u094d\\u0921 \\u0926\\u093f\\u0909\\u0928\\u094d\\u0964\\u201d\\u2018\"\n        ],\n        \"semantic_type\": \"\",\n        \"description\": \"\"\n      }\n    }\n  ]\n}",
              "type": "dataframe",
              "variable_name": "df"
            },
            "text/html": [
              "\n",
              "  <div id=\"df-f3456439-7276-4c0a-a727-23ab17db1120\" class=\"colab-df-container\">\n",
              "    <div>\n",
              "<style scoped>\n",
              "    .dataframe tbody tr th:only-of-type {\n",
              "        vertical-align: middle;\n",
              "    }\n",
              "\n",
              "    .dataframe tbody tr th {\n",
              "        vertical-align: top;\n",
              "    }\n",
              "\n",
              "    .dataframe thead th {\n",
              "        text-align: right;\n",
              "    }\n",
              "</style>\n",
              "<table border=\"1\" class=\"dataframe\">\n",
              "  <thead>\n",
              "    <tr style=\"text-align: right;\">\n",
              "      <th></th>\n",
              "      <th>text</th>\n",
              "      <th>en</th>\n",
              "      <th>np</th>\n",
              "    </tr>\n",
              "  </thead>\n",
              "  <tbody>\n",
              "    <tr>\n",
              "      <th>0</th>\n",
              "      <td>&lt;s&gt;[INST] Please translate \"It happened after ...</td>\n",
              "      <td>It happened after the death of Saul, when Davi...</td>\n",
              "      <td>दाऊदले अमालेकीहरूलाई हराएर पछि सिकलग गए। यो शा...</td>\n",
              "    </tr>\n",
              "    <tr>\n",
              "      <th>1</th>\n",
              "      <td>&lt;s&gt;[INST] Please translate \"it happened on the...</td>\n",
              "      <td>it happened on the third day, that behold, a m...</td>\n",
              "      <td>तब तेस्रो दिनमा एउटा जवान सैनिक सिकलगमा आयो। त...</td>\n",
              "    </tr>\n",
              "    <tr>\n",
              "      <th>2</th>\n",
              "      <td>&lt;s&gt;[INST] Please translate \"David said to him,...</td>\n",
              "      <td>David said to him, \"Where do you come from?\" H...</td>\n",
              "      <td>दाऊदले त्यसलाई सोधे, “तिमी कहाँबाट आयौ?” त्यस ...</td>\n",
              "    </tr>\n",
              "    <tr>\n",
              "      <th>3</th>\n",
              "      <td>&lt;s&gt;[INST] Please translate \"David said to him,...</td>\n",
              "      <td>David said to him, \"How did it go? Please tell...</td>\n",
              "      <td>दाऊदले भने, “मलाई भन, के भयो?” त्यसले भन्यो, “...</td>\n",
              "    </tr>\n",
              "    <tr>\n",
              "      <th>4</th>\n",
              "      <td>&lt;s&gt;[INST] Please translate \"David said to the ...</td>\n",
              "      <td>David said to the young man who told him, \"How...</td>\n",
              "      <td>दाऊदले त्यस सैनिकलाई भने, “तिमीले कसरी जान्यौ ...</td>\n",
              "    </tr>\n",
              "  </tbody>\n",
              "</table>\n",
              "</div>\n",
              "    <div class=\"colab-df-buttons\">\n",
              "\n",
              "  <div class=\"colab-df-container\">\n",
              "    <button class=\"colab-df-convert\" onclick=\"convertToInteractive('df-f3456439-7276-4c0a-a727-23ab17db1120')\"\n",
              "            title=\"Convert this dataframe to an interactive table.\"\n",
              "            style=\"display:none;\">\n",
              "\n",
              "  <svg xmlns=\"http://www.w3.org/2000/svg\" height=\"24px\" viewBox=\"0 -960 960 960\">\n",
              "    <path d=\"M120-120v-720h720v720H120Zm60-500h600v-160H180v160Zm220 220h160v-160H400v160Zm0 220h160v-160H400v160ZM180-400h160v-160H180v160Zm440 0h160v-160H620v160ZM180-180h160v-160H180v160Zm440 0h160v-160H620v160Z\"/>\n",
              "  </svg>\n",
              "    </button>\n",
              "\n",
              "  <style>\n",
              "    .colab-df-container {\n",
              "      display:flex;\n",
              "      gap: 12px;\n",
              "    }\n",
              "\n",
              "    .colab-df-convert {\n",
              "      background-color: #E8F0FE;\n",
              "      border: none;\n",
              "      border-radius: 50%;\n",
              "      cursor: pointer;\n",
              "      display: none;\n",
              "      fill: #1967D2;\n",
              "      height: 32px;\n",
              "      padding: 0 0 0 0;\n",
              "      width: 32px;\n",
              "    }\n",
              "\n",
              "    .colab-df-convert:hover {\n",
              "      background-color: #E2EBFA;\n",
              "      box-shadow: 0px 1px 2px rgba(60, 64, 67, 0.3), 0px 1px 3px 1px rgba(60, 64, 67, 0.15);\n",
              "      fill: #174EA6;\n",
              "    }\n",
              "\n",
              "    .colab-df-buttons div {\n",
              "      margin-bottom: 4px;\n",
              "    }\n",
              "\n",
              "    [theme=dark] .colab-df-convert {\n",
              "      background-color: #3B4455;\n",
              "      fill: #D2E3FC;\n",
              "    }\n",
              "\n",
              "    [theme=dark] .colab-df-convert:hover {\n",
              "      background-color: #434B5C;\n",
              "      box-shadow: 0px 1px 3px 1px rgba(0, 0, 0, 0.15);\n",
              "      filter: drop-shadow(0px 1px 2px rgba(0, 0, 0, 0.3));\n",
              "      fill: #FFFFFF;\n",
              "    }\n",
              "  </style>\n",
              "\n",
              "    <script>\n",
              "      const buttonEl =\n",
              "        document.querySelector('#df-f3456439-7276-4c0a-a727-23ab17db1120 button.colab-df-convert');\n",
              "      buttonEl.style.display =\n",
              "        google.colab.kernel.accessAllowed ? 'block' : 'none';\n",
              "\n",
              "      async function convertToInteractive(key) {\n",
              "        const element = document.querySelector('#df-f3456439-7276-4c0a-a727-23ab17db1120');\n",
              "        const dataTable =\n",
              "          await google.colab.kernel.invokeFunction('convertToInteractive',\n",
              "                                                    [key], {});\n",
              "        if (!dataTable) return;\n",
              "\n",
              "        const docLinkHtml = 'Like what you see? Visit the ' +\n",
              "          '<a target=\"_blank\" href=https://colab.research.google.com/notebooks/data_table.ipynb>data table notebook</a>'\n",
              "          + ' to learn more about interactive tables.';\n",
              "        element.innerHTML = '';\n",
              "        dataTable['output_type'] = 'display_data';\n",
              "        await google.colab.output.renderOutput(dataTable, element);\n",
              "        const docLink = document.createElement('div');\n",
              "        docLink.innerHTML = docLinkHtml;\n",
              "        element.appendChild(docLink);\n",
              "      }\n",
              "    </script>\n",
              "  </div>\n",
              "\n",
              "\n",
              "    <div id=\"df-fa4aef46-8fe9-4a0d-92e1-52d3cb6bb554\">\n",
              "      <button class=\"colab-df-quickchart\" onclick=\"quickchart('df-fa4aef46-8fe9-4a0d-92e1-52d3cb6bb554')\"\n",
              "                title=\"Suggest charts\"\n",
              "                style=\"display:none;\">\n",
              "\n",
              "<svg xmlns=\"http://www.w3.org/2000/svg\" height=\"24px\"viewBox=\"0 0 24 24\"\n",
              "     width=\"24px\">\n",
              "    <g>\n",
              "        <path d=\"M19 3H5c-1.1 0-2 .9-2 2v14c0 1.1.9 2 2 2h14c1.1 0 2-.9 2-2V5c0-1.1-.9-2-2-2zM9 17H7v-7h2v7zm4 0h-2V7h2v10zm4 0h-2v-4h2v4z\"/>\n",
              "    </g>\n",
              "</svg>\n",
              "      </button>\n",
              "\n",
              "<style>\n",
              "  .colab-df-quickchart {\n",
              "      --bg-color: #E8F0FE;\n",
              "      --fill-color: #1967D2;\n",
              "      --hover-bg-color: #E2EBFA;\n",
              "      --hover-fill-color: #174EA6;\n",
              "      --disabled-fill-color: #AAA;\n",
              "      --disabled-bg-color: #DDD;\n",
              "  }\n",
              "\n",
              "  [theme=dark] .colab-df-quickchart {\n",
              "      --bg-color: #3B4455;\n",
              "      --fill-color: #D2E3FC;\n",
              "      --hover-bg-color: #434B5C;\n",
              "      --hover-fill-color: #FFFFFF;\n",
              "      --disabled-bg-color: #3B4455;\n",
              "      --disabled-fill-color: #666;\n",
              "  }\n",
              "\n",
              "  .colab-df-quickchart {\n",
              "    background-color: var(--bg-color);\n",
              "    border: none;\n",
              "    border-radius: 50%;\n",
              "    cursor: pointer;\n",
              "    display: none;\n",
              "    fill: var(--fill-color);\n",
              "    height: 32px;\n",
              "    padding: 0;\n",
              "    width: 32px;\n",
              "  }\n",
              "\n",
              "  .colab-df-quickchart:hover {\n",
              "    background-color: var(--hover-bg-color);\n",
              "    box-shadow: 0 1px 2px rgba(60, 64, 67, 0.3), 0 1px 3px 1px rgba(60, 64, 67, 0.15);\n",
              "    fill: var(--button-hover-fill-color);\n",
              "  }\n",
              "\n",
              "  .colab-df-quickchart-complete:disabled,\n",
              "  .colab-df-quickchart-complete:disabled:hover {\n",
              "    background-color: var(--disabled-bg-color);\n",
              "    fill: var(--disabled-fill-color);\n",
              "    box-shadow: none;\n",
              "  }\n",
              "\n",
              "  .colab-df-spinner {\n",
              "    border: 2px solid var(--fill-color);\n",
              "    border-color: transparent;\n",
              "    border-bottom-color: var(--fill-color);\n",
              "    animation:\n",
              "      spin 1s steps(1) infinite;\n",
              "  }\n",
              "\n",
              "  @keyframes spin {\n",
              "    0% {\n",
              "      border-color: transparent;\n",
              "      border-bottom-color: var(--fill-color);\n",
              "      border-left-color: var(--fill-color);\n",
              "    }\n",
              "    20% {\n",
              "      border-color: transparent;\n",
              "      border-left-color: var(--fill-color);\n",
              "      border-top-color: var(--fill-color);\n",
              "    }\n",
              "    30% {\n",
              "      border-color: transparent;\n",
              "      border-left-color: var(--fill-color);\n",
              "      border-top-color: var(--fill-color);\n",
              "      border-right-color: var(--fill-color);\n",
              "    }\n",
              "    40% {\n",
              "      border-color: transparent;\n",
              "      border-right-color: var(--fill-color);\n",
              "      border-top-color: var(--fill-color);\n",
              "    }\n",
              "    60% {\n",
              "      border-color: transparent;\n",
              "      border-right-color: var(--fill-color);\n",
              "    }\n",
              "    80% {\n",
              "      border-color: transparent;\n",
              "      border-right-color: var(--fill-color);\n",
              "      border-bottom-color: var(--fill-color);\n",
              "    }\n",
              "    90% {\n",
              "      border-color: transparent;\n",
              "      border-bottom-color: var(--fill-color);\n",
              "    }\n",
              "  }\n",
              "</style>\n",
              "\n",
              "      <script>\n",
              "        async function quickchart(key) {\n",
              "          const quickchartButtonEl =\n",
              "            document.querySelector('#' + key + ' button');\n",
              "          quickchartButtonEl.disabled = true;  // To prevent multiple clicks.\n",
              "          quickchartButtonEl.classList.add('colab-df-spinner');\n",
              "          try {\n",
              "            const charts = await google.colab.kernel.invokeFunction(\n",
              "                'suggestCharts', [key], {});\n",
              "          } catch (error) {\n",
              "            console.error('Error during call to suggestCharts:', error);\n",
              "          }\n",
              "          quickchartButtonEl.classList.remove('colab-df-spinner');\n",
              "          quickchartButtonEl.classList.add('colab-df-quickchart-complete');\n",
              "        }\n",
              "        (() => {\n",
              "          let quickchartButtonEl =\n",
              "            document.querySelector('#df-fa4aef46-8fe9-4a0d-92e1-52d3cb6bb554 button');\n",
              "          quickchartButtonEl.style.display =\n",
              "            google.colab.kernel.accessAllowed ? 'block' : 'none';\n",
              "        })();\n",
              "      </script>\n",
              "    </div>\n",
              "\n",
              "    </div>\n",
              "  </div>\n"
            ],
            "text/plain": [
              "                                                text  \\\n",
              "0  <s>[INST] Please translate \"It happened after ...   \n",
              "1  <s>[INST] Please translate \"it happened on the...   \n",
              "2  <s>[INST] Please translate \"David said to him,...   \n",
              "3  <s>[INST] Please translate \"David said to him,...   \n",
              "4  <s>[INST] Please translate \"David said to the ...   \n",
              "\n",
              "                                                  en  \\\n",
              "0  It happened after the death of Saul, when Davi...   \n",
              "1  it happened on the third day, that behold, a m...   \n",
              "2  David said to him, \"Where do you come from?\" H...   \n",
              "3  David said to him, \"How did it go? Please tell...   \n",
              "4  David said to the young man who told him, \"How...   \n",
              "\n",
              "                                                  np  \n",
              "0  दाऊदले अमालेकीहरूलाई हराएर पछि सिकलग गए। यो शा...  \n",
              "1  तब तेस्रो दिनमा एउटा जवान सैनिक सिकलगमा आयो। त...  \n",
              "2  दाऊदले त्यसलाई सोधे, “तिमी कहाँबाट आयौ?” त्यस ...  \n",
              "3  दाऊदले भने, “मलाई भन, के भयो?” त्यसले भन्यो, “...  \n",
              "4  दाऊदले त्यस सैनिकलाई भने, “तिमीले कसरी जान्यौ ...  "
            ]
          },
          "execution_count": 16,
          "metadata": {},
          "output_type": "execute_result"
        }
      ],
      "source": [
        "df.head()"
      ]
    },
    {
      "cell_type": "code",
      "execution_count": null,
      "metadata": {
        "id": "Z5mUUZTSjC3z"
      },
      "outputs": [],
      "source": [
        "df = df.drop(columns = ['text'])"
      ]
    },
    {
      "cell_type": "code",
      "execution_count": null,
      "metadata": {
        "colab": {
          "base_uri": "https://localhost:8080/",
          "height": 206
        },
        "id": "kE6VbWDVjHEX",
        "outputId": "5933eb96-fcdd-442c-c7d4-91f548ea3bb5"
      },
      "outputs": [
        {
          "data": {
            "application/vnd.google.colaboratory.intrinsic+json": {
              "summary": "{\n  \"name\": \"df\",\n  \"rows\": 10000,\n  \"fields\": [\n    {\n      \"column\": \"en\",\n      \"properties\": {\n        \"dtype\": \"string\",\n        \"num_unique_values\": 9900,\n        \"samples\": [\n          \"There was a strife between the herdsmen of Abram's livestock and the herdsmen of Lot's livestock: and the Canaanite and the Perizzite lived in the land at that time.\",\n          \"If one attacks him with the sword, it can't prevail; nor the spear, the dart, nor the pointed shaft.\",\n          \"For the arrows of the Almighty are within me. My spirit drinks up their poison. The terrors of God set themselves in array against me.\"\n        ],\n        \"semantic_type\": \"\",\n        \"description\": \"\"\n      }\n    },\n    {\n      \"column\": \"np\",\n      \"properties\": {\n        \"dtype\": \"string\",\n        \"num_unique_values\": 9990,\n        \"samples\": [\n          \"\\u0915\\u093f\\u0928\\u092d\\u0928\\u0947 \\u0939\\u093e\\u092e\\u094d\\u0930\\u093e \\u092a\\u0942\\u0930\\u094d\\u0916\\u093e\\u0939\\u0930\\u0942\\u0932\\u0947 \\u0938\\u094d\\u0935\\u0930\\u094d\\u0917\\u0915\\u093e \\u092a\\u0930\\u092e\\u0947\\u0936\\u094d\\u0935\\u0930\\u0932\\u093e\\u0908 \\u0915\\u094d\\u0930\\u094b\\u0927\\u093f\\u0924 \\u0924\\u0941\\u0932\\u094d\\u092f\\u093e\\u090f\\u0915\\u093e \\u0939\\u0941\\u0928\\u093e\\u0932\\u0947 \\u0909\\u0939\\u093e\\u0901\\u0932\\u0947 \\u0924\\u093f\\u0928\\u0940\\u0939\\u0930\\u0942\\u0932\\u093e\\u0908 \\u092c\\u093e\\u092c\\u0947\\u0932\\u0915\\u093e \\u0930\\u093e\\u091c\\u093e \\u0928\\u092c\\u0942\\u0915\\u0926\\u0928\\u0947\\u0938\\u0930, \\u091a\\u0932\\u0926\\u093f\\u092f\\u0928\\u0915\\u094b \\u0939\\u093e\\u0924\\u092e\\u093e \\u0938\\u0941\\u092e\\u094d\\u092a\\u093f\\u0928\\u0941 \\u092d\\u092f\\u094b, \\u0905\\u0928\\u093f \\u0924\\u093f\\u0928\\u0932\\u0947 \\u092f\\u094b \\u092e\\u0928\\u094d\\u0926\\u093f\\u0930\\u0932\\u093e\\u0908 \\u0924\\u094b\\u0921\\u093f \\u0926\\u093f\\u090f \\u0930 \\u092c\\u093e\\u092c\\u0947\\u0932\\u092e\\u093e \\u0915\\u0948\\u0926\\u0940 \\u092c\\u0928\\u093e\\u090f \\u0924\\u0940 \\u092e\\u093e\\u0928\\u093f\\u0938\\u0939\\u0930\\u0942\\u0932\\u093e\\u0908 \\u0932\\u0917\\u0947\\u0964\",\n          \"\\u092e \\u0921\\u0930\\u0932\\u0947 \\u0915\\u093e\\u092e\\u093f\\u0930\\u0939\\u0947\\u091b\\u0941 \\u0939\\u093e\\u0935\\u093e\\u0932\\u0947 \\u0915\\u0947\\u0939\\u0940 \\u091a\\u0940\\u091c \\u0909\\u0921\\u093e\\u0908 \\u0932\\u0917\\u0947 \\u091c\\u0938\\u094d\\u0924\\u094b \\u0917\\u0930\\u0940 \\u0924\\u0940 \\u092f\\u0941\\u0935\\u0915\\u0939\\u0930\\u0942 \\u092e\\u0947\\u0930\\u094b \\u0916\\u0947\\u0926\\u094b \\u0932\\u093e\\u0909\\u0901\\u091b\\u0928\\u094d\\u0964 \\u092e\\u0947\\u0930\\u094b \\u0938\\u0941\\u0930\\u0915\\u094d\\u0937\\u093e \\u092c\\u093e\\u0926\\u0932 \\u091c\\u0938\\u094d\\u0924\\u094b \\u0935\\u093f\\u0932\\u093f\\u0928 \\u0939\\u0941\\u0901\\u0926\\u091b\\u0964\",\n          \"\\u0905\\u0928\\u093f \\u0906\\u092e\\u093e\\u0938\\u093e\\u0932\\u093e\\u0908 \\u092d\\u0928, \\u2018\\u0924\\u093f\\u092e\\u0940 \\u092e\\u0947\\u0930\\u094b \\u0915\\u0941\\u0932 \\u0938\\u092e\\u0942\\u0939\\u0915\\u093e \\u0939\\u094c\\u0964 \\u092f\\u0926\\u093f \\u092e\\u0948\\u0932\\u0947 \\u0924\\u093f\\u092e\\u0940\\u0932\\u093e\\u0908 \\u092f\\u094b\\u0906\\u092c\\u0915\\u094b \\u0938\\u094d\\u0925\\u093e\\u0928\\u092e\\u093e \\u0938\\u0947\\u0928\\u093e\\u0915\\u094b \\u0915\\u092a\\u094d\\u0924\\u093e\\u0928 \\u092c\\u0928\\u093e\\u0907\\u0928 \\u092d\\u0928\\u0947 \\u092a\\u0930\\u092e\\u0947\\u0936\\u094d\\u0935\\u0930\\u0932\\u0947 \\u092e\\u0932\\u093e\\u0908 \\u0926\\u0923\\u094d\\u0921 \\u0926\\u093f\\u0909\\u0928\\u094d\\u0964\\u201d\\u2018\"\n        ],\n        \"semantic_type\": \"\",\n        \"description\": \"\"\n      }\n    }\n  ]\n}",
              "type": "dataframe",
              "variable_name": "df"
            },
            "text/html": [
              "\n",
              "  <div id=\"df-f75fec27-c325-45e2-a2a8-d819b41b5920\" class=\"colab-df-container\">\n",
              "    <div>\n",
              "<style scoped>\n",
              "    .dataframe tbody tr th:only-of-type {\n",
              "        vertical-align: middle;\n",
              "    }\n",
              "\n",
              "    .dataframe tbody tr th {\n",
              "        vertical-align: top;\n",
              "    }\n",
              "\n",
              "    .dataframe thead th {\n",
              "        text-align: right;\n",
              "    }\n",
              "</style>\n",
              "<table border=\"1\" class=\"dataframe\">\n",
              "  <thead>\n",
              "    <tr style=\"text-align: right;\">\n",
              "      <th></th>\n",
              "      <th>en</th>\n",
              "      <th>np</th>\n",
              "    </tr>\n",
              "  </thead>\n",
              "  <tbody>\n",
              "    <tr>\n",
              "      <th>0</th>\n",
              "      <td>It happened after the death of Saul, when Davi...</td>\n",
              "      <td>दाऊदले अमालेकीहरूलाई हराएर पछि सिकलग गए। यो शा...</td>\n",
              "    </tr>\n",
              "    <tr>\n",
              "      <th>1</th>\n",
              "      <td>it happened on the third day, that behold, a m...</td>\n",
              "      <td>तब तेस्रो दिनमा एउटा जवान सैनिक सिकलगमा आयो। त...</td>\n",
              "    </tr>\n",
              "    <tr>\n",
              "      <th>2</th>\n",
              "      <td>David said to him, \"Where do you come from?\" H...</td>\n",
              "      <td>दाऊदले त्यसलाई सोधे, “तिमी कहाँबाट आयौ?” त्यस ...</td>\n",
              "    </tr>\n",
              "    <tr>\n",
              "      <th>3</th>\n",
              "      <td>David said to him, \"How did it go? Please tell...</td>\n",
              "      <td>दाऊदले भने, “मलाई भन, के भयो?” त्यसले भन्यो, “...</td>\n",
              "    </tr>\n",
              "    <tr>\n",
              "      <th>4</th>\n",
              "      <td>David said to the young man who told him, \"How...</td>\n",
              "      <td>दाऊदले त्यस सैनिकलाई भने, “तिमीले कसरी जान्यौ ...</td>\n",
              "    </tr>\n",
              "  </tbody>\n",
              "</table>\n",
              "</div>\n",
              "    <div class=\"colab-df-buttons\">\n",
              "\n",
              "  <div class=\"colab-df-container\">\n",
              "    <button class=\"colab-df-convert\" onclick=\"convertToInteractive('df-f75fec27-c325-45e2-a2a8-d819b41b5920')\"\n",
              "            title=\"Convert this dataframe to an interactive table.\"\n",
              "            style=\"display:none;\">\n",
              "\n",
              "  <svg xmlns=\"http://www.w3.org/2000/svg\" height=\"24px\" viewBox=\"0 -960 960 960\">\n",
              "    <path d=\"M120-120v-720h720v720H120Zm60-500h600v-160H180v160Zm220 220h160v-160H400v160Zm0 220h160v-160H400v160ZM180-400h160v-160H180v160Zm440 0h160v-160H620v160ZM180-180h160v-160H180v160Zm440 0h160v-160H620v160Z\"/>\n",
              "  </svg>\n",
              "    </button>\n",
              "\n",
              "  <style>\n",
              "    .colab-df-container {\n",
              "      display:flex;\n",
              "      gap: 12px;\n",
              "    }\n",
              "\n",
              "    .colab-df-convert {\n",
              "      background-color: #E8F0FE;\n",
              "      border: none;\n",
              "      border-radius: 50%;\n",
              "      cursor: pointer;\n",
              "      display: none;\n",
              "      fill: #1967D2;\n",
              "      height: 32px;\n",
              "      padding: 0 0 0 0;\n",
              "      width: 32px;\n",
              "    }\n",
              "\n",
              "    .colab-df-convert:hover {\n",
              "      background-color: #E2EBFA;\n",
              "      box-shadow: 0px 1px 2px rgba(60, 64, 67, 0.3), 0px 1px 3px 1px rgba(60, 64, 67, 0.15);\n",
              "      fill: #174EA6;\n",
              "    }\n",
              "\n",
              "    .colab-df-buttons div {\n",
              "      margin-bottom: 4px;\n",
              "    }\n",
              "\n",
              "    [theme=dark] .colab-df-convert {\n",
              "      background-color: #3B4455;\n",
              "      fill: #D2E3FC;\n",
              "    }\n",
              "\n",
              "    [theme=dark] .colab-df-convert:hover {\n",
              "      background-color: #434B5C;\n",
              "      box-shadow: 0px 1px 3px 1px rgba(0, 0, 0, 0.15);\n",
              "      filter: drop-shadow(0px 1px 2px rgba(0, 0, 0, 0.3));\n",
              "      fill: #FFFFFF;\n",
              "    }\n",
              "  </style>\n",
              "\n",
              "    <script>\n",
              "      const buttonEl =\n",
              "        document.querySelector('#df-f75fec27-c325-45e2-a2a8-d819b41b5920 button.colab-df-convert');\n",
              "      buttonEl.style.display =\n",
              "        google.colab.kernel.accessAllowed ? 'block' : 'none';\n",
              "\n",
              "      async function convertToInteractive(key) {\n",
              "        const element = document.querySelector('#df-f75fec27-c325-45e2-a2a8-d819b41b5920');\n",
              "        const dataTable =\n",
              "          await google.colab.kernel.invokeFunction('convertToInteractive',\n",
              "                                                    [key], {});\n",
              "        if (!dataTable) return;\n",
              "\n",
              "        const docLinkHtml = 'Like what you see? Visit the ' +\n",
              "          '<a target=\"_blank\" href=https://colab.research.google.com/notebooks/data_table.ipynb>data table notebook</a>'\n",
              "          + ' to learn more about interactive tables.';\n",
              "        element.innerHTML = '';\n",
              "        dataTable['output_type'] = 'display_data';\n",
              "        await google.colab.output.renderOutput(dataTable, element);\n",
              "        const docLink = document.createElement('div');\n",
              "        docLink.innerHTML = docLinkHtml;\n",
              "        element.appendChild(docLink);\n",
              "      }\n",
              "    </script>\n",
              "  </div>\n",
              "\n",
              "\n",
              "    <div id=\"df-d32c54f5-e67e-4510-857e-a453f59af5f8\">\n",
              "      <button class=\"colab-df-quickchart\" onclick=\"quickchart('df-d32c54f5-e67e-4510-857e-a453f59af5f8')\"\n",
              "                title=\"Suggest charts\"\n",
              "                style=\"display:none;\">\n",
              "\n",
              "<svg xmlns=\"http://www.w3.org/2000/svg\" height=\"24px\"viewBox=\"0 0 24 24\"\n",
              "     width=\"24px\">\n",
              "    <g>\n",
              "        <path d=\"M19 3H5c-1.1 0-2 .9-2 2v14c0 1.1.9 2 2 2h14c1.1 0 2-.9 2-2V5c0-1.1-.9-2-2-2zM9 17H7v-7h2v7zm4 0h-2V7h2v10zm4 0h-2v-4h2v4z\"/>\n",
              "    </g>\n",
              "</svg>\n",
              "      </button>\n",
              "\n",
              "<style>\n",
              "  .colab-df-quickchart {\n",
              "      --bg-color: #E8F0FE;\n",
              "      --fill-color: #1967D2;\n",
              "      --hover-bg-color: #E2EBFA;\n",
              "      --hover-fill-color: #174EA6;\n",
              "      --disabled-fill-color: #AAA;\n",
              "      --disabled-bg-color: #DDD;\n",
              "  }\n",
              "\n",
              "  [theme=dark] .colab-df-quickchart {\n",
              "      --bg-color: #3B4455;\n",
              "      --fill-color: #D2E3FC;\n",
              "      --hover-bg-color: #434B5C;\n",
              "      --hover-fill-color: #FFFFFF;\n",
              "      --disabled-bg-color: #3B4455;\n",
              "      --disabled-fill-color: #666;\n",
              "  }\n",
              "\n",
              "  .colab-df-quickchart {\n",
              "    background-color: var(--bg-color);\n",
              "    border: none;\n",
              "    border-radius: 50%;\n",
              "    cursor: pointer;\n",
              "    display: none;\n",
              "    fill: var(--fill-color);\n",
              "    height: 32px;\n",
              "    padding: 0;\n",
              "    width: 32px;\n",
              "  }\n",
              "\n",
              "  .colab-df-quickchart:hover {\n",
              "    background-color: var(--hover-bg-color);\n",
              "    box-shadow: 0 1px 2px rgba(60, 64, 67, 0.3), 0 1px 3px 1px rgba(60, 64, 67, 0.15);\n",
              "    fill: var(--button-hover-fill-color);\n",
              "  }\n",
              "\n",
              "  .colab-df-quickchart-complete:disabled,\n",
              "  .colab-df-quickchart-complete:disabled:hover {\n",
              "    background-color: var(--disabled-bg-color);\n",
              "    fill: var(--disabled-fill-color);\n",
              "    box-shadow: none;\n",
              "  }\n",
              "\n",
              "  .colab-df-spinner {\n",
              "    border: 2px solid var(--fill-color);\n",
              "    border-color: transparent;\n",
              "    border-bottom-color: var(--fill-color);\n",
              "    animation:\n",
              "      spin 1s steps(1) infinite;\n",
              "  }\n",
              "\n",
              "  @keyframes spin {\n",
              "    0% {\n",
              "      border-color: transparent;\n",
              "      border-bottom-color: var(--fill-color);\n",
              "      border-left-color: var(--fill-color);\n",
              "    }\n",
              "    20% {\n",
              "      border-color: transparent;\n",
              "      border-left-color: var(--fill-color);\n",
              "      border-top-color: var(--fill-color);\n",
              "    }\n",
              "    30% {\n",
              "      border-color: transparent;\n",
              "      border-left-color: var(--fill-color);\n",
              "      border-top-color: var(--fill-color);\n",
              "      border-right-color: var(--fill-color);\n",
              "    }\n",
              "    40% {\n",
              "      border-color: transparent;\n",
              "      border-right-color: var(--fill-color);\n",
              "      border-top-color: var(--fill-color);\n",
              "    }\n",
              "    60% {\n",
              "      border-color: transparent;\n",
              "      border-right-color: var(--fill-color);\n",
              "    }\n",
              "    80% {\n",
              "      border-color: transparent;\n",
              "      border-right-color: var(--fill-color);\n",
              "      border-bottom-color: var(--fill-color);\n",
              "    }\n",
              "    90% {\n",
              "      border-color: transparent;\n",
              "      border-bottom-color: var(--fill-color);\n",
              "    }\n",
              "  }\n",
              "</style>\n",
              "\n",
              "      <script>\n",
              "        async function quickchart(key) {\n",
              "          const quickchartButtonEl =\n",
              "            document.querySelector('#' + key + ' button');\n",
              "          quickchartButtonEl.disabled = true;  // To prevent multiple clicks.\n",
              "          quickchartButtonEl.classList.add('colab-df-spinner');\n",
              "          try {\n",
              "            const charts = await google.colab.kernel.invokeFunction(\n",
              "                'suggestCharts', [key], {});\n",
              "          } catch (error) {\n",
              "            console.error('Error during call to suggestCharts:', error);\n",
              "          }\n",
              "          quickchartButtonEl.classList.remove('colab-df-spinner');\n",
              "          quickchartButtonEl.classList.add('colab-df-quickchart-complete');\n",
              "        }\n",
              "        (() => {\n",
              "          let quickchartButtonEl =\n",
              "            document.querySelector('#df-d32c54f5-e67e-4510-857e-a453f59af5f8 button');\n",
              "          quickchartButtonEl.style.display =\n",
              "            google.colab.kernel.accessAllowed ? 'block' : 'none';\n",
              "        })();\n",
              "      </script>\n",
              "    </div>\n",
              "\n",
              "    </div>\n",
              "  </div>\n"
            ],
            "text/plain": [
              "                                                  en  \\\n",
              "0  It happened after the death of Saul, when Davi...   \n",
              "1  it happened on the third day, that behold, a m...   \n",
              "2  David said to him, \"Where do you come from?\" H...   \n",
              "3  David said to him, \"How did it go? Please tell...   \n",
              "4  David said to the young man who told him, \"How...   \n",
              "\n",
              "                                                  np  \n",
              "0  दाऊदले अमालेकीहरूलाई हराएर पछि सिकलग गए। यो शा...  \n",
              "1  तब तेस्रो दिनमा एउटा जवान सैनिक सिकलगमा आयो। त...  \n",
              "2  दाऊदले त्यसलाई सोधे, “तिमी कहाँबाट आयौ?” त्यस ...  \n",
              "3  दाऊदले भने, “मलाई भन, के भयो?” त्यसले भन्यो, “...  \n",
              "4  दाऊदले त्यस सैनिकलाई भने, “तिमीले कसरी जान्यौ ...  "
            ]
          },
          "execution_count": 18,
          "metadata": {},
          "output_type": "execute_result"
        }
      ],
      "source": [
        "df.head()"
      ]
    },
    {
      "cell_type": "code",
      "execution_count": null,
      "metadata": {
        "id": "Y0XMbDi7jMdE"
      },
      "outputs": [],
      "source": [
        "def clean_text(text, lang):\n",
        "  text.strip()\n",
        "\n",
        "  if lang == 'en':\n",
        "    text = text.lower()\n",
        "    text = re.sub(r\"([.!?])\", r\" \\1\", text)\n",
        "    text = re.sub(r\"[^a-z!?]+\", r\" \", text)\n",
        "\n",
        "  text = unicodedata.normalize(\"NFC\", text)\n",
        "  text = re.sub(r\"\\s+\", \" \", text)\n",
        "  return text"
      ]
    },
    {
      "cell_type": "code",
      "execution_count": null,
      "metadata": {
        "id": "tolvvygZjlDv"
      },
      "outputs": [],
      "source": [
        "df['en'] = df['en'].apply(clean_text, lang='en')\n",
        "df['np'] = df['np'].apply(clean_text, lang = 'np')"
      ]
    },
    {
      "cell_type": "code",
      "execution_count": null,
      "metadata": {
        "colab": {
          "base_uri": "https://localhost:8080/",
          "height": 206
        },
        "id": "L8m6E8hYjnyy",
        "outputId": "a7e070d6-0dad-40cc-86d4-20b1f61ae5b2"
      },
      "outputs": [
        {
          "data": {
            "application/vnd.google.colaboratory.intrinsic+json": {
              "summary": "{\n  \"name\": \"df\",\n  \"rows\": 10000,\n  \"fields\": [\n    {\n      \"column\": \"en\",\n      \"properties\": {\n        \"dtype\": \"string\",\n        \"num_unique_values\": 9873,\n        \"samples\": [\n          \"yahweh s voice makes the deer calve and strips the forests bare in his temple everything says glory ! \",\n          \"in hebron he reigned over judah seven years and six months and in jerusalem he reigned thirty three years over all israel and judah \",\n          \"israel said to joseph aren t your brothers feeding the flock in shechem ? come and i will send you to them he said to him here i am \"\n        ],\n        \"semantic_type\": \"\",\n        \"description\": \"\"\n      }\n    },\n    {\n      \"column\": \"np\",\n      \"properties\": {\n        \"dtype\": \"string\",\n        \"num_unique_values\": 9990,\n        \"samples\": [\n          \"\\u0915\\u093f\\u0928\\u092d\\u0928\\u0947 \\u0939\\u093e\\u092e\\u094d\\u0930\\u093e \\u092a\\u0942\\u0930\\u094d\\u0916\\u093e\\u0939\\u0930\\u0942\\u0932\\u0947 \\u0938\\u094d\\u0935\\u0930\\u094d\\u0917\\u0915\\u093e \\u092a\\u0930\\u092e\\u0947\\u0936\\u094d\\u0935\\u0930\\u0932\\u093e\\u0908 \\u0915\\u094d\\u0930\\u094b\\u0927\\u093f\\u0924 \\u0924\\u0941\\u0932\\u094d\\u092f\\u093e\\u090f\\u0915\\u093e \\u0939\\u0941\\u0928\\u093e\\u0932\\u0947 \\u0909\\u0939\\u093e\\u0901\\u0932\\u0947 \\u0924\\u093f\\u0928\\u0940\\u0939\\u0930\\u0942\\u0932\\u093e\\u0908 \\u092c\\u093e\\u092c\\u0947\\u0932\\u0915\\u093e \\u0930\\u093e\\u091c\\u093e \\u0928\\u092c\\u0942\\u0915\\u0926\\u0928\\u0947\\u0938\\u0930, \\u091a\\u0932\\u0926\\u093f\\u092f\\u0928\\u0915\\u094b \\u0939\\u093e\\u0924\\u092e\\u093e \\u0938\\u0941\\u092e\\u094d\\u092a\\u093f\\u0928\\u0941 \\u092d\\u092f\\u094b, \\u0905\\u0928\\u093f \\u0924\\u093f\\u0928\\u0932\\u0947 \\u092f\\u094b \\u092e\\u0928\\u094d\\u0926\\u093f\\u0930\\u0932\\u093e\\u0908 \\u0924\\u094b\\u0921\\u093f \\u0926\\u093f\\u090f \\u0930 \\u092c\\u093e\\u092c\\u0947\\u0932\\u092e\\u093e \\u0915\\u0948\\u0926\\u0940 \\u092c\\u0928\\u093e\\u090f \\u0924\\u0940 \\u092e\\u093e\\u0928\\u093f\\u0938\\u0939\\u0930\\u0942\\u0932\\u093e\\u0908 \\u0932\\u0917\\u0947\\u0964\",\n          \"\\u092e \\u0921\\u0930\\u0932\\u0947 \\u0915\\u093e\\u092e\\u093f\\u0930\\u0939\\u0947\\u091b\\u0941 \\u0939\\u093e\\u0935\\u093e\\u0932\\u0947 \\u0915\\u0947\\u0939\\u0940 \\u091a\\u0940\\u091c \\u0909\\u0921\\u093e\\u0908 \\u0932\\u0917\\u0947 \\u091c\\u0938\\u094d\\u0924\\u094b \\u0917\\u0930\\u0940 \\u0924\\u0940 \\u092f\\u0941\\u0935\\u0915\\u0939\\u0930\\u0942 \\u092e\\u0947\\u0930\\u094b \\u0916\\u0947\\u0926\\u094b \\u0932\\u093e\\u0909\\u0901\\u091b\\u0928\\u094d\\u0964 \\u092e\\u0947\\u0930\\u094b \\u0938\\u0941\\u0930\\u0915\\u094d\\u0937\\u093e \\u092c\\u093e\\u0926\\u0932 \\u091c\\u0938\\u094d\\u0924\\u094b \\u0935\\u093f\\u0932\\u093f\\u0928 \\u0939\\u0941\\u0901\\u0926\\u091b\\u0964\",\n          \"\\u0905\\u0928\\u093f \\u0906\\u092e\\u093e\\u0938\\u093e\\u0932\\u093e\\u0908 \\u092d\\u0928, \\u2018\\u0924\\u093f\\u092e\\u0940 \\u092e\\u0947\\u0930\\u094b \\u0915\\u0941\\u0932 \\u0938\\u092e\\u0942\\u0939\\u0915\\u093e \\u0939\\u094c\\u0964 \\u092f\\u0926\\u093f \\u092e\\u0948\\u0932\\u0947 \\u0924\\u093f\\u092e\\u0940\\u0932\\u093e\\u0908 \\u092f\\u094b\\u0906\\u092c\\u0915\\u094b \\u0938\\u094d\\u0925\\u093e\\u0928\\u092e\\u093e \\u0938\\u0947\\u0928\\u093e\\u0915\\u094b \\u0915\\u092a\\u094d\\u0924\\u093e\\u0928 \\u092c\\u0928\\u093e\\u0907\\u0928 \\u092d\\u0928\\u0947 \\u092a\\u0930\\u092e\\u0947\\u0936\\u094d\\u0935\\u0930\\u0932\\u0947 \\u092e\\u0932\\u093e\\u0908 \\u0926\\u0923\\u094d\\u0921 \\u0926\\u093f\\u0909\\u0928\\u094d\\u0964\\u201d\\u2018\"\n        ],\n        \"semantic_type\": \"\",\n        \"description\": \"\"\n      }\n    }\n  ]\n}",
              "type": "dataframe",
              "variable_name": "df"
            },
            "text/html": [
              "\n",
              "  <div id=\"df-7a00a354-b4e3-4413-a8df-3a6e07bcc5e5\" class=\"colab-df-container\">\n",
              "    <div>\n",
              "<style scoped>\n",
              "    .dataframe tbody tr th:only-of-type {\n",
              "        vertical-align: middle;\n",
              "    }\n",
              "\n",
              "    .dataframe tbody tr th {\n",
              "        vertical-align: top;\n",
              "    }\n",
              "\n",
              "    .dataframe thead th {\n",
              "        text-align: right;\n",
              "    }\n",
              "</style>\n",
              "<table border=\"1\" class=\"dataframe\">\n",
              "  <thead>\n",
              "    <tr style=\"text-align: right;\">\n",
              "      <th></th>\n",
              "      <th>en</th>\n",
              "      <th>np</th>\n",
              "    </tr>\n",
              "  </thead>\n",
              "  <tbody>\n",
              "    <tr>\n",
              "      <th>0</th>\n",
              "      <td>it happened after the death of saul when david...</td>\n",
              "      <td>दाऊदले अमालेकीहरूलाई हराएर पछि सिकलग गए। यो शा...</td>\n",
              "    </tr>\n",
              "    <tr>\n",
              "      <th>1</th>\n",
              "      <td>it happened on the third day that behold a man...</td>\n",
              "      <td>तब तेस्रो दिनमा एउटा जवान सैनिक सिकलगमा आयो। त...</td>\n",
              "    </tr>\n",
              "    <tr>\n",
              "      <th>2</th>\n",
              "      <td>david said to him where do you come from ? he ...</td>\n",
              "      <td>दाऊदले त्यसलाई सोधे, “तिमी कहाँबाट आयौ?” त्यस ...</td>\n",
              "    </tr>\n",
              "    <tr>\n",
              "      <th>3</th>\n",
              "      <td>david said to him how did it go ? please tell ...</td>\n",
              "      <td>दाऊदले भने, “मलाई भन, के भयो?” त्यसले भन्यो, “...</td>\n",
              "    </tr>\n",
              "    <tr>\n",
              "      <th>4</th>\n",
              "      <td>david said to the young man who told him how d...</td>\n",
              "      <td>दाऊदले त्यस सैनिकलाई भने, “तिमीले कसरी जान्यौ ...</td>\n",
              "    </tr>\n",
              "  </tbody>\n",
              "</table>\n",
              "</div>\n",
              "    <div class=\"colab-df-buttons\">\n",
              "\n",
              "  <div class=\"colab-df-container\">\n",
              "    <button class=\"colab-df-convert\" onclick=\"convertToInteractive('df-7a00a354-b4e3-4413-a8df-3a6e07bcc5e5')\"\n",
              "            title=\"Convert this dataframe to an interactive table.\"\n",
              "            style=\"display:none;\">\n",
              "\n",
              "  <svg xmlns=\"http://www.w3.org/2000/svg\" height=\"24px\" viewBox=\"0 -960 960 960\">\n",
              "    <path d=\"M120-120v-720h720v720H120Zm60-500h600v-160H180v160Zm220 220h160v-160H400v160Zm0 220h160v-160H400v160ZM180-400h160v-160H180v160Zm440 0h160v-160H620v160ZM180-180h160v-160H180v160Zm440 0h160v-160H620v160Z\"/>\n",
              "  </svg>\n",
              "    </button>\n",
              "\n",
              "  <style>\n",
              "    .colab-df-container {\n",
              "      display:flex;\n",
              "      gap: 12px;\n",
              "    }\n",
              "\n",
              "    .colab-df-convert {\n",
              "      background-color: #E8F0FE;\n",
              "      border: none;\n",
              "      border-radius: 50%;\n",
              "      cursor: pointer;\n",
              "      display: none;\n",
              "      fill: #1967D2;\n",
              "      height: 32px;\n",
              "      padding: 0 0 0 0;\n",
              "      width: 32px;\n",
              "    }\n",
              "\n",
              "    .colab-df-convert:hover {\n",
              "      background-color: #E2EBFA;\n",
              "      box-shadow: 0px 1px 2px rgba(60, 64, 67, 0.3), 0px 1px 3px 1px rgba(60, 64, 67, 0.15);\n",
              "      fill: #174EA6;\n",
              "    }\n",
              "\n",
              "    .colab-df-buttons div {\n",
              "      margin-bottom: 4px;\n",
              "    }\n",
              "\n",
              "    [theme=dark] .colab-df-convert {\n",
              "      background-color: #3B4455;\n",
              "      fill: #D2E3FC;\n",
              "    }\n",
              "\n",
              "    [theme=dark] .colab-df-convert:hover {\n",
              "      background-color: #434B5C;\n",
              "      box-shadow: 0px 1px 3px 1px rgba(0, 0, 0, 0.15);\n",
              "      filter: drop-shadow(0px 1px 2px rgba(0, 0, 0, 0.3));\n",
              "      fill: #FFFFFF;\n",
              "    }\n",
              "  </style>\n",
              "\n",
              "    <script>\n",
              "      const buttonEl =\n",
              "        document.querySelector('#df-7a00a354-b4e3-4413-a8df-3a6e07bcc5e5 button.colab-df-convert');\n",
              "      buttonEl.style.display =\n",
              "        google.colab.kernel.accessAllowed ? 'block' : 'none';\n",
              "\n",
              "      async function convertToInteractive(key) {\n",
              "        const element = document.querySelector('#df-7a00a354-b4e3-4413-a8df-3a6e07bcc5e5');\n",
              "        const dataTable =\n",
              "          await google.colab.kernel.invokeFunction('convertToInteractive',\n",
              "                                                    [key], {});\n",
              "        if (!dataTable) return;\n",
              "\n",
              "        const docLinkHtml = 'Like what you see? Visit the ' +\n",
              "          '<a target=\"_blank\" href=https://colab.research.google.com/notebooks/data_table.ipynb>data table notebook</a>'\n",
              "          + ' to learn more about interactive tables.';\n",
              "        element.innerHTML = '';\n",
              "        dataTable['output_type'] = 'display_data';\n",
              "        await google.colab.output.renderOutput(dataTable, element);\n",
              "        const docLink = document.createElement('div');\n",
              "        docLink.innerHTML = docLinkHtml;\n",
              "        element.appendChild(docLink);\n",
              "      }\n",
              "    </script>\n",
              "  </div>\n",
              "\n",
              "\n",
              "    <div id=\"df-c23bf2fc-b8f9-441e-8b21-02a7be7d2816\">\n",
              "      <button class=\"colab-df-quickchart\" onclick=\"quickchart('df-c23bf2fc-b8f9-441e-8b21-02a7be7d2816')\"\n",
              "                title=\"Suggest charts\"\n",
              "                style=\"display:none;\">\n",
              "\n",
              "<svg xmlns=\"http://www.w3.org/2000/svg\" height=\"24px\"viewBox=\"0 0 24 24\"\n",
              "     width=\"24px\">\n",
              "    <g>\n",
              "        <path d=\"M19 3H5c-1.1 0-2 .9-2 2v14c0 1.1.9 2 2 2h14c1.1 0 2-.9 2-2V5c0-1.1-.9-2-2-2zM9 17H7v-7h2v7zm4 0h-2V7h2v10zm4 0h-2v-4h2v4z\"/>\n",
              "    </g>\n",
              "</svg>\n",
              "      </button>\n",
              "\n",
              "<style>\n",
              "  .colab-df-quickchart {\n",
              "      --bg-color: #E8F0FE;\n",
              "      --fill-color: #1967D2;\n",
              "      --hover-bg-color: #E2EBFA;\n",
              "      --hover-fill-color: #174EA6;\n",
              "      --disabled-fill-color: #AAA;\n",
              "      --disabled-bg-color: #DDD;\n",
              "  }\n",
              "\n",
              "  [theme=dark] .colab-df-quickchart {\n",
              "      --bg-color: #3B4455;\n",
              "      --fill-color: #D2E3FC;\n",
              "      --hover-bg-color: #434B5C;\n",
              "      --hover-fill-color: #FFFFFF;\n",
              "      --disabled-bg-color: #3B4455;\n",
              "      --disabled-fill-color: #666;\n",
              "  }\n",
              "\n",
              "  .colab-df-quickchart {\n",
              "    background-color: var(--bg-color);\n",
              "    border: none;\n",
              "    border-radius: 50%;\n",
              "    cursor: pointer;\n",
              "    display: none;\n",
              "    fill: var(--fill-color);\n",
              "    height: 32px;\n",
              "    padding: 0;\n",
              "    width: 32px;\n",
              "  }\n",
              "\n",
              "  .colab-df-quickchart:hover {\n",
              "    background-color: var(--hover-bg-color);\n",
              "    box-shadow: 0 1px 2px rgba(60, 64, 67, 0.3), 0 1px 3px 1px rgba(60, 64, 67, 0.15);\n",
              "    fill: var(--button-hover-fill-color);\n",
              "  }\n",
              "\n",
              "  .colab-df-quickchart-complete:disabled,\n",
              "  .colab-df-quickchart-complete:disabled:hover {\n",
              "    background-color: var(--disabled-bg-color);\n",
              "    fill: var(--disabled-fill-color);\n",
              "    box-shadow: none;\n",
              "  }\n",
              "\n",
              "  .colab-df-spinner {\n",
              "    border: 2px solid var(--fill-color);\n",
              "    border-color: transparent;\n",
              "    border-bottom-color: var(--fill-color);\n",
              "    animation:\n",
              "      spin 1s steps(1) infinite;\n",
              "  }\n",
              "\n",
              "  @keyframes spin {\n",
              "    0% {\n",
              "      border-color: transparent;\n",
              "      border-bottom-color: var(--fill-color);\n",
              "      border-left-color: var(--fill-color);\n",
              "    }\n",
              "    20% {\n",
              "      border-color: transparent;\n",
              "      border-left-color: var(--fill-color);\n",
              "      border-top-color: var(--fill-color);\n",
              "    }\n",
              "    30% {\n",
              "      border-color: transparent;\n",
              "      border-left-color: var(--fill-color);\n",
              "      border-top-color: var(--fill-color);\n",
              "      border-right-color: var(--fill-color);\n",
              "    }\n",
              "    40% {\n",
              "      border-color: transparent;\n",
              "      border-right-color: var(--fill-color);\n",
              "      border-top-color: var(--fill-color);\n",
              "    }\n",
              "    60% {\n",
              "      border-color: transparent;\n",
              "      border-right-color: var(--fill-color);\n",
              "    }\n",
              "    80% {\n",
              "      border-color: transparent;\n",
              "      border-right-color: var(--fill-color);\n",
              "      border-bottom-color: var(--fill-color);\n",
              "    }\n",
              "    90% {\n",
              "      border-color: transparent;\n",
              "      border-bottom-color: var(--fill-color);\n",
              "    }\n",
              "  }\n",
              "</style>\n",
              "\n",
              "      <script>\n",
              "        async function quickchart(key) {\n",
              "          const quickchartButtonEl =\n",
              "            document.querySelector('#' + key + ' button');\n",
              "          quickchartButtonEl.disabled = true;  // To prevent multiple clicks.\n",
              "          quickchartButtonEl.classList.add('colab-df-spinner');\n",
              "          try {\n",
              "            const charts = await google.colab.kernel.invokeFunction(\n",
              "                'suggestCharts', [key], {});\n",
              "          } catch (error) {\n",
              "            console.error('Error during call to suggestCharts:', error);\n",
              "          }\n",
              "          quickchartButtonEl.classList.remove('colab-df-spinner');\n",
              "          quickchartButtonEl.classList.add('colab-df-quickchart-complete');\n",
              "        }\n",
              "        (() => {\n",
              "          let quickchartButtonEl =\n",
              "            document.querySelector('#df-c23bf2fc-b8f9-441e-8b21-02a7be7d2816 button');\n",
              "          quickchartButtonEl.style.display =\n",
              "            google.colab.kernel.accessAllowed ? 'block' : 'none';\n",
              "        })();\n",
              "      </script>\n",
              "    </div>\n",
              "\n",
              "    </div>\n",
              "  </div>\n"
            ],
            "text/plain": [
              "                                                  en  \\\n",
              "0  it happened after the death of saul when david...   \n",
              "1  it happened on the third day that behold a man...   \n",
              "2  david said to him where do you come from ? he ...   \n",
              "3  david said to him how did it go ? please tell ...   \n",
              "4  david said to the young man who told him how d...   \n",
              "\n",
              "                                                  np  \n",
              "0  दाऊदले अमालेकीहरूलाई हराएर पछि सिकलग गए। यो शा...  \n",
              "1  तब तेस्रो दिनमा एउटा जवान सैनिक सिकलगमा आयो। त...  \n",
              "2  दाऊदले त्यसलाई सोधे, “तिमी कहाँबाट आयौ?” त्यस ...  \n",
              "3  दाऊदले भने, “मलाई भन, के भयो?” त्यसले भन्यो, “...  \n",
              "4  दाऊदले त्यस सैनिकलाई भने, “तिमीले कसरी जान्यौ ...  "
            ]
          },
          "execution_count": 21,
          "metadata": {},
          "output_type": "execute_result"
        }
      ],
      "source": [
        "df.head()"
      ]
    },
    {
      "cell_type": "code",
      "execution_count": null,
      "metadata": {
        "id": "UVB6rhuCjuaV"
      },
      "outputs": [],
      "source": [
        "nepali_text = df['np']\n",
        "english_text = df['en']\n",
        "\n",
        "# nepali_text.to_csv('nepali_data.txt', index = False)\n",
        "# english_text.to_csv('english_data.txt', index = False)\n",
        "\n",
        "# from google.colab import files\n",
        "# files.download('nepali_data.txt')\n",
        "# files.download('english_data.txt')"
      ]
    },
    {
      "cell_type": "code",
      "execution_count": null,
      "metadata": {
        "colab": {
          "base_uri": "https://localhost:8080/"
        },
        "id": "OT32b-qolutZ",
        "outputId": "8aefbd26-abfa-4faf-97e5-91570f347ee7"
      },
      "outputs": [
        {
          "name": "stdout",
          "output_type": "stream",
          "text": [
            "1176997\n",
            "1327585\n"
          ]
        }
      ],
      "source": [
        "english = '\\n'.join(english_text)\n",
        "# print(english)\n",
        "print(len(english))\n",
        "\n",
        "\n",
        "nepali = '\\n'.join(nepali_text)\n",
        "# print(nepali)\n",
        "print(len(nepali))"
      ]
    },
    {
      "cell_type": "code",
      "execution_count": null,
      "metadata": {
        "id": "vK51YcVPkAD_"
      },
      "outputs": [],
      "source": [
        "# english_tokenizer = BPETokenizer()\n",
        "# english_tokenizer.train(english, vocab_size = 4000)\n",
        "\n",
        "# nepali_tokenizer = BPETokenizer()\n",
        "# nepali_tokenizer.train(nepali, vocab_size = 4000)\n",
        "\n",
        "# # Saving the trained tokenizers\n",
        "# with open('english_tokenizer.pkl', 'wb') as f:\n",
        "#     pickle.dump(english_tokenizer, f)\n",
        "\n",
        "# with open('nepali_tokenizer.pkl', 'wb') as f:\n",
        "#     pickle.dump(nepali_tokenizer, f)"
      ]
    },
    {
      "cell_type": "markdown",
      "metadata": {
        "id": "cWSO7SJ0P1PR"
      },
      "source": [
        "### Loading the pre-trained tokenizers"
      ]
    },
    {
      "cell_type": "code",
      "execution_count": null,
      "metadata": {
        "id": "8LQDXGYkFTrI"
      },
      "outputs": [],
      "source": [
        "english_tokenizer = pickle.load(open('english_tokenizer.pkl', 'rb'))\n",
        "nepali_tokenizer = pickle.load(open('nepali_tokenizer.pkl', 'rb'))"
      ]
    },
    {
      "cell_type": "code",
      "execution_count": null,
      "metadata": {
        "colab": {
          "base_uri": "https://localhost:8080/"
        },
        "id": "aOAZTQVlkxle",
        "outputId": "06bb1cc9-7703-433b-a54f-9ba45fe609d6"
      },
      "outputs": [
        {
          "data": {
            "text/plain": [
              "(4000, 4000)"
            ]
          },
          "execution_count": 25,
          "metadata": {},
          "output_type": "execute_result"
        }
      ],
      "source": [
        "len(english_tokenizer.vocab), len(nepali_tokenizer.vocab)"
      ]
    },
    {
      "cell_type": "code",
      "execution_count": null,
      "metadata": {
        "colab": {
          "base_uri": "https://localhost:8080/",
          "height": 17
        },
        "id": "fmnAgHBKtkfG",
        "outputId": "65c6f095-9393-432a-d5b6-a52ca31b23d9"
      },
      "outputs": [
        {
          "data": {
            "application/javascript": "\n    async function download(id, filename, size) {\n      if (!google.colab.kernel.accessAllowed) {\n        return;\n      }\n      const div = document.createElement('div');\n      const label = document.createElement('label');\n      label.textContent = `Downloading \"${filename}\": `;\n      div.appendChild(label);\n      const progress = document.createElement('progress');\n      progress.max = size;\n      div.appendChild(progress);\n      document.body.appendChild(div);\n\n      const buffers = [];\n      let downloaded = 0;\n\n      const channel = await google.colab.kernel.comms.open(id);\n      // Send a message to notify the kernel that we're ready.\n      channel.send({})\n\n      for await (const message of channel.messages) {\n        // Send a message to notify the kernel that we're ready.\n        channel.send({})\n        if (message.buffers) {\n          for (const buffer of message.buffers) {\n            buffers.push(buffer);\n            downloaded += buffer.byteLength;\n            progress.value = downloaded;\n          }\n        }\n      }\n      const blob = new Blob(buffers, {type: 'application/binary'});\n      const a = document.createElement('a');\n      a.href = window.URL.createObjectURL(blob);\n      a.download = filename;\n      div.appendChild(a);\n      a.click();\n      div.remove();\n    }\n  ",
            "text/plain": [
              "<IPython.core.display.Javascript object>"
            ]
          },
          "metadata": {},
          "output_type": "display_data"
        },
        {
          "data": {
            "application/javascript": "download(\"download_d11b0742-8148-4c12-aaf9-149cc6acda62\", \"english_tokenizer.pkl\", 89703)",
            "text/plain": [
              "<IPython.core.display.Javascript object>"
            ]
          },
          "metadata": {},
          "output_type": "display_data"
        },
        {
          "data": {
            "application/javascript": "\n    async function download(id, filename, size) {\n      if (!google.colab.kernel.accessAllowed) {\n        return;\n      }\n      const div = document.createElement('div');\n      const label = document.createElement('label');\n      label.textContent = `Downloading \"${filename}\": `;\n      div.appendChild(label);\n      const progress = document.createElement('progress');\n      progress.max = size;\n      div.appendChild(progress);\n      document.body.appendChild(div);\n\n      const buffers = [];\n      let downloaded = 0;\n\n      const channel = await google.colab.kernel.comms.open(id);\n      // Send a message to notify the kernel that we're ready.\n      channel.send({})\n\n      for await (const message of channel.messages) {\n        // Send a message to notify the kernel that we're ready.\n        channel.send({})\n        if (message.buffers) {\n          for (const buffer of message.buffers) {\n            buffers.push(buffer);\n            downloaded += buffer.byteLength;\n            progress.value = downloaded;\n          }\n        }\n      }\n      const blob = new Blob(buffers, {type: 'application/binary'});\n      const a = document.createElement('a');\n      a.href = window.URL.createObjectURL(blob);\n      a.download = filename;\n      div.appendChild(a);\n      a.click();\n      div.remove();\n    }\n  ",
            "text/plain": [
              "<IPython.core.display.Javascript object>"
            ]
          },
          "metadata": {},
          "output_type": "display_data"
        },
        {
          "data": {
            "application/javascript": "download(\"download_e570e176-5a40-4e82-9071-47d81351c3ba\", \"nepali_tokenizer.pkl\", 118516)",
            "text/plain": [
              "<IPython.core.display.Javascript object>"
            ]
          },
          "metadata": {},
          "output_type": "display_data"
        }
      ],
      "source": [
        "# from google.colab import files\n",
        "\n",
        "# files.download('english_tokenizer.pkl')\n",
        "# files.download('nepali_tokenizer.pkl')"
      ]
    },
    {
      "cell_type": "markdown",
      "metadata": {
        "id": "oVw0LMenqVQe"
      },
      "source": [
        "### Data splitting"
      ]
    },
    {
      "cell_type": "code",
      "execution_count": null,
      "metadata": {
        "colab": {
          "base_uri": "https://localhost:8080/"
        },
        "id": "ASyYqAxMk7ia",
        "outputId": "a0795adf-c739-42be-ade8-62f7c7d04a35"
      },
      "outputs": [
        {
          "name": "stdout",
          "output_type": "stream",
          "text": [
            "                                                     en  \\\n",
            "9254  these are the children of dishon hemdan eshban...   \n",
            "1561  he said why would you want go to him today ? i...   \n",
            "1670  the king said to hazael take a present in your...   \n",
            "6087  who may ascend to yahweh s hill ? who may stan...   \n",
            "6669  trust in him at all times you people pour out ...   \n",
            "\n",
            "                                                     np  \n",
            "9254  6दीशोनका चार छोराहरू हेमदान, एश्बान, यित्रान र...  \n",
            "1561  आइमाईको लोग्नेले भन्यो, “तिमी किन आज परमेश्वरक...  \n",
            "1670  तब राजा बेनहददले हजाएललाई भने, “एउटा उपहार लिन...  \n",
            "6087  परमप्रभुको पर्वतमाथि को जान सक्छ? उठेर परमप्रभ...  \n",
            "6669  हे मानिसहरू! परमेश्वरमाथि सधैं भरोसा राख! तिमी...  \n"
          ]
        }
      ],
      "source": [
        "train_df, temp_df = train_test_split(df, test_size=0.2, random_state=42)\n",
        "val_df, test_df = train_test_split(temp_df, test_size=0.5, random_state=42)\n",
        "print(train_df.head())"
      ]
    },
    {
      "cell_type": "code",
      "execution_count": null,
      "metadata": {
        "id": "tG67n6OEC9Wo"
      },
      "outputs": [],
      "source": [
        "def encode_pair(en_sentence, np_sentence, max_len=50):\n",
        "    en_tokens = english_tokenizer.encode(en_sentence)\n",
        "    np_tokens = nepali_tokenizer.encode(np_sentence)\n",
        "\n",
        "    # Padding\n",
        "    en_tokens = en_tokens[:max_len] + [0] * (max_len - len(en_tokens))\n",
        "    np_tokens = np_tokens[:max_len] + [0] * (max_len - len(np_tokens))\n",
        "\n",
        "    return torch.tensor(en_tokens), torch.tensor(np_tokens)"
      ]
    },
    {
      "cell_type": "code",
      "execution_count": null,
      "metadata": {
        "id": "z_tw2sp-C_Tq"
      },
      "outputs": [],
      "source": [
        "class TranslationDataset(Dataset):\n",
        "    def __init__(self, df, max_len=50):\n",
        "        self.data = [encode_pair(row['en'], row['np'], max_len) for idx, row in df.iterrows()]\n",
        "\n",
        "    def __len__(self):\n",
        "        return len(self.data)\n",
        "\n",
        "    def __getitem__(self, idx):\n",
        "        src, tgt = self.data[idx]\n",
        "        return src, tgt"
      ]
    },
    {
      "cell_type": "markdown",
      "metadata": {
        "id": "MUrOXYVNP__V"
      },
      "source": [
        "### Dataset and Dataloaders"
      ]
    },
    {
      "cell_type": "code",
      "execution_count": null,
      "metadata": {
        "id": "qcIbreHtDKtI"
      },
      "outputs": [],
      "source": [
        "train_dataset = TranslationDataset(train_df)\n",
        "val_dataset = TranslationDataset(val_df)\n",
        "test_dataset = TranslationDataset(test_df)\n",
        "\n",
        "train_loader = DataLoader(train_dataset, batch_size=32, shuffle=True)\n",
        "val_loader = DataLoader(val_dataset, batch_size=32)"
      ]
    },
    {
      "cell_type": "code",
      "execution_count": null,
      "metadata": {
        "colab": {
          "base_uri": "https://localhost:8080/"
        },
        "id": "QYAA796jEQx7",
        "outputId": "68b1869f-0971-4ccf-b16d-b3a2927c1ade"
      },
      "outputs": [
        {
          "name": "stdout",
          "output_type": "stream",
          "text": [
            "cuda\n"
          ]
        }
      ],
      "source": [
        "device = torch.device(\"cuda\" if torch.cuda.is_available() else \"cpu\")\n",
        "print(device)"
      ]
    },
    {
      "cell_type": "markdown",
      "metadata": {
        "id": "NwGwcEESQD08"
      },
      "source": [
        "### Model definition and Training"
      ]
    },
    {
      "cell_type": "code",
      "execution_count": null,
      "metadata": {
        "colab": {
          "base_uri": "https://localhost:8080/",
          "height": 1000
        },
        "id": "0IpROWOszpwT",
        "outputId": "3ca049f1-20bd-4baa-c2a7-57c39578f3fc"
      },
      "outputs": [
        {
          "name": "stdout",
          "output_type": "stream",
          "text": [
            "Epoch 1/50, Loss: 4.918310258865357\n",
            "Validation Loss: 4.014774188399315\n",
            "--------------------------------------------------------------------------------\n",
            "Epoch 2/50, Loss: 3.7629525146484375\n",
            "Validation Loss: 3.560046821832657\n",
            "--------------------------------------------------------------------------------\n",
            "Epoch 3/50, Loss: 3.3915314540863037\n",
            "Validation Loss: 3.3250378221273422\n",
            "--------------------------------------------------------------------------------\n",
            "Epoch 4/50, Loss: 3.1452362928390505\n",
            "Validation Loss: 3.1552408188581467\n",
            "--------------------------------------------------------------------------------\n",
            "Epoch 5/50, Loss: 2.9556185789108276\n",
            "Validation Loss: 3.0279577746987343\n",
            "--------------------------------------------------------------------------------\n",
            "Epoch 6/50, Loss: 2.7878431091308595\n",
            "Validation Loss: 2.935376524925232\n",
            "--------------------------------------------------------------------------------\n",
            "Epoch 7/50, Loss: 2.630102576255798\n",
            "Validation Loss: 2.853651873767376\n",
            "--------------------------------------------------------------------------------\n",
            "Epoch 8/50, Loss: 2.4797368268966675\n",
            "Validation Loss: 2.8050994873046875\n",
            "--------------------------------------------------------------------------------\n",
            "Epoch 9/50, Loss: 2.3297522287368775\n",
            "Validation Loss: 2.758466102182865\n",
            "--------------------------------------------------------------------------------\n",
            "Epoch 10/50, Loss: 2.1794401659965517\n",
            "Validation Loss: 2.7364623621106148\n",
            "--------------------------------------------------------------------------------\n",
            "Epoch 11/50, Loss: 2.0311109218597414\n",
            "Validation Loss: 2.7276948615908623\n",
            "--------------------------------------------------------------------------------\n",
            "Epoch 12/50, Loss: 1.8794049921035767\n",
            "Validation Loss: 2.736273519694805\n",
            "--------------------------------------------------------------------------------\n",
            "Epoch 13/50, Loss: 1.7278431391716003\n",
            "Validation Loss: 2.754730574786663\n",
            "--------------------------------------------------------------------------------\n",
            "Epoch 14/50, Loss: 1.5752477612495421\n",
            "Validation Loss: 2.792102374136448\n",
            "--------------------------------------------------------------------------------\n",
            "Epoch 15/50, Loss: 1.4270969128608704\n",
            "Validation Loss: 2.832139641046524\n",
            "--------------------------------------------------------------------------------\n",
            "Epoch 16/50, Loss: 1.2827581419944762\n",
            "Validation Loss: 2.901685170829296\n",
            "--------------------------------------------------------------------------------\n",
            "Epoch 17/50, Loss: 1.1430622119903564\n",
            "Validation Loss: 2.963181734085083\n",
            "--------------------------------------------------------------------------------\n",
            "Epoch 18/50, Loss: 1.0102136504650117\n",
            "Validation Loss: 3.042511060833931\n",
            "--------------------------------------------------------------------------------\n",
            "Epoch 19/50, Loss: 0.8860628087520599\n",
            "Validation Loss: 3.1052576825022697\n",
            "--------------------------------------------------------------------------------\n",
            "Epoch 20/50, Loss: 0.7737871499061585\n",
            "Validation Loss: 3.187827967107296\n",
            "--------------------------------------------------------------------------------\n",
            "Epoch 21/50, Loss: 0.6689983110427856\n",
            "Validation Loss: 3.274433694779873\n",
            "--------------------------------------------------------------------------------\n",
            "Epoch 22/50, Loss: 0.5765579043626785\n",
            "Validation Loss: 3.363122783601284\n",
            "--------------------------------------------------------------------------------\n",
            "Epoch 23/50, Loss: 0.4929910043478012\n",
            "Validation Loss: 3.4456455186009407\n",
            "--------------------------------------------------------------------------------\n",
            "Epoch 24/50, Loss: 0.42549065351486204\n",
            "Validation Loss: 3.5373914167284966\n",
            "--------------------------------------------------------------------------------\n",
            "Epoch 25/50, Loss: 0.3682955272197723\n",
            "Validation Loss: 3.6134399473667145\n",
            "--------------------------------------------------------------------------------\n",
            "Epoch 26/50, Loss: 0.3183652843236923\n",
            "Validation Loss: 3.694931909441948\n",
            "--------------------------------------------------------------------------------\n",
            "Epoch 27/50, Loss: 0.2784951913356781\n",
            "Validation Loss: 3.776424065232277\n",
            "--------------------------------------------------------------------------------\n",
            "Epoch 28/50, Loss: 0.24325789731740952\n",
            "Validation Loss: 3.8463733941316605\n",
            "--------------------------------------------------------------------------------\n",
            "Epoch 29/50, Loss: 0.21790920549631118\n",
            "Validation Loss: 3.8924973011016846\n",
            "--------------------------------------------------------------------------------\n",
            "Epoch 30/50, Loss: 0.19722593307495118\n",
            "Validation Loss: 3.978439286351204\n",
            "--------------------------------------------------------------------------------\n",
            "Epoch 31/50, Loss: 0.1787035980820656\n",
            "Validation Loss: 4.023002713918686\n",
            "--------------------------------------------------------------------------------\n",
            "Epoch 32/50, Loss: 0.16542782571911813\n",
            "Validation Loss: 4.098931714892387\n",
            "--------------------------------------------------------------------------------\n",
            "Epoch 33/50, Loss: 0.15320636108517646\n",
            "Validation Loss: 4.143511362373829\n",
            "--------------------------------------------------------------------------------\n",
            "Epoch 34/50, Loss: 0.14382141369581222\n",
            "Validation Loss: 4.191990703344345\n",
            "--------------------------------------------------------------------------------\n",
            "Epoch 35/50, Loss: 0.1370783661901951\n",
            "Validation Loss: 4.247900068759918\n",
            "--------------------------------------------------------------------------------\n",
            "Epoch 36/50, Loss: 0.1274457391500473\n",
            "Validation Loss: 4.25801619887352\n",
            "--------------------------------------------------------------------------------\n"
          ]
        },
        {
          "ename": "KeyboardInterrupt",
          "evalue": "",
          "output_type": "error",
          "traceback": [
            "\u001b[0;31m---------------------------------------------------------------------------\u001b[0m",
            "\u001b[0;31mKeyboardInterrupt\u001b[0m                         Traceback (most recent call last)",
            "\u001b[0;32m<ipython-input-39-01fa041d539e>\u001b[0m in \u001b[0;36m<cell line: 0>\u001b[0;34m()\u001b[0m\n\u001b[1;32m     30\u001b[0m         \u001b[0mloss\u001b[0m\u001b[0;34m.\u001b[0m\u001b[0mbackward\u001b[0m\u001b[0;34m(\u001b[0m\u001b[0;34m)\u001b[0m\u001b[0;34m\u001b[0m\u001b[0;34m\u001b[0m\u001b[0m\n\u001b[1;32m     31\u001b[0m         \u001b[0moptimizer\u001b[0m\u001b[0;34m.\u001b[0m\u001b[0mstep\u001b[0m\u001b[0;34m(\u001b[0m\u001b[0;34m)\u001b[0m\u001b[0;34m\u001b[0m\u001b[0;34m\u001b[0m\u001b[0m\n\u001b[0;32m---> 32\u001b[0;31m         \u001b[0mrunning_loss\u001b[0m \u001b[0;34m+=\u001b[0m \u001b[0mloss\u001b[0m\u001b[0;34m.\u001b[0m\u001b[0mitem\u001b[0m\u001b[0;34m(\u001b[0m\u001b[0;34m)\u001b[0m\u001b[0;34m\u001b[0m\u001b[0;34m\u001b[0m\u001b[0m\n\u001b[0m\u001b[1;32m     33\u001b[0m \u001b[0;34m\u001b[0m\u001b[0m\n\u001b[1;32m     34\u001b[0m     \u001b[0mloss_list\u001b[0m\u001b[0;34m.\u001b[0m\u001b[0mappend\u001b[0m\u001b[0;34m(\u001b[0m\u001b[0mrunning_loss\u001b[0m\u001b[0;34m/\u001b[0m\u001b[0mlen\u001b[0m\u001b[0;34m(\u001b[0m\u001b[0mtrain_loader\u001b[0m\u001b[0;34m)\u001b[0m\u001b[0;34m)\u001b[0m\u001b[0;34m\u001b[0m\u001b[0;34m\u001b[0m\u001b[0m\n",
            "\u001b[0;31mKeyboardInterrupt\u001b[0m: "
          ]
        }
      ],
      "source": [
        "model = Transformer(\n",
        "    source_vocab_len=len(english_tokenizer.vocab),\n",
        "    target_vocab_len=len(nepali_tokenizer.vocab),\n",
        "    max_seq_len=136,\n",
        "    emb_dim=512,\n",
        "    num_heads=8,\n",
        "    num_blocks=6,\n",
        "    hidden_size=2048,\n",
        "    dropout=0.1\n",
        ").to(device)\n",
        "\n",
        "criterion = nn.CrossEntropyLoss(ignore_index=0)\n",
        "optimizer = torch.optim.Adam(model.parameters(), lr=1e-4)\n",
        "\n",
        "#-----------------------------------------------------------------------------\n",
        "# Training\n",
        "#-----------------------------------------------------------------------------\n",
        "num_epochs = 50\n",
        "loss_list = []\n",
        "val_loss_list = []\n",
        "\n",
        "for epoch in range(num_epochs):\n",
        "    running_loss = 0.0\n",
        "    running_val_loss = 0.0\n",
        "    model.train()\n",
        "\n",
        "    for src, tgt in train_loader:\n",
        "        src, tgt = src.to(device), tgt.to(device)\n",
        "        optimizer.zero_grad()\n",
        "        output = model(src, tgt[:, :-1])\n",
        "        loss = criterion(output.reshape(-1, output.shape[-1]), tgt[:, 1:].reshape(-1))\n",
        "        loss.backward()\n",
        "        optimizer.step()\n",
        "        running_loss += loss.item()\n",
        "\n",
        "    loss_list.append(running_loss/len(train_loader))\n",
        "    print(f\"Epoch {epoch+1}/{num_epochs}, Loss: {running_loss/len(train_loader)}\")\n",
        "\n",
        "    model.eval()\n",
        "    for src, tgt in val_loader:\n",
        "        src, tgt = src.to(device), tgt.to(device)\n",
        "        output = model(src, tgt[:, :-1])\n",
        "        loss = criterion(output.reshape(-1, output.shape[-1]), tgt[:, 1:].reshape(-1))\n",
        "        running_val_loss += loss.item()\n",
        "\n",
        "    val_loss_list.append(running_val_loss/len(val_loader))\n",
        "    print(f\"Validation Loss: {running_val_loss/len(val_loader)}\")\n",
        "    print('--------------------------------------------------------------------------------')"
      ]
    },
    {
      "cell_type": "markdown",
      "metadata": {
        "id": "zx1LDxmmQIG5"
      },
      "source": [
        "### Training Plots"
      ]
    },
    {
      "cell_type": "code",
      "execution_count": null,
      "metadata": {
        "colab": {
          "base_uri": "https://localhost:8080/",
          "height": 486
        },
        "id": "S-2qWLvGI6zQ",
        "outputId": "40f5014b-8cda-4c70-ad5c-c02539b03acf"
      },
      "outputs": [
        {
          "data": {
            "image/png": "[encoded data removed]",
            "text/plain": [
              "<Figure size 640x480 with 1 Axes>"
            ]
          },
          "metadata": {},
          "output_type": "display_data"
        }
      ],
      "source": [
        "import matplotlib.pyplot as plt\n",
        "\n",
        "plt.plot(loss_list, label = 'Training Loss')\n",
        "plt.plot(val_loss_list, label = 'Validation Loss')\n",
        "plt.title(\"Training vs Validation loss\", fontsize = 20)\n",
        "plt.xlabel(\"Epochs\", fontsize = 15)\n",
        "plt.ylabel(\"Loss\", fontsize = 15)\n",
        "plt.legend()\n",
        "plt.show()"
      ]
    },
    {
      "cell_type": "markdown",
      "metadata": {
        "id": "Jh-I6ae5QLwG"
      },
      "source": [
        "### Inference"
      ]
    },
    {
      "cell_type": "code",
      "execution_count": null,
      "metadata": {
        "id": "3-GJ8SrMF6vG"
      },
      "outputs": [],
      "source": [
        "def decode(model, src_sentence, max_len=50, device='cpu'):\n",
        "    model.eval()\n",
        "\n",
        "    src_tokens = english_tokenizer.encode(src_sentence)\n",
        "    src_tokens = src_tokens[:max_len] + [0] * (max_len - len(src_tokens))\n",
        "    src_tensor = torch.tensor(src_tokens).unsqueeze(0).to(device)\n",
        "\n",
        "    tgt_tokens = [nepali_tokenizer.inverse_vocab['<sos>']]\n",
        "    tgt_tensor = torch.tensor(tgt_tokens).unsqueeze(0).to(device)\n",
        "\n",
        "    for _ in range(max_len):\n",
        "        tgt_padded = tgt_tensor\n",
        "        if tgt_tensor.size(1) < max_len:\n",
        "            pad_len = max_len - tgt_tensor.size(1)\n",
        "            tgt_padded = F.pad(tgt_tensor, (0, pad_len), value=0)\n",
        "\n",
        "        with torch.no_grad():\n",
        "            output = model(src_tensor, tgt_padded)\n",
        "\n",
        "        next_token_logits = output[0, tgt_tensor.size(1) - 1]\n",
        "        next_token = torch.multinomial(F.softmax(next_token_logits, dim=-1), num_samples=1).item()\n",
        "\n",
        "\n",
        "        tgt_tokens.append(next_token)\n",
        "\n",
        "        if next_token == nepali_tokenizer.inverse_vocab['<eos>']:\n",
        "            break\n",
        "\n",
        "        tgt_tensor = torch.tensor(tgt_tokens).unsqueeze(0).to(device)\n",
        "\n",
        "    return nepali_tokenizer.decode(tgt_tokens)"
      ]
    },
    {
      "cell_type": "code",
      "execution_count": null,
      "metadata": {
        "colab": {
          "base_uri": "https://localhost:8080/"
        },
        "id": "k90bbj-9Gf8D",
        "outputId": "7c6ce787-01f5-443f-8855-e892e009c6c9"
      },
      "outputs": [
        {
          "name": "stdout",
          "output_type": "stream",
          "text": [
            "Translated Nepali: जङ्गली गधाहरू बलियाह, जसरी एकजना मानिस अत्यन्त विशालहरूलाई जित्नुहोस्। अनि तिनीहरूले उनुहोस्।\n"
          ]
        }
      ],
      "source": [
        "translated_text = decode(model, \" How are the mighty fallen in the midst of the battle! Jonathan is slain on your high places.\", device='cuda')\n",
        "print(\"Translated Nepali:\", translated_text)"
      ]
    },
    {
      "cell_type": "code",
      "execution_count": null,
      "metadata": {
        "colab": {
          "base_uri": "https://localhost:8080/"
        },
        "id": "7P8f67gPI_lT",
        "outputId": "9055dd81-0933-4afd-b353-eae525ff8a8a"
      },
      "outputs": [
        {
          "name": "stdout",
          "output_type": "stream",
          "text": [
            "Translated Nepali: तब परमेश्वरले मानिसलाई गाड्नु भयो जुन धार्मिक मानिसहरूलाई पनि बँयौ।\n"
          ]
        }
      ],
      "source": [
        "translated_text = decode(model, \"Today is a really nice day and I love it\", device='cuda')\n",
        "print(\"Translated Nepali:\", translated_text)"
      ]
    },
    {
      "cell_type": "code",
      "execution_count": null,
      "metadata": {
        "colab": {
          "base_uri": "https://localhost:8080/"
        },
        "id": "FKs9by1xPJsP",
        "outputId": "bcc4efff-1d22-4c2e-a28d-0a0c9c766781"
      },
      "outputs": [
        {
          "name": "stdout",
          "output_type": "stream",
          "text": [
            "Translated Nepali: प्रत्येक जातिमाथि, म शिक्षा दिभने!\n"
          ]
        }
      ],
      "source": [
        "translated_text = decode(model, \"My name is prash\", device='cuda')\n",
        "print(\"Translated Nepali:\", translated_text)"
      ]
    },
    {
      "cell_type": "code",
      "execution_count": null,
      "metadata": {
        "id": "IUi1n21bPQsX"
      },
      "outputs": [],
      "source": []
    }
  ],
  "metadata": {
    "accelerator": "GPU",
    "colab": {
      "gpuType": "T4",
      "provenance": []
    },
    "kernelspec": {
      "display_name": "Python 3",
      "name": "python3"
    },
    "language_info": {
      "name": "python"
    }
  },
  "nbformat": 4,
  "nbformat_minor": 0
}
