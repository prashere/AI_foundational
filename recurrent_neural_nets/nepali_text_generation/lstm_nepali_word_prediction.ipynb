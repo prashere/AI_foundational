{
  "nbformat": 4,
  "nbformat_minor": 0,
  "metadata": {
    "colab": {
      "provenance": []
    },
    "kernelspec": {
      "name": "python3",
      "display_name": "Python 3"
    },
    "language_info": {
      "name": "python"
    }
  },
  "cells": [
    {
      "cell_type": "markdown",
      "source": [
        "# Next character prediction (Text generation) in Nepali Language"
      ],
      "metadata": {
        "id": "N-7_D-AeMxHr"
      }
    },
    {
      "cell_type": "markdown",
      "source": [
        "## Importing the necessary libraries"
      ],
      "metadata": {
        "id": "wNfEtvu4M3iJ"
      }
    },
    {
      "cell_type": "code",
      "execution_count": 2,
      "metadata": {
        "id": "LUBiRCXgjeVu"
      },
      "outputs": [],
      "source": [
        "import pickle\n",
        "\n",
        "import torch\n",
        "import torch.nn as nn\n",
        "import torch.nn.functional as F\n",
        "import torch.optim as optim\n",
        "\n",
        "from collections import Counter\n",
        "from torch.utils.data import TensorDataset, DataLoader\n",
        "\n",
        "import matplotlib.pyplot as plt"
      ]
    },
    {
      "cell_type": "markdown",
      "source": [
        "## Experimentation with nepali text"
      ],
      "metadata": {
        "id": "ENfmf6TaM90Q"
      }
    },
    {
      "cell_type": "code",
      "source": [
        "nepali_text ='सामाजिक अध्ययन'\n",
        "encoded_text = nepali_text.encode('utf-8')\n",
        "\n",
        "letters = list(nepali_text)\n",
        "letters_encoded = [letter.encode('utf-8') for letter in letters]\n",
        "letters_as_bytes = list(encoded_text)\n",
        "\n",
        "print(\"Letters of text\")\n",
        "print('----------------------------------------------------')\n",
        "print(letters)\n",
        "print()\n",
        "print(\"UTF representations of each letter\")\n",
        "print('----------------------------------------------------')\n",
        "print(letters_encoded)\n",
        "print()\n",
        "print(\"Byte representation of each letter\")\n",
        "print('----------------------------------------------------')\n",
        "print( letters_as_bytes)"
      ],
      "metadata": {
        "colab": {
          "base_uri": "https://localhost:8080/"
        },
        "id": "jbGQgxYoyLeo",
        "outputId": "2f1096af-6eb8-4c46-d312-51811a154379"
      },
      "execution_count": 111,
      "outputs": [
        {
          "output_type": "stream",
          "name": "stdout",
          "text": [
            "Letters of text\n",
            "----------------------------------------------------\n",
            "['स', 'ा', 'म', 'ा', 'ज', 'ि', 'क', ' ', 'अ', 'ध', '्', 'य', 'य', 'न']\n",
            "\n",
            "UTF representations of each letter\n",
            "----------------------------------------------------\n",
            "[b'\\xe0\\xa4\\xb8', b'\\xe0\\xa4\\xbe', b'\\xe0\\xa4\\xae', b'\\xe0\\xa4\\xbe', b'\\xe0\\xa4\\x9c', b'\\xe0\\xa4\\xbf', b'\\xe0\\xa4\\x95', b' ', b'\\xe0\\xa4\\x85', b'\\xe0\\xa4\\xa7', b'\\xe0\\xa5\\x8d', b'\\xe0\\xa4\\xaf', b'\\xe0\\xa4\\xaf', b'\\xe0\\xa4\\xa8']\n",
            "\n",
            "Byte representation of each letter\n",
            "----------------------------------------------------\n",
            "[224, 164, 184, 224, 164, 190, 224, 164, 174, 224, 164, 190, 224, 164, 156, 224, 164, 191, 224, 164, 149, 32, 224, 164, 133, 224, 164, 167, 224, 165, 141, 224, 164, 175, 224, 164, 175, 224, 164, 168]\n"
          ]
        }
      ]
    },
    {
      "cell_type": "markdown",
      "source": [
        "## Character Tokenizer"
      ],
      "metadata": {
        "id": "7b3OebYgOLeL"
      }
    },
    {
      "cell_type": "code",
      "source": [
        "class CharacterTokenizer:\n",
        "  def __init__(self):\n",
        "    self.char_map = {}\n",
        "    self.vocab = {}\n",
        "    self.inverse_vocab = {}\n",
        "\n",
        "  def train(self, text):\n",
        "    # utf-8 encoded\n",
        "    encoded_bytes = text.encode('utf-8')\n",
        "\n",
        "    chars = sorted(set(list(text)))\n",
        "\n",
        "    self.char_map = {char: char.encode('utf-8') for char in chars}\n",
        "\n",
        "    self.vocab = {char: idx for idx, char in enumerate(chars)}\n",
        "    self.inverse_vocab = {idx: char for idx, char in enumerate(chars)}\n",
        "\n",
        "  def encode(self,text):\n",
        "    output = [self.vocab[char] for char in text]\n",
        "    return output\n",
        "\n",
        "  def decode(self, output):\n",
        "    output = [self.inverse_vocab[idx] for idx in output]\n",
        "    output = ''.join(output)\n",
        "    return output"
      ],
      "metadata": {
        "id": "oBv0PE9vBifS"
      },
      "execution_count": 85,
      "outputs": []
    },
    {
      "cell_type": "markdown",
      "source": [
        "## Trial of the Character Tokenizer"
      ],
      "metadata": {
        "id": "160Zv2yXOXvd"
      }
    },
    {
      "cell_type": "code",
      "source": [
        "nepali_text ='सामाजिक अध्ययन'\n",
        "\n",
        "tokenizer = CharacterTokenizer()\n",
        "tokenizer.train(nepali_text)\n",
        "\n",
        "temp = tokenizer.encode(nepali_text)\n",
        "print(tokenizer.decode(temp))"
      ],
      "metadata": {
        "colab": {
          "base_uri": "https://localhost:8080/"
        },
        "id": "J3bXZqnfCXfl",
        "outputId": "e4aede97-be0d-4d08-b44b-0459b1c95b21"
      },
      "execution_count": 86,
      "outputs": [
        {
          "output_type": "stream",
          "name": "stdout",
          "text": [
            "{' ': 0, 'अ': 1, 'क': 2, 'ज': 3, 'ध': 4, 'न': 5, 'म': 6, 'य': 7, 'स': 8, 'ा': 9, 'ि': 10, '्': 11}\n",
            "{0: ' ', 1: 'अ', 2: 'क', 3: 'ज', 4: 'ध', 5: 'न', 6: 'म', 7: 'य', 8: 'स', 9: 'ा', 10: 'ि', 11: '्'}\n",
            "सामाजिक अध्ययन\n"
          ]
        }
      ]
    },
    {
      "cell_type": "markdown",
      "source": [
        "## Model definition (LSTM)"
      ],
      "metadata": {
        "id": "OL9pLYOCDucF"
      }
    },
    {
      "cell_type": "code",
      "source": [
        "class MyRNN(nn.Module):\n",
        "  def __init__(self, embedding_size, hidden_size, vocab_size):\n",
        "    super(MyRNN, self).__init__()\n",
        "\n",
        "    self.embedding = nn.Embedding(vocab_size, embedding_size)\n",
        "    self.lstm = nn.LSTM(embedding_size, hidden_size, batch_first=True)\n",
        "    self.fc = nn.Linear(hidden_size, vocab_size)\n",
        "\n",
        "  def forward(self, x):\n",
        "    emb = self.embedding(x) # [ B, Seq_L, Emb_S]\n",
        "    out, _ = self.lstm(emb) # [B, Seq_L, hidden_size]\n",
        "    out = out[:,-1,:] # [B, hidden_size]\n",
        "    out = self.fc(out) # [B, vocab_size]\n",
        "    return out"
      ],
      "metadata": {
        "id": "BoGuLng6CbD9"
      },
      "execution_count": 87,
      "outputs": []
    },
    {
      "cell_type": "markdown",
      "source": [
        "## Input from file"
      ],
      "metadata": {
        "id": "IPiHtG1VOluE"
      }
    },
    {
      "cell_type": "code",
      "source": [
        "with open('nepali_text.txt', 'r') as file:\n",
        "    raw_text = file.read()"
      ],
      "metadata": {
        "id": "rLB0_ffWDx0O"
      },
      "execution_count": 88,
      "outputs": []
    },
    {
      "cell_type": "code",
      "source": [
        "tokenizer = CharacterTokenizer()\n",
        "tokenizer.train(raw_text)\n",
        "\n",
        "encoded = tokenizer.encode(raw_text)"
      ],
      "metadata": {
        "colab": {
          "base_uri": "https://localhost:8080/"
        },
        "id": "BkAAbWLPEQuV",
        "outputId": "4047d547-4e26-48ba-91ae-d1bd1a40895d"
      },
      "execution_count": 89,
      "outputs": [
        {
          "output_type": "stream",
          "name": "stdout",
          "text": [
            "{'\\t': 0, '\\n': 1, ' ': 2, '\"': 3, 'ँ': 4, 'ं': 5, 'ः': 6, 'अ': 7, 'आ': 8, 'इ': 9, 'ई': 10, 'उ': 11, 'ऋ': 12, 'ए': 13, 'क': 14, 'ख': 15, 'ग': 16, 'घ': 17, 'ङ': 18, 'च': 19, 'छ': 20, 'ज': 21, 'झ': 22, 'ट': 23, 'ठ': 24, 'ड': 25, 'ढ': 26, 'ण': 27, 'त': 28, 'थ': 29, 'द': 30, 'ध': 31, 'न': 32, 'प': 33, 'फ': 34, 'ब': 35, 'भ': 36, 'म': 37, 'य': 38, 'र': 39, 'ल': 40, 'व': 41, 'श': 42, 'ष': 43, 'स': 44, 'ह': 45, 'ा': 46, 'ि': 47, 'ी': 48, 'ु': 49, 'ू': 50, 'ृ': 51, 'े': 52, 'ै': 53, 'ो': 54, 'ौ': 55, '्': 56}\n",
            "{0: '\\t', 1: '\\n', 2: ' ', 3: '\"', 4: 'ँ', 5: 'ं', 6: 'ः', 7: 'अ', 8: 'आ', 9: 'इ', 10: 'ई', 11: 'उ', 12: 'ऋ', 13: 'ए', 14: 'क', 15: 'ख', 16: 'ग', 17: 'घ', 18: 'ङ', 19: 'च', 20: 'छ', 21: 'ज', 22: 'झ', 23: 'ट', 24: 'ठ', 25: 'ड', 26: 'ढ', 27: 'ण', 28: 'त', 29: 'थ', 30: 'द', 31: 'ध', 32: 'न', 33: 'प', 34: 'फ', 35: 'ब', 36: 'भ', 37: 'म', 38: 'य', 39: 'र', 40: 'ल', 41: 'व', 42: 'श', 43: 'ष', 44: 'स', 45: 'ह', 46: 'ा', 47: 'ि', 48: 'ी', 49: 'ु', 50: 'ू', 51: 'ृ', 52: 'े', 53: 'ै', 54: 'ो', 55: 'ौ', 56: '्'}\n"
          ]
        }
      ]
    },
    {
      "cell_type": "code",
      "source": [
        "seq_len = 10\n",
        "\n",
        "X = []\n",
        "y = []\n",
        "\n",
        "for i in range(len(encoded)- seq_len):\n",
        "  X.append(encoded[i:i+seq_len])\n",
        "  y.append(encoded[i+seq_len])"
      ],
      "metadata": {
        "id": "ipS9FmuCEWXq"
      },
      "execution_count": 90,
      "outputs": []
    },
    {
      "cell_type": "code",
      "source": [
        "X = torch.tensor(X)\n",
        "y = torch.tensor(y)\n",
        "\n",
        "print(X.shape)\n",
        "print(y.shape)"
      ],
      "metadata": {
        "colab": {
          "base_uri": "https://localhost:8080/"
        },
        "id": "CZIRs2p7EbBl",
        "outputId": "c4e3c171-b5e6-4080-c210-ecfd54f45613"
      },
      "execution_count": 91,
      "outputs": [
        {
          "output_type": "stream",
          "name": "stdout",
          "text": [
            "torch.Size([3743, 10])\n",
            "torch.Size([3743])\n"
          ]
        }
      ]
    },
    {
      "cell_type": "code",
      "source": [
        "dataset = TensorDataset(X, y)\n",
        "dataloader = DataLoader(dataset, batch_size=32, shuffle=True)"
      ],
      "metadata": {
        "id": "tq7mK6zQEcrK"
      },
      "execution_count": 92,
      "outputs": []
    },
    {
      "cell_type": "code",
      "source": [
        "model = MyRNN(embedding_size=64, hidden_size=128, vocab_size=len(tokenizer.vocab))\n",
        "\n",
        "criterion = nn.CrossEntropyLoss()\n",
        "optimizer = torch.optim.Adam(model.parameters(), lr=1e-3)"
      ],
      "metadata": {
        "id": "0PWTO9aAEedI"
      },
      "execution_count": 100,
      "outputs": []
    },
    {
      "cell_type": "markdown",
      "source": [
        "## Training"
      ],
      "metadata": {
        "id": "FH-x1rXXOuXS"
      }
    },
    {
      "cell_type": "code",
      "source": [
        "num_epochs = 100\n",
        "loss_list = []\n",
        "\n",
        "for epoch in range(num_epochs):\n",
        "    model.train()\n",
        "    for batch_x, batch_y in dataloader:\n",
        "        optimizer.zero_grad()\n",
        "        logits = model(batch_x)\n",
        "\n",
        "        loss = criterion(logits, batch_y)\n",
        "        loss_list.append(loss.item())\n",
        "\n",
        "        loss.backward()\n",
        "        optimizer.step()\n",
        "\n",
        "    print(f\"Epoch {epoch+1} Loss: {loss.item():.4f}\")"
      ],
      "metadata": {
        "colab": {
          "base_uri": "https://localhost:8080/"
        },
        "id": "547EKn_pEftv",
        "outputId": "02f1b3f3-88e8-43d7-8fe3-c453738ac77e"
      },
      "execution_count": 101,
      "outputs": [
        {
          "output_type": "stream",
          "name": "stdout",
          "text": [
            "Epoch 1 Loss: 3.2211\n",
            "Epoch 2 Loss: 2.5238\n",
            "Epoch 3 Loss: 2.5068\n",
            "Epoch 4 Loss: 2.1125\n",
            "Epoch 5 Loss: 2.3044\n",
            "Epoch 6 Loss: 1.7710\n",
            "Epoch 7 Loss: 1.9344\n",
            "Epoch 8 Loss: 1.5016\n",
            "Epoch 9 Loss: 1.5473\n",
            "Epoch 10 Loss: 1.1847\n",
            "Epoch 11 Loss: 1.1533\n",
            "Epoch 12 Loss: 0.8756\n",
            "Epoch 13 Loss: 1.0829\n",
            "Epoch 14 Loss: 1.2424\n",
            "Epoch 15 Loss: 0.9148\n",
            "Epoch 16 Loss: 0.7279\n",
            "Epoch 17 Loss: 0.8277\n",
            "Epoch 18 Loss: 0.6024\n",
            "Epoch 19 Loss: 0.8489\n",
            "Epoch 20 Loss: 0.4546\n",
            "Epoch 21 Loss: 0.3297\n",
            "Epoch 22 Loss: 0.6889\n",
            "Epoch 23 Loss: 0.4229\n",
            "Epoch 24 Loss: 0.5207\n",
            "Epoch 25 Loss: 0.2734\n",
            "Epoch 26 Loss: 0.1696\n",
            "Epoch 27 Loss: 0.3692\n",
            "Epoch 28 Loss: 0.3055\n",
            "Epoch 29 Loss: 0.2252\n",
            "Epoch 30 Loss: 0.1500\n",
            "Epoch 31 Loss: 0.2529\n",
            "Epoch 32 Loss: 0.1593\n",
            "Epoch 33 Loss: 0.2338\n",
            "Epoch 34 Loss: 0.1305\n",
            "Epoch 35 Loss: 0.1974\n",
            "Epoch 36 Loss: 0.0991\n",
            "Epoch 37 Loss: 0.1929\n",
            "Epoch 38 Loss: 0.1157\n",
            "Epoch 39 Loss: 0.0605\n",
            "Epoch 40 Loss: 0.1052\n",
            "Epoch 41 Loss: 0.1338\n",
            "Epoch 42 Loss: 0.0294\n",
            "Epoch 43 Loss: 0.0245\n",
            "Epoch 44 Loss: 0.1814\n",
            "Epoch 45 Loss: 0.1064\n",
            "Epoch 46 Loss: 0.0725\n",
            "Epoch 47 Loss: 0.0184\n",
            "Epoch 48 Loss: 0.1346\n",
            "Epoch 49 Loss: 0.0227\n",
            "Epoch 50 Loss: 0.0144\n",
            "Epoch 51 Loss: 0.1513\n",
            "Epoch 52 Loss: 0.0449\n",
            "Epoch 53 Loss: 0.0627\n",
            "Epoch 54 Loss: 0.0633\n",
            "Epoch 55 Loss: 0.0220\n",
            "Epoch 56 Loss: 0.0533\n",
            "Epoch 57 Loss: 0.1116\n",
            "Epoch 58 Loss: 0.0837\n",
            "Epoch 59 Loss: 0.0721\n",
            "Epoch 60 Loss: 0.1655\n",
            "Epoch 61 Loss: 0.0066\n",
            "Epoch 62 Loss: 0.1026\n",
            "Epoch 63 Loss: 0.0515\n",
            "Epoch 64 Loss: 0.0060\n",
            "Epoch 65 Loss: 0.0902\n",
            "Epoch 66 Loss: 0.0456\n",
            "Epoch 67 Loss: 0.2276\n",
            "Epoch 68 Loss: 0.0673\n",
            "Epoch 69 Loss: 0.0663\n",
            "Epoch 70 Loss: 0.0573\n",
            "Epoch 71 Loss: 0.0113\n",
            "Epoch 72 Loss: 0.0476\n",
            "Epoch 73 Loss: 0.1361\n",
            "Epoch 74 Loss: 0.0495\n",
            "Epoch 75 Loss: 0.0771\n",
            "Epoch 76 Loss: 0.1998\n",
            "Epoch 77 Loss: 0.0493\n",
            "Epoch 78 Loss: 0.1116\n",
            "Epoch 79 Loss: 0.0053\n",
            "Epoch 80 Loss: 0.0505\n",
            "Epoch 81 Loss: 0.0135\n",
            "Epoch 82 Loss: 0.0049\n",
            "Epoch 83 Loss: 0.0057\n",
            "Epoch 84 Loss: 0.0051\n",
            "Epoch 85 Loss: 0.0038\n",
            "Epoch 86 Loss: 0.0454\n",
            "Epoch 87 Loss: 0.0415\n",
            "Epoch 88 Loss: 0.0050\n",
            "Epoch 89 Loss: 0.0042\n",
            "Epoch 90 Loss: 0.0238\n",
            "Epoch 91 Loss: 0.0312\n",
            "Epoch 92 Loss: 0.0464\n",
            "Epoch 93 Loss: 0.0133\n",
            "Epoch 94 Loss: 0.0279\n",
            "Epoch 95 Loss: 0.0238\n",
            "Epoch 96 Loss: 0.0038\n",
            "Epoch 97 Loss: 0.1269\n",
            "Epoch 98 Loss: 0.0779\n",
            "Epoch 99 Loss: 0.0395\n",
            "Epoch 100 Loss: 0.0579\n"
          ]
        }
      ]
    },
    {
      "cell_type": "markdown",
      "source": [
        "## Training Plot"
      ],
      "metadata": {
        "id": "_ApjN7RgOyL_"
      }
    },
    {
      "cell_type": "code",
      "source": [
        "plt.plot(loss_list)"
      ],
      "metadata": {
        "colab": {
          "base_uri": "https://localhost:8080/",
          "height": 447
        },
        "id": "mDUoO3cCEh_j",
        "outputId": "187a0a62-3468-4760-865c-1ab521d56d17"
      },
      "execution_count": 102,
      "outputs": [
        {
          "output_type": "execute_result",
          "data": {
            "text/plain": [
              "[<matplotlib.lines.Line2D at 0x7e88164119d0>]"
            ]
          },
          "metadata": {},
          "execution_count": 102
        },
        {
          "output_type": "display_data",
          "data": {
            "text/plain": [
              "<Figure size 640x480 with 1 Axes>"
            ],
            "image/png": "[encoded data removed]"
          },
          "metadata": {}
        }
      ]
    },
    {
      "cell_type": "markdown",
      "source": [
        "## Generation of characters function definition"
      ],
      "metadata": {
        "id": "geqn1cbAO0yZ"
      }
    },
    {
      "cell_type": "code",
      "source": [
        "def generate(model, tokenizer, text, length):\n",
        "\n",
        "    model.eval()\n",
        "\n",
        "    tokens = tokenizer.encode(text)\n",
        "    print(\"The length of the tokens is :: \",len(tokens))\n",
        "\n",
        "    for i in range(length):\n",
        "        input_seq = tokens[-seq_len:]\n",
        "        input_tensor = torch.tensor([input_seq])\n",
        "\n",
        "        with torch.no_grad():\n",
        "            logits = model(input_tensor)\n",
        "            next_token = torch.argmax(logits, dim=-1).item()\n",
        "            tokens.append(next_token)\n",
        "\n",
        "    return tokenizer.decode(tokens)"
      ],
      "metadata": {
        "id": "HNyHJ6JDFA2h"
      },
      "execution_count": 103,
      "outputs": []
    },
    {
      "cell_type": "markdown",
      "source": [
        "## Generation"
      ],
      "metadata": {
        "id": "3El5ZyCwO5Jz"
      }
    },
    {
      "cell_type": "code",
      "source": [
        "new_text = generate(model, tokenizer, \"अध्ययन\", 50)\n",
        "print(new_text)"
      ],
      "metadata": {
        "colab": {
          "base_uri": "https://localhost:8080/"
        },
        "id": "0Kmk0PduFCvL",
        "outputId": "96924627-8c43-4c7d-d14a-48d0f68343c7"
      },
      "execution_count": 104,
      "outputs": [
        {
          "output_type": "stream",
          "name": "stdout",
          "text": [
            "The length of the tokens is ::  6\n",
            "अध्ययनका दिया अर्य बैंकले चालेका कदमपछि सुधार देखिन सुरु\n"
          ]
        }
      ]
    }
  ]
}