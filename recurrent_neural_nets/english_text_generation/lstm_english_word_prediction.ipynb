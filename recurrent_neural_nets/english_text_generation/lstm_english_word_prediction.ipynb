{
  "nbformat": 4,
  "nbformat_minor": 0,
  "metadata": {
    "colab": {
      "provenance": [],
      "collapsed_sections": [
        "5V28oqV2jOCS"
      ]
    },
    "kernelspec": {
      "name": "python3",
      "display_name": "Python 3"
    },
    "language_info": {
      "name": "python"
    }
  },
  "cells": [
    {
      "cell_type": "markdown",
      "source": [
        "# Next character prediction (Text generation) in English Language"
      ],
      "metadata": {
        "id": "6eU8188FPcgj"
      }
    },
    {
      "cell_type": "markdown",
      "source": [
        "## Importing the necessary libraries"
      ],
      "metadata": {
        "id": "FSJnPPiixCRK"
      }
    },
    {
      "cell_type": "code",
      "source": [
        "import pickle\n",
        "\n",
        "import torch\n",
        "import torch.nn as nn\n",
        "import torch.nn.functional as F\n",
        "import torch.optim as optim\n",
        "\n",
        "from collections import Counter\n",
        "from torch.utils.data import TensorDataset, DataLoader\n",
        "\n",
        "import matplotlib.pyplot as plt"
      ],
      "metadata": {
        "id": "Vv4DULSL5rn6"
      },
      "execution_count": 52,
      "outputs": []
    },
    {
      "cell_type": "markdown",
      "source": [
        "## BPE Tokenizer"
      ],
      "metadata": {
        "id": "9OtCxsE_PqEV"
      }
    },
    {
      "cell_type": "code",
      "source": [
        "class BPETokenizer:\n",
        "  def __init__(self):\n",
        "    self.vocab = {}\n",
        "    self.inverse_vocab = {}\n",
        "    self.merges = {}\n",
        "\n",
        "  def train(self, text, vocab_size):\n",
        "    unique_chars = []\n",
        "\n",
        "    unique_chars = [chr(i) for i in range(256)]\n",
        "    text_chars = set(text)\n",
        "\n",
        "    unique_chars.extend(char for char in sorted(text_chars) if char not in unique_chars)\n",
        "    # print(unique_chars)\n",
        "\n",
        "    self.vocab = {i:char for i, char in enumerate(unique_chars)}\n",
        "    # print(\"Initial vocab list :: \",self.vocab)\n",
        "    self.inverse_vocab = {char:i for i, char in enumerate(unique_chars)}\n",
        "\n",
        "    sequence = [self.inverse_vocab[char] for char in text]\n",
        "\n",
        "    # print(\"Len of my vocab\", len(self.vocab))\n",
        "\n",
        "    while len(self.vocab) < vocab_size:\n",
        "      pair_counts = Counter(zip(sequence,sequence[1:]))\n",
        "\n",
        "      if not pair_counts:\n",
        "        break\n",
        "\n",
        "      best_pair = max(pair_counts.items(), key = lambda x: x[1])[0]\n",
        "\n",
        "      new_token_id = max(self.vocab.keys()) + 1\n",
        "\n",
        "      self.merges[best_pair] = new_token_id\n",
        "\n",
        "      merge_symbol = self.vocab[best_pair[0]] + self.vocab[best_pair[1]]\n",
        "\n",
        "      self.vocab[new_token_id] = merge_symbol\n",
        "      self.inverse_vocab[merge_symbol] = new_token_id\n",
        "\n",
        "\n",
        "      new_seq = []\n",
        "      i = 0\n",
        "      while i < len(sequence):\n",
        "          if i < len(sequence)-1 and (sequence[i], sequence[i+1]) == best_pair:\n",
        "              new_seq.append(new_token_id)\n",
        "              i += 2\n",
        "          else:\n",
        "              new_seq.append(sequence[i])\n",
        "              i += 1\n",
        "      sequence = new_seq\n",
        "\n",
        "  def encode(self,text):\n",
        "    tokens = [self.inverse_vocab[ch] for ch in text]\n",
        "    for pair, new_id in self.merges.items():\n",
        "        new_tokens, i = [], 0\n",
        "        while i < len(tokens):\n",
        "            if i < len(tokens)-1 and (tokens[i], tokens[i+1]) == pair:\n",
        "                new_tokens.append(new_id)\n",
        "                i += 2\n",
        "            else:\n",
        "                new_tokens.append(tokens[i])\n",
        "                i += 1\n",
        "        tokens = new_tokens\n",
        "    return tokens\n",
        "\n",
        "\n",
        "  def decode(self,tokens):\n",
        "    return ''.join(self.vocab[token] for token in tokens)"
      ],
      "metadata": {
        "id": "znpuVxIwODUC"
      },
      "execution_count": 53,
      "outputs": []
    },
    {
      "cell_type": "markdown",
      "source": [
        "### Trial (BPE Tokenizer) initialization , training, encoding, decoding"
      ],
      "metadata": {
        "id": "gLE7VxoR5h7S"
      }
    },
    {
      "cell_type": "code",
      "source": [
        "tokenizer = BPETokenizer()\n",
        "\n",
        "text = \"the cat in the mat\"\n",
        "\n",
        "print(\"The original text is ::\", text)\n",
        "\n",
        "tokenizer.train(text, vocab_size=260)\n",
        "\n",
        "tokens = tokenizer.encode(text)\n",
        "print(\"The encoded text is ::\", tokens)\n",
        "\n",
        "text = tokenizer.decode(tokens)\n",
        "print(\"The decoded encoded text is :: \",text)"
      ],
      "metadata": {
        "colab": {
          "base_uri": "https://localhost:8080/"
        },
        "id": "UQ-bgtrkgMns",
        "outputId": "11b905bc-954d-4e87-ccb7-5f9e5103bd39"
      },
      "execution_count": 54,
      "outputs": [
        {
          "output_type": "stream",
          "name": "stdout",
          "text": [
            "The original text is :: the cat in the mat\n",
            "The encoded text is :: [258, 99, 259, 32, 105, 110, 32, 258, 109, 259]\n",
            "The decoded encoded text is ::  the cat in the mat\n"
          ]
        }
      ]
    },
    {
      "cell_type": "markdown",
      "source": [
        "## Creating a RNN now for text generation using the above created BPE Tokenizer"
      ],
      "metadata": {
        "id": "JZihm-9n2iqd"
      }
    },
    {
      "cell_type": "code",
      "source": [
        "class MyRNN(nn.Module):\n",
        "  def __init__(self, embedding_size, hidden_size, vocab_size):\n",
        "    super(MyRNN, self).__init__()\n",
        "\n",
        "    self.embedding = nn.Embedding(vocab_size, embedding_size)\n",
        "    self.lstm = nn.LSTM(embedding_size, hidden_size, batch_first=True)\n",
        "    self.fc = nn.Linear(hidden_size, vocab_size)\n",
        "\n",
        "  def forward(self, x):\n",
        "    emb = self.embedding(x) # [ B, Seq_L, Emb_S]\n",
        "    out, _ = self.lstm(emb) # [B, Seq_L, hidden_size]\n",
        "    out = out[:,-1,:] # [B, hidden_size]\n",
        "    out = self.fc(out) # [B, vocab_size]\n",
        "    return out"
      ],
      "metadata": {
        "id": "XKZ8BMEQ6LGI"
      },
      "execution_count": 55,
      "outputs": []
    },
    {
      "cell_type": "markdown",
      "source": [
        "## Reading from the dataset file"
      ],
      "metadata": {
        "id": "OTf3sJke_AFU"
      }
    },
    {
      "cell_type": "code",
      "source": [
        "with open('raw_text.txt', 'r', encoding = 'utf-8') as file:\n",
        "    raw_text = file.read()"
      ],
      "metadata": {
        "id": "lDjEdNS1-_Ka"
      },
      "execution_count": 56,
      "outputs": []
    },
    {
      "cell_type": "markdown",
      "source": [
        "## Initializing the tokenizer and training it"
      ],
      "metadata": {
        "id": "0Tw6aRhZQVBu"
      }
    },
    {
      "cell_type": "code",
      "source": [
        "tokenizer = BPETokenizer()\n",
        "tokenizer.train(raw_text, vocab_size= 600)"
      ],
      "metadata": {
        "id": "dFvfPChk_4zt"
      },
      "execution_count": 57,
      "outputs": []
    },
    {
      "cell_type": "markdown",
      "source": [
        "### Encoding the read data"
      ],
      "metadata": {
        "id": "AIiD0zSBQYwn"
      }
    },
    {
      "cell_type": "code",
      "source": [
        "encoded = tokenizer.encode(raw_text)"
      ],
      "metadata": {
        "id": "vRYVhUteAAwl"
      },
      "execution_count": 58,
      "outputs": []
    },
    {
      "cell_type": "code",
      "source": [
        "seq_len = 10\n",
        "\n",
        "X = []\n",
        "y = []\n",
        "\n",
        "for i in range(len(encoded)- seq_len):\n",
        "  X.append(encoded[i:i+seq_len])\n",
        "  y.append(encoded[i+seq_len])"
      ],
      "metadata": {
        "id": "M9n0x-kzAGKt"
      },
      "execution_count": 59,
      "outputs": []
    },
    {
      "cell_type": "code",
      "source": [
        "X = torch.tensor(X)\n",
        "y = torch.tensor(y)\n",
        "\n",
        "print(X.shape)\n",
        "print(y.shape)"
      ],
      "metadata": {
        "colab": {
          "base_uri": "https://localhost:8080/"
        },
        "id": "82LbGSxbAiF6",
        "outputId": "2cc6020d-35dc-4290-c67c-924f12b1eff0"
      },
      "execution_count": 60,
      "outputs": [
        {
          "output_type": "stream",
          "name": "stdout",
          "text": [
            "torch.Size([217, 10])\n",
            "torch.Size([217])\n"
          ]
        }
      ]
    },
    {
      "cell_type": "code",
      "source": [
        "dataset = TensorDataset(X, y)\n",
        "dataloader = DataLoader(dataset, batch_size=32, shuffle=True)"
      ],
      "metadata": {
        "id": "F_OTzHL9ApaW"
      },
      "execution_count": 61,
      "outputs": []
    },
    {
      "cell_type": "code",
      "source": [
        "print(len(dataloader))"
      ],
      "metadata": {
        "colab": {
          "base_uri": "https://localhost:8080/"
        },
        "id": "Akzo_0YhpvbU",
        "outputId": "26295121-afe7-4b56-e385-e27fc053a642"
      },
      "execution_count": 62,
      "outputs": [
        {
          "output_type": "stream",
          "name": "stdout",
          "text": [
            "7\n"
          ]
        }
      ]
    },
    {
      "cell_type": "markdown",
      "source": [
        "### Model intialization"
      ],
      "metadata": {
        "id": "0ofyfO2qQfs1"
      }
    },
    {
      "cell_type": "code",
      "source": [
        "model = MyRNN(embedding_size=64, hidden_size=128, vocab_size=len(tokenizer.vocab))\n",
        "\n",
        "criterion = nn.CrossEntropyLoss()\n",
        "optimizer = torch.optim.Adam(model.parameters(), lr=1e-3)"
      ],
      "metadata": {
        "id": "mvRcPtn2CO28"
      },
      "execution_count": 63,
      "outputs": []
    },
    {
      "cell_type": "markdown",
      "source": [
        "## Training"
      ],
      "metadata": {
        "id": "Mzq5Syn6Qc9b"
      }
    },
    {
      "cell_type": "code",
      "source": [
        "num_epochs = 100\n",
        "loss_list = []\n",
        "\n",
        "for epoch in range(num_epochs):\n",
        "    model.train()\n",
        "    for batch_x, batch_y in dataloader:\n",
        "        optimizer.zero_grad()\n",
        "        logits = model(batch_x)\n",
        "\n",
        "        loss = criterion(logits, batch_y)\n",
        "        loss_list.append(loss.item())\n",
        "\n",
        "        loss.backward()\n",
        "        optimizer.step()\n",
        "\n",
        "    print(f\"Epoch {epoch+1} Loss: {loss.item():.4f}\")"
      ],
      "metadata": {
        "colab": {
          "base_uri": "https://localhost:8080/"
        },
        "id": "lMvcs3QhCXR5",
        "outputId": "3afda035-f6a3-4ce6-eee5-8a76fc1e71b0"
      },
      "execution_count": 66,
      "outputs": [
        {
          "output_type": "stream",
          "name": "stdout",
          "text": [
            "Epoch 1 Loss: 6.2515\n",
            "Epoch 2 Loss: 6.1893\n",
            "Epoch 3 Loss: 5.8939\n",
            "Epoch 4 Loss: 4.9905\n",
            "Epoch 5 Loss: 4.7023\n",
            "Epoch 6 Loss: 4.5544\n",
            "Epoch 7 Loss: 4.2539\n",
            "Epoch 8 Loss: 4.3837\n",
            "Epoch 9 Loss: 4.2575\n",
            "Epoch 10 Loss: 4.2596\n",
            "Epoch 11 Loss: 3.7933\n",
            "Epoch 12 Loss: 3.8151\n",
            "Epoch 13 Loss: 3.5588\n",
            "Epoch 14 Loss: 3.3881\n",
            "Epoch 15 Loss: 3.3740\n",
            "Epoch 16 Loss: 3.2555\n",
            "Epoch 17 Loss: 2.9398\n",
            "Epoch 18 Loss: 2.8987\n",
            "Epoch 19 Loss: 2.7677\n",
            "Epoch 20 Loss: 2.6274\n",
            "Epoch 21 Loss: 2.6530\n",
            "Epoch 22 Loss: 2.4473\n",
            "Epoch 23 Loss: 2.2155\n",
            "Epoch 24 Loss: 2.1109\n",
            "Epoch 25 Loss: 1.9828\n",
            "Epoch 26 Loss: 1.7868\n",
            "Epoch 27 Loss: 1.8864\n",
            "Epoch 28 Loss: 1.6458\n",
            "Epoch 29 Loss: 1.5974\n",
            "Epoch 30 Loss: 1.5359\n",
            "Epoch 31 Loss: 1.4147\n",
            "Epoch 32 Loss: 1.2945\n",
            "Epoch 33 Loss: 1.2358\n",
            "Epoch 34 Loss: 1.1250\n",
            "Epoch 35 Loss: 1.0864\n",
            "Epoch 36 Loss: 0.9760\n",
            "Epoch 37 Loss: 0.9667\n",
            "Epoch 38 Loss: 0.8768\n",
            "Epoch 39 Loss: 0.8501\n",
            "Epoch 40 Loss: 0.8089\n",
            "Epoch 41 Loss: 0.7387\n",
            "Epoch 42 Loss: 0.6712\n",
            "Epoch 43 Loss: 0.6876\n",
            "Epoch 44 Loss: 0.6045\n",
            "Epoch 45 Loss: 0.5754\n",
            "Epoch 46 Loss: 0.5335\n",
            "Epoch 47 Loss: 0.5138\n",
            "Epoch 48 Loss: 0.4567\n",
            "Epoch 49 Loss: 0.4850\n",
            "Epoch 50 Loss: 0.4032\n",
            "Epoch 51 Loss: 0.3845\n",
            "Epoch 52 Loss: 0.4189\n",
            "Epoch 53 Loss: 0.3688\n",
            "Epoch 54 Loss: 0.3159\n",
            "Epoch 55 Loss: 0.2701\n",
            "Epoch 56 Loss: 0.2879\n",
            "Epoch 57 Loss: 0.3021\n",
            "Epoch 58 Loss: 0.2566\n",
            "Epoch 59 Loss: 0.2755\n",
            "Epoch 60 Loss: 0.2498\n",
            "Epoch 61 Loss: 0.2211\n",
            "Epoch 62 Loss: 0.2367\n",
            "Epoch 63 Loss: 0.2066\n",
            "Epoch 64 Loss: 0.2196\n",
            "Epoch 65 Loss: 0.2000\n",
            "Epoch 66 Loss: 0.1850\n",
            "Epoch 67 Loss: 0.1940\n",
            "Epoch 68 Loss: 0.1739\n",
            "Epoch 69 Loss: 0.1745\n",
            "Epoch 70 Loss: 0.1515\n",
            "Epoch 71 Loss: 0.1602\n",
            "Epoch 72 Loss: 0.1503\n",
            "Epoch 73 Loss: 0.1451\n",
            "Epoch 74 Loss: 0.1311\n",
            "Epoch 75 Loss: 0.1264\n",
            "Epoch 76 Loss: 0.1261\n",
            "Epoch 77 Loss: 0.1352\n",
            "Epoch 78 Loss: 0.1171\n",
            "Epoch 79 Loss: 0.1274\n",
            "Epoch 80 Loss: 0.1263\n",
            "Epoch 81 Loss: 0.1119\n",
            "Epoch 82 Loss: 0.1202\n",
            "Epoch 83 Loss: 0.1075\n",
            "Epoch 84 Loss: 0.0955\n",
            "Epoch 85 Loss: 0.1011\n",
            "Epoch 86 Loss: 0.0926\n",
            "Epoch 87 Loss: 0.0920\n",
            "Epoch 88 Loss: 0.0941\n",
            "Epoch 89 Loss: 0.0793\n",
            "Epoch 90 Loss: 0.0851\n",
            "Epoch 91 Loss: 0.0818\n",
            "Epoch 92 Loss: 0.0785\n",
            "Epoch 93 Loss: 0.0798\n",
            "Epoch 94 Loss: 0.0735\n",
            "Epoch 95 Loss: 0.0746\n",
            "Epoch 96 Loss: 0.0705\n",
            "Epoch 97 Loss: 0.0768\n",
            "Epoch 98 Loss: 0.0692\n",
            "Epoch 99 Loss: 0.0633\n",
            "Epoch 100 Loss: 0.0692\n"
          ]
        }
      ]
    },
    {
      "cell_type": "code",
      "source": [
        "plt.plot(loss_list)"
      ],
      "metadata": {
        "colab": {
          "base_uri": "https://localhost:8080/",
          "height": 447
        },
        "id": "Kpv0VQpUI2qI",
        "outputId": "e02f3f9e-a92c-480c-e291-fb1d151e942c"
      },
      "execution_count": 67,
      "outputs": [
        {
          "output_type": "execute_result",
          "data": {
            "text/plain": [
              "[<matplotlib.lines.Line2D at 0x7a5465806610>]"
            ]
          },
          "metadata": {},
          "execution_count": 67
        },
        {
          "output_type": "display_data",
          "data": {
            "text/plain": [
              "<Figure size 640x480 with 1 Axes>"
            ],
            "image/png": "[encoded data removed]"
          },
          "metadata": {}
        }
      ]
    },
    {
      "cell_type": "code",
      "source": [
        "def generate(model, tokenizer, text, length):\n",
        "\n",
        "    model.eval()\n",
        "\n",
        "    tokens = tokenizer.encode(text)\n",
        "    print(\"The length of the tokens is :: \",len(tokens))\n",
        "\n",
        "    for i in range(length):\n",
        "        input_seq = tokens[-seq_len:]\n",
        "        input_tensor = torch.tensor([input_seq])\n",
        "\n",
        "        with torch.no_grad():\n",
        "            logits = model(input_tensor)\n",
        "            next_token = torch.argmax(logits, dim=-1).item()\n",
        "            tokens.append(next_token)\n",
        "\n",
        "    return tokenizer.decode(tokens)"
      ],
      "metadata": {
        "id": "wW_DV05YDlLI"
      },
      "execution_count": 68,
      "outputs": []
    },
    {
      "cell_type": "markdown",
      "source": [
        "### Inference Trial"
      ],
      "metadata": {
        "id": "c8vIO6AZQn1Z"
      }
    },
    {
      "cell_type": "code",
      "source": [
        "new_text = generate(model, tokenizer, \"Her faced lifted with joy \", 50)\n",
        "print(new_text)"
      ],
      "metadata": {
        "colab": {
          "base_uri": "https://localhost:8080/"
        },
        "id": "rcqPKTASDqpn",
        "outputId": "c510dd94-f3d4-49a1-a0dc-3334655e1f95"
      },
      "execution_count": 69,
      "outputs": [
        {
          "output_type": "stream",
          "name": "stdout",
          "text": [
            "The length of the tokens is ::  14\n",
            "Her faced lifted with joy  f ged ed Mr. Brown tiyher y, and then he smiled. \"Let's see if we can find it!\" Together, they walked to the riverbank, w\n"
          ]
        }
      ]
    },
    {
      "cell_type": "code",
      "source": [
        "a = [[1,2],[3,4],[5,6]]\n",
        "a = torch.tensor(a)\n",
        "print(a)\n",
        "\n",
        "print(torch.argmax(a, dim = -1))"
      ],
      "metadata": {
        "colab": {
          "base_uri": "https://localhost:8080/"
        },
        "id": "LnpfI--9M_HA",
        "outputId": "65976b92-d233-4b3a-9896-d5ed75306122"
      },
      "execution_count": 70,
      "outputs": [
        {
          "output_type": "stream",
          "name": "stdout",
          "text": [
            "tensor([[1, 2],\n",
            "        [3, 4],\n",
            "        [5, 6]])\n",
            "tensor([1, 1, 1])\n"
          ]
        }
      ]
    },
    {
      "cell_type": "markdown",
      "source": [
        "## WordPiece Tokenizer"
      ],
      "metadata": {
        "id": "l0VlxErV3pli"
      }
    },
    {
      "cell_type": "code",
      "source": [
        "from collections import defaultdict"
      ],
      "metadata": {
        "id": "H1ythRI2cYJk"
      },
      "execution_count": 35,
      "outputs": []
    },
    {
      "cell_type": "code",
      "source": [
        "class WordPieceTokenizer:\n",
        "  def __init__(self):\n",
        "    self.vocab = {}\n",
        "    self.inverse_vocab = {}\n",
        "    self.merges = {}\n",
        "\n",
        "  def train(self, text, vocab_size):\n",
        "    print(\"The passed text is :: \",text)\n",
        "    all_words = text.split()\n",
        "    word_freq = Counter (all_words)\n",
        "    print(\"Word freq :: \",word_freq)\n",
        "\n",
        "    unique_words = set(all_words)\n",
        "\n",
        "    subwords = set()\n",
        "    subwords.add(' ')\n",
        "\n",
        "    for word in word_freq:\n",
        "        for char in word:\n",
        "            subwords.add(char)\n",
        "    characters = sorted(list(subwords))\n",
        "    print(subwords)\n",
        "\n",
        "    self.vocab = {i: char for i, char in enumerate(characters)}\n",
        "    print(\"Initial vocab :: \",self.vocab)\n",
        "    self.inverse_vocab = {char: i for i, char in enumerate(characters)}\n",
        "    print(\"Initial inverse vocab :: \",self.inverse_vocab)\n",
        "\n",
        "    word_segments = {word: list(word) for word in word_freq}\n",
        "    print(word_segments)\n",
        "\n",
        "    while len(self.vocab) < vocab_size:\n",
        "      pair_counts = {}\n",
        "      for word,segment in word_segments.items():\n",
        "        freq = word_freq[word]\n",
        "\n",
        "        for i in range(len(segment)-1):\n",
        "          pair = (segment[i],segment[i+1])\n",
        "          pair = (self.inverse_vocab[pair[0]], self.inverse_vocab[pair[1]])\n",
        "          pair_counts[pair] = pair_counts.get(pair, 0)\n",
        "          pair_counts[pair] += freq\n",
        "\n",
        "        if not pair_counts:\n",
        "          break\n",
        "\n",
        "        best_pair = max(pair_counts.items(), key = lambda x: x[1])[0]\n",
        "        new_token_id = max(self.vocab.keys()) + 1\n",
        "        self.merges[best_pair] = new_token_id\n",
        "\n",
        "        merge_symbol = self.vocab[best_pair[0]] + self.vocab[best_pair[1]]\n",
        "        self.vocab[new_token_id] = merge_symbol\n",
        "        # print(\"After vocab :: \",self.vocab)\n",
        "        # self.inverse_vocab[merge_symbol] = new_token_id\n",
        "        # print(\"Afte invese vocab :: \",self.inverse_vocab)\n",
        "        # break\n",
        "\n",
        "\n"
      ],
      "metadata": {
        "id": "J53xuytoNCkQ"
      },
      "execution_count": 50,
      "outputs": []
    },
    {
      "cell_type": "code",
      "source": [
        "w = WordPieceTokenizer()\n",
        "text = \"low lower lowest\"\n",
        "w.train(text, 260)"
      ],
      "metadata": {
        "colab": {
          "base_uri": "https://localhost:8080/"
        },
        "id": "Bs9hJP2D4e-m",
        "outputId": "2dd5825e-d727-48b1-d85f-b7d7ca62f472"
      },
      "execution_count": 51,
      "outputs": [
        {
          "output_type": "stream",
          "name": "stdout",
          "text": [
            "The passed text is ::  low lower lowest\n",
            "Word freq ::  Counter({'low': 1, 'lower': 1, 'lowest': 1})\n",
            "{'o', 'w', 'l', 's', 'r', ' ', 't', 'e'}\n",
            "Initial vocab ::  {0: ' ', 1: 'e', 2: 'l', 3: 'o', 4: 'r', 5: 's', 6: 't', 7: 'w'}\n",
            "Initial inverse vocab ::  {' ': 0, 'e': 1, 'l': 2, 'o': 3, 'r': 4, 's': 5, 't': 6, 'w': 7}\n",
            "{'low': ['l', 'o', 'w'], 'lower': ['l', 'o', 'w', 'e', 'r'], 'lowest': ['l', 'o', 'w', 'e', 's', 't']}\n"
          ]
        }
      ]
    },
    {
      "cell_type": "code",
      "source": [],
      "metadata": {
        "id": "PV3KLXrY4ikJ"
      },
      "execution_count": null,
      "outputs": []
    }
  ]
}