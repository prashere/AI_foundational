{
  "nbformat": 4,
  "nbformat_minor": 0,
  "metadata": {
    "colab": {
      "provenance": [],
      "gpuType": "T4"
    },
    "kernelspec": {
      "name": "python3",
      "display_name": "Python 3"
    },
    "language_info": {
      "name": "python"
    },
    "accelerator": "GPU"
  },
  "cells": [
    {
      "cell_type": "markdown",
      "source": [
        "## Necessary Imports"
      ],
      "metadata": {
        "id": "9vQnX9lW0S9L"
      }
    },
    {
      "cell_type": "code",
      "source": [
        "import re\n",
        "\n",
        "import pickle\n",
        "\n",
        "import pandas as pd\n",
        "import unicodedata\n",
        "from collections import Counter\n",
        "\n",
        "import torch\n",
        "import torch.nn as nn\n",
        "import torch.nn.functional as F\n",
        "import torch.optim as optim\n",
        "\n",
        "import matplotlib.pyplot as plt\n",
        "\n",
        "from torch.utils.data import Dataset, DataLoader, random_split\n",
        "from tensorflow.keras.preprocessing.sequence import pad_sequences"
      ],
      "metadata": {
        "id": "uCA5EkHpz4Zm"
      },
      "execution_count": null,
      "outputs": []
    },
    {
      "cell_type": "code",
      "source": [
        "df = pd.read_parquet('data.parquet', engine='pyarrow')\n",
        "print(df.head())"
      ],
      "metadata": {
        "colab": {
          "base_uri": "https://localhost:8080/"
        },
        "id": "n8XMvu5HONf0",
        "outputId": "2ad99fa9-90d8-4fb1-96b1-bbb1133e8dbe"
      },
      "execution_count": null,
      "outputs": [
        {
          "output_type": "stream",
          "name": "stdout",
          "text": [
            "                                                text  \\\n",
            "0  <s>[INST] Please translate \"It happened after ...   \n",
            "1  <s>[INST] Please translate \"it happened on the...   \n",
            "2  <s>[INST] Please translate \"David said to him,...   \n",
            "3  <s>[INST] Please translate \"David said to him,...   \n",
            "4  <s>[INST] Please translate \"David said to the ...   \n",
            "\n",
            "                                                  en  \\\n",
            "0  It happened after the death of Saul, when Davi...   \n",
            "1  it happened on the third day, that behold, a m...   \n",
            "2  David said to him, \"Where do you come from?\" H...   \n",
            "3  David said to him, \"How did it go? Please tell...   \n",
            "4  David said to the young man who told him, \"How...   \n",
            "\n",
            "                                                  np  \n",
            "0  दाऊदले अमालेकीहरूलाई हराएर पछि सिकलग गए। यो शा...  \n",
            "1  तब तेस्रो दिनमा एउटा जवान सैनिक सिकलगमा आयो। त...  \n",
            "2  दाऊदले त्यसलाई सोधे, “तिमी कहाँबाट आयौ?” त्यस ...  \n",
            "3  दाऊदले भने, “मलाई भन, के भयो?” त्यसले भन्यो, “...  \n",
            "4  दाऊदले त्यस सैनिकलाई भने, “तिमीले कसरी जान्यौ ...  \n"
          ]
        }
      ]
    },
    {
      "cell_type": "code",
      "source": [
        "df.info()"
      ],
      "metadata": {
        "colab": {
          "base_uri": "https://localhost:8080/"
        },
        "id": "5wSfSNJFPIDc",
        "outputId": "064a118c-b28a-4784-fea8-2c81dd893b6a"
      },
      "execution_count": null,
      "outputs": [
        {
          "output_type": "stream",
          "name": "stdout",
          "text": [
            "<class 'pandas.core.frame.DataFrame'>\n",
            "RangeIndex: 395611 entries, 0 to 395610\n",
            "Data columns (total 3 columns):\n",
            " #   Column  Non-Null Count   Dtype \n",
            "---  ------  --------------   ----- \n",
            " 0   text    395611 non-null  object\n",
            " 1   en      395611 non-null  object\n",
            " 2   np      395611 non-null  object\n",
            "dtypes: object(3)\n",
            "memory usage: 9.1+ MB\n"
          ]
        }
      ]
    },
    {
      "cell_type": "markdown",
      "source": [
        "## Selecting only 10,000 rows from the dataset"
      ],
      "metadata": {
        "id": "gFKv8PsNz96T"
      }
    },
    {
      "cell_type": "code",
      "source": [
        "df = pd.read_csv('data.csv')"
      ],
      "metadata": {
        "id": "DtY5YjKFUQws"
      },
      "execution_count": null,
      "outputs": []
    },
    {
      "cell_type": "code",
      "source": [
        "df = df.head(10000)"
      ],
      "metadata": {
        "id": "Ihpu4K5Ayq_v"
      },
      "execution_count": null,
      "outputs": []
    },
    {
      "cell_type": "code",
      "source": [
        "# df.to_csv('data.csv', index = False)"
      ],
      "metadata": {
        "id": "__7DoO5qOaYN"
      },
      "execution_count": null,
      "outputs": []
    },
    {
      "cell_type": "code",
      "source": [
        "df.info()"
      ],
      "metadata": {
        "colab": {
          "base_uri": "https://localhost:8080/"
        },
        "id": "BINHqDk9yxpe",
        "outputId": "d4420d3f-6de1-446b-f4a5-db7a08cec03b"
      },
      "execution_count": null,
      "outputs": [
        {
          "output_type": "stream",
          "name": "stdout",
          "text": [
            "<class 'pandas.core.frame.DataFrame'>\n",
            "RangeIndex: 10000 entries, 0 to 9999\n",
            "Data columns (total 3 columns):\n",
            " #   Column  Non-Null Count  Dtype \n",
            "---  ------  --------------  ----- \n",
            " 0   text    10000 non-null  object\n",
            " 1   en      10000 non-null  object\n",
            " 2   np      10000 non-null  object\n",
            "dtypes: object(3)\n",
            "memory usage: 234.5+ KB\n"
          ]
        }
      ]
    },
    {
      "cell_type": "markdown",
      "source": [
        "### Exporting the english and nepali columns into respective text files so as to train and save the respective tokenizers"
      ],
      "metadata": {
        "id": "3t56fO1Q0EGj"
      }
    },
    {
      "cell_type": "code",
      "source": [
        "nepali_text = df['np']\n",
        "english_text = df['en']"
      ],
      "metadata": {
        "id": "5Fg0Sts4PWDm"
      },
      "execution_count": null,
      "outputs": []
    },
    {
      "cell_type": "code",
      "source": [
        "nepali_text.head()"
      ],
      "metadata": {
        "colab": {
          "base_uri": "https://localhost:8080/",
          "height": 240
        },
        "id": "8cKNZkHxxAHI",
        "outputId": "fb96fba3-542f-4e61-8f0b-e023254760e6"
      },
      "execution_count": null,
      "outputs": [
        {
          "output_type": "execute_result",
          "data": {
            "text/plain": [
              "0    दाऊदले अमालेकीहरूलाई हराएर पछि सिकलग गए। यो शा...\n",
              "1    तब तेस्रो दिनमा एउटा जवान सैनिक सिकलगमा आयो। त...\n",
              "2    दाऊदले त्यसलाई सोधे, “तिमी कहाँबाट आयौ?” त्यस ...\n",
              "3    दाऊदले भने, “मलाई भन, के भयो?” त्यसले भन्यो, “...\n",
              "4    दाऊदले त्यस सैनिकलाई भने, “तिमीले कसरी जान्यौ ...\n",
              "Name: np, dtype: object"
            ],
            "text/html": [
              "<div>\n",
              "<style scoped>\n",
              "    .dataframe tbody tr th:only-of-type {\n",
              "        vertical-align: middle;\n",
              "    }\n",
              "\n",
              "    .dataframe tbody tr th {\n",
              "        vertical-align: top;\n",
              "    }\n",
              "\n",
              "    .dataframe thead th {\n",
              "        text-align: right;\n",
              "    }\n",
              "</style>\n",
              "<table border=\"1\" class=\"dataframe\">\n",
              "  <thead>\n",
              "    <tr style=\"text-align: right;\">\n",
              "      <th></th>\n",
              "      <th>np</th>\n",
              "    </tr>\n",
              "  </thead>\n",
              "  <tbody>\n",
              "    <tr>\n",
              "      <th>0</th>\n",
              "      <td>दाऊदले अमालेकीहरूलाई हराएर पछि सिकलग गए। यो शा...</td>\n",
              "    </tr>\n",
              "    <tr>\n",
              "      <th>1</th>\n",
              "      <td>तब तेस्रो दिनमा एउटा जवान सैनिक सिकलगमा आयो। त...</td>\n",
              "    </tr>\n",
              "    <tr>\n",
              "      <th>2</th>\n",
              "      <td>दाऊदले त्यसलाई सोधे, “तिमी कहाँबाट आयौ?” त्यस ...</td>\n",
              "    </tr>\n",
              "    <tr>\n",
              "      <th>3</th>\n",
              "      <td>दाऊदले भने, “मलाई भन, के भयो?” त्यसले भन्यो, “...</td>\n",
              "    </tr>\n",
              "    <tr>\n",
              "      <th>4</th>\n",
              "      <td>दाऊदले त्यस सैनिकलाई भने, “तिमीले कसरी जान्यौ ...</td>\n",
              "    </tr>\n",
              "  </tbody>\n",
              "</table>\n",
              "</div><br><label><b>dtype:</b> object</label>"
            ]
          },
          "metadata": {},
          "execution_count": 8
        }
      ]
    },
    {
      "cell_type": "code",
      "source": [
        "english_text.head()"
      ],
      "metadata": {
        "colab": {
          "base_uri": "https://localhost:8080/",
          "height": 240
        },
        "id": "WdqsOMqZzZc1",
        "outputId": "51fae876-af3c-4229-c656-6fa8bb3833f3"
      },
      "execution_count": null,
      "outputs": [
        {
          "output_type": "execute_result",
          "data": {
            "text/plain": [
              "0    It happened after the death of Saul, when Davi...\n",
              "1    it happened on the third day, that behold, a m...\n",
              "2    David said to him, \"Where do you come from?\" H...\n",
              "3    David said to him, \"How did it go? Please tell...\n",
              "4    David said to the young man who told him, \"How...\n",
              "Name: en, dtype: object"
            ],
            "text/html": [
              "<div>\n",
              "<style scoped>\n",
              "    .dataframe tbody tr th:only-of-type {\n",
              "        vertical-align: middle;\n",
              "    }\n",
              "\n",
              "    .dataframe tbody tr th {\n",
              "        vertical-align: top;\n",
              "    }\n",
              "\n",
              "    .dataframe thead th {\n",
              "        text-align: right;\n",
              "    }\n",
              "</style>\n",
              "<table border=\"1\" class=\"dataframe\">\n",
              "  <thead>\n",
              "    <tr style=\"text-align: right;\">\n",
              "      <th></th>\n",
              "      <th>en</th>\n",
              "    </tr>\n",
              "  </thead>\n",
              "  <tbody>\n",
              "    <tr>\n",
              "      <th>0</th>\n",
              "      <td>It happened after the death of Saul, when Davi...</td>\n",
              "    </tr>\n",
              "    <tr>\n",
              "      <th>1</th>\n",
              "      <td>it happened on the third day, that behold, a m...</td>\n",
              "    </tr>\n",
              "    <tr>\n",
              "      <th>2</th>\n",
              "      <td>David said to him, \"Where do you come from?\" H...</td>\n",
              "    </tr>\n",
              "    <tr>\n",
              "      <th>3</th>\n",
              "      <td>David said to him, \"How did it go? Please tell...</td>\n",
              "    </tr>\n",
              "    <tr>\n",
              "      <th>4</th>\n",
              "      <td>David said to the young man who told him, \"How...</td>\n",
              "    </tr>\n",
              "  </tbody>\n",
              "</table>\n",
              "</div><br><label><b>dtype:</b> object</label>"
            ]
          },
          "metadata": {},
          "execution_count": 9
        }
      ]
    },
    {
      "cell_type": "code",
      "source": [
        "# nepali_text.to_csv('nepali_data.txt', index = False)\n",
        "# english_text.to_csv('english_data.txt', index = False)"
      ],
      "metadata": {
        "id": "rTOOetgjxglY"
      },
      "execution_count": null,
      "outputs": []
    },
    {
      "cell_type": "code",
      "source": [
        "# from google.colab import files\n",
        "# files.download('nepali_data.txt')\n",
        "# files.download('english_data.txt')"
      ],
      "metadata": {
        "id": "wjU5rFxpx0YL"
      },
      "execution_count": null,
      "outputs": []
    },
    {
      "cell_type": "markdown",
      "source": [
        "## Data Pre-processing"
      ],
      "metadata": {
        "id": "ZWvfxdOS0PQD"
      }
    },
    {
      "cell_type": "markdown",
      "source": [
        "- padding for the encoder's input\n",
        "- sos and eos for the decoder's input"
      ],
      "metadata": {
        "id": "IZGr52oT2nmp"
      }
    },
    {
      "cell_type": "code",
      "source": [
        "df.head()"
      ],
      "metadata": {
        "colab": {
          "base_uri": "https://localhost:8080/",
          "height": 206
        },
        "id": "TvxnFpuxx9fF",
        "outputId": "9883e211-2502-4864-9400-e5e789e6f2af"
      },
      "execution_count": null,
      "outputs": [
        {
          "output_type": "execute_result",
          "data": {
            "text/plain": [
              "                                                text  \\\n",
              "0  <s>[INST] Please translate \"It happened after ...   \n",
              "1  <s>[INST] Please translate \"it happened on the...   \n",
              "2  <s>[INST] Please translate \"David said to him,...   \n",
              "3  <s>[INST] Please translate \"David said to him,...   \n",
              "4  <s>[INST] Please translate \"David said to the ...   \n",
              "\n",
              "                                                  en  \\\n",
              "0  It happened after the death of Saul, when Davi...   \n",
              "1  it happened on the third day, that behold, a m...   \n",
              "2  David said to him, \"Where do you come from?\" H...   \n",
              "3  David said to him, \"How did it go? Please tell...   \n",
              "4  David said to the young man who told him, \"How...   \n",
              "\n",
              "                                                  np  \n",
              "0  दाऊदले अमालेकीहरूलाई हराएर पछि सिकलग गए। यो शा...  \n",
              "1  तब तेस्रो दिनमा एउटा जवान सैनिक सिकलगमा आयो। त...  \n",
              "2  दाऊदले त्यसलाई सोधे, “तिमी कहाँबाट आयौ?” त्यस ...  \n",
              "3  दाऊदले भने, “मलाई भन, के भयो?” त्यसले भन्यो, “...  \n",
              "4  दाऊदले त्यस सैनिकलाई भने, “तिमीले कसरी जान्यौ ...  "
            ],
            "text/html": [
              "\n",
              "  <div id=\"df-0e5c7eb2-cbd3-4662-960a-2a6d87032a75\" class=\"colab-df-container\">\n",
              "    <div>\n",
              "<style scoped>\n",
              "    .dataframe tbody tr th:only-of-type {\n",
              "        vertical-align: middle;\n",
              "    }\n",
              "\n",
              "    .dataframe tbody tr th {\n",
              "        vertical-align: top;\n",
              "    }\n",
              "\n",
              "    .dataframe thead th {\n",
              "        text-align: right;\n",
              "    }\n",
              "</style>\n",
              "<table border=\"1\" class=\"dataframe\">\n",
              "  <thead>\n",
              "    <tr style=\"text-align: right;\">\n",
              "      <th></th>\n",
              "      <th>text</th>\n",
              "      <th>en</th>\n",
              "      <th>np</th>\n",
              "    </tr>\n",
              "  </thead>\n",
              "  <tbody>\n",
              "    <tr>\n",
              "      <th>0</th>\n",
              "      <td>&lt;s&gt;[INST] Please translate \"It happened after ...</td>\n",
              "      <td>It happened after the death of Saul, when Davi...</td>\n",
              "      <td>दाऊदले अमालेकीहरूलाई हराएर पछि सिकलग गए। यो शा...</td>\n",
              "    </tr>\n",
              "    <tr>\n",
              "      <th>1</th>\n",
              "      <td>&lt;s&gt;[INST] Please translate \"it happened on the...</td>\n",
              "      <td>it happened on the third day, that behold, a m...</td>\n",
              "      <td>तब तेस्रो दिनमा एउटा जवान सैनिक सिकलगमा आयो। त...</td>\n",
              "    </tr>\n",
              "    <tr>\n",
              "      <th>2</th>\n",
              "      <td>&lt;s&gt;[INST] Please translate \"David said to him,...</td>\n",
              "      <td>David said to him, \"Where do you come from?\" H...</td>\n",
              "      <td>दाऊदले त्यसलाई सोधे, “तिमी कहाँबाट आयौ?” त्यस ...</td>\n",
              "    </tr>\n",
              "    <tr>\n",
              "      <th>3</th>\n",
              "      <td>&lt;s&gt;[INST] Please translate \"David said to him,...</td>\n",
              "      <td>David said to him, \"How did it go? Please tell...</td>\n",
              "      <td>दाऊदले भने, “मलाई भन, के भयो?” त्यसले भन्यो, “...</td>\n",
              "    </tr>\n",
              "    <tr>\n",
              "      <th>4</th>\n",
              "      <td>&lt;s&gt;[INST] Please translate \"David said to the ...</td>\n",
              "      <td>David said to the young man who told him, \"How...</td>\n",
              "      <td>दाऊदले त्यस सैनिकलाई भने, “तिमीले कसरी जान्यौ ...</td>\n",
              "    </tr>\n",
              "  </tbody>\n",
              "</table>\n",
              "</div>\n",
              "    <div class=\"colab-df-buttons\">\n",
              "\n",
              "  <div class=\"colab-df-container\">\n",
              "    <button class=\"colab-df-convert\" onclick=\"convertToInteractive('df-0e5c7eb2-cbd3-4662-960a-2a6d87032a75')\"\n",
              "            title=\"Convert this dataframe to an interactive table.\"\n",
              "            style=\"display:none;\">\n",
              "\n",
              "  <svg xmlns=\"http://www.w3.org/2000/svg\" height=\"24px\" viewBox=\"0 -960 960 960\">\n",
              "    <path d=\"M120-120v-720h720v720H120Zm60-500h600v-160H180v160Zm220 220h160v-160H400v160Zm0 220h160v-160H400v160ZM180-400h160v-160H180v160Zm440 0h160v-160H620v160ZM180-180h160v-160H180v160Zm440 0h160v-160H620v160Z\"/>\n",
              "  </svg>\n",
              "    </button>\n",
              "\n",
              "  <style>\n",
              "    .colab-df-container {\n",
              "      display:flex;\n",
              "      gap: 12px;\n",
              "    }\n",
              "\n",
              "    .colab-df-convert {\n",
              "      background-color: #E8F0FE;\n",
              "      border: none;\n",
              "      border-radius: 50%;\n",
              "      cursor: pointer;\n",
              "      display: none;\n",
              "      fill: #1967D2;\n",
              "      height: 32px;\n",
              "      padding: 0 0 0 0;\n",
              "      width: 32px;\n",
              "    }\n",
              "\n",
              "    .colab-df-convert:hover {\n",
              "      background-color: #E2EBFA;\n",
              "      box-shadow: 0px 1px 2px rgba(60, 64, 67, 0.3), 0px 1px 3px 1px rgba(60, 64, 67, 0.15);\n",
              "      fill: #174EA6;\n",
              "    }\n",
              "\n",
              "    .colab-df-buttons div {\n",
              "      margin-bottom: 4px;\n",
              "    }\n",
              "\n",
              "    [theme=dark] .colab-df-convert {\n",
              "      background-color: #3B4455;\n",
              "      fill: #D2E3FC;\n",
              "    }\n",
              "\n",
              "    [theme=dark] .colab-df-convert:hover {\n",
              "      background-color: #434B5C;\n",
              "      box-shadow: 0px 1px 3px 1px rgba(0, 0, 0, 0.15);\n",
              "      filter: drop-shadow(0px 1px 2px rgba(0, 0, 0, 0.3));\n",
              "      fill: #FFFFFF;\n",
              "    }\n",
              "  </style>\n",
              "\n",
              "    <script>\n",
              "      const buttonEl =\n",
              "        document.querySelector('#df-0e5c7eb2-cbd3-4662-960a-2a6d87032a75 button.colab-df-convert');\n",
              "      buttonEl.style.display =\n",
              "        google.colab.kernel.accessAllowed ? 'block' : 'none';\n",
              "\n",
              "      async function convertToInteractive(key) {\n",
              "        const element = document.querySelector('#df-0e5c7eb2-cbd3-4662-960a-2a6d87032a75');\n",
              "        const dataTable =\n",
              "          await google.colab.kernel.invokeFunction('convertToInteractive',\n",
              "                                                    [key], {});\n",
              "        if (!dataTable) return;\n",
              "\n",
              "        const docLinkHtml = 'Like what you see? Visit the ' +\n",
              "          '<a target=\"_blank\" href=https://colab.research.google.com/notebooks/data_table.ipynb>data table notebook</a>'\n",
              "          + ' to learn more about interactive tables.';\n",
              "        element.innerHTML = '';\n",
              "        dataTable['output_type'] = 'display_data';\n",
              "        await google.colab.output.renderOutput(dataTable, element);\n",
              "        const docLink = document.createElement('div');\n",
              "        docLink.innerHTML = docLinkHtml;\n",
              "        element.appendChild(docLink);\n",
              "      }\n",
              "    </script>\n",
              "  </div>\n",
              "\n",
              "\n",
              "    <div id=\"df-3f339793-5282-4371-9e90-53f6e2b50074\">\n",
              "      <button class=\"colab-df-quickchart\" onclick=\"quickchart('df-3f339793-5282-4371-9e90-53f6e2b50074')\"\n",
              "                title=\"Suggest charts\"\n",
              "                style=\"display:none;\">\n",
              "\n",
              "<svg xmlns=\"http://www.w3.org/2000/svg\" height=\"24px\"viewBox=\"0 0 24 24\"\n",
              "     width=\"24px\">\n",
              "    <g>\n",
              "        <path d=\"M19 3H5c-1.1 0-2 .9-2 2v14c0 1.1.9 2 2 2h14c1.1 0 2-.9 2-2V5c0-1.1-.9-2-2-2zM9 17H7v-7h2v7zm4 0h-2V7h2v10zm4 0h-2v-4h2v4z\"/>\n",
              "    </g>\n",
              "</svg>\n",
              "      </button>\n",
              "\n",
              "<style>\n",
              "  .colab-df-quickchart {\n",
              "      --bg-color: #E8F0FE;\n",
              "      --fill-color: #1967D2;\n",
              "      --hover-bg-color: #E2EBFA;\n",
              "      --hover-fill-color: #174EA6;\n",
              "      --disabled-fill-color: #AAA;\n",
              "      --disabled-bg-color: #DDD;\n",
              "  }\n",
              "\n",
              "  [theme=dark] .colab-df-quickchart {\n",
              "      --bg-color: #3B4455;\n",
              "      --fill-color: #D2E3FC;\n",
              "      --hover-bg-color: #434B5C;\n",
              "      --hover-fill-color: #FFFFFF;\n",
              "      --disabled-bg-color: #3B4455;\n",
              "      --disabled-fill-color: #666;\n",
              "  }\n",
              "\n",
              "  .colab-df-quickchart {\n",
              "    background-color: var(--bg-color);\n",
              "    border: none;\n",
              "    border-radius: 50%;\n",
              "    cursor: pointer;\n",
              "    display: none;\n",
              "    fill: var(--fill-color);\n",
              "    height: 32px;\n",
              "    padding: 0;\n",
              "    width: 32px;\n",
              "  }\n",
              "\n",
              "  .colab-df-quickchart:hover {\n",
              "    background-color: var(--hover-bg-color);\n",
              "    box-shadow: 0 1px 2px rgba(60, 64, 67, 0.3), 0 1px 3px 1px rgba(60, 64, 67, 0.15);\n",
              "    fill: var(--button-hover-fill-color);\n",
              "  }\n",
              "\n",
              "  .colab-df-quickchart-complete:disabled,\n",
              "  .colab-df-quickchart-complete:disabled:hover {\n",
              "    background-color: var(--disabled-bg-color);\n",
              "    fill: var(--disabled-fill-color);\n",
              "    box-shadow: none;\n",
              "  }\n",
              "\n",
              "  .colab-df-spinner {\n",
              "    border: 2px solid var(--fill-color);\n",
              "    border-color: transparent;\n",
              "    border-bottom-color: var(--fill-color);\n",
              "    animation:\n",
              "      spin 1s steps(1) infinite;\n",
              "  }\n",
              "\n",
              "  @keyframes spin {\n",
              "    0% {\n",
              "      border-color: transparent;\n",
              "      border-bottom-color: var(--fill-color);\n",
              "      border-left-color: var(--fill-color);\n",
              "    }\n",
              "    20% {\n",
              "      border-color: transparent;\n",
              "      border-left-color: var(--fill-color);\n",
              "      border-top-color: var(--fill-color);\n",
              "    }\n",
              "    30% {\n",
              "      border-color: transparent;\n",
              "      border-left-color: var(--fill-color);\n",
              "      border-top-color: var(--fill-color);\n",
              "      border-right-color: var(--fill-color);\n",
              "    }\n",
              "    40% {\n",
              "      border-color: transparent;\n",
              "      border-right-color: var(--fill-color);\n",
              "      border-top-color: var(--fill-color);\n",
              "    }\n",
              "    60% {\n",
              "      border-color: transparent;\n",
              "      border-right-color: var(--fill-color);\n",
              "    }\n",
              "    80% {\n",
              "      border-color: transparent;\n",
              "      border-right-color: var(--fill-color);\n",
              "      border-bottom-color: var(--fill-color);\n",
              "    }\n",
              "    90% {\n",
              "      border-color: transparent;\n",
              "      border-bottom-color: var(--fill-color);\n",
              "    }\n",
              "  }\n",
              "</style>\n",
              "\n",
              "      <script>\n",
              "        async function quickchart(key) {\n",
              "          const quickchartButtonEl =\n",
              "            document.querySelector('#' + key + ' button');\n",
              "          quickchartButtonEl.disabled = true;  // To prevent multiple clicks.\n",
              "          quickchartButtonEl.classList.add('colab-df-spinner');\n",
              "          try {\n",
              "            const charts = await google.colab.kernel.invokeFunction(\n",
              "                'suggestCharts', [key], {});\n",
              "          } catch (error) {\n",
              "            console.error('Error during call to suggestCharts:', error);\n",
              "          }\n",
              "          quickchartButtonEl.classList.remove('colab-df-spinner');\n",
              "          quickchartButtonEl.classList.add('colab-df-quickchart-complete');\n",
              "        }\n",
              "        (() => {\n",
              "          let quickchartButtonEl =\n",
              "            document.querySelector('#df-3f339793-5282-4371-9e90-53f6e2b50074 button');\n",
              "          quickchartButtonEl.style.display =\n",
              "            google.colab.kernel.accessAllowed ? 'block' : 'none';\n",
              "        })();\n",
              "      </script>\n",
              "    </div>\n",
              "\n",
              "    </div>\n",
              "  </div>\n"
            ],
            "application/vnd.google.colaboratory.intrinsic+json": {
              "type": "dataframe",
              "variable_name": "df",
              "summary": "{\n  \"name\": \"df\",\n  \"rows\": 10000,\n  \"fields\": [\n    {\n      \"column\": \"text\",\n      \"properties\": {\n        \"dtype\": \"string\",\n        \"num_unique_values\": 9991,\n        \"samples\": [\n          \"<s>[INST] Please translate \\\"But after that our fathers had provoked the God of heaven to wrath, he gave them into the hand of Nebuchadnezzar king of Babylon, the Chaldean, who destroyed this house, and carried the people away into Babylon.\\\" into Nepali [/INST] Sure! here is the translated text into Nepali: \\u0915\\u093f\\u0928\\u092d\\u0928\\u0947 \\u0939\\u093e\\u092e\\u094d\\u0930\\u093e \\u092a\\u0942\\u0930\\u094d\\u0916\\u093e\\u0939\\u0930\\u0942\\u0932\\u0947 \\u0938\\u094d\\u0935\\u0930\\u094d\\u0917\\u0915\\u093e \\u092a\\u0930\\u092e\\u0947\\u0936\\u094d\\u0935\\u0930\\u0932\\u093e\\u0908 \\u0915\\u094d\\u0930\\u094b\\u0927\\u093f\\u0924 \\u0924\\u0941\\u0932\\u094d\\u092f\\u093e\\u090f\\u0915\\u093e \\u0939\\u0941\\u0928\\u093e\\u0932\\u0947 \\u0909\\u0939\\u093e\\u0901\\u0932\\u0947 \\u0924\\u093f\\u0928\\u0940\\u0939\\u0930\\u0942\\u0932\\u093e\\u0908 \\u092c\\u093e\\u092c\\u0947\\u0932\\u0915\\u093e \\u0930\\u093e\\u091c\\u093e \\u0928\\u092c\\u0942\\u0915\\u0926\\u0928\\u0947\\u0938\\u0930, \\u091a\\u0932\\u0926\\u093f\\u092f\\u0928\\u0915\\u094b \\u0939\\u093e\\u0924\\u092e\\u093e \\u0938\\u0941\\u092e\\u094d\\u092a\\u093f\\u0928\\u0941 \\u092d\\u092f\\u094b, \\u0905\\u0928\\u093f \\u0924\\u093f\\u0928\\u0932\\u0947 \\u092f\\u094b \\u092e\\u0928\\u094d\\u0926\\u093f\\u0930\\u0932\\u093e\\u0908 \\u0924\\u094b\\u0921\\u093f \\u0926\\u093f\\u090f \\u0930 \\u092c\\u093e\\u092c\\u0947\\u0932\\u092e\\u093e \\u0915\\u0948\\u0926\\u0940 \\u092c\\u0928\\u093e\\u090f \\u0924\\u0940 \\u092e\\u093e\\u0928\\u093f\\u0938\\u0939\\u0930\\u0942\\u0932\\u093e\\u0908 \\u0932\\u0917\\u0947\\u0964 </s>\",\n          \"<s>[INST] Please translate \\\"For he has looked down from the height of his sanctuary. From heaven, Yahweh saw the earth;\\\" into Nepali [/INST] Sure! here is the translated text into Nepali: \\u092a\\u0930\\u092e\\u092a\\u094d\\u0930\\u092d\\u0941\\u0932\\u0947 \\u0906\\u092b\\u094d\\u0928\\u093e \\u092a\\u0935\\u093f\\u0924\\u094d\\u0930 \\u0938\\u094d\\u0925\\u093e\\u0928\\u092c\\u093e\\u091f \\u0924\\u0932\\u0924\\u093f\\u0930 \\u0939\\u0947\\u0930\\u094d\\u0928\\u0941\\u0939\\u0941\\u0928\\u0947\\u091b\\u0964 \\u092a\\u0930\\u092e\\u092a\\u094d\\u0930\\u092d\\u0941\\u0932\\u0947 \\u0938\\u094d\\u0935\\u0930\\u094d\\u0917\\u092c\\u093e\\u091f \\u0924\\u0932 \\u092a\\u0943\\u0925\\u094d\\u0935\\u0940\\u092e\\u093e \\u0939\\u0947\\u0930\\u094d\\u0928\\u0941\\u0939\\u0941\\u0928\\u0947\\u091b\\u0964 </s>\",\n          \"<s>[INST] Please translate \\\"Say to Amasa, 'Aren't you my bone and my flesh? God do so to me, and more also, if you aren't captain of the army before me continually in the room of Joab.'\\\"\\\" into Nepali [/INST] Sure! here is the translated text into Nepali: \\u0905\\u0928\\u093f \\u0906\\u092e\\u093e\\u0938\\u093e\\u0932\\u093e\\u0908 \\u092d\\u0928, \\u2018\\u0924\\u093f\\u092e\\u0940 \\u092e\\u0947\\u0930\\u094b \\u0915\\u0941\\u0932 \\u0938\\u092e\\u0942\\u0939\\u0915\\u093e \\u0939\\u094c\\u0964 \\u092f\\u0926\\u093f \\u092e\\u0948\\u0932\\u0947 \\u0924\\u093f\\u092e\\u0940\\u0932\\u093e\\u0908 \\u092f\\u094b\\u0906\\u092c\\u0915\\u094b \\u0938\\u094d\\u0925\\u093e\\u0928\\u092e\\u093e \\u0938\\u0947\\u0928\\u093e\\u0915\\u094b \\u0915\\u092a\\u094d\\u0924\\u093e\\u0928 \\u092c\\u0928\\u093e\\u0907\\u0928 \\u092d\\u0928\\u0947 \\u092a\\u0930\\u092e\\u0947\\u0936\\u094d\\u0935\\u0930\\u0932\\u0947 \\u092e\\u0932\\u093e\\u0908 \\u0926\\u0923\\u094d\\u0921 \\u0926\\u093f\\u0909\\u0928\\u094d\\u0964\\u201d\\u2018 </s>\"\n        ],\n        \"semantic_type\": \"\",\n        \"description\": \"\"\n      }\n    },\n    {\n      \"column\": \"en\",\n      \"properties\": {\n        \"dtype\": \"string\",\n        \"num_unique_values\": 9900,\n        \"samples\": [\n          \"There was a strife between the herdsmen of Abram's livestock and the herdsmen of Lot's livestock: and the Canaanite and the Perizzite lived in the land at that time.\",\n          \"If one attacks him with the sword, it can't prevail; nor the spear, the dart, nor the pointed shaft.\",\n          \"For the arrows of the Almighty are within me. My spirit drinks up their poison. The terrors of God set themselves in array against me.\"\n        ],\n        \"semantic_type\": \"\",\n        \"description\": \"\"\n      }\n    },\n    {\n      \"column\": \"np\",\n      \"properties\": {\n        \"dtype\": \"string\",\n        \"num_unique_values\": 9990,\n        \"samples\": [\n          \"\\u0915\\u093f\\u0928\\u092d\\u0928\\u0947 \\u0939\\u093e\\u092e\\u094d\\u0930\\u093e \\u092a\\u0942\\u0930\\u094d\\u0916\\u093e\\u0939\\u0930\\u0942\\u0932\\u0947 \\u0938\\u094d\\u0935\\u0930\\u094d\\u0917\\u0915\\u093e \\u092a\\u0930\\u092e\\u0947\\u0936\\u094d\\u0935\\u0930\\u0932\\u093e\\u0908 \\u0915\\u094d\\u0930\\u094b\\u0927\\u093f\\u0924 \\u0924\\u0941\\u0932\\u094d\\u092f\\u093e\\u090f\\u0915\\u093e \\u0939\\u0941\\u0928\\u093e\\u0932\\u0947 \\u0909\\u0939\\u093e\\u0901\\u0932\\u0947 \\u0924\\u093f\\u0928\\u0940\\u0939\\u0930\\u0942\\u0932\\u093e\\u0908 \\u092c\\u093e\\u092c\\u0947\\u0932\\u0915\\u093e \\u0930\\u093e\\u091c\\u093e \\u0928\\u092c\\u0942\\u0915\\u0926\\u0928\\u0947\\u0938\\u0930, \\u091a\\u0932\\u0926\\u093f\\u092f\\u0928\\u0915\\u094b \\u0939\\u093e\\u0924\\u092e\\u093e \\u0938\\u0941\\u092e\\u094d\\u092a\\u093f\\u0928\\u0941 \\u092d\\u092f\\u094b, \\u0905\\u0928\\u093f \\u0924\\u093f\\u0928\\u0932\\u0947 \\u092f\\u094b \\u092e\\u0928\\u094d\\u0926\\u093f\\u0930\\u0932\\u093e\\u0908 \\u0924\\u094b\\u0921\\u093f \\u0926\\u093f\\u090f \\u0930 \\u092c\\u093e\\u092c\\u0947\\u0932\\u092e\\u093e \\u0915\\u0948\\u0926\\u0940 \\u092c\\u0928\\u093e\\u090f \\u0924\\u0940 \\u092e\\u093e\\u0928\\u093f\\u0938\\u0939\\u0930\\u0942\\u0932\\u093e\\u0908 \\u0932\\u0917\\u0947\\u0964\",\n          \"\\u092e \\u0921\\u0930\\u0932\\u0947 \\u0915\\u093e\\u092e\\u093f\\u0930\\u0939\\u0947\\u091b\\u0941 \\u0939\\u093e\\u0935\\u093e\\u0932\\u0947 \\u0915\\u0947\\u0939\\u0940 \\u091a\\u0940\\u091c \\u0909\\u0921\\u093e\\u0908 \\u0932\\u0917\\u0947 \\u091c\\u0938\\u094d\\u0924\\u094b \\u0917\\u0930\\u0940 \\u0924\\u0940 \\u092f\\u0941\\u0935\\u0915\\u0939\\u0930\\u0942 \\u092e\\u0947\\u0930\\u094b \\u0916\\u0947\\u0926\\u094b \\u0932\\u093e\\u0909\\u0901\\u091b\\u0928\\u094d\\u0964 \\u092e\\u0947\\u0930\\u094b \\u0938\\u0941\\u0930\\u0915\\u094d\\u0937\\u093e \\u092c\\u093e\\u0926\\u0932 \\u091c\\u0938\\u094d\\u0924\\u094b \\u0935\\u093f\\u0932\\u093f\\u0928 \\u0939\\u0941\\u0901\\u0926\\u091b\\u0964\",\n          \"\\u0905\\u0928\\u093f \\u0906\\u092e\\u093e\\u0938\\u093e\\u0932\\u093e\\u0908 \\u092d\\u0928, \\u2018\\u0924\\u093f\\u092e\\u0940 \\u092e\\u0947\\u0930\\u094b \\u0915\\u0941\\u0932 \\u0938\\u092e\\u0942\\u0939\\u0915\\u093e \\u0939\\u094c\\u0964 \\u092f\\u0926\\u093f \\u092e\\u0948\\u0932\\u0947 \\u0924\\u093f\\u092e\\u0940\\u0932\\u093e\\u0908 \\u092f\\u094b\\u0906\\u092c\\u0915\\u094b \\u0938\\u094d\\u0925\\u093e\\u0928\\u092e\\u093e \\u0938\\u0947\\u0928\\u093e\\u0915\\u094b \\u0915\\u092a\\u094d\\u0924\\u093e\\u0928 \\u092c\\u0928\\u093e\\u0907\\u0928 \\u092d\\u0928\\u0947 \\u092a\\u0930\\u092e\\u0947\\u0936\\u094d\\u0935\\u0930\\u0932\\u0947 \\u092e\\u0932\\u093e\\u0908 \\u0926\\u0923\\u094d\\u0921 \\u0926\\u093f\\u0909\\u0928\\u094d\\u0964\\u201d\\u2018\"\n        ],\n        \"semantic_type\": \"\",\n        \"description\": \"\"\n      }\n    }\n  ]\n}"
            }
          },
          "metadata": {},
          "execution_count": 12
        }
      ]
    },
    {
      "cell_type": "code",
      "source": [
        "df = df.drop(columns = ['text'])"
      ],
      "metadata": {
        "id": "xQP_wNXL3M_o"
      },
      "execution_count": null,
      "outputs": []
    },
    {
      "cell_type": "code",
      "source": [
        "df.head()"
      ],
      "metadata": {
        "colab": {
          "base_uri": "https://localhost:8080/",
          "height": 206
        },
        "id": "9n6wZPrq3RLs",
        "outputId": "83a73b5c-48d9-4efd-bf18-8ac4bb68529a"
      },
      "execution_count": null,
      "outputs": [
        {
          "output_type": "execute_result",
          "data": {
            "text/plain": [
              "                                                  en  \\\n",
              "0  It happened after the death of Saul, when Davi...   \n",
              "1  it happened on the third day, that behold, a m...   \n",
              "2  David said to him, \"Where do you come from?\" H...   \n",
              "3  David said to him, \"How did it go? Please tell...   \n",
              "4  David said to the young man who told him, \"How...   \n",
              "\n",
              "                                                  np  \n",
              "0  दाऊदले अमालेकीहरूलाई हराएर पछि सिकलग गए। यो शा...  \n",
              "1  तब तेस्रो दिनमा एउटा जवान सैनिक सिकलगमा आयो। त...  \n",
              "2  दाऊदले त्यसलाई सोधे, “तिमी कहाँबाट आयौ?” त्यस ...  \n",
              "3  दाऊदले भने, “मलाई भन, के भयो?” त्यसले भन्यो, “...  \n",
              "4  दाऊदले त्यस सैनिकलाई भने, “तिमीले कसरी जान्यौ ...  "
            ],
            "text/html": [
              "\n",
              "  <div id=\"df-265c0f99-102c-46f2-ab11-5a399100f2bf\" class=\"colab-df-container\">\n",
              "    <div>\n",
              "<style scoped>\n",
              "    .dataframe tbody tr th:only-of-type {\n",
              "        vertical-align: middle;\n",
              "    }\n",
              "\n",
              "    .dataframe tbody tr th {\n",
              "        vertical-align: top;\n",
              "    }\n",
              "\n",
              "    .dataframe thead th {\n",
              "        text-align: right;\n",
              "    }\n",
              "</style>\n",
              "<table border=\"1\" class=\"dataframe\">\n",
              "  <thead>\n",
              "    <tr style=\"text-align: right;\">\n",
              "      <th></th>\n",
              "      <th>en</th>\n",
              "      <th>np</th>\n",
              "    </tr>\n",
              "  </thead>\n",
              "  <tbody>\n",
              "    <tr>\n",
              "      <th>0</th>\n",
              "      <td>It happened after the death of Saul, when Davi...</td>\n",
              "      <td>दाऊदले अमालेकीहरूलाई हराएर पछि सिकलग गए। यो शा...</td>\n",
              "    </tr>\n",
              "    <tr>\n",
              "      <th>1</th>\n",
              "      <td>it happened on the third day, that behold, a m...</td>\n",
              "      <td>तब तेस्रो दिनमा एउटा जवान सैनिक सिकलगमा आयो। त...</td>\n",
              "    </tr>\n",
              "    <tr>\n",
              "      <th>2</th>\n",
              "      <td>David said to him, \"Where do you come from?\" H...</td>\n",
              "      <td>दाऊदले त्यसलाई सोधे, “तिमी कहाँबाट आयौ?” त्यस ...</td>\n",
              "    </tr>\n",
              "    <tr>\n",
              "      <th>3</th>\n",
              "      <td>David said to him, \"How did it go? Please tell...</td>\n",
              "      <td>दाऊदले भने, “मलाई भन, के भयो?” त्यसले भन्यो, “...</td>\n",
              "    </tr>\n",
              "    <tr>\n",
              "      <th>4</th>\n",
              "      <td>David said to the young man who told him, \"How...</td>\n",
              "      <td>दाऊदले त्यस सैनिकलाई भने, “तिमीले कसरी जान्यौ ...</td>\n",
              "    </tr>\n",
              "  </tbody>\n",
              "</table>\n",
              "</div>\n",
              "    <div class=\"colab-df-buttons\">\n",
              "\n",
              "  <div class=\"colab-df-container\">\n",
              "    <button class=\"colab-df-convert\" onclick=\"convertToInteractive('df-265c0f99-102c-46f2-ab11-5a399100f2bf')\"\n",
              "            title=\"Convert this dataframe to an interactive table.\"\n",
              "            style=\"display:none;\">\n",
              "\n",
              "  <svg xmlns=\"http://www.w3.org/2000/svg\" height=\"24px\" viewBox=\"0 -960 960 960\">\n",
              "    <path d=\"M120-120v-720h720v720H120Zm60-500h600v-160H180v160Zm220 220h160v-160H400v160Zm0 220h160v-160H400v160ZM180-400h160v-160H180v160Zm440 0h160v-160H620v160ZM180-180h160v-160H180v160Zm440 0h160v-160H620v160Z\"/>\n",
              "  </svg>\n",
              "    </button>\n",
              "\n",
              "  <style>\n",
              "    .colab-df-container {\n",
              "      display:flex;\n",
              "      gap: 12px;\n",
              "    }\n",
              "\n",
              "    .colab-df-convert {\n",
              "      background-color: #E8F0FE;\n",
              "      border: none;\n",
              "      border-radius: 50%;\n",
              "      cursor: pointer;\n",
              "      display: none;\n",
              "      fill: #1967D2;\n",
              "      height: 32px;\n",
              "      padding: 0 0 0 0;\n",
              "      width: 32px;\n",
              "    }\n",
              "\n",
              "    .colab-df-convert:hover {\n",
              "      background-color: #E2EBFA;\n",
              "      box-shadow: 0px 1px 2px rgba(60, 64, 67, 0.3), 0px 1px 3px 1px rgba(60, 64, 67, 0.15);\n",
              "      fill: #174EA6;\n",
              "    }\n",
              "\n",
              "    .colab-df-buttons div {\n",
              "      margin-bottom: 4px;\n",
              "    }\n",
              "\n",
              "    [theme=dark] .colab-df-convert {\n",
              "      background-color: #3B4455;\n",
              "      fill: #D2E3FC;\n",
              "    }\n",
              "\n",
              "    [theme=dark] .colab-df-convert:hover {\n",
              "      background-color: #434B5C;\n",
              "      box-shadow: 0px 1px 3px 1px rgba(0, 0, 0, 0.15);\n",
              "      filter: drop-shadow(0px 1px 2px rgba(0, 0, 0, 0.3));\n",
              "      fill: #FFFFFF;\n",
              "    }\n",
              "  </style>\n",
              "\n",
              "    <script>\n",
              "      const buttonEl =\n",
              "        document.querySelector('#df-265c0f99-102c-46f2-ab11-5a399100f2bf button.colab-df-convert');\n",
              "      buttonEl.style.display =\n",
              "        google.colab.kernel.accessAllowed ? 'block' : 'none';\n",
              "\n",
              "      async function convertToInteractive(key) {\n",
              "        const element = document.querySelector('#df-265c0f99-102c-46f2-ab11-5a399100f2bf');\n",
              "        const dataTable =\n",
              "          await google.colab.kernel.invokeFunction('convertToInteractive',\n",
              "                                                    [key], {});\n",
              "        if (!dataTable) return;\n",
              "\n",
              "        const docLinkHtml = 'Like what you see? Visit the ' +\n",
              "          '<a target=\"_blank\" href=https://colab.research.google.com/notebooks/data_table.ipynb>data table notebook</a>'\n",
              "          + ' to learn more about interactive tables.';\n",
              "        element.innerHTML = '';\n",
              "        dataTable['output_type'] = 'display_data';\n",
              "        await google.colab.output.renderOutput(dataTable, element);\n",
              "        const docLink = document.createElement('div');\n",
              "        docLink.innerHTML = docLinkHtml;\n",
              "        element.appendChild(docLink);\n",
              "      }\n",
              "    </script>\n",
              "  </div>\n",
              "\n",
              "\n",
              "    <div id=\"df-0e038e97-e8be-4f73-89ae-dce677ab1539\">\n",
              "      <button class=\"colab-df-quickchart\" onclick=\"quickchart('df-0e038e97-e8be-4f73-89ae-dce677ab1539')\"\n",
              "                title=\"Suggest charts\"\n",
              "                style=\"display:none;\">\n",
              "\n",
              "<svg xmlns=\"http://www.w3.org/2000/svg\" height=\"24px\"viewBox=\"0 0 24 24\"\n",
              "     width=\"24px\">\n",
              "    <g>\n",
              "        <path d=\"M19 3H5c-1.1 0-2 .9-2 2v14c0 1.1.9 2 2 2h14c1.1 0 2-.9 2-2V5c0-1.1-.9-2-2-2zM9 17H7v-7h2v7zm4 0h-2V7h2v10zm4 0h-2v-4h2v4z\"/>\n",
              "    </g>\n",
              "</svg>\n",
              "      </button>\n",
              "\n",
              "<style>\n",
              "  .colab-df-quickchart {\n",
              "      --bg-color: #E8F0FE;\n",
              "      --fill-color: #1967D2;\n",
              "      --hover-bg-color: #E2EBFA;\n",
              "      --hover-fill-color: #174EA6;\n",
              "      --disabled-fill-color: #AAA;\n",
              "      --disabled-bg-color: #DDD;\n",
              "  }\n",
              "\n",
              "  [theme=dark] .colab-df-quickchart {\n",
              "      --bg-color: #3B4455;\n",
              "      --fill-color: #D2E3FC;\n",
              "      --hover-bg-color: #434B5C;\n",
              "      --hover-fill-color: #FFFFFF;\n",
              "      --disabled-bg-color: #3B4455;\n",
              "      --disabled-fill-color: #666;\n",
              "  }\n",
              "\n",
              "  .colab-df-quickchart {\n",
              "    background-color: var(--bg-color);\n",
              "    border: none;\n",
              "    border-radius: 50%;\n",
              "    cursor: pointer;\n",
              "    display: none;\n",
              "    fill: var(--fill-color);\n",
              "    height: 32px;\n",
              "    padding: 0;\n",
              "    width: 32px;\n",
              "  }\n",
              "\n",
              "  .colab-df-quickchart:hover {\n",
              "    background-color: var(--hover-bg-color);\n",
              "    box-shadow: 0 1px 2px rgba(60, 64, 67, 0.3), 0 1px 3px 1px rgba(60, 64, 67, 0.15);\n",
              "    fill: var(--button-hover-fill-color);\n",
              "  }\n",
              "\n",
              "  .colab-df-quickchart-complete:disabled,\n",
              "  .colab-df-quickchart-complete:disabled:hover {\n",
              "    background-color: var(--disabled-bg-color);\n",
              "    fill: var(--disabled-fill-color);\n",
              "    box-shadow: none;\n",
              "  }\n",
              "\n",
              "  .colab-df-spinner {\n",
              "    border: 2px solid var(--fill-color);\n",
              "    border-color: transparent;\n",
              "    border-bottom-color: var(--fill-color);\n",
              "    animation:\n",
              "      spin 1s steps(1) infinite;\n",
              "  }\n",
              "\n",
              "  @keyframes spin {\n",
              "    0% {\n",
              "      border-color: transparent;\n",
              "      border-bottom-color: var(--fill-color);\n",
              "      border-left-color: var(--fill-color);\n",
              "    }\n",
              "    20% {\n",
              "      border-color: transparent;\n",
              "      border-left-color: var(--fill-color);\n",
              "      border-top-color: var(--fill-color);\n",
              "    }\n",
              "    30% {\n",
              "      border-color: transparent;\n",
              "      border-left-color: var(--fill-color);\n",
              "      border-top-color: var(--fill-color);\n",
              "      border-right-color: var(--fill-color);\n",
              "    }\n",
              "    40% {\n",
              "      border-color: transparent;\n",
              "      border-right-color: var(--fill-color);\n",
              "      border-top-color: var(--fill-color);\n",
              "    }\n",
              "    60% {\n",
              "      border-color: transparent;\n",
              "      border-right-color: var(--fill-color);\n",
              "    }\n",
              "    80% {\n",
              "      border-color: transparent;\n",
              "      border-right-color: var(--fill-color);\n",
              "      border-bottom-color: var(--fill-color);\n",
              "    }\n",
              "    90% {\n",
              "      border-color: transparent;\n",
              "      border-bottom-color: var(--fill-color);\n",
              "    }\n",
              "  }\n",
              "</style>\n",
              "\n",
              "      <script>\n",
              "        async function quickchart(key) {\n",
              "          const quickchartButtonEl =\n",
              "            document.querySelector('#' + key + ' button');\n",
              "          quickchartButtonEl.disabled = true;  // To prevent multiple clicks.\n",
              "          quickchartButtonEl.classList.add('colab-df-spinner');\n",
              "          try {\n",
              "            const charts = await google.colab.kernel.invokeFunction(\n",
              "                'suggestCharts', [key], {});\n",
              "          } catch (error) {\n",
              "            console.error('Error during call to suggestCharts:', error);\n",
              "          }\n",
              "          quickchartButtonEl.classList.remove('colab-df-spinner');\n",
              "          quickchartButtonEl.classList.add('colab-df-quickchart-complete');\n",
              "        }\n",
              "        (() => {\n",
              "          let quickchartButtonEl =\n",
              "            document.querySelector('#df-0e038e97-e8be-4f73-89ae-dce677ab1539 button');\n",
              "          quickchartButtonEl.style.display =\n",
              "            google.colab.kernel.accessAllowed ? 'block' : 'none';\n",
              "        })();\n",
              "      </script>\n",
              "    </div>\n",
              "\n",
              "    </div>\n",
              "  </div>\n"
            ],
            "application/vnd.google.colaboratory.intrinsic+json": {
              "type": "dataframe",
              "variable_name": "df",
              "summary": "{\n  \"name\": \"df\",\n  \"rows\": 10000,\n  \"fields\": [\n    {\n      \"column\": \"en\",\n      \"properties\": {\n        \"dtype\": \"string\",\n        \"num_unique_values\": 9900,\n        \"samples\": [\n          \"There was a strife between the herdsmen of Abram's livestock and the herdsmen of Lot's livestock: and the Canaanite and the Perizzite lived in the land at that time.\",\n          \"If one attacks him with the sword, it can't prevail; nor the spear, the dart, nor the pointed shaft.\",\n          \"For the arrows of the Almighty are within me. My spirit drinks up their poison. The terrors of God set themselves in array against me.\"\n        ],\n        \"semantic_type\": \"\",\n        \"description\": \"\"\n      }\n    },\n    {\n      \"column\": \"np\",\n      \"properties\": {\n        \"dtype\": \"string\",\n        \"num_unique_values\": 9990,\n        \"samples\": [\n          \"\\u0915\\u093f\\u0928\\u092d\\u0928\\u0947 \\u0939\\u093e\\u092e\\u094d\\u0930\\u093e \\u092a\\u0942\\u0930\\u094d\\u0916\\u093e\\u0939\\u0930\\u0942\\u0932\\u0947 \\u0938\\u094d\\u0935\\u0930\\u094d\\u0917\\u0915\\u093e \\u092a\\u0930\\u092e\\u0947\\u0936\\u094d\\u0935\\u0930\\u0932\\u093e\\u0908 \\u0915\\u094d\\u0930\\u094b\\u0927\\u093f\\u0924 \\u0924\\u0941\\u0932\\u094d\\u092f\\u093e\\u090f\\u0915\\u093e \\u0939\\u0941\\u0928\\u093e\\u0932\\u0947 \\u0909\\u0939\\u093e\\u0901\\u0932\\u0947 \\u0924\\u093f\\u0928\\u0940\\u0939\\u0930\\u0942\\u0932\\u093e\\u0908 \\u092c\\u093e\\u092c\\u0947\\u0932\\u0915\\u093e \\u0930\\u093e\\u091c\\u093e \\u0928\\u092c\\u0942\\u0915\\u0926\\u0928\\u0947\\u0938\\u0930, \\u091a\\u0932\\u0926\\u093f\\u092f\\u0928\\u0915\\u094b \\u0939\\u093e\\u0924\\u092e\\u093e \\u0938\\u0941\\u092e\\u094d\\u092a\\u093f\\u0928\\u0941 \\u092d\\u092f\\u094b, \\u0905\\u0928\\u093f \\u0924\\u093f\\u0928\\u0932\\u0947 \\u092f\\u094b \\u092e\\u0928\\u094d\\u0926\\u093f\\u0930\\u0932\\u093e\\u0908 \\u0924\\u094b\\u0921\\u093f \\u0926\\u093f\\u090f \\u0930 \\u092c\\u093e\\u092c\\u0947\\u0932\\u092e\\u093e \\u0915\\u0948\\u0926\\u0940 \\u092c\\u0928\\u093e\\u090f \\u0924\\u0940 \\u092e\\u093e\\u0928\\u093f\\u0938\\u0939\\u0930\\u0942\\u0932\\u093e\\u0908 \\u0932\\u0917\\u0947\\u0964\",\n          \"\\u092e \\u0921\\u0930\\u0932\\u0947 \\u0915\\u093e\\u092e\\u093f\\u0930\\u0939\\u0947\\u091b\\u0941 \\u0939\\u093e\\u0935\\u093e\\u0932\\u0947 \\u0915\\u0947\\u0939\\u0940 \\u091a\\u0940\\u091c \\u0909\\u0921\\u093e\\u0908 \\u0932\\u0917\\u0947 \\u091c\\u0938\\u094d\\u0924\\u094b \\u0917\\u0930\\u0940 \\u0924\\u0940 \\u092f\\u0941\\u0935\\u0915\\u0939\\u0930\\u0942 \\u092e\\u0947\\u0930\\u094b \\u0916\\u0947\\u0926\\u094b \\u0932\\u093e\\u0909\\u0901\\u091b\\u0928\\u094d\\u0964 \\u092e\\u0947\\u0930\\u094b \\u0938\\u0941\\u0930\\u0915\\u094d\\u0937\\u093e \\u092c\\u093e\\u0926\\u0932 \\u091c\\u0938\\u094d\\u0924\\u094b \\u0935\\u093f\\u0932\\u093f\\u0928 \\u0939\\u0941\\u0901\\u0926\\u091b\\u0964\",\n          \"\\u0905\\u0928\\u093f \\u0906\\u092e\\u093e\\u0938\\u093e\\u0932\\u093e\\u0908 \\u092d\\u0928, \\u2018\\u0924\\u093f\\u092e\\u0940 \\u092e\\u0947\\u0930\\u094b \\u0915\\u0941\\u0932 \\u0938\\u092e\\u0942\\u0939\\u0915\\u093e \\u0939\\u094c\\u0964 \\u092f\\u0926\\u093f \\u092e\\u0948\\u0932\\u0947 \\u0924\\u093f\\u092e\\u0940\\u0932\\u093e\\u0908 \\u092f\\u094b\\u0906\\u092c\\u0915\\u094b \\u0938\\u094d\\u0925\\u093e\\u0928\\u092e\\u093e \\u0938\\u0947\\u0928\\u093e\\u0915\\u094b \\u0915\\u092a\\u094d\\u0924\\u093e\\u0928 \\u092c\\u0928\\u093e\\u0907\\u0928 \\u092d\\u0928\\u0947 \\u092a\\u0930\\u092e\\u0947\\u0936\\u094d\\u0935\\u0930\\u0932\\u0947 \\u092e\\u0932\\u093e\\u0908 \\u0926\\u0923\\u094d\\u0921 \\u0926\\u093f\\u0909\\u0928\\u094d\\u0964\\u201d\\u2018\"\n        ],\n        \"semantic_type\": \"\",\n        \"description\": \"\"\n      }\n    }\n  ]\n}"
            }
          },
          "metadata": {},
          "execution_count": 14
        }
      ]
    },
    {
      "cell_type": "code",
      "source": [
        "text = 'पर्व'\n",
        "print(text.encode('utf-8'))\n",
        "text = unicodedata.normalize(\"NFD\", text)\n",
        "print(text.encode('utf-8'))"
      ],
      "metadata": {
        "colab": {
          "base_uri": "https://localhost:8080/"
        },
        "id": "5IhrbUc1JiW9",
        "outputId": "ef395308-f4e6-4b0e-de0f-8fd5a126c6da"
      },
      "execution_count": null,
      "outputs": [
        {
          "output_type": "stream",
          "name": "stdout",
          "text": [
            "b'\\xe0\\xa4\\xaa\\xe0\\xa4\\xb0\\xe0\\xa5\\x8d\\xe0\\xa4\\xb5'\n",
            "b'\\xe0\\xa4\\xaa\\xe0\\xa4\\xb0\\xe0\\xa5\\x8d\\xe0\\xa4\\xb5'\n"
          ]
        }
      ]
    },
    {
      "cell_type": "code",
      "source": [
        "def clean_text(text, lang):\n",
        "  text.strip()\n",
        "\n",
        "  if lang == 'en':\n",
        "    text = text.lower()\n",
        "    text = re.sub(r\"([.!?])\", r\" \\1\", text)\n",
        "    text = re.sub(r\"[^a-z!?]+\", r\" \", text)\n",
        "\n",
        "  text = unicodedata.normalize(\"NFC\", text)\n",
        "  text = re.sub(r\"\\s+\", \" \", text)\n",
        "  return text"
      ],
      "metadata": {
        "id": "aNEdgenk3T_z"
      },
      "execution_count": null,
      "outputs": []
    },
    {
      "cell_type": "code",
      "source": [
        "df['en'] = df['en'].apply(clean_text, lang='en')\n",
        "df['np'] = df['np'].apply(clean_text, lang = 'np')"
      ],
      "metadata": {
        "id": "Q6T3xN4z36PS"
      },
      "execution_count": null,
      "outputs": []
    },
    {
      "cell_type": "code",
      "source": [
        "df.head()"
      ],
      "metadata": {
        "colab": {
          "base_uri": "https://localhost:8080/",
          "height": 206
        },
        "id": "H0Bw-6K139bd",
        "outputId": "36a1066d-10d8-4f88-d0e7-1258d6cc392f"
      },
      "execution_count": null,
      "outputs": [
        {
          "output_type": "execute_result",
          "data": {
            "text/plain": [
              "                                                  en  \\\n",
              "0  it happened after the death of saul when david...   \n",
              "1  it happened on the third day that behold a man...   \n",
              "2  david said to him where do you come from ? he ...   \n",
              "3  david said to him how did it go ? please tell ...   \n",
              "4  david said to the young man who told him how d...   \n",
              "\n",
              "                                                  np  \n",
              "0  दाऊदले अमालेकीहरूलाई हराएर पछि सिकलग गए। यो शा...  \n",
              "1  तब तेस्रो दिनमा एउटा जवान सैनिक सिकलगमा आयो। त...  \n",
              "2  दाऊदले त्यसलाई सोधे, “तिमी कहाँबाट आयौ?” त्यस ...  \n",
              "3  दाऊदले भने, “मलाई भन, के भयो?” त्यसले भन्यो, “...  \n",
              "4  दाऊदले त्यस सैनिकलाई भने, “तिमीले कसरी जान्यौ ...  "
            ],
            "text/html": [
              "\n",
              "  <div id=\"df-8e1c8dca-85a1-4e97-8052-bfede2b85a08\" class=\"colab-df-container\">\n",
              "    <div>\n",
              "<style scoped>\n",
              "    .dataframe tbody tr th:only-of-type {\n",
              "        vertical-align: middle;\n",
              "    }\n",
              "\n",
              "    .dataframe tbody tr th {\n",
              "        vertical-align: top;\n",
              "    }\n",
              "\n",
              "    .dataframe thead th {\n",
              "        text-align: right;\n",
              "    }\n",
              "</style>\n",
              "<table border=\"1\" class=\"dataframe\">\n",
              "  <thead>\n",
              "    <tr style=\"text-align: right;\">\n",
              "      <th></th>\n",
              "      <th>en</th>\n",
              "      <th>np</th>\n",
              "    </tr>\n",
              "  </thead>\n",
              "  <tbody>\n",
              "    <tr>\n",
              "      <th>0</th>\n",
              "      <td>it happened after the death of saul when david...</td>\n",
              "      <td>दाऊदले अमालेकीहरूलाई हराएर पछि सिकलग गए। यो शा...</td>\n",
              "    </tr>\n",
              "    <tr>\n",
              "      <th>1</th>\n",
              "      <td>it happened on the third day that behold a man...</td>\n",
              "      <td>तब तेस्रो दिनमा एउटा जवान सैनिक सिकलगमा आयो। त...</td>\n",
              "    </tr>\n",
              "    <tr>\n",
              "      <th>2</th>\n",
              "      <td>david said to him where do you come from ? he ...</td>\n",
              "      <td>दाऊदले त्यसलाई सोधे, “तिमी कहाँबाट आयौ?” त्यस ...</td>\n",
              "    </tr>\n",
              "    <tr>\n",
              "      <th>3</th>\n",
              "      <td>david said to him how did it go ? please tell ...</td>\n",
              "      <td>दाऊदले भने, “मलाई भन, के भयो?” त्यसले भन्यो, “...</td>\n",
              "    </tr>\n",
              "    <tr>\n",
              "      <th>4</th>\n",
              "      <td>david said to the young man who told him how d...</td>\n",
              "      <td>दाऊदले त्यस सैनिकलाई भने, “तिमीले कसरी जान्यौ ...</td>\n",
              "    </tr>\n",
              "  </tbody>\n",
              "</table>\n",
              "</div>\n",
              "    <div class=\"colab-df-buttons\">\n",
              "\n",
              "  <div class=\"colab-df-container\">\n",
              "    <button class=\"colab-df-convert\" onclick=\"convertToInteractive('df-8e1c8dca-85a1-4e97-8052-bfede2b85a08')\"\n",
              "            title=\"Convert this dataframe to an interactive table.\"\n",
              "            style=\"display:none;\">\n",
              "\n",
              "  <svg xmlns=\"http://www.w3.org/2000/svg\" height=\"24px\" viewBox=\"0 -960 960 960\">\n",
              "    <path d=\"M120-120v-720h720v720H120Zm60-500h600v-160H180v160Zm220 220h160v-160H400v160Zm0 220h160v-160H400v160ZM180-400h160v-160H180v160Zm440 0h160v-160H620v160ZM180-180h160v-160H180v160Zm440 0h160v-160H620v160Z\"/>\n",
              "  </svg>\n",
              "    </button>\n",
              "\n",
              "  <style>\n",
              "    .colab-df-container {\n",
              "      display:flex;\n",
              "      gap: 12px;\n",
              "    }\n",
              "\n",
              "    .colab-df-convert {\n",
              "      background-color: #E8F0FE;\n",
              "      border: none;\n",
              "      border-radius: 50%;\n",
              "      cursor: pointer;\n",
              "      display: none;\n",
              "      fill: #1967D2;\n",
              "      height: 32px;\n",
              "      padding: 0 0 0 0;\n",
              "      width: 32px;\n",
              "    }\n",
              "\n",
              "    .colab-df-convert:hover {\n",
              "      background-color: #E2EBFA;\n",
              "      box-shadow: 0px 1px 2px rgba(60, 64, 67, 0.3), 0px 1px 3px 1px rgba(60, 64, 67, 0.15);\n",
              "      fill: #174EA6;\n",
              "    }\n",
              "\n",
              "    .colab-df-buttons div {\n",
              "      margin-bottom: 4px;\n",
              "    }\n",
              "\n",
              "    [theme=dark] .colab-df-convert {\n",
              "      background-color: #3B4455;\n",
              "      fill: #D2E3FC;\n",
              "    }\n",
              "\n",
              "    [theme=dark] .colab-df-convert:hover {\n",
              "      background-color: #434B5C;\n",
              "      box-shadow: 0px 1px 3px 1px rgba(0, 0, 0, 0.15);\n",
              "      filter: drop-shadow(0px 1px 2px rgba(0, 0, 0, 0.3));\n",
              "      fill: #FFFFFF;\n",
              "    }\n",
              "  </style>\n",
              "\n",
              "    <script>\n",
              "      const buttonEl =\n",
              "        document.querySelector('#df-8e1c8dca-85a1-4e97-8052-bfede2b85a08 button.colab-df-convert');\n",
              "      buttonEl.style.display =\n",
              "        google.colab.kernel.accessAllowed ? 'block' : 'none';\n",
              "\n",
              "      async function convertToInteractive(key) {\n",
              "        const element = document.querySelector('#df-8e1c8dca-85a1-4e97-8052-bfede2b85a08');\n",
              "        const dataTable =\n",
              "          await google.colab.kernel.invokeFunction('convertToInteractive',\n",
              "                                                    [key], {});\n",
              "        if (!dataTable) return;\n",
              "\n",
              "        const docLinkHtml = 'Like what you see? Visit the ' +\n",
              "          '<a target=\"_blank\" href=https://colab.research.google.com/notebooks/data_table.ipynb>data table notebook</a>'\n",
              "          + ' to learn more about interactive tables.';\n",
              "        element.innerHTML = '';\n",
              "        dataTable['output_type'] = 'display_data';\n",
              "        await google.colab.output.renderOutput(dataTable, element);\n",
              "        const docLink = document.createElement('div');\n",
              "        docLink.innerHTML = docLinkHtml;\n",
              "        element.appendChild(docLink);\n",
              "      }\n",
              "    </script>\n",
              "  </div>\n",
              "\n",
              "\n",
              "    <div id=\"df-8a91ef11-1a7d-4150-93b1-766b978b8719\">\n",
              "      <button class=\"colab-df-quickchart\" onclick=\"quickchart('df-8a91ef11-1a7d-4150-93b1-766b978b8719')\"\n",
              "                title=\"Suggest charts\"\n",
              "                style=\"display:none;\">\n",
              "\n",
              "<svg xmlns=\"http://www.w3.org/2000/svg\" height=\"24px\"viewBox=\"0 0 24 24\"\n",
              "     width=\"24px\">\n",
              "    <g>\n",
              "        <path d=\"M19 3H5c-1.1 0-2 .9-2 2v14c0 1.1.9 2 2 2h14c1.1 0 2-.9 2-2V5c0-1.1-.9-2-2-2zM9 17H7v-7h2v7zm4 0h-2V7h2v10zm4 0h-2v-4h2v4z\"/>\n",
              "    </g>\n",
              "</svg>\n",
              "      </button>\n",
              "\n",
              "<style>\n",
              "  .colab-df-quickchart {\n",
              "      --bg-color: #E8F0FE;\n",
              "      --fill-color: #1967D2;\n",
              "      --hover-bg-color: #E2EBFA;\n",
              "      --hover-fill-color: #174EA6;\n",
              "      --disabled-fill-color: #AAA;\n",
              "      --disabled-bg-color: #DDD;\n",
              "  }\n",
              "\n",
              "  [theme=dark] .colab-df-quickchart {\n",
              "      --bg-color: #3B4455;\n",
              "      --fill-color: #D2E3FC;\n",
              "      --hover-bg-color: #434B5C;\n",
              "      --hover-fill-color: #FFFFFF;\n",
              "      --disabled-bg-color: #3B4455;\n",
              "      --disabled-fill-color: #666;\n",
              "  }\n",
              "\n",
              "  .colab-df-quickchart {\n",
              "    background-color: var(--bg-color);\n",
              "    border: none;\n",
              "    border-radius: 50%;\n",
              "    cursor: pointer;\n",
              "    display: none;\n",
              "    fill: var(--fill-color);\n",
              "    height: 32px;\n",
              "    padding: 0;\n",
              "    width: 32px;\n",
              "  }\n",
              "\n",
              "  .colab-df-quickchart:hover {\n",
              "    background-color: var(--hover-bg-color);\n",
              "    box-shadow: 0 1px 2px rgba(60, 64, 67, 0.3), 0 1px 3px 1px rgba(60, 64, 67, 0.15);\n",
              "    fill: var(--button-hover-fill-color);\n",
              "  }\n",
              "\n",
              "  .colab-df-quickchart-complete:disabled,\n",
              "  .colab-df-quickchart-complete:disabled:hover {\n",
              "    background-color: var(--disabled-bg-color);\n",
              "    fill: var(--disabled-fill-color);\n",
              "    box-shadow: none;\n",
              "  }\n",
              "\n",
              "  .colab-df-spinner {\n",
              "    border: 2px solid var(--fill-color);\n",
              "    border-color: transparent;\n",
              "    border-bottom-color: var(--fill-color);\n",
              "    animation:\n",
              "      spin 1s steps(1) infinite;\n",
              "  }\n",
              "\n",
              "  @keyframes spin {\n",
              "    0% {\n",
              "      border-color: transparent;\n",
              "      border-bottom-color: var(--fill-color);\n",
              "      border-left-color: var(--fill-color);\n",
              "    }\n",
              "    20% {\n",
              "      border-color: transparent;\n",
              "      border-left-color: var(--fill-color);\n",
              "      border-top-color: var(--fill-color);\n",
              "    }\n",
              "    30% {\n",
              "      border-color: transparent;\n",
              "      border-left-color: var(--fill-color);\n",
              "      border-top-color: var(--fill-color);\n",
              "      border-right-color: var(--fill-color);\n",
              "    }\n",
              "    40% {\n",
              "      border-color: transparent;\n",
              "      border-right-color: var(--fill-color);\n",
              "      border-top-color: var(--fill-color);\n",
              "    }\n",
              "    60% {\n",
              "      border-color: transparent;\n",
              "      border-right-color: var(--fill-color);\n",
              "    }\n",
              "    80% {\n",
              "      border-color: transparent;\n",
              "      border-right-color: var(--fill-color);\n",
              "      border-bottom-color: var(--fill-color);\n",
              "    }\n",
              "    90% {\n",
              "      border-color: transparent;\n",
              "      border-bottom-color: var(--fill-color);\n",
              "    }\n",
              "  }\n",
              "</style>\n",
              "\n",
              "      <script>\n",
              "        async function quickchart(key) {\n",
              "          const quickchartButtonEl =\n",
              "            document.querySelector('#' + key + ' button');\n",
              "          quickchartButtonEl.disabled = true;  // To prevent multiple clicks.\n",
              "          quickchartButtonEl.classList.add('colab-df-spinner');\n",
              "          try {\n",
              "            const charts = await google.colab.kernel.invokeFunction(\n",
              "                'suggestCharts', [key], {});\n",
              "          } catch (error) {\n",
              "            console.error('Error during call to suggestCharts:', error);\n",
              "          }\n",
              "          quickchartButtonEl.classList.remove('colab-df-spinner');\n",
              "          quickchartButtonEl.classList.add('colab-df-quickchart-complete');\n",
              "        }\n",
              "        (() => {\n",
              "          let quickchartButtonEl =\n",
              "            document.querySelector('#df-8a91ef11-1a7d-4150-93b1-766b978b8719 button');\n",
              "          quickchartButtonEl.style.display =\n",
              "            google.colab.kernel.accessAllowed ? 'block' : 'none';\n",
              "        })();\n",
              "      </script>\n",
              "    </div>\n",
              "\n",
              "    </div>\n",
              "  </div>\n"
            ],
            "application/vnd.google.colaboratory.intrinsic+json": {
              "type": "dataframe",
              "variable_name": "df",
              "summary": "{\n  \"name\": \"df\",\n  \"rows\": 10000,\n  \"fields\": [\n    {\n      \"column\": \"en\",\n      \"properties\": {\n        \"dtype\": \"string\",\n        \"num_unique_values\": 9873,\n        \"samples\": [\n          \"yahweh s voice makes the deer calve and strips the forests bare in his temple everything says glory ! \",\n          \"in hebron he reigned over judah seven years and six months and in jerusalem he reigned thirty three years over all israel and judah \",\n          \"israel said to joseph aren t your brothers feeding the flock in shechem ? come and i will send you to them he said to him here i am \"\n        ],\n        \"semantic_type\": \"\",\n        \"description\": \"\"\n      }\n    },\n    {\n      \"column\": \"np\",\n      \"properties\": {\n        \"dtype\": \"string\",\n        \"num_unique_values\": 9990,\n        \"samples\": [\n          \"\\u0915\\u093f\\u0928\\u092d\\u0928\\u0947 \\u0939\\u093e\\u092e\\u094d\\u0930\\u093e \\u092a\\u0942\\u0930\\u094d\\u0916\\u093e\\u0939\\u0930\\u0942\\u0932\\u0947 \\u0938\\u094d\\u0935\\u0930\\u094d\\u0917\\u0915\\u093e \\u092a\\u0930\\u092e\\u0947\\u0936\\u094d\\u0935\\u0930\\u0932\\u093e\\u0908 \\u0915\\u094d\\u0930\\u094b\\u0927\\u093f\\u0924 \\u0924\\u0941\\u0932\\u094d\\u092f\\u093e\\u090f\\u0915\\u093e \\u0939\\u0941\\u0928\\u093e\\u0932\\u0947 \\u0909\\u0939\\u093e\\u0901\\u0932\\u0947 \\u0924\\u093f\\u0928\\u0940\\u0939\\u0930\\u0942\\u0932\\u093e\\u0908 \\u092c\\u093e\\u092c\\u0947\\u0932\\u0915\\u093e \\u0930\\u093e\\u091c\\u093e \\u0928\\u092c\\u0942\\u0915\\u0926\\u0928\\u0947\\u0938\\u0930, \\u091a\\u0932\\u0926\\u093f\\u092f\\u0928\\u0915\\u094b \\u0939\\u093e\\u0924\\u092e\\u093e \\u0938\\u0941\\u092e\\u094d\\u092a\\u093f\\u0928\\u0941 \\u092d\\u092f\\u094b, \\u0905\\u0928\\u093f \\u0924\\u093f\\u0928\\u0932\\u0947 \\u092f\\u094b \\u092e\\u0928\\u094d\\u0926\\u093f\\u0930\\u0932\\u093e\\u0908 \\u0924\\u094b\\u0921\\u093f \\u0926\\u093f\\u090f \\u0930 \\u092c\\u093e\\u092c\\u0947\\u0932\\u092e\\u093e \\u0915\\u0948\\u0926\\u0940 \\u092c\\u0928\\u093e\\u090f \\u0924\\u0940 \\u092e\\u093e\\u0928\\u093f\\u0938\\u0939\\u0930\\u0942\\u0932\\u093e\\u0908 \\u0932\\u0917\\u0947\\u0964\",\n          \"\\u092e \\u0921\\u0930\\u0932\\u0947 \\u0915\\u093e\\u092e\\u093f\\u0930\\u0939\\u0947\\u091b\\u0941 \\u0939\\u093e\\u0935\\u093e\\u0932\\u0947 \\u0915\\u0947\\u0939\\u0940 \\u091a\\u0940\\u091c \\u0909\\u0921\\u093e\\u0908 \\u0932\\u0917\\u0947 \\u091c\\u0938\\u094d\\u0924\\u094b \\u0917\\u0930\\u0940 \\u0924\\u0940 \\u092f\\u0941\\u0935\\u0915\\u0939\\u0930\\u0942 \\u092e\\u0947\\u0930\\u094b \\u0916\\u0947\\u0926\\u094b \\u0932\\u093e\\u0909\\u0901\\u091b\\u0928\\u094d\\u0964 \\u092e\\u0947\\u0930\\u094b \\u0938\\u0941\\u0930\\u0915\\u094d\\u0937\\u093e \\u092c\\u093e\\u0926\\u0932 \\u091c\\u0938\\u094d\\u0924\\u094b \\u0935\\u093f\\u0932\\u093f\\u0928 \\u0939\\u0941\\u0901\\u0926\\u091b\\u0964\",\n          \"\\u0905\\u0928\\u093f \\u0906\\u092e\\u093e\\u0938\\u093e\\u0932\\u093e\\u0908 \\u092d\\u0928, \\u2018\\u0924\\u093f\\u092e\\u0940 \\u092e\\u0947\\u0930\\u094b \\u0915\\u0941\\u0932 \\u0938\\u092e\\u0942\\u0939\\u0915\\u093e \\u0939\\u094c\\u0964 \\u092f\\u0926\\u093f \\u092e\\u0948\\u0932\\u0947 \\u0924\\u093f\\u092e\\u0940\\u0932\\u093e\\u0908 \\u092f\\u094b\\u0906\\u092c\\u0915\\u094b \\u0938\\u094d\\u0925\\u093e\\u0928\\u092e\\u093e \\u0938\\u0947\\u0928\\u093e\\u0915\\u094b \\u0915\\u092a\\u094d\\u0924\\u093e\\u0928 \\u092c\\u0928\\u093e\\u0907\\u0928 \\u092d\\u0928\\u0947 \\u092a\\u0930\\u092e\\u0947\\u0936\\u094d\\u0935\\u0930\\u0932\\u0947 \\u092e\\u0932\\u093e\\u0908 \\u0926\\u0923\\u094d\\u0921 \\u0926\\u093f\\u0909\\u0928\\u094d\\u0964\\u201d\\u2018\"\n        ],\n        \"semantic_type\": \"\",\n        \"description\": \"\"\n      }\n    }\n  ]\n}"
            }
          },
          "metadata": {},
          "execution_count": 18
        }
      ]
    },
    {
      "cell_type": "code",
      "source": [
        "df[\"nep_in\"]  = df[\"np\"].map(lambda s: \"<sos> \" + s)\n",
        "df[\"nep_out\"] = df[\"np\"].map(lambda s: s + \" <eos>\")"
      ],
      "metadata": {
        "id": "RBMNPhhSImVU"
      },
      "execution_count": null,
      "outputs": []
    },
    {
      "cell_type": "code",
      "source": [
        "df.head()"
      ],
      "metadata": {
        "colab": {
          "base_uri": "https://localhost:8080/",
          "height": 293
        },
        "id": "66fXruOZLvaZ",
        "outputId": "103131bc-edf2-476c-fac2-66c2d48ef832"
      },
      "execution_count": null,
      "outputs": [
        {
          "output_type": "execute_result",
          "data": {
            "text/plain": [
              "                                                  en  \\\n",
              "0  it happened after the death of saul when david...   \n",
              "1  it happened on the third day that behold a man...   \n",
              "2  david said to him where do you come from ? he ...   \n",
              "3  david said to him how did it go ? please tell ...   \n",
              "4  david said to the young man who told him how d...   \n",
              "\n",
              "                                                  np  \\\n",
              "0  दाऊदले अमालेकीहरूलाई हराएर पछि सिकलग गए। यो शा...   \n",
              "1  तब तेस्रो दिनमा एउटा जवान सैनिक सिकलगमा आयो। त...   \n",
              "2  दाऊदले त्यसलाई सोधे, “तिमी कहाँबाट आयौ?” त्यस ...   \n",
              "3  दाऊदले भने, “मलाई भन, के भयो?” त्यसले भन्यो, “...   \n",
              "4  दाऊदले त्यस सैनिकलाई भने, “तिमीले कसरी जान्यौ ...   \n",
              "\n",
              "                                              nep_in  \\\n",
              "0  <sos> दाऊदले अमालेकीहरूलाई हराएर पछि सिकलग गए।...   \n",
              "1  <sos> तब तेस्रो दिनमा एउटा जवान सैनिक सिकलगमा ...   \n",
              "2  <sos> दाऊदले त्यसलाई सोधे, “तिमी कहाँबाट आयौ?”...   \n",
              "3  <sos> दाऊदले भने, “मलाई भन, के भयो?” त्यसले भन...   \n",
              "4  <sos> दाऊदले त्यस सैनिकलाई भने, “तिमीले कसरी ज...   \n",
              "\n",
              "                                             nep_out  \n",
              "0  दाऊदले अमालेकीहरूलाई हराएर पछि सिकलग गए। यो शा...  \n",
              "1  तब तेस्रो दिनमा एउटा जवान सैनिक सिकलगमा आयो। त...  \n",
              "2  दाऊदले त्यसलाई सोधे, “तिमी कहाँबाट आयौ?” त्यस ...  \n",
              "3  दाऊदले भने, “मलाई भन, के भयो?” त्यसले भन्यो, “...  \n",
              "4  दाऊदले त्यस सैनिकलाई भने, “तिमीले कसरी जान्यौ ...  "
            ],
            "text/html": [
              "\n",
              "  <div id=\"df-5eae1e0c-5e36-443b-9643-81a36920f733\" class=\"colab-df-container\">\n",
              "    <div>\n",
              "<style scoped>\n",
              "    .dataframe tbody tr th:only-of-type {\n",
              "        vertical-align: middle;\n",
              "    }\n",
              "\n",
              "    .dataframe tbody tr th {\n",
              "        vertical-align: top;\n",
              "    }\n",
              "\n",
              "    .dataframe thead th {\n",
              "        text-align: right;\n",
              "    }\n",
              "</style>\n",
              "<table border=\"1\" class=\"dataframe\">\n",
              "  <thead>\n",
              "    <tr style=\"text-align: right;\">\n",
              "      <th></th>\n",
              "      <th>en</th>\n",
              "      <th>np</th>\n",
              "      <th>nep_in</th>\n",
              "      <th>nep_out</th>\n",
              "    </tr>\n",
              "  </thead>\n",
              "  <tbody>\n",
              "    <tr>\n",
              "      <th>0</th>\n",
              "      <td>it happened after the death of saul when david...</td>\n",
              "      <td>दाऊदले अमालेकीहरूलाई हराएर पछि सिकलग गए। यो शा...</td>\n",
              "      <td>&lt;sos&gt; दाऊदले अमालेकीहरूलाई हराएर पछि सिकलग गए।...</td>\n",
              "      <td>दाऊदले अमालेकीहरूलाई हराएर पछि सिकलग गए। यो शा...</td>\n",
              "    </tr>\n",
              "    <tr>\n",
              "      <th>1</th>\n",
              "      <td>it happened on the third day that behold a man...</td>\n",
              "      <td>तब तेस्रो दिनमा एउटा जवान सैनिक सिकलगमा आयो। त...</td>\n",
              "      <td>&lt;sos&gt; तब तेस्रो दिनमा एउटा जवान सैनिक सिकलगमा ...</td>\n",
              "      <td>तब तेस्रो दिनमा एउटा जवान सैनिक सिकलगमा आयो। त...</td>\n",
              "    </tr>\n",
              "    <tr>\n",
              "      <th>2</th>\n",
              "      <td>david said to him where do you come from ? he ...</td>\n",
              "      <td>दाऊदले त्यसलाई सोधे, “तिमी कहाँबाट आयौ?” त्यस ...</td>\n",
              "      <td>&lt;sos&gt; दाऊदले त्यसलाई सोधे, “तिमी कहाँबाट आयौ?”...</td>\n",
              "      <td>दाऊदले त्यसलाई सोधे, “तिमी कहाँबाट आयौ?” त्यस ...</td>\n",
              "    </tr>\n",
              "    <tr>\n",
              "      <th>3</th>\n",
              "      <td>david said to him how did it go ? please tell ...</td>\n",
              "      <td>दाऊदले भने, “मलाई भन, के भयो?” त्यसले भन्यो, “...</td>\n",
              "      <td>&lt;sos&gt; दाऊदले भने, “मलाई भन, के भयो?” त्यसले भन...</td>\n",
              "      <td>दाऊदले भने, “मलाई भन, के भयो?” त्यसले भन्यो, “...</td>\n",
              "    </tr>\n",
              "    <tr>\n",
              "      <th>4</th>\n",
              "      <td>david said to the young man who told him how d...</td>\n",
              "      <td>दाऊदले त्यस सैनिकलाई भने, “तिमीले कसरी जान्यौ ...</td>\n",
              "      <td>&lt;sos&gt; दाऊदले त्यस सैनिकलाई भने, “तिमीले कसरी ज...</td>\n",
              "      <td>दाऊदले त्यस सैनिकलाई भने, “तिमीले कसरी जान्यौ ...</td>\n",
              "    </tr>\n",
              "  </tbody>\n",
              "</table>\n",
              "</div>\n",
              "    <div class=\"colab-df-buttons\">\n",
              "\n",
              "  <div class=\"colab-df-container\">\n",
              "    <button class=\"colab-df-convert\" onclick=\"convertToInteractive('df-5eae1e0c-5e36-443b-9643-81a36920f733')\"\n",
              "            title=\"Convert this dataframe to an interactive table.\"\n",
              "            style=\"display:none;\">\n",
              "\n",
              "  <svg xmlns=\"http://www.w3.org/2000/svg\" height=\"24px\" viewBox=\"0 -960 960 960\">\n",
              "    <path d=\"M120-120v-720h720v720H120Zm60-500h600v-160H180v160Zm220 220h160v-160H400v160Zm0 220h160v-160H400v160ZM180-400h160v-160H180v160Zm440 0h160v-160H620v160ZM180-180h160v-160H180v160Zm440 0h160v-160H620v160Z\"/>\n",
              "  </svg>\n",
              "    </button>\n",
              "\n",
              "  <style>\n",
              "    .colab-df-container {\n",
              "      display:flex;\n",
              "      gap: 12px;\n",
              "    }\n",
              "\n",
              "    .colab-df-convert {\n",
              "      background-color: #E8F0FE;\n",
              "      border: none;\n",
              "      border-radius: 50%;\n",
              "      cursor: pointer;\n",
              "      display: none;\n",
              "      fill: #1967D2;\n",
              "      height: 32px;\n",
              "      padding: 0 0 0 0;\n",
              "      width: 32px;\n",
              "    }\n",
              "\n",
              "    .colab-df-convert:hover {\n",
              "      background-color: #E2EBFA;\n",
              "      box-shadow: 0px 1px 2px rgba(60, 64, 67, 0.3), 0px 1px 3px 1px rgba(60, 64, 67, 0.15);\n",
              "      fill: #174EA6;\n",
              "    }\n",
              "\n",
              "    .colab-df-buttons div {\n",
              "      margin-bottom: 4px;\n",
              "    }\n",
              "\n",
              "    [theme=dark] .colab-df-convert {\n",
              "      background-color: #3B4455;\n",
              "      fill: #D2E3FC;\n",
              "    }\n",
              "\n",
              "    [theme=dark] .colab-df-convert:hover {\n",
              "      background-color: #434B5C;\n",
              "      box-shadow: 0px 1px 3px 1px rgba(0, 0, 0, 0.15);\n",
              "      filter: drop-shadow(0px 1px 2px rgba(0, 0, 0, 0.3));\n",
              "      fill: #FFFFFF;\n",
              "    }\n",
              "  </style>\n",
              "\n",
              "    <script>\n",
              "      const buttonEl =\n",
              "        document.querySelector('#df-5eae1e0c-5e36-443b-9643-81a36920f733 button.colab-df-convert');\n",
              "      buttonEl.style.display =\n",
              "        google.colab.kernel.accessAllowed ? 'block' : 'none';\n",
              "\n",
              "      async function convertToInteractive(key) {\n",
              "        const element = document.querySelector('#df-5eae1e0c-5e36-443b-9643-81a36920f733');\n",
              "        const dataTable =\n",
              "          await google.colab.kernel.invokeFunction('convertToInteractive',\n",
              "                                                    [key], {});\n",
              "        if (!dataTable) return;\n",
              "\n",
              "        const docLinkHtml = 'Like what you see? Visit the ' +\n",
              "          '<a target=\"_blank\" href=https://colab.research.google.com/notebooks/data_table.ipynb>data table notebook</a>'\n",
              "          + ' to learn more about interactive tables.';\n",
              "        element.innerHTML = '';\n",
              "        dataTable['output_type'] = 'display_data';\n",
              "        await google.colab.output.renderOutput(dataTable, element);\n",
              "        const docLink = document.createElement('div');\n",
              "        docLink.innerHTML = docLinkHtml;\n",
              "        element.appendChild(docLink);\n",
              "      }\n",
              "    </script>\n",
              "  </div>\n",
              "\n",
              "\n",
              "    <div id=\"df-5826f8f9-cf55-46f3-a6d0-33ee2d6d2d6f\">\n",
              "      <button class=\"colab-df-quickchart\" onclick=\"quickchart('df-5826f8f9-cf55-46f3-a6d0-33ee2d6d2d6f')\"\n",
              "                title=\"Suggest charts\"\n",
              "                style=\"display:none;\">\n",
              "\n",
              "<svg xmlns=\"http://www.w3.org/2000/svg\" height=\"24px\"viewBox=\"0 0 24 24\"\n",
              "     width=\"24px\">\n",
              "    <g>\n",
              "        <path d=\"M19 3H5c-1.1 0-2 .9-2 2v14c0 1.1.9 2 2 2h14c1.1 0 2-.9 2-2V5c0-1.1-.9-2-2-2zM9 17H7v-7h2v7zm4 0h-2V7h2v10zm4 0h-2v-4h2v4z\"/>\n",
              "    </g>\n",
              "</svg>\n",
              "      </button>\n",
              "\n",
              "<style>\n",
              "  .colab-df-quickchart {\n",
              "      --bg-color: #E8F0FE;\n",
              "      --fill-color: #1967D2;\n",
              "      --hover-bg-color: #E2EBFA;\n",
              "      --hover-fill-color: #174EA6;\n",
              "      --disabled-fill-color: #AAA;\n",
              "      --disabled-bg-color: #DDD;\n",
              "  }\n",
              "\n",
              "  [theme=dark] .colab-df-quickchart {\n",
              "      --bg-color: #3B4455;\n",
              "      --fill-color: #D2E3FC;\n",
              "      --hover-bg-color: #434B5C;\n",
              "      --hover-fill-color: #FFFFFF;\n",
              "      --disabled-bg-color: #3B4455;\n",
              "      --disabled-fill-color: #666;\n",
              "  }\n",
              "\n",
              "  .colab-df-quickchart {\n",
              "    background-color: var(--bg-color);\n",
              "    border: none;\n",
              "    border-radius: 50%;\n",
              "    cursor: pointer;\n",
              "    display: none;\n",
              "    fill: var(--fill-color);\n",
              "    height: 32px;\n",
              "    padding: 0;\n",
              "    width: 32px;\n",
              "  }\n",
              "\n",
              "  .colab-df-quickchart:hover {\n",
              "    background-color: var(--hover-bg-color);\n",
              "    box-shadow: 0 1px 2px rgba(60, 64, 67, 0.3), 0 1px 3px 1px rgba(60, 64, 67, 0.15);\n",
              "    fill: var(--button-hover-fill-color);\n",
              "  }\n",
              "\n",
              "  .colab-df-quickchart-complete:disabled,\n",
              "  .colab-df-quickchart-complete:disabled:hover {\n",
              "    background-color: var(--disabled-bg-color);\n",
              "    fill: var(--disabled-fill-color);\n",
              "    box-shadow: none;\n",
              "  }\n",
              "\n",
              "  .colab-df-spinner {\n",
              "    border: 2px solid var(--fill-color);\n",
              "    border-color: transparent;\n",
              "    border-bottom-color: var(--fill-color);\n",
              "    animation:\n",
              "      spin 1s steps(1) infinite;\n",
              "  }\n",
              "\n",
              "  @keyframes spin {\n",
              "    0% {\n",
              "      border-color: transparent;\n",
              "      border-bottom-color: var(--fill-color);\n",
              "      border-left-color: var(--fill-color);\n",
              "    }\n",
              "    20% {\n",
              "      border-color: transparent;\n",
              "      border-left-color: var(--fill-color);\n",
              "      border-top-color: var(--fill-color);\n",
              "    }\n",
              "    30% {\n",
              "      border-color: transparent;\n",
              "      border-left-color: var(--fill-color);\n",
              "      border-top-color: var(--fill-color);\n",
              "      border-right-color: var(--fill-color);\n",
              "    }\n",
              "    40% {\n",
              "      border-color: transparent;\n",
              "      border-right-color: var(--fill-color);\n",
              "      border-top-color: var(--fill-color);\n",
              "    }\n",
              "    60% {\n",
              "      border-color: transparent;\n",
              "      border-right-color: var(--fill-color);\n",
              "    }\n",
              "    80% {\n",
              "      border-color: transparent;\n",
              "      border-right-color: var(--fill-color);\n",
              "      border-bottom-color: var(--fill-color);\n",
              "    }\n",
              "    90% {\n",
              "      border-color: transparent;\n",
              "      border-bottom-color: var(--fill-color);\n",
              "    }\n",
              "  }\n",
              "</style>\n",
              "\n",
              "      <script>\n",
              "        async function quickchart(key) {\n",
              "          const quickchartButtonEl =\n",
              "            document.querySelector('#' + key + ' button');\n",
              "          quickchartButtonEl.disabled = true;  // To prevent multiple clicks.\n",
              "          quickchartButtonEl.classList.add('colab-df-spinner');\n",
              "          try {\n",
              "            const charts = await google.colab.kernel.invokeFunction(\n",
              "                'suggestCharts', [key], {});\n",
              "          } catch (error) {\n",
              "            console.error('Error during call to suggestCharts:', error);\n",
              "          }\n",
              "          quickchartButtonEl.classList.remove('colab-df-spinner');\n",
              "          quickchartButtonEl.classList.add('colab-df-quickchart-complete');\n",
              "        }\n",
              "        (() => {\n",
              "          let quickchartButtonEl =\n",
              "            document.querySelector('#df-5826f8f9-cf55-46f3-a6d0-33ee2d6d2d6f button');\n",
              "          quickchartButtonEl.style.display =\n",
              "            google.colab.kernel.accessAllowed ? 'block' : 'none';\n",
              "        })();\n",
              "      </script>\n",
              "    </div>\n",
              "\n",
              "    </div>\n",
              "  </div>\n"
            ],
            "application/vnd.google.colaboratory.intrinsic+json": {
              "type": "dataframe",
              "variable_name": "df",
              "summary": "{\n  \"name\": \"df\",\n  \"rows\": 10000,\n  \"fields\": [\n    {\n      \"column\": \"en\",\n      \"properties\": {\n        \"dtype\": \"string\",\n        \"num_unique_values\": 9873,\n        \"samples\": [\n          \"yahweh s voice makes the deer calve and strips the forests bare in his temple everything says glory ! \",\n          \"in hebron he reigned over judah seven years and six months and in jerusalem he reigned thirty three years over all israel and judah \",\n          \"israel said to joseph aren t your brothers feeding the flock in shechem ? come and i will send you to them he said to him here i am \"\n        ],\n        \"semantic_type\": \"\",\n        \"description\": \"\"\n      }\n    },\n    {\n      \"column\": \"np\",\n      \"properties\": {\n        \"dtype\": \"string\",\n        \"num_unique_values\": 9990,\n        \"samples\": [\n          \"\\u0915\\u093f\\u0928\\u092d\\u0928\\u0947 \\u0939\\u093e\\u092e\\u094d\\u0930\\u093e \\u092a\\u0942\\u0930\\u094d\\u0916\\u093e\\u0939\\u0930\\u0942\\u0932\\u0947 \\u0938\\u094d\\u0935\\u0930\\u094d\\u0917\\u0915\\u093e \\u092a\\u0930\\u092e\\u0947\\u0936\\u094d\\u0935\\u0930\\u0932\\u093e\\u0908 \\u0915\\u094d\\u0930\\u094b\\u0927\\u093f\\u0924 \\u0924\\u0941\\u0932\\u094d\\u092f\\u093e\\u090f\\u0915\\u093e \\u0939\\u0941\\u0928\\u093e\\u0932\\u0947 \\u0909\\u0939\\u093e\\u0901\\u0932\\u0947 \\u0924\\u093f\\u0928\\u0940\\u0939\\u0930\\u0942\\u0932\\u093e\\u0908 \\u092c\\u093e\\u092c\\u0947\\u0932\\u0915\\u093e \\u0930\\u093e\\u091c\\u093e \\u0928\\u092c\\u0942\\u0915\\u0926\\u0928\\u0947\\u0938\\u0930, \\u091a\\u0932\\u0926\\u093f\\u092f\\u0928\\u0915\\u094b \\u0939\\u093e\\u0924\\u092e\\u093e \\u0938\\u0941\\u092e\\u094d\\u092a\\u093f\\u0928\\u0941 \\u092d\\u092f\\u094b, \\u0905\\u0928\\u093f \\u0924\\u093f\\u0928\\u0932\\u0947 \\u092f\\u094b \\u092e\\u0928\\u094d\\u0926\\u093f\\u0930\\u0932\\u093e\\u0908 \\u0924\\u094b\\u0921\\u093f \\u0926\\u093f\\u090f \\u0930 \\u092c\\u093e\\u092c\\u0947\\u0932\\u092e\\u093e \\u0915\\u0948\\u0926\\u0940 \\u092c\\u0928\\u093e\\u090f \\u0924\\u0940 \\u092e\\u093e\\u0928\\u093f\\u0938\\u0939\\u0930\\u0942\\u0932\\u093e\\u0908 \\u0932\\u0917\\u0947\\u0964\",\n          \"\\u092e \\u0921\\u0930\\u0932\\u0947 \\u0915\\u093e\\u092e\\u093f\\u0930\\u0939\\u0947\\u091b\\u0941 \\u0939\\u093e\\u0935\\u093e\\u0932\\u0947 \\u0915\\u0947\\u0939\\u0940 \\u091a\\u0940\\u091c \\u0909\\u0921\\u093e\\u0908 \\u0932\\u0917\\u0947 \\u091c\\u0938\\u094d\\u0924\\u094b \\u0917\\u0930\\u0940 \\u0924\\u0940 \\u092f\\u0941\\u0935\\u0915\\u0939\\u0930\\u0942 \\u092e\\u0947\\u0930\\u094b \\u0916\\u0947\\u0926\\u094b \\u0932\\u093e\\u0909\\u0901\\u091b\\u0928\\u094d\\u0964 \\u092e\\u0947\\u0930\\u094b \\u0938\\u0941\\u0930\\u0915\\u094d\\u0937\\u093e \\u092c\\u093e\\u0926\\u0932 \\u091c\\u0938\\u094d\\u0924\\u094b \\u0935\\u093f\\u0932\\u093f\\u0928 \\u0939\\u0941\\u0901\\u0926\\u091b\\u0964\",\n          \"\\u0905\\u0928\\u093f \\u0906\\u092e\\u093e\\u0938\\u093e\\u0932\\u093e\\u0908 \\u092d\\u0928, \\u2018\\u0924\\u093f\\u092e\\u0940 \\u092e\\u0947\\u0930\\u094b \\u0915\\u0941\\u0932 \\u0938\\u092e\\u0942\\u0939\\u0915\\u093e \\u0939\\u094c\\u0964 \\u092f\\u0926\\u093f \\u092e\\u0948\\u0932\\u0947 \\u0924\\u093f\\u092e\\u0940\\u0932\\u093e\\u0908 \\u092f\\u094b\\u0906\\u092c\\u0915\\u094b \\u0938\\u094d\\u0925\\u093e\\u0928\\u092e\\u093e \\u0938\\u0947\\u0928\\u093e\\u0915\\u094b \\u0915\\u092a\\u094d\\u0924\\u093e\\u0928 \\u092c\\u0928\\u093e\\u0907\\u0928 \\u092d\\u0928\\u0947 \\u092a\\u0930\\u092e\\u0947\\u0936\\u094d\\u0935\\u0930\\u0932\\u0947 \\u092e\\u0932\\u093e\\u0908 \\u0926\\u0923\\u094d\\u0921 \\u0926\\u093f\\u0909\\u0928\\u094d\\u0964\\u201d\\u2018\"\n        ],\n        \"semantic_type\": \"\",\n        \"description\": \"\"\n      }\n    },\n    {\n      \"column\": \"nep_in\",\n      \"properties\": {\n        \"dtype\": \"string\",\n        \"num_unique_values\": 9990,\n        \"samples\": [\n          \"<sos> \\u0915\\u093f\\u0928\\u092d\\u0928\\u0947 \\u0939\\u093e\\u092e\\u094d\\u0930\\u093e \\u092a\\u0942\\u0930\\u094d\\u0916\\u093e\\u0939\\u0930\\u0942\\u0932\\u0947 \\u0938\\u094d\\u0935\\u0930\\u094d\\u0917\\u0915\\u093e \\u092a\\u0930\\u092e\\u0947\\u0936\\u094d\\u0935\\u0930\\u0932\\u093e\\u0908 \\u0915\\u094d\\u0930\\u094b\\u0927\\u093f\\u0924 \\u0924\\u0941\\u0932\\u094d\\u092f\\u093e\\u090f\\u0915\\u093e \\u0939\\u0941\\u0928\\u093e\\u0932\\u0947 \\u0909\\u0939\\u093e\\u0901\\u0932\\u0947 \\u0924\\u093f\\u0928\\u0940\\u0939\\u0930\\u0942\\u0932\\u093e\\u0908 \\u092c\\u093e\\u092c\\u0947\\u0932\\u0915\\u093e \\u0930\\u093e\\u091c\\u093e \\u0928\\u092c\\u0942\\u0915\\u0926\\u0928\\u0947\\u0938\\u0930, \\u091a\\u0932\\u0926\\u093f\\u092f\\u0928\\u0915\\u094b \\u0939\\u093e\\u0924\\u092e\\u093e \\u0938\\u0941\\u092e\\u094d\\u092a\\u093f\\u0928\\u0941 \\u092d\\u092f\\u094b, \\u0905\\u0928\\u093f \\u0924\\u093f\\u0928\\u0932\\u0947 \\u092f\\u094b \\u092e\\u0928\\u094d\\u0926\\u093f\\u0930\\u0932\\u093e\\u0908 \\u0924\\u094b\\u0921\\u093f \\u0926\\u093f\\u090f \\u0930 \\u092c\\u093e\\u092c\\u0947\\u0932\\u092e\\u093e \\u0915\\u0948\\u0926\\u0940 \\u092c\\u0928\\u093e\\u090f \\u0924\\u0940 \\u092e\\u093e\\u0928\\u093f\\u0938\\u0939\\u0930\\u0942\\u0932\\u093e\\u0908 \\u0932\\u0917\\u0947\\u0964\",\n          \"<sos> \\u092e \\u0921\\u0930\\u0932\\u0947 \\u0915\\u093e\\u092e\\u093f\\u0930\\u0939\\u0947\\u091b\\u0941 \\u0939\\u093e\\u0935\\u093e\\u0932\\u0947 \\u0915\\u0947\\u0939\\u0940 \\u091a\\u0940\\u091c \\u0909\\u0921\\u093e\\u0908 \\u0932\\u0917\\u0947 \\u091c\\u0938\\u094d\\u0924\\u094b \\u0917\\u0930\\u0940 \\u0924\\u0940 \\u092f\\u0941\\u0935\\u0915\\u0939\\u0930\\u0942 \\u092e\\u0947\\u0930\\u094b \\u0916\\u0947\\u0926\\u094b \\u0932\\u093e\\u0909\\u0901\\u091b\\u0928\\u094d\\u0964 \\u092e\\u0947\\u0930\\u094b \\u0938\\u0941\\u0930\\u0915\\u094d\\u0937\\u093e \\u092c\\u093e\\u0926\\u0932 \\u091c\\u0938\\u094d\\u0924\\u094b \\u0935\\u093f\\u0932\\u093f\\u0928 \\u0939\\u0941\\u0901\\u0926\\u091b\\u0964\",\n          \"<sos> \\u0905\\u0928\\u093f \\u0906\\u092e\\u093e\\u0938\\u093e\\u0932\\u093e\\u0908 \\u092d\\u0928, \\u2018\\u0924\\u093f\\u092e\\u0940 \\u092e\\u0947\\u0930\\u094b \\u0915\\u0941\\u0932 \\u0938\\u092e\\u0942\\u0939\\u0915\\u093e \\u0939\\u094c\\u0964 \\u092f\\u0926\\u093f \\u092e\\u0948\\u0932\\u0947 \\u0924\\u093f\\u092e\\u0940\\u0932\\u093e\\u0908 \\u092f\\u094b\\u0906\\u092c\\u0915\\u094b \\u0938\\u094d\\u0925\\u093e\\u0928\\u092e\\u093e \\u0938\\u0947\\u0928\\u093e\\u0915\\u094b \\u0915\\u092a\\u094d\\u0924\\u093e\\u0928 \\u092c\\u0928\\u093e\\u0907\\u0928 \\u092d\\u0928\\u0947 \\u092a\\u0930\\u092e\\u0947\\u0936\\u094d\\u0935\\u0930\\u0932\\u0947 \\u092e\\u0932\\u093e\\u0908 \\u0926\\u0923\\u094d\\u0921 \\u0926\\u093f\\u0909\\u0928\\u094d\\u0964\\u201d\\u2018\"\n        ],\n        \"semantic_type\": \"\",\n        \"description\": \"\"\n      }\n    },\n    {\n      \"column\": \"nep_out\",\n      \"properties\": {\n        \"dtype\": \"string\",\n        \"num_unique_values\": 9990,\n        \"samples\": [\n          \"\\u0915\\u093f\\u0928\\u092d\\u0928\\u0947 \\u0939\\u093e\\u092e\\u094d\\u0930\\u093e \\u092a\\u0942\\u0930\\u094d\\u0916\\u093e\\u0939\\u0930\\u0942\\u0932\\u0947 \\u0938\\u094d\\u0935\\u0930\\u094d\\u0917\\u0915\\u093e \\u092a\\u0930\\u092e\\u0947\\u0936\\u094d\\u0935\\u0930\\u0932\\u093e\\u0908 \\u0915\\u094d\\u0930\\u094b\\u0927\\u093f\\u0924 \\u0924\\u0941\\u0932\\u094d\\u092f\\u093e\\u090f\\u0915\\u093e \\u0939\\u0941\\u0928\\u093e\\u0932\\u0947 \\u0909\\u0939\\u093e\\u0901\\u0932\\u0947 \\u0924\\u093f\\u0928\\u0940\\u0939\\u0930\\u0942\\u0932\\u093e\\u0908 \\u092c\\u093e\\u092c\\u0947\\u0932\\u0915\\u093e \\u0930\\u093e\\u091c\\u093e \\u0928\\u092c\\u0942\\u0915\\u0926\\u0928\\u0947\\u0938\\u0930, \\u091a\\u0932\\u0926\\u093f\\u092f\\u0928\\u0915\\u094b \\u0939\\u093e\\u0924\\u092e\\u093e \\u0938\\u0941\\u092e\\u094d\\u092a\\u093f\\u0928\\u0941 \\u092d\\u092f\\u094b, \\u0905\\u0928\\u093f \\u0924\\u093f\\u0928\\u0932\\u0947 \\u092f\\u094b \\u092e\\u0928\\u094d\\u0926\\u093f\\u0930\\u0932\\u093e\\u0908 \\u0924\\u094b\\u0921\\u093f \\u0926\\u093f\\u090f \\u0930 \\u092c\\u093e\\u092c\\u0947\\u0932\\u092e\\u093e \\u0915\\u0948\\u0926\\u0940 \\u092c\\u0928\\u093e\\u090f \\u0924\\u0940 \\u092e\\u093e\\u0928\\u093f\\u0938\\u0939\\u0930\\u0942\\u0932\\u093e\\u0908 \\u0932\\u0917\\u0947\\u0964 <eos>\",\n          \"\\u092e \\u0921\\u0930\\u0932\\u0947 \\u0915\\u093e\\u092e\\u093f\\u0930\\u0939\\u0947\\u091b\\u0941 \\u0939\\u093e\\u0935\\u093e\\u0932\\u0947 \\u0915\\u0947\\u0939\\u0940 \\u091a\\u0940\\u091c \\u0909\\u0921\\u093e\\u0908 \\u0932\\u0917\\u0947 \\u091c\\u0938\\u094d\\u0924\\u094b \\u0917\\u0930\\u0940 \\u0924\\u0940 \\u092f\\u0941\\u0935\\u0915\\u0939\\u0930\\u0942 \\u092e\\u0947\\u0930\\u094b \\u0916\\u0947\\u0926\\u094b \\u0932\\u093e\\u0909\\u0901\\u091b\\u0928\\u094d\\u0964 \\u092e\\u0947\\u0930\\u094b \\u0938\\u0941\\u0930\\u0915\\u094d\\u0937\\u093e \\u092c\\u093e\\u0926\\u0932 \\u091c\\u0938\\u094d\\u0924\\u094b \\u0935\\u093f\\u0932\\u093f\\u0928 \\u0939\\u0941\\u0901\\u0926\\u091b\\u0964 <eos>\",\n          \"\\u0905\\u0928\\u093f \\u0906\\u092e\\u093e\\u0938\\u093e\\u0932\\u093e\\u0908 \\u092d\\u0928, \\u2018\\u0924\\u093f\\u092e\\u0940 \\u092e\\u0947\\u0930\\u094b \\u0915\\u0941\\u0932 \\u0938\\u092e\\u0942\\u0939\\u0915\\u093e \\u0939\\u094c\\u0964 \\u092f\\u0926\\u093f \\u092e\\u0948\\u0932\\u0947 \\u0924\\u093f\\u092e\\u0940\\u0932\\u093e\\u0908 \\u092f\\u094b\\u0906\\u092c\\u0915\\u094b \\u0938\\u094d\\u0925\\u093e\\u0928\\u092e\\u093e \\u0938\\u0947\\u0928\\u093e\\u0915\\u094b \\u0915\\u092a\\u094d\\u0924\\u093e\\u0928 \\u092c\\u0928\\u093e\\u0907\\u0928 \\u092d\\u0928\\u0947 \\u092a\\u0930\\u092e\\u0947\\u0936\\u094d\\u0935\\u0930\\u0932\\u0947 \\u092e\\u0932\\u093e\\u0908 \\u0926\\u0923\\u094d\\u0921 \\u0926\\u093f\\u0909\\u0928\\u094d\\u0964\\u201d\\u2018 <eos>\"\n        ],\n        \"semantic_type\": \"\",\n        \"description\": \"\"\n      }\n    }\n  ]\n}"
            }
          },
          "metadata": {},
          "execution_count": 20
        }
      ]
    },
    {
      "cell_type": "markdown",
      "source": [
        "#### Tokenizers"
      ],
      "metadata": {
        "id": "tigUQcx-MIWr"
      }
    },
    {
      "cell_type": "code",
      "source": [
        "class BPETokenizer:\n",
        "  def __init__(self):\n",
        "    self.vocab = {0:'<pad>', 1:'<sos>', 2:'<eos>'}\n",
        "    self.inverse_vocab = {'<pad>':0, '<sos>':1, '<eos>':2}\n",
        "    self.merges = {}\n",
        "\n",
        "  def train(self, text, vocab_size):\n",
        "    unique_chars = []\n",
        "\n",
        "    unique_chars = [chr(i) for i in range(3,259)]\n",
        "    text_chars = set(text)\n",
        "\n",
        "    unique_chars.extend(char for char in sorted(text_chars) if char not in unique_chars)\n",
        "\n",
        "    self.vocab = {i:char for i, char in enumerate(unique_chars, start = 3)}\n",
        "    self.inverse_vocab = {char:i for i, char in enumerate(unique_chars, start = 3)}\n",
        "\n",
        "    sequence = [self.inverse_vocab[char] for char in text]\n",
        "\n",
        "    while len(self.vocab) < vocab_size:\n",
        "      pair_counts = Counter(zip(sequence,sequence[1:]))\n",
        "\n",
        "      if not pair_counts:\n",
        "        break\n",
        "\n",
        "      best_pair = max(pair_counts.items(), key = lambda x: x[1])[0]\n",
        "\n",
        "      new_token_id = max(self.vocab.keys()) + 1\n",
        "\n",
        "      self.merges[best_pair] = new_token_id\n",
        "\n",
        "      merge_symbol = self.vocab[best_pair[0]] + self.vocab[best_pair[1]]\n",
        "\n",
        "      self.vocab[new_token_id] = merge_symbol\n",
        "      self.inverse_vocab[merge_symbol] = new_token_id\n",
        "\n",
        "\n",
        "      new_seq = []\n",
        "      i = 0\n",
        "      while i < len(sequence):\n",
        "          if i < len(sequence)-1 and (sequence[i], sequence[i+1]) == best_pair:\n",
        "              new_seq.append(new_token_id)\n",
        "              i += 2\n",
        "          else:\n",
        "              new_seq.append(sequence[i])\n",
        "              i += 1\n",
        "      sequence = new_seq\n",
        "\n",
        "  def encode(self,text):\n",
        "    tokens = [self.inverse_vocab[ch] for ch in text]\n",
        "    for pair, new_id in self.merges.items():\n",
        "        new_tokens, i = [], 0\n",
        "        while i < len(tokens):\n",
        "            if i < len(tokens)-1 and (tokens[i], tokens[i+1]) == pair:\n",
        "                new_tokens.append(new_id)\n",
        "                i += 2\n",
        "            else:\n",
        "                new_tokens.append(tokens[i])\n",
        "                i += 1\n",
        "        tokens = new_tokens\n",
        "    return tokens\n",
        "\n",
        "\n",
        "  def decode(self,tokens):\n",
        "    return ''.join(self.vocab[token] for token in tokens)"
      ],
      "metadata": {
        "id": "fd6vNuacMo5R"
      },
      "execution_count": null,
      "outputs": []
    },
    {
      "cell_type": "code",
      "source": [
        "class CharacterTokenizer:\n",
        "    def __init__(self):\n",
        "        self.vocab = {\n",
        "            0: '<pad>', 1: '<sos>', 2: '<eos>'\n",
        "        }\n",
        "        self.inverse_vocab = {\n",
        "            '<pad>': 0, '<sos>': 1, '<eos>': 2\n",
        "        }\n",
        "\n",
        "    def train(self, text):\n",
        "        next_id = 3\n",
        "        chars = sorted(set(text))\n",
        "\n",
        "        for ch in chars:\n",
        "            if ch in self.inverse_vocab:\n",
        "                continue\n",
        "            self.vocab[next_id] = ch\n",
        "            self.inverse_vocab[ch] = next_id\n",
        "            next_id += 1\n",
        "\n",
        "    def encode(self, text):\n",
        "        tokens = []\n",
        "\n",
        "        has_sos = '<sos>' in text\n",
        "        has_eos = '<eos>' in text\n",
        "\n",
        "        if has_sos:\n",
        "            text = text.replace('<sos>', '')\n",
        "        if has_eos:\n",
        "            text = text.replace('<eos>', '')\n",
        "\n",
        "        for ch in text:\n",
        "            tokens.append(self.inverse_vocab.get(ch, 0))\n",
        "\n",
        "        if has_sos:\n",
        "            tokens.insert(0, 1)\n",
        "        if has_eos:\n",
        "            tokens.append(2)\n",
        "        return tokens\n",
        "\n",
        "    def decode(self, tokens):\n",
        "        chars = []\n",
        "        for idx in tokens:\n",
        "            if idx == 0:\n",
        "                continue\n",
        "            chars.append(self.vocab.get(idx, ''))\n",
        "        return ''.join(chars)"
      ],
      "metadata": {
        "id": "4u_JkHpBNilI"
      },
      "execution_count": null,
      "outputs": []
    },
    {
      "cell_type": "code",
      "source": [
        "with open('nepali_tokenizer.pkl', 'rb') as nep:\n",
        "    nep_tokenizer = pickle.load(nep)\n",
        "\n",
        "with open('english_tokenizer.pkl', 'rb') as eng:\n",
        "    eng_tokenizer = pickle.load(eng)"
      ],
      "metadata": {
        "id": "5-Yl3Le5LwOL"
      },
      "execution_count": null,
      "outputs": []
    },
    {
      "cell_type": "markdown",
      "source": [
        "Need to define these within the tokenizers or they'll take the space of somebody else"
      ],
      "metadata": {
        "id": "Uhoj-mfOPZRw"
      }
    },
    {
      "cell_type": "markdown",
      "source": [
        "### Encoding"
      ],
      "metadata": {
        "id": "XGiEvXyuQNXc"
      }
    },
    {
      "cell_type": "code",
      "source": [
        "eng_tokenized = df[\"en\"].apply(eng_tokenizer.encode)\n",
        "nep_in_tokenized  = df[\"nep_in\"].apply(nep_tokenizer.encode)\n",
        "nep_out_tokenized = df[\"nep_out\"].apply(nep_tokenizer.encode)"
      ],
      "metadata": {
        "id": "s01KVw1rOMiO"
      },
      "execution_count": null,
      "outputs": []
    },
    {
      "cell_type": "code",
      "source": [
        "print(len(eng_tokenizer.vocab))\n",
        "print(len(nep_tokenizer.vocab))"
      ],
      "metadata": {
        "colab": {
          "base_uri": "https://localhost:8080/"
        },
        "id": "qv36jljzUfbK",
        "outputId": "913b8a8e-8687-4310-801d-49999afcd6df"
      },
      "execution_count": null,
      "outputs": [
        {
          "output_type": "stream",
          "name": "stdout",
          "text": [
            "5000\n",
            "90\n"
          ]
        }
      ]
    },
    {
      "cell_type": "code",
      "source": [
        "sample = df['en'][1]\n",
        "print(len(sample.split()))"
      ],
      "metadata": {
        "colab": {
          "base_uri": "https://localhost:8080/"
        },
        "id": "ygCst-qnPv6_",
        "outputId": "7b971fb2-3ac7-4d0c-e672-0516701cfacf"
      },
      "execution_count": null,
      "outputs": [
        {
          "output_type": "stream",
          "name": "stdout",
          "text": [
            "44\n"
          ]
        }
      ]
    },
    {
      "cell_type": "code",
      "source": [
        "max_len = 50\n",
        "\n",
        "eng_padded    = pad_sequences(eng_tokenized,    maxlen=max_len, padding=\"post\", value=0)\n",
        "nep_in_padded = pad_sequences(nep_in_tokenized,  maxlen=max_len, padding=\"post\", value=0)\n",
        "nep_out_padded= pad_sequences(nep_out_tokenized, maxlen=max_len, padding=\"post\", value=0)"
      ],
      "metadata": {
        "id": "Todn2328Qp8F"
      },
      "execution_count": null,
      "outputs": []
    },
    {
      "cell_type": "code",
      "source": [
        "dec_inputs = nep_in_padded\n",
        "dec_outputs = nep_out_padded"
      ],
      "metadata": {
        "id": "Not5ifod1tIU"
      },
      "execution_count": null,
      "outputs": []
    },
    {
      "cell_type": "code",
      "source": [
        "print(dec_inputs[1])\n",
        "print(dec_outputs[1])"
      ],
      "metadata": {
        "colab": {
          "base_uri": "https://localhost:8080/"
        },
        "id": "Ed6IMQ-r16de",
        "outputId": "235e0943-87e0-4e1e-8102-6f97c4231a60"
      },
      "execution_count": null,
      "outputs": [
        {
          "output_type": "stream",
          "name": "stdout",
          "text": [
            "[81  4 29 43 74  4 58 81 60 83 50 81  4 60 66 79 66  4 33 59 67 73 32  4\n",
            " 71 64 83 64 73 59  4 42 66 83 59  4 57 54 83 52 68 55 83  4 42 66 83 65\n",
            " 81 84]\n",
            "[29 43 74  4 58 81 60 83 50 81  4 60 66 79 66  4 33 59 67 73 32  4 71 64\n",
            " 83 64 73 59  4 42 66 83 59  4 57 54 83 52 68 55 83  4 42 66 83 65 81 84\n",
            "  4  2]\n"
          ]
        }
      ]
    },
    {
      "cell_type": "code",
      "source": [
        "class TranslationDataset(Dataset):\n",
        "    def __init__(self, encoder_inputs, decoder_inputs, decoder_outputs):\n",
        "        self.encoder_inputs = torch.tensor(encoder_inputs, dtype=torch.long)\n",
        "        self.decoder_inputs = torch.tensor(decoder_inputs, dtype=torch.long)\n",
        "        self.decoder_outputs = torch.tensor(decoder_outputs, dtype=torch.long)\n",
        "\n",
        "    def __len__(self):\n",
        "        return len(self.encoder_inputs)\n",
        "\n",
        "    def __getitem__(self, idx):\n",
        "        return {\n",
        "            \"encoder_inputs\": self.encoder_inputs[idx],\n",
        "            \"decoder_inputs\": self.decoder_inputs[idx],\n",
        "        }, self.decoder_outputs[idx]"
      ],
      "metadata": {
        "id": "8zxwGIheAYdh"
      },
      "execution_count": null,
      "outputs": []
    },
    {
      "cell_type": "code",
      "source": [
        "full_dataset = TranslationDataset(eng_padded, dec_inputs, dec_outputs)\n",
        "\n",
        "train_size = int(0.9 * len(full_dataset))\n",
        "val_size = len(full_dataset) - train_size\n",
        "\n",
        "train_dataset, val_dataset = random_split(full_dataset, [train_size, val_size])\n",
        "\n",
        "train_loader = DataLoader(train_dataset, batch_size=32, shuffle=True)\n",
        "val_loader   = DataLoader(val_dataset,   batch_size=32, shuffle=False)"
      ],
      "metadata": {
        "id": "KjfacAaQLj1R"
      },
      "execution_count": null,
      "outputs": []
    },
    {
      "cell_type": "markdown",
      "source": [
        "## Architecture"
      ],
      "metadata": {
        "id": "RcHbYbfV3U2y"
      }
    },
    {
      "cell_type": "code",
      "source": [
        "import random\n",
        "device = torch.device('cuda' if torch.cuda.is_available() else 'cpu')"
      ],
      "metadata": {
        "id": "bJj2NLUn6_2p"
      },
      "execution_count": null,
      "outputs": []
    },
    {
      "cell_type": "code",
      "source": [
        "class Encoder(nn.Module):\n",
        "  def __init__(self, input_size, embedding_size, hidden_size, num_layers, dropout_rate):\n",
        "    super(Encoder,self).__init__()\n",
        "    self.hidden_size = hidden_size\n",
        "    self.num_layers = num_layers\n",
        "\n",
        "    self.dropout = nn.Dropout(dropout_rate)\n",
        "    self.embedding = nn.Embedding(input_size, embedding_size)\n",
        "    self.lstm = nn.LSTM(embedding_size, hidden_size,num_layers, dropout = dropout_rate)\n",
        "\n",
        "  def forward(self,x):\n",
        "    # x [s,B]\n",
        "    embedding = self.dropout(self.embedding(x)) # [s,B,emb]\n",
        "    outputs, (hidden, cell) = self.lstm(embedding)\n",
        "    # outputs [s,B,h]\n",
        "    # hidden  [n_layers, B, h]\n",
        "    # cell    [n_layers, B, h]\n",
        "    return hidden, cell"
      ],
      "metadata": {
        "id": "yBVBPv0o4cuO"
      },
      "execution_count": null,
      "outputs": []
    },
    {
      "cell_type": "code",
      "source": [
        "class Decoder(nn.Module):\n",
        "  def __init__(self, input_size, embedding_size, hidden_size, output_size, num_layers, dropout_rate):\n",
        "    super(Decoder,self).__init__()\n",
        "    self.hidden_size = hidden_size\n",
        "    self.num_layers = num_layers\n",
        "\n",
        "    self.dropout = nn.Dropout(dropout_rate)\n",
        "    self.embedding = nn.Embedding(input_size, embedding_size)\n",
        "    self.lstm = nn.LSTM(embedding_size, hidden_size, num_layers, dropout = dropout_rate)\n",
        "    self.fc = nn.Linear(hidden_size, output_size)\n",
        "\n",
        "  def forward(self, x, hidden, cell):\n",
        "    # x [B]\n",
        "    x = x.unsqueeze(0) # [1,B]\n",
        "\n",
        "    embedding = self.dropout(self.embedding(x)) # [1, B, emb]\n",
        "    outputs, (hidden, cell) = self.lstm(embedding, (hidden, cell))\n",
        "    # outputs  [1,B,h]\n",
        "    # hidden   [n_layers, B, h]\n",
        "    # cell     [n_layers, B, h]\n",
        "    predictions = self.fc(outputs)  # [1,B,out]\n",
        "\n",
        "    predictions = predictions.squeeze(0) # [B, out]\n",
        "\n",
        "    return predictions, hidden, cell"
      ],
      "metadata": {
        "id": "lbVqCYM95aKE"
      },
      "execution_count": null,
      "outputs": []
    },
    {
      "cell_type": "code",
      "source": [
        "class Translator(nn.Module):\n",
        "  def __init__(self,encoder,decoder):\n",
        "    super(Translator,self).__init__()\n",
        "    self.encoder = encoder\n",
        "    self.decoder = decoder\n",
        "\n",
        "  def forward(self,source,target,ratio = 0.6):\n",
        "    # [s, B]\n",
        "    source = source['encoder_inputs']\n",
        "\n",
        "    N = source.shape[1] # B\n",
        "    target_len = target.shape[0] # s\n",
        "\n",
        "    target_vocab_size = len(nep_tokenizer.vocab)\n",
        "\n",
        "    hidden, cell = self.encoder(source)\n",
        "    x = target[0]\n",
        "    outputs = torch.zeros(target_len, N, target_vocab_size).to(device)\n",
        "\n",
        "    for t in range(1, target_len):\n",
        "      output, hidden, cell = self.decoder(x, hidden, cell)\n",
        "      outputs[t] = output\n",
        "      x = target[t]\n",
        "\n",
        "    return outputs"
      ],
      "metadata": {
        "id": "1APRRADO_0du"
      },
      "execution_count": null,
      "outputs": []
    },
    {
      "cell_type": "code",
      "source": [
        "num_epochs = 50\n",
        "\n",
        "encoder = Encoder(input_size = len(eng_tokenizer.vocab),\n",
        "                  embedding_size = 50,\n",
        "                  hidden_size = 264,\n",
        "                  num_layers = 2,\n",
        "                  dropout_rate = 0.5).to(device)\n",
        "\n",
        "decoder = Decoder(input_size = len(nep_tokenizer.vocab),\n",
        "                  embedding_size = 50,\n",
        "                  hidden_size = 264,\n",
        "                  output_size = len(nep_tokenizer.vocab),\n",
        "                  num_layers = 2,\n",
        "                  dropout_rate = 0.5).to(device)\n",
        "\n",
        "\n",
        "model = Translator(encoder, decoder).to(device)\n",
        "\n",
        "optimizer = optim.Adam(model.parameters(), lr = 0.001)\n",
        "loss_fn = nn.CrossEntropyLoss(ignore_index = 0)"
      ],
      "metadata": {
        "id": "KeKV_s0S_4Fn"
      },
      "execution_count": null,
      "outputs": []
    },
    {
      "cell_type": "code",
      "source": [
        "loss_list = []\n",
        "\n",
        "for epoch in range(num_epochs):\n",
        "    model.train()\n",
        "    epoch_loss = 0\n",
        "\n",
        "    for batch_idx, (inputs, targets) in enumerate(train_loader):\n",
        "        encoder_inputs = inputs['encoder_inputs'].to(device)\n",
        "        decoder_inputs = inputs['decoder_inputs'].to(device)\n",
        "        targets = targets.to(device)\n",
        "\n",
        "        encoder_inputs = torch.clamp(encoder_inputs, 0, len(eng_tokenizer.vocab) - 1)\n",
        "\n",
        "        # Forward pass\n",
        "        outputs = model(\n",
        "            {\"encoder_inputs\": encoder_inputs},\n",
        "            decoder_inputs,\n",
        "            ratio=0.6\n",
        "        )  #  [s, B, vocab_size]\n",
        "\n",
        "        # Reshape for loss\n",
        "        outputs = outputs[1:].reshape(-1, outputs.shape[-1])\n",
        "        targets = targets[1:].reshape(-1)\n",
        "\n",
        "        loss = loss_fn(outputs, targets)\n",
        "        loss_list.append(loss.item())\n",
        "        epoch_loss += loss.item()\n",
        "\n",
        "        optimizer.zero_grad()\n",
        "        loss.backward()\n",
        "\n",
        "        optimizer.step()\n",
        "\n",
        "    avg_epoch_loss = epoch_loss / len(train_loader)\n",
        "    print(f\"Epoch [{epoch+1}/{num_epochs}], Loss: {avg_epoch_loss:.4f}\")"
      ],
      "metadata": {
        "colab": {
          "base_uri": "https://localhost:8080/",
          "height": 876
        },
        "id": "OchHBD6TPqTI",
        "outputId": "ed0beecb-ef40-4aa4-98fd-4884ede68179"
      },
      "execution_count": null,
      "outputs": [
        {
          "output_type": "stream",
          "name": "stdout",
          "text": [
            "Epoch [1/50], Loss: 3.3757\n",
            "Epoch [2/50], Loss: 3.2708\n",
            "Epoch [3/50], Loss: 3.2563\n",
            "Epoch [4/50], Loss: 3.2463\n",
            "Epoch [5/50], Loss: 3.2372\n",
            "Epoch [6/50], Loss: 3.2351\n",
            "Epoch [7/50], Loss: 3.2294\n",
            "Epoch [8/50], Loss: 3.2266\n",
            "Epoch [9/50], Loss: 3.2261\n",
            "Epoch [10/50], Loss: 3.2235\n",
            "Epoch [11/50], Loss: 3.2199\n",
            "Epoch [12/50], Loss: 3.2226\n",
            "Epoch [13/50], Loss: 3.2214\n",
            "Epoch [14/50], Loss: 3.2193\n",
            "Epoch [15/50], Loss: 3.2205\n",
            "Epoch [16/50], Loss: 3.2182\n",
            "Epoch [17/50], Loss: 3.2205\n",
            "Epoch [18/50], Loss: 3.2186\n",
            "Epoch [19/50], Loss: 3.2198\n",
            "Epoch [20/50], Loss: 3.2185\n",
            "Epoch [21/50], Loss: 3.2175\n",
            "Epoch [22/50], Loss: 3.2183\n",
            "Epoch [23/50], Loss: 3.2166\n",
            "Epoch [24/50], Loss: 3.2172\n",
            "Epoch [25/50], Loss: 3.2139\n",
            "Epoch [26/50], Loss: 3.2147\n",
            "Epoch [27/50], Loss: 3.2143\n",
            "Epoch [28/50], Loss: 3.2154\n"
          ]
        },
        {
          "output_type": "error",
          "ename": "KeyboardInterrupt",
          "evalue": "",
          "traceback": [
            "\u001b[0;31m---------------------------------------------------------------------------\u001b[0m",
            "\u001b[0;31mKeyboardInterrupt\u001b[0m                         Traceback (most recent call last)",
            "\u001b[0;32m<ipython-input-36-4dbbd99504e3>\u001b[0m in \u001b[0;36m<cell line: 0>\u001b[0;34m()\u001b[0m\n\u001b[1;32m     15\u001b[0m \u001b[0;34m\u001b[0m\u001b[0m\n\u001b[1;32m     16\u001b[0m         \u001b[0;31m# Forward pass\u001b[0m\u001b[0;34m\u001b[0m\u001b[0;34m\u001b[0m\u001b[0m\n\u001b[0;32m---> 17\u001b[0;31m         outputs = model(\n\u001b[0m\u001b[1;32m     18\u001b[0m             \u001b[0;34m{\u001b[0m\u001b[0;34m\"encoder_inputs\"\u001b[0m\u001b[0;34m:\u001b[0m \u001b[0mencoder_inputs\u001b[0m\u001b[0;34m}\u001b[0m\u001b[0;34m,\u001b[0m\u001b[0;34m\u001b[0m\u001b[0;34m\u001b[0m\u001b[0m\n\u001b[1;32m     19\u001b[0m             \u001b[0mdecoder_inputs\u001b[0m\u001b[0;34m,\u001b[0m\u001b[0;34m\u001b[0m\u001b[0;34m\u001b[0m\u001b[0m\n",
            "\u001b[0;32m/usr/local/lib/python3.11/dist-packages/torch/nn/modules/module.py\u001b[0m in \u001b[0;36m_wrapped_call_impl\u001b[0;34m(self, *args, **kwargs)\u001b[0m\n\u001b[1;32m   1737\u001b[0m             \u001b[0;32mreturn\u001b[0m \u001b[0mself\u001b[0m\u001b[0;34m.\u001b[0m\u001b[0m_compiled_call_impl\u001b[0m\u001b[0;34m(\u001b[0m\u001b[0;34m*\u001b[0m\u001b[0margs\u001b[0m\u001b[0;34m,\u001b[0m \u001b[0;34m**\u001b[0m\u001b[0mkwargs\u001b[0m\u001b[0;34m)\u001b[0m  \u001b[0;31m# type: ignore[misc]\u001b[0m\u001b[0;34m\u001b[0m\u001b[0;34m\u001b[0m\u001b[0m\n\u001b[1;32m   1738\u001b[0m         \u001b[0;32melse\u001b[0m\u001b[0;34m:\u001b[0m\u001b[0;34m\u001b[0m\u001b[0;34m\u001b[0m\u001b[0m\n\u001b[0;32m-> 1739\u001b[0;31m             \u001b[0;32mreturn\u001b[0m \u001b[0mself\u001b[0m\u001b[0;34m.\u001b[0m\u001b[0m_call_impl\u001b[0m\u001b[0;34m(\u001b[0m\u001b[0;34m*\u001b[0m\u001b[0margs\u001b[0m\u001b[0;34m,\u001b[0m \u001b[0;34m**\u001b[0m\u001b[0mkwargs\u001b[0m\u001b[0;34m)\u001b[0m\u001b[0;34m\u001b[0m\u001b[0;34m\u001b[0m\u001b[0m\n\u001b[0m\u001b[1;32m   1740\u001b[0m \u001b[0;34m\u001b[0m\u001b[0m\n\u001b[1;32m   1741\u001b[0m     \u001b[0;31m# torchrec tests the code consistency with the following code\u001b[0m\u001b[0;34m\u001b[0m\u001b[0;34m\u001b[0m\u001b[0m\n",
            "\u001b[0;32m/usr/local/lib/python3.11/dist-packages/torch/nn/modules/module.py\u001b[0m in \u001b[0;36m_call_impl\u001b[0;34m(self, *args, **kwargs)\u001b[0m\n\u001b[1;32m   1748\u001b[0m                 \u001b[0;32mor\u001b[0m \u001b[0m_global_backward_pre_hooks\u001b[0m \u001b[0;32mor\u001b[0m \u001b[0m_global_backward_hooks\u001b[0m\u001b[0;34m\u001b[0m\u001b[0;34m\u001b[0m\u001b[0m\n\u001b[1;32m   1749\u001b[0m                 or _global_forward_hooks or _global_forward_pre_hooks):\n\u001b[0;32m-> 1750\u001b[0;31m             \u001b[0;32mreturn\u001b[0m \u001b[0mforward_call\u001b[0m\u001b[0;34m(\u001b[0m\u001b[0;34m*\u001b[0m\u001b[0margs\u001b[0m\u001b[0;34m,\u001b[0m \u001b[0;34m**\u001b[0m\u001b[0mkwargs\u001b[0m\u001b[0;34m)\u001b[0m\u001b[0;34m\u001b[0m\u001b[0;34m\u001b[0m\u001b[0m\n\u001b[0m\u001b[1;32m   1751\u001b[0m \u001b[0;34m\u001b[0m\u001b[0m\n\u001b[1;32m   1752\u001b[0m         \u001b[0mresult\u001b[0m \u001b[0;34m=\u001b[0m \u001b[0;32mNone\u001b[0m\u001b[0;34m\u001b[0m\u001b[0;34m\u001b[0m\u001b[0m\n",
            "\u001b[0;32m<ipython-input-34-22614ae0ffd6>\u001b[0m in \u001b[0;36mforward\u001b[0;34m(self, source, target, ratio)\u001b[0m\n\u001b[1;32m     18\u001b[0m \u001b[0;34m\u001b[0m\u001b[0m\n\u001b[1;32m     19\u001b[0m     \u001b[0;32mfor\u001b[0m \u001b[0mt\u001b[0m \u001b[0;32min\u001b[0m \u001b[0mrange\u001b[0m\u001b[0;34m(\u001b[0m\u001b[0;36m1\u001b[0m\u001b[0;34m,\u001b[0m \u001b[0mtarget_len\u001b[0m\u001b[0;34m)\u001b[0m\u001b[0;34m:\u001b[0m\u001b[0;34m\u001b[0m\u001b[0;34m\u001b[0m\u001b[0m\n\u001b[0;32m---> 20\u001b[0;31m       \u001b[0moutput\u001b[0m\u001b[0;34m,\u001b[0m \u001b[0mhidden\u001b[0m\u001b[0;34m,\u001b[0m \u001b[0mcell\u001b[0m \u001b[0;34m=\u001b[0m \u001b[0mself\u001b[0m\u001b[0;34m.\u001b[0m\u001b[0mdecoder\u001b[0m\u001b[0;34m(\u001b[0m\u001b[0mx\u001b[0m\u001b[0;34m,\u001b[0m \u001b[0mhidden\u001b[0m\u001b[0;34m,\u001b[0m \u001b[0mcell\u001b[0m\u001b[0;34m)\u001b[0m\u001b[0;34m\u001b[0m\u001b[0;34m\u001b[0m\u001b[0m\n\u001b[0m\u001b[1;32m     21\u001b[0m       \u001b[0moutputs\u001b[0m\u001b[0;34m[\u001b[0m\u001b[0mt\u001b[0m\u001b[0;34m]\u001b[0m \u001b[0;34m=\u001b[0m \u001b[0moutput\u001b[0m\u001b[0;34m\u001b[0m\u001b[0;34m\u001b[0m\u001b[0m\n\u001b[1;32m     22\u001b[0m       \u001b[0mbest_guess\u001b[0m \u001b[0;34m=\u001b[0m \u001b[0moutput\u001b[0m\u001b[0;34m.\u001b[0m\u001b[0margmax\u001b[0m\u001b[0;34m(\u001b[0m\u001b[0;36m1\u001b[0m\u001b[0;34m)\u001b[0m\u001b[0;34m\u001b[0m\u001b[0;34m\u001b[0m\u001b[0m\n",
            "\u001b[0;32m/usr/local/lib/python3.11/dist-packages/torch/nn/modules/module.py\u001b[0m in \u001b[0;36m_wrapped_call_impl\u001b[0;34m(self, *args, **kwargs)\u001b[0m\n\u001b[1;32m   1737\u001b[0m             \u001b[0;32mreturn\u001b[0m \u001b[0mself\u001b[0m\u001b[0;34m.\u001b[0m\u001b[0m_compiled_call_impl\u001b[0m\u001b[0;34m(\u001b[0m\u001b[0;34m*\u001b[0m\u001b[0margs\u001b[0m\u001b[0;34m,\u001b[0m \u001b[0;34m**\u001b[0m\u001b[0mkwargs\u001b[0m\u001b[0;34m)\u001b[0m  \u001b[0;31m# type: ignore[misc]\u001b[0m\u001b[0;34m\u001b[0m\u001b[0;34m\u001b[0m\u001b[0m\n\u001b[1;32m   1738\u001b[0m         \u001b[0;32melse\u001b[0m\u001b[0;34m:\u001b[0m\u001b[0;34m\u001b[0m\u001b[0;34m\u001b[0m\u001b[0m\n\u001b[0;32m-> 1739\u001b[0;31m             \u001b[0;32mreturn\u001b[0m \u001b[0mself\u001b[0m\u001b[0;34m.\u001b[0m\u001b[0m_call_impl\u001b[0m\u001b[0;34m(\u001b[0m\u001b[0;34m*\u001b[0m\u001b[0margs\u001b[0m\u001b[0;34m,\u001b[0m \u001b[0;34m**\u001b[0m\u001b[0mkwargs\u001b[0m\u001b[0;34m)\u001b[0m\u001b[0;34m\u001b[0m\u001b[0;34m\u001b[0m\u001b[0m\n\u001b[0m\u001b[1;32m   1740\u001b[0m \u001b[0;34m\u001b[0m\u001b[0m\n\u001b[1;32m   1741\u001b[0m     \u001b[0;31m# torchrec tests the code consistency with the following code\u001b[0m\u001b[0;34m\u001b[0m\u001b[0;34m\u001b[0m\u001b[0m\n",
            "\u001b[0;32m/usr/local/lib/python3.11/dist-packages/torch/nn/modules/module.py\u001b[0m in \u001b[0;36m_call_impl\u001b[0;34m(self, *args, **kwargs)\u001b[0m\n\u001b[1;32m   1748\u001b[0m                 \u001b[0;32mor\u001b[0m \u001b[0m_global_backward_pre_hooks\u001b[0m \u001b[0;32mor\u001b[0m \u001b[0m_global_backward_hooks\u001b[0m\u001b[0;34m\u001b[0m\u001b[0;34m\u001b[0m\u001b[0m\n\u001b[1;32m   1749\u001b[0m                 or _global_forward_hooks or _global_forward_pre_hooks):\n\u001b[0;32m-> 1750\u001b[0;31m             \u001b[0;32mreturn\u001b[0m \u001b[0mforward_call\u001b[0m\u001b[0;34m(\u001b[0m\u001b[0;34m*\u001b[0m\u001b[0margs\u001b[0m\u001b[0;34m,\u001b[0m \u001b[0;34m**\u001b[0m\u001b[0mkwargs\u001b[0m\u001b[0;34m)\u001b[0m\u001b[0;34m\u001b[0m\u001b[0;34m\u001b[0m\u001b[0m\n\u001b[0m\u001b[1;32m   1751\u001b[0m \u001b[0;34m\u001b[0m\u001b[0m\n\u001b[1;32m   1752\u001b[0m         \u001b[0mresult\u001b[0m \u001b[0;34m=\u001b[0m \u001b[0;32mNone\u001b[0m\u001b[0;34m\u001b[0m\u001b[0;34m\u001b[0m\u001b[0m\n",
            "\u001b[0;32m<ipython-input-33-b294223e3d56>\u001b[0m in \u001b[0;36mforward\u001b[0;34m(self, x, hidden, cell)\u001b[0m\n\u001b[1;32m     19\u001b[0m     \u001b[0;31m# hidden   [n_layers, B, h]\u001b[0m\u001b[0;34m\u001b[0m\u001b[0;34m\u001b[0m\u001b[0m\n\u001b[1;32m     20\u001b[0m     \u001b[0;31m# cell     [n_layers, B, h]\u001b[0m\u001b[0;34m\u001b[0m\u001b[0;34m\u001b[0m\u001b[0m\n\u001b[0;32m---> 21\u001b[0;31m     \u001b[0mpredictions\u001b[0m \u001b[0;34m=\u001b[0m \u001b[0mself\u001b[0m\u001b[0;34m.\u001b[0m\u001b[0mfc\u001b[0m\u001b[0;34m(\u001b[0m\u001b[0moutputs\u001b[0m\u001b[0;34m)\u001b[0m  \u001b[0;31m# [1,B,out]\u001b[0m\u001b[0;34m\u001b[0m\u001b[0;34m\u001b[0m\u001b[0m\n\u001b[0m\u001b[1;32m     22\u001b[0m \u001b[0;34m\u001b[0m\u001b[0m\n\u001b[1;32m     23\u001b[0m     \u001b[0mpredictions\u001b[0m \u001b[0;34m=\u001b[0m \u001b[0mpredictions\u001b[0m\u001b[0;34m.\u001b[0m\u001b[0msqueeze\u001b[0m\u001b[0;34m(\u001b[0m\u001b[0;36m0\u001b[0m\u001b[0;34m)\u001b[0m \u001b[0;31m# [B, out]\u001b[0m\u001b[0;34m\u001b[0m\u001b[0;34m\u001b[0m\u001b[0m\n",
            "\u001b[0;32m/usr/local/lib/python3.11/dist-packages/torch/nn/modules/module.py\u001b[0m in \u001b[0;36m_wrapped_call_impl\u001b[0;34m(self, *args, **kwargs)\u001b[0m\n\u001b[1;32m   1737\u001b[0m             \u001b[0;32mreturn\u001b[0m \u001b[0mself\u001b[0m\u001b[0;34m.\u001b[0m\u001b[0m_compiled_call_impl\u001b[0m\u001b[0;34m(\u001b[0m\u001b[0;34m*\u001b[0m\u001b[0margs\u001b[0m\u001b[0;34m,\u001b[0m \u001b[0;34m**\u001b[0m\u001b[0mkwargs\u001b[0m\u001b[0;34m)\u001b[0m  \u001b[0;31m# type: ignore[misc]\u001b[0m\u001b[0;34m\u001b[0m\u001b[0;34m\u001b[0m\u001b[0m\n\u001b[1;32m   1738\u001b[0m         \u001b[0;32melse\u001b[0m\u001b[0;34m:\u001b[0m\u001b[0;34m\u001b[0m\u001b[0;34m\u001b[0m\u001b[0m\n\u001b[0;32m-> 1739\u001b[0;31m             \u001b[0;32mreturn\u001b[0m \u001b[0mself\u001b[0m\u001b[0;34m.\u001b[0m\u001b[0m_call_impl\u001b[0m\u001b[0;34m(\u001b[0m\u001b[0;34m*\u001b[0m\u001b[0margs\u001b[0m\u001b[0;34m,\u001b[0m \u001b[0;34m**\u001b[0m\u001b[0mkwargs\u001b[0m\u001b[0;34m)\u001b[0m\u001b[0;34m\u001b[0m\u001b[0;34m\u001b[0m\u001b[0m\n\u001b[0m\u001b[1;32m   1740\u001b[0m \u001b[0;34m\u001b[0m\u001b[0m\n\u001b[1;32m   1741\u001b[0m     \u001b[0;31m# torchrec tests the code consistency with the following code\u001b[0m\u001b[0;34m\u001b[0m\u001b[0;34m\u001b[0m\u001b[0m\n",
            "\u001b[0;32m/usr/local/lib/python3.11/dist-packages/torch/nn/modules/module.py\u001b[0m in \u001b[0;36m_call_impl\u001b[0;34m(self, *args, **kwargs)\u001b[0m\n\u001b[1;32m   1748\u001b[0m                 \u001b[0;32mor\u001b[0m \u001b[0m_global_backward_pre_hooks\u001b[0m \u001b[0;32mor\u001b[0m \u001b[0m_global_backward_hooks\u001b[0m\u001b[0;34m\u001b[0m\u001b[0;34m\u001b[0m\u001b[0m\n\u001b[1;32m   1749\u001b[0m                 or _global_forward_hooks or _global_forward_pre_hooks):\n\u001b[0;32m-> 1750\u001b[0;31m             \u001b[0;32mreturn\u001b[0m \u001b[0mforward_call\u001b[0m\u001b[0;34m(\u001b[0m\u001b[0;34m*\u001b[0m\u001b[0margs\u001b[0m\u001b[0;34m,\u001b[0m \u001b[0;34m**\u001b[0m\u001b[0mkwargs\u001b[0m\u001b[0;34m)\u001b[0m\u001b[0;34m\u001b[0m\u001b[0;34m\u001b[0m\u001b[0m\n\u001b[0m\u001b[1;32m   1751\u001b[0m \u001b[0;34m\u001b[0m\u001b[0m\n\u001b[1;32m   1752\u001b[0m         \u001b[0mresult\u001b[0m \u001b[0;34m=\u001b[0m \u001b[0;32mNone\u001b[0m\u001b[0;34m\u001b[0m\u001b[0;34m\u001b[0m\u001b[0m\n",
            "\u001b[0;32m/usr/local/lib/python3.11/dist-packages/torch/nn/modules/linear.py\u001b[0m in \u001b[0;36mforward\u001b[0;34m(self, input)\u001b[0m\n\u001b[1;32m    123\u001b[0m \u001b[0;34m\u001b[0m\u001b[0m\n\u001b[1;32m    124\u001b[0m     \u001b[0;32mdef\u001b[0m \u001b[0mforward\u001b[0m\u001b[0;34m(\u001b[0m\u001b[0mself\u001b[0m\u001b[0;34m,\u001b[0m \u001b[0minput\u001b[0m\u001b[0;34m:\u001b[0m \u001b[0mTensor\u001b[0m\u001b[0;34m)\u001b[0m \u001b[0;34m->\u001b[0m \u001b[0mTensor\u001b[0m\u001b[0;34m:\u001b[0m\u001b[0;34m\u001b[0m\u001b[0;34m\u001b[0m\u001b[0m\n\u001b[0;32m--> 125\u001b[0;31m         \u001b[0;32mreturn\u001b[0m \u001b[0mF\u001b[0m\u001b[0;34m.\u001b[0m\u001b[0mlinear\u001b[0m\u001b[0;34m(\u001b[0m\u001b[0minput\u001b[0m\u001b[0;34m,\u001b[0m \u001b[0mself\u001b[0m\u001b[0;34m.\u001b[0m\u001b[0mweight\u001b[0m\u001b[0;34m,\u001b[0m \u001b[0mself\u001b[0m\u001b[0;34m.\u001b[0m\u001b[0mbias\u001b[0m\u001b[0;34m)\u001b[0m\u001b[0;34m\u001b[0m\u001b[0;34m\u001b[0m\u001b[0m\n\u001b[0m\u001b[1;32m    126\u001b[0m \u001b[0;34m\u001b[0m\u001b[0m\n\u001b[1;32m    127\u001b[0m     \u001b[0;32mdef\u001b[0m \u001b[0mextra_repr\u001b[0m\u001b[0;34m(\u001b[0m\u001b[0mself\u001b[0m\u001b[0;34m)\u001b[0m \u001b[0;34m->\u001b[0m \u001b[0mstr\u001b[0m\u001b[0;34m:\u001b[0m\u001b[0;34m\u001b[0m\u001b[0;34m\u001b[0m\u001b[0m\n",
            "\u001b[0;31mKeyboardInterrupt\u001b[0m: "
          ]
        }
      ]
    },
    {
      "cell_type": "code",
      "source": [
        "torch.save(model.state_dict(), 'model.pth')"
      ],
      "metadata": {
        "id": "6-30LZkmSOUP"
      },
      "execution_count": null,
      "outputs": []
    },
    {
      "cell_type": "code",
      "source": [
        "from google.colab import files\n",
        "files.download('model.pth')"
      ],
      "metadata": {
        "colab": {
          "base_uri": "https://localhost:8080/",
          "height": 17
        },
        "id": "nJUJZs0uSTM3",
        "outputId": "c04a0133-a308-4d7d-dbe8-6b46c6ff618e"
      },
      "execution_count": null,
      "outputs": [
        {
          "output_type": "display_data",
          "data": {
            "text/plain": [
              "<IPython.core.display.Javascript object>"
            ],
            "application/javascript": [
              "\n",
              "    async function download(id, filename, size) {\n",
              "      if (!google.colab.kernel.accessAllowed) {\n",
              "        return;\n",
              "      }\n",
              "      const div = document.createElement('div');\n",
              "      const label = document.createElement('label');\n",
              "      label.textContent = `Downloading \"${filename}\": `;\n",
              "      div.appendChild(label);\n",
              "      const progress = document.createElement('progress');\n",
              "      progress.max = size;\n",
              "      div.appendChild(progress);\n",
              "      document.body.appendChild(div);\n",
              "\n",
              "      const buffers = [];\n",
              "      let downloaded = 0;\n",
              "\n",
              "      const channel = await google.colab.kernel.comms.open(id);\n",
              "      // Send a message to notify the kernel that we're ready.\n",
              "      channel.send({})\n",
              "\n",
              "      for await (const message of channel.messages) {\n",
              "        // Send a message to notify the kernel that we're ready.\n",
              "        channel.send({})\n",
              "        if (message.buffers) {\n",
              "          for (const buffer of message.buffers) {\n",
              "            buffers.push(buffer);\n",
              "            downloaded += buffer.byteLength;\n",
              "            progress.value = downloaded;\n",
              "          }\n",
              "        }\n",
              "      }\n",
              "      const blob = new Blob(buffers, {type: 'application/binary'});\n",
              "      const a = document.createElement('a');\n",
              "      a.href = window.URL.createObjectURL(blob);\n",
              "      a.download = filename;\n",
              "      div.appendChild(a);\n",
              "      a.click();\n",
              "      div.remove();\n",
              "    }\n",
              "  "
            ]
          },
          "metadata": {}
        },
        {
          "output_type": "display_data",
          "data": {
            "text/plain": [
              "<IPython.core.display.Javascript object>"
            ],
            "application/javascript": [
              "download(\"download_93a9098a-8dbc-4566-9d50-3472479017b0\", \"model.pth\", 8264308)"
            ]
          },
          "metadata": {}
        }
      ]
    },
    {
      "cell_type": "code",
      "source": [
        "plt.plot(loss_list)"
      ],
      "metadata": {
        "colab": {
          "base_uri": "https://localhost:8080/",
          "height": 448
        },
        "id": "m8PuwW6PSt0m",
        "outputId": "0a2d27ec-72ed-4dbb-f033-aa1338dfddaa"
      },
      "execution_count": null,
      "outputs": [
        {
          "output_type": "execute_result",
          "data": {
            "text/plain": [
              "[<matplotlib.lines.Line2D at 0x7d5c96127e90>]"
            ]
          },
          "metadata": {},
          "execution_count": 39
        },
        {
          "output_type": "display_data",
          "data": {
            "text/plain": [
              "<Figure size 640x480 with 1 Axes>"
            ],
            "image/png": "[encoded data removed]"
          },
          "metadata": {}
        }
      ]
    },
    {
      "cell_type": "code",
      "source": [
        "def translate_sentence(model, sentence, eng_tokenizer, nep_tokenizer, max_len=50, device='cpu'):\n",
        "    model.eval()\n",
        "\n",
        "    tokens = eng_tokenizer.encode(sentence.lower())\n",
        "    tokens = [1] + tokens + [2]\n",
        "    input_ids = tokens\n",
        "\n",
        "    encoder_input = torch.tensor(input_ids, dtype=torch.long).unsqueeze(1).to(device)\n",
        "\n",
        "    encoder_input = torch.clamp(encoder_input, 0, len(eng_tokenizer.vocab) - 1)\n",
        "\n",
        "    with torch.no_grad():\n",
        "        hidden, cell = model.encoder(encoder_input)\n",
        "\n",
        "    outputs = []\n",
        "    x = torch.tensor([1], dtype=torch.long).to(device)\n",
        "\n",
        "    for _ in range(max_len):\n",
        "        with torch.no_grad():\n",
        "            output, hidden, cell = model.decoder(x, hidden, cell)\n",
        "            prediction = output.argmax(1)\n",
        "\n",
        "        pred_token = prediction.item()\n",
        "        if pred_token == nep_tokenizer.vocab[2]:\n",
        "            break\n",
        "\n",
        "        outputs.append(pred_token)\n",
        "        x = prediction\n",
        "\n",
        "    print(outputs)\n",
        "    translated_sentence = nep_tokenizer.decode(outputs)\n",
        "    return translated_sentence"
      ],
      "metadata": {
        "id": "lye75h7XTcts"
      },
      "execution_count": null,
      "outputs": []
    },
    {
      "cell_type": "code",
      "source": [
        "english_sentence = \"hello nice to meet you\"\n",
        "translated = translate_sentence(model, english_sentence, eng_tokenizer, nep_tokenizer, device=device)\n",
        "print(\"Nepali Translation:\", translated)"
      ],
      "metadata": {
        "colab": {
          "base_uri": "https://localhost:8080/"
        },
        "id": "5yeU3YsjSjQp",
        "outputId": "95dcc6b8-065c-4b9c-87a9-a67cd47442b6"
      },
      "execution_count": null,
      "outputs": [
        {
          "output_type": "stream",
          "name": "stdout",
          "text": [
            "[4, 4, 4, 4, 4, 4, 4, 4, 4, 4, 4, 4, 4, 4, 4, 4, 4, 4, 4, 4, 4, 4, 4, 4, 4, 4, 4, 4, 4, 4, 4, 4, 4, 4, 4, 4, 4, 4, 4, 4, 4, 4, 4, 4, 4, 4, 4, 4, 4, 4]\n",
            "Nepali Translation:                                                   \n"
          ]
        }
      ]
    }
  ]
}